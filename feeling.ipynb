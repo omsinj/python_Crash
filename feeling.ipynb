{
 "cells": [
  {
   "cell_type": "code",
   "execution_count": 1,
   "id": "7a32ca16",
   "metadata": {},
   "outputs": [],
   "source": [
    "import re"
   ]
  },
  {
   "cell_type": "code",
   "execution_count": 2,
   "id": "c63435ba",
   "metadata": {},
   "outputs": [],
   "source": [
    "# Initialise an empty list to store the feelings\n",
    "feelings = []"
   ]
  },
  {
   "cell_type": "code",
   "execution_count": null,
   "id": "e64dbaae",
   "metadata": {},
   "outputs": [],
   "source": [
    "# Open the file 'toot.txt' for reading\n",
    "with open('toots.txt', 'r') as file:\n",
    "    # read each line in the file\n",
    "    for line in file:\n",
    "        #use regular expression to find the words after 'feel' or 'feeling'\n",
    "        matches = re.findall(r'\\b(?:I\\s+)?(?:feel|feeling)\\s+(\\w+)', line)\n",
    "        # Extend the list of feelings with the matches found in the current line\n",
    "        feelings.extend(matches)\n",
    "print(feelings)\n",
    "\n"
   ]
  },
  {
   "cell_type": "code",
   "execution_count": null,
   "id": "16308bc0",
   "metadata": {},
   "outputs": [],
   "source": [
    "import re\n",
    "\n",
    "# Initialize an empty set to store unique feelings\n",
    "unique_feelings = set()\n",
    "\n",
    "# Open the file 'toot.txt' for reading\n",
    "with open('toots.txt', 'r') as file:\n",
    "    # Read each line in the file\n",
    "    for line in file:\n",
    "        # Use regular expression to find words after 'feel' or 'feeling'\n",
    "        matches = re.findall(r'\\b(?:I\\s+)?(?:feel|feeling)\\s+(\\w+)', line)\n",
    "        # Add the matches found in the current line to the set of unique feelings\n",
    "        unique_feelings.update(matches)\n",
    "\n",
    "# Convert the set of unique feelings to a list\n",
    "unique_feelings_list = list(unique_feelings)\n",
    "\n",
    "# Print the list of unique feelings\n",
    "print(unique_feelings_list)"
   ]
  }
 ],
 "metadata": {
  "kernelspec": {
   "display_name": "Python 3 (ipykernel)",
   "language": "python",
   "name": "python3"
  },
  "language_info": {
   "codemirror_mode": {
    "name": "ipython",
    "version": 3
   },
   "file_extension": ".py",
   "mimetype": "text/x-python",
   "name": "python",
   "nbconvert_exporter": "python",
   "pygments_lexer": "ipython3",
   "version": "3.11.3"
  }
 },
 "nbformat": 4,
 "nbformat_minor": 5
}
