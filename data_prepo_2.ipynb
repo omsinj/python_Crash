{
 "cells": [
  {
   "cell_type": "code",
   "execution_count": null,
   "id": "3327ec65",
   "metadata": {},
   "outputs": [],
   "source": [
    "# Import necessary libraries\n",
    "import pandas as pd\n",
    "from sklearn.model_selection import train_test_split\n",
    "from sklearn.preprocessing import StandardScaler\n",
    "\n",
    "# Load the Wine Quality Red dataset\n",
    "df = pd.read_csv('winequality-red.csv', delimiter=';')\n",
    "\n",
    "# Separate features and target\n",
    "X = df.drop('quality', axis=1) \n",
    "y = df['quality'] \n",
    "\n",
    "# Split the dataset into an 80-20 training-test set\n",
    "X_train, X_test, y_train, y_test = train_test_split(X, y, test_size=0.2, random_state=42)\n",
    "\n",
    "# Create an instance of the StandardScaler class\n",
    "sc = StandardScaler()\n",
    "\n",
    "# Fit the StandardScaler on the features from the training set and transform it\n",
    "X_train = sc.fit_transform(X_train)\n",
    "\n",
    "# Apply the transform to the test set\n",
    "X_test = sc.transform(X_test)\n",
    "\n",
    "# Print the scaled training and test datasets\n",
    "\n",
    "print(\"Scaled training set:\\n\", X_train) \n",
    "print(\"Scaled test set:\\n\", X_test)"
   ]
  }
 ],
 "metadata": {
  "kernelspec": {
   "display_name": "Python 3 (ipykernel)",
   "language": "python",
   "name": "python3"
  },
  "language_info": {
   "codemirror_mode": {
    "name": "ipython",
    "version": 3
   },
   "file_extension": ".py",
   "mimetype": "text/x-python",
   "name": "python",
   "nbconvert_exporter": "python",
   "pygments_lexer": "ipython3",
   "version": "3.11.3"
  }
 },
 "nbformat": 4,
 "nbformat_minor": 5
}
