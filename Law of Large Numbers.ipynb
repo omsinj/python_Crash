{
 "cells": [
  {
   "cell_type": "code",
   "execution_count": 16,
   "id": "10d83a61",
   "metadata": {},
   "outputs": [],
   "source": [
    "import numpy as np\n",
    "from numpy.random import randn"
   ]
  },
  {
   "cell_type": "code",
   "execution_count": 25,
   "id": "4b78bddb",
   "metadata": {},
   "outputs": [
    {
     "data": {
      "text/plain": [
       "0.06"
      ]
     },
     "execution_count": 25,
     "metadata": {},
     "output_type": "execute_result"
    }
   ],
   "source": [
    "N = randn(100)\n",
    "counter = 0\n",
    "for i in N:\n",
    "    if i > -1 and i <1:\n",
    "        counter = counter + 1\n",
    "counter/1000"
   ]
  },
  {
   "cell_type": "code",
   "execution_count": 27,
   "id": "4daca6d3",
   "metadata": {},
   "outputs": [
    {
     "data": {
      "text/plain": [
       "1e-06"
      ]
     },
     "execution_count": 27,
     "metadata": {},
     "output_type": "execute_result"
    }
   ],
   "source": [
    "N = 1000000\n",
    "counter = 0\n",
    "y = counter + 1\n",
    "x = i > -1 and i < 1\n",
    "for i in randn(N):\n",
    "    if x:\n",
    "        counter = y\n",
    "y/N"
   ]
  },
  {
   "cell_type": "code",
   "execution_count": null,
   "id": "4ab2f1d1",
   "metadata": {},
   "outputs": [],
   "source": []
  }
 ],
 "metadata": {
  "kernelspec": {
   "display_name": "Python 3 (ipykernel)",
   "language": "python",
   "name": "python3"
  },
  "language_info": {
   "codemirror_mode": {
    "name": "ipython",
    "version": 3
   },
   "file_extension": ".py",
   "mimetype": "text/x-python",
   "name": "python",
   "nbconvert_exporter": "python",
   "pygments_lexer": "ipython3",
   "version": "3.11.3"
  }
 },
 "nbformat": 4,
 "nbformat_minor": 5
}
