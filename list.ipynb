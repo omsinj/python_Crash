{
 "cells": [
  {
   "cell_type": "code",
   "execution_count": 1,
   "id": "392a65aa",
   "metadata": {},
   "outputs": [
    {
     "name": "stdout",
     "output_type": "stream",
     "text": [
      "Original list contents: [10, 5, 7, 2, 1]\n"
     ]
    }
   ],
   "source": [
    "numbers = [10, 5, 7, 2, 1]\n",
    "print(\"Original list contents:\", numbers)  # Printing original list contents."
   ]
  },
  {
   "cell_type": "code",
   "execution_count": 2,
   "id": "cd75b188",
   "metadata": {},
   "outputs": [
    {
     "name": "stdout",
     "output_type": "stream",
     "text": [
      "New list contents:  [111, 5, 7, 2, 1]\n"
     ]
    }
   ],
   "source": [
    "numbers[0] = 111\n",
    "print(\"New list contents: \", numbers)  # Current list contents."
   ]
  },
  {
   "cell_type": "code",
   "execution_count": 5,
   "id": "5b4ed733",
   "metadata": {},
   "outputs": [
    {
     "name": "stdout",
     "output_type": "stream",
     "text": [
      "New list contents [111, 121, 7, 2, 1]\n"
     ]
    }
   ],
   "source": [
    "numbers[1] = 121\n",
    "print(\"New list contents\", numbers)"
   ]
  },
  {
   "cell_type": "code",
   "execution_count": 6,
   "id": "a27779c3",
   "metadata": {},
   "outputs": [
    {
     "name": "stdout",
     "output_type": "stream",
     "text": [
      "Original list contents: [10, 5, 7, 2, 1]\n"
     ]
    }
   ],
   "source": [
    "numbers = [10, 5, 7, 2, 1]\n",
    "print(\"Original list contents:\", numbers)  # Printing original list contents."
   ]
  },
  {
   "cell_type": "code",
   "execution_count": 7,
   "id": "2230b9c6",
   "metadata": {},
   "outputs": [
    {
     "name": "stdout",
     "output_type": "stream",
     "text": [
      "\n",
      "Previous list contents: [121, 5, 7, 2, 1]\n"
     ]
    }
   ],
   "source": [
    "numbers[0] = 121\n",
    "print(\"\\nPrevious list contents:\", numbers)  # Printing previous list contents."
   ]
  },
  {
   "cell_type": "code",
   "execution_count": 8,
   "id": "dfc0a445",
   "metadata": {},
   "outputs": [
    {
     "name": "stdout",
     "output_type": "stream",
     "text": [
      "New list contents: [121, 1, 7, 2, 1]\n"
     ]
    }
   ],
   "source": [
    "numbers[1] = numbers[4]  # Copying value of the fifth element to the second.\n",
    "print(\"New list contents:\", numbers)  # Printing current list contents."
   ]
  },
  {
   "cell_type": "code",
   "execution_count": 9,
   "id": "dc83e03d",
   "metadata": {},
   "outputs": [
    {
     "name": "stdout",
     "output_type": "stream",
     "text": [
      "[121, 1, 121, 2, 1]\n"
     ]
    }
   ],
   "source": [
    "numbers[2] = numbers[0]\n",
    "print(numbers)"
   ]
  },
  {
   "cell_type": "code",
   "execution_count": 10,
   "id": "e7c0482a",
   "metadata": {},
   "outputs": [
    {
     "name": "stdout",
     "output_type": "stream",
     "text": [
      "Original list contents: [10, 5, 7, 2, 1]\n",
      "\n",
      "Previous list contents: [111, 5, 7, 2, 1]\n",
      "Previous list contents: [111, 1, 7, 2, 1]\n",
      "\n",
      "List length: 5\n"
     ]
    }
   ],
   "source": [
    "numbers = [10, 5, 7, 2, 1]\n",
    "print(\"Original list contents:\", numbers)  # Printing original list contents.\n",
    "\n",
    "numbers[0] = 111\n",
    "print(\"\\nPrevious list contents:\", numbers)  # Printing previous list contents.\n",
    "\n",
    "numbers[1] = numbers[4]  # Copying value of the fifth element to the second.\n",
    "print(\"Previous list contents:\", numbers)  # Printing previous list contents.\n",
    "\n",
    "print(\"\\nList length:\", len(numbers))  # Printing the list's length."
   ]
  },
  {
   "cell_type": "code",
   "execution_count": 13,
   "id": "a59bcf83",
   "metadata": {},
   "outputs": [
    {
     "name": "stdout",
     "output_type": "stream",
     "text": [
      "6\n"
     ]
    }
   ],
   "source": [
    "numbers = [121, 45, 36, 8, 9, 1]\n",
    "print(len(numbers))"
   ]
  },
  {
   "cell_type": "code",
   "execution_count": 12,
   "id": "f9aca6ca",
   "metadata": {},
   "outputs": [
    {
     "name": "stdout",
     "output_type": "stream",
     "text": [
      "5\n",
      "[121, 36, 8, 9, 1]\n"
     ]
    }
   ],
   "source": [
    "del numbers[1]\n",
    "print(len(numbers))\n",
    "print(numbers)"
   ]
  },
  {
   "cell_type": "code",
   "execution_count": 14,
   "id": "fd9a35c2",
   "metadata": {},
   "outputs": [
    {
     "name": "stdout",
     "output_type": "stream",
     "text": [
      "Original list content: [10, 5, 7, 2, 1]\n",
      "\n",
      "Previous list content: [111, 5, 7, 2, 1]\n",
      "Previous list content: [111, 1, 7, 2, 1]\n",
      "\n",
      "List's length: 5\n",
      "New list's length: 4\n",
      "\n",
      "New list content: [111, 7, 2, 1]\n"
     ]
    }
   ],
   "source": [
    "numbers = [10, 5, 7, 2, 1]\n",
    "print(\"Original list content:\", numbers)  # Printing original list content.\n",
    "\n",
    "numbers[0] = 111\n",
    "print(\"\\nPrevious list content:\", numbers)  # Printing previous list content.\n",
    "\n",
    "numbers[1] = numbers[4]  # Copying value of the fifth element to the second.\n",
    "print(\"Previous list content:\", numbers)  # Printing previous list content.\n",
    "\n",
    "print(\"\\nList's length:\", len(numbers))  # Printing previous list length.\n",
    "\n",
    "###\n",
    "\n",
    "del numbers[1]  # Removing the second element from the list.\n",
    "print(\"New list's length:\", len(numbers))  # Printing new list length.\n",
    "print(\"\\nNew list content:\", numbers)  # Printing current list content.\n",
    "\n",
    "###\n"
   ]
  },
  {
   "cell_type": "code",
   "execution_count": 15,
   "id": "cfc72c29",
   "metadata": {},
   "outputs": [
    {
     "name": "stdout",
     "output_type": "stream",
     "text": [
      "Enter an integer to replace the middle number: 4\n",
      "4\n",
      "[1, 2, 4, 4]\n"
     ]
    }
   ],
   "source": [
    "hat_list = [1, 2, 3, 4, 5]  # This is an existing list of numbers hidden in the hat.\n",
    "\n",
    "# Step 1: Prompt the user to replace the middle number with an integer entered by the user.\n",
    "hat_list[len(hat_list) // 2] = int(input(\"Enter an integer to replace the middle number: \"))\n",
    "\n",
    "# Step 2: Remove the last element from the list.\n",
    "hat_list.pop()\n",
    "\n",
    "# Step 3: Print the length of the existing list.\n",
    "print(len(hat_list))\n",
    "\n",
    "# Print the updated list\n",
    "print(hat_list)"
   ]
  },
  {
   "cell_type": "markdown",
   "id": "1dbccb63",
   "metadata": {},
   "source": [
    "list.append(value)\n",
    "list.insert(location, value)"
   ]
  },
  {
   "cell_type": "code",
   "execution_count": 18,
   "id": "d59f5845",
   "metadata": {},
   "outputs": [
    {
     "name": "stdout",
     "output_type": "stream",
     "text": [
      "4\n",
      "[111, 7, 2, 1]\n",
      "5\n",
      "[111, 7, 2, 1, 4]\n",
      "6\n",
      "[222, 111, 7, 2, 1, 4]\n"
     ]
    }
   ],
   "source": [
    "numbers = [111, 7, 2, 1]\n",
    "print(len(numbers))\n",
    "print(numbers)\n",
    "\n",
    "###\n",
    "\n",
    "numbers.append(4)\n",
    "\n",
    "print(len(numbers))\n",
    "print(numbers)\n",
    "\n",
    "###\n",
    "\n",
    "numbers.insert(0, 222)\n",
    "print(len(numbers))\n",
    "print(numbers)\n",
    "numbers.insert(1, 333)\n",
    "\n"
   ]
  },
  {
   "cell_type": "code",
   "execution_count": 19,
   "id": "5888d186",
   "metadata": {},
   "outputs": [
    {
     "name": "stdout",
     "output_type": "stream",
     "text": [
      "[1, 2, 3, 4, 5]\n"
     ]
    }
   ],
   "source": [
    "my_list = []  # Creating an empty list.\n",
    "\n",
    "for i in range(5):\n",
    "    my_list.append(i + 1)\n",
    "\n",
    "print(my_list)\n"
   ]
  },
  {
   "cell_type": "code",
   "execution_count": 20,
   "id": "26f63df7",
   "metadata": {},
   "outputs": [
    {
     "name": "stdout",
     "output_type": "stream",
     "text": [
      "[5, 4, 3, 2, 1]\n"
     ]
    }
   ],
   "source": [
    "my_list = []  # Creating an empty list.\n",
    "\n",
    "for i in range(5):\n",
    "    my_list.insert(0, i + 1)\n",
    "\n",
    "print(my_list)\n",
    "\n"
   ]
  },
  {
   "cell_type": "code",
   "execution_count": 21,
   "id": "b526b255",
   "metadata": {},
   "outputs": [
    {
     "name": "stdout",
     "output_type": "stream",
     "text": [
      "27\n"
     ]
    }
   ],
   "source": [
    "my_list = [10, 1, 8, 3, 5]\n",
    "total = 0\n",
    "\n",
    "for i in range(len(my_list)):\n",
    "    total += my_list[i]\n",
    "\n",
    "print(total)"
   ]
  },
  {
   "cell_type": "code",
   "execution_count": 22,
   "id": "2189601f",
   "metadata": {},
   "outputs": [
    {
     "name": "stdout",
     "output_type": "stream",
     "text": [
      "27\n"
     ]
    }
   ],
   "source": [
    "my_list = [10, 1, 8, 3, 5]\n",
    "total = 0\n",
    "\n",
    "for i in my_list:\n",
    "    total += i\n",
    "\n",
    "print(total)\n",
    "\n"
   ]
  },
  {
   "cell_type": "code",
   "execution_count": 25,
   "id": "c2ee7fb1",
   "metadata": {},
   "outputs": [
    {
     "name": "stdout",
     "output_type": "stream",
     "text": [
      "1\n"
     ]
    }
   ],
   "source": [
    "variable_1 = 1\n",
    "variable_2 = 2\n",
    "\n",
    "auxiliary = variable_1\n",
    "variable_1 = variable_2\n",
    "variable_2 = auxiliary\n",
    "\n",
    "print(auxiliary)"
   ]
  },
  {
   "cell_type": "code",
   "execution_count": 27,
   "id": "beb94a47",
   "metadata": {},
   "outputs": [
    {
     "name": "stdout",
     "output_type": "stream",
     "text": [
      "2 1\n"
     ]
    }
   ],
   "source": [
    "variable_1 = 1\n",
    "variable_2 = 2\n",
    "\n",
    "variable_1, variable_2 = variable_2, variable_1\n",
    "\n",
    "print(variable_1, variable_2)\n"
   ]
  },
  {
   "cell_type": "code",
   "execution_count": 28,
   "id": "9da05f1b",
   "metadata": {},
   "outputs": [
    {
     "name": "stdout",
     "output_type": "stream",
     "text": [
      "[5, 3, 8, 1, 10]\n"
     ]
    }
   ],
   "source": [
    "my_list = [10, 1, 8, 3, 5]\n",
    "\n",
    "my_list[0], my_list[4] = my_list[4], my_list[0]\n",
    "my_list[1], my_list[3] = my_list[3], my_list[1]\n",
    "\n",
    "print(my_list)"
   ]
  },
  {
   "cell_type": "code",
   "execution_count": 31,
   "id": "56674dcf",
   "metadata": {},
   "outputs": [
    {
     "name": "stdout",
     "output_type": "stream",
     "text": [
      "['Ringo Starr', 'John Lennon', 'Paul McCartney', 'George Harrison']\n"
     ]
    }
   ],
   "source": [
    "\n",
    "# Step 1: Create an empty list named beatles\n",
    "beatles = []\n",
    "\n",
    "# Step 2: Use the append() method to add the following members of the band to the list: John Lennon, Paul McCartney, and George Harrison\n",
    "beatles.append(\"John Lennon\")\n",
    "beatles.append(\"Paul McCartney\")\n",
    "beatles.append(\"George Harrison\")\n",
    "\n",
    "# Step 3: Use the for loop and the append() method to prompt the user to add the following members of the band to the list: Stu Sutcliffe, and Pete Best\n",
    "additional_members = [\"Stu Sutcliffe\", \"Pete Best\"]\n",
    "for member in additional_members:\n",
    "    beatles.append(member)\n",
    "\n",
    "# Step 4: Use the del instruction to remove Stu Sutcliffe and Pete Best from the list\n",
    "del beatles[3:5]\n",
    "\n",
    "# Step 5: Use the insert() method to add Ringo Starr to the beginning of the list\n",
    "beatles.insert(0, \"Ringo Starr\")\n",
    "\n",
    "# Print the updated list\n",
    "print(beatles)\n"
   ]
  },
  {
   "cell_type": "code",
   "execution_count": 32,
   "id": "b8985421",
   "metadata": {},
   "outputs": [],
   "source": [
    "my_list = [1, None, True, \"I am a string\", 256, 0]\n"
   ]
  },
  {
   "cell_type": "code",
   "execution_count": 33,
   "id": "9ba9d442",
   "metadata": {},
   "outputs": [
    {
     "name": "stdout",
     "output_type": "stream",
     "text": [
      "I am a string\n",
      "0\n",
      "[1, '?', True, 'I am a string', 256, 0]\n",
      "['first', 1, '?', True, 'I am a string', 256, 0, 'last']\n"
     ]
    }
   ],
   "source": [
    "my_list = [1, None, True, 'I am a string', 256, 0]\n",
    "print(my_list[3])  # outputs: I am a string\n",
    "print(my_list[-1])  # outputs: 0\n",
    "\n",
    "my_list[1] = '?'\n",
    "print(my_list)  # outputs: [1, '?', True, 'I am a string', 256, 0]\n",
    "\n",
    "my_list.insert(0, \"first\")\n",
    "my_list.append(\"last\")\n",
    "print(my_list)  # outputs: ['first', 1, '?', True, 'I am a string', 256, 0, 'last']"
   ]
  },
  {
   "cell_type": "code",
   "execution_count": 34,
   "id": "441cbcba",
   "metadata": {},
   "outputs": [],
   "source": [
    "my_list = [1, 'a', [\"list\", 64, [0, 1], False]]\n"
   ]
  },
  {
   "cell_type": "code",
   "execution_count": 35,
   "id": "ba0e7880",
   "metadata": {},
   "outputs": [
    {
     "name": "stdout",
     "output_type": "stream",
     "text": [
      "[1, 2, 4]\n"
     ]
    }
   ],
   "source": [
    "my_list = [1, 2, 3, 4]\n",
    "del my_list[2]\n",
    "print(my_list)  # outputs: [1, 2, 4]\n",
    "\n",
    "del my_list  # deletes the whole list\n"
   ]
  },
  {
   "cell_type": "code",
   "execution_count": 36,
   "id": "f2507d73",
   "metadata": {},
   "outputs": [
    {
     "name": "stdout",
     "output_type": "stream",
     "text": [
      "white\n",
      "purple\n",
      "blue\n",
      "yellow\n",
      "green\n"
     ]
    }
   ],
   "source": [
    "my_list = [\"white\", \"purple\", \"blue\", \"yellow\", \"green\"]\n",
    "\n",
    "for color in my_list:\n",
    "    print(color)"
   ]
  },
  {
   "cell_type": "code",
   "execution_count": 37,
   "id": "5980dd7e",
   "metadata": {},
   "outputs": [
    {
     "name": "stdout",
     "output_type": "stream",
     "text": [
      "5\n",
      "4\n"
     ]
    }
   ],
   "source": [
    "my_list = [\"white\", \"purple\", \"blue\", \"yellow\", \"green\"]\n",
    "print(len(my_list))  # outputs 5\n",
    "\n",
    "del my_list[2]\n",
    "print(len(my_list))  # outputs 4"
   ]
  },
  {
   "cell_type": "code",
   "execution_count": 38,
   "id": "f48ab98c",
   "metadata": {},
   "outputs": [
    {
     "name": "stdout",
     "output_type": "stream",
     "text": [
      "[6, 2, 3, 4, 5, 1]\n"
     ]
    }
   ],
   "source": [
    "lst = [1, 2, 3, 4, 5]\n",
    "lst.insert(1, 6)\n",
    "del lst[0]\n",
    "lst.append(1)\n",
    "\n",
    "print(lst)"
   ]
  },
  {
   "cell_type": "code",
   "execution_count": 39,
   "id": "70b57e3a",
   "metadata": {},
   "outputs": [
    {
     "name": "stdout",
     "output_type": "stream",
     "text": [
      "[1, 3, 6, 10, 15]\n"
     ]
    }
   ],
   "source": [
    "lst = [1, 2, 3, 4, 5]\n",
    "lst_2 = []\n",
    "add = 0\n",
    "\n",
    "for number in lst:\n",
    "    add += number\n",
    "    lst_2.append(add)\n",
    "\n",
    "print(lst_2)"
   ]
  },
  {
   "cell_type": "code",
   "execution_count": 40,
   "id": "d895d9e6",
   "metadata": {},
   "outputs": [
    {
     "name": "stdout",
     "output_type": "stream",
     "text": [
      "[2, 3]\n",
      "3\n"
     ]
    }
   ],
   "source": [
    "lst = [1, [2, 3], 4]\n",
    "print(lst[1])\n",
    "print(len(lst))"
   ]
  },
  {
   "cell_type": "code",
   "execution_count": null,
   "id": "3064056d",
   "metadata": {},
   "outputs": [],
   "source": []
  }
 ],
 "metadata": {
  "kernelspec": {
   "display_name": "Python 3 (ipykernel)",
   "language": "python",
   "name": "python3"
  },
  "language_info": {
   "codemirror_mode": {
    "name": "ipython",
    "version": 3
   },
   "file_extension": ".py",
   "mimetype": "text/x-python",
   "name": "python",
   "nbconvert_exporter": "python",
   "pygments_lexer": "ipython3",
   "version": "3.11.3"
  }
 },
 "nbformat": 4,
 "nbformat_minor": 5
}
