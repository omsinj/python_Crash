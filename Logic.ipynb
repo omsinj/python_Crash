{
 "cells": [
  {
   "cell_type": "code",
   "execution_count": 1,
   "id": "3aa9281d",
   "metadata": {},
   "outputs": [
    {
     "name": "stdout",
     "output_type": "stream",
     "text": [
      "False\n"
     ]
    }
   ],
   "source": [
    "x = 1\n",
    "y = 0\n",
    "\n",
    "z = ((x == y) and (x == y)) or not(x == y)\n",
    "print(not(z))\n",
    "\n"
   ]
  },
  {
   "cell_type": "code",
   "execution_count": 2,
   "id": "ffe5d41c",
   "metadata": {},
   "outputs": [
    {
     "name": "stdout",
     "output_type": "stream",
     "text": [
      "0 5 -5 1 1 16\n"
     ]
    }
   ],
   "source": [
    "x = 4\n",
    "y = 1\n",
    "\n",
    "a = x & y\n",
    "b = x | y\n",
    "c = ~x  # tricky!\n",
    "d = x ^ 5\n",
    "e = x >> 2\n",
    "f = x << 2\n",
    "\n",
    "print(a, b, c, d, e, f)\n",
    "\n"
   ]
  },
  {
   "cell_type": "code",
   "execution_count": null,
   "id": "4013d823",
   "metadata": {},
   "outputs": [],
   "source": []
  }
 ],
 "metadata": {
  "kernelspec": {
   "display_name": "Python 3 (ipykernel)",
   "language": "python",
   "name": "python3"
  },
  "language_info": {
   "codemirror_mode": {
    "name": "ipython",
    "version": 3
   },
   "file_extension": ".py",
   "mimetype": "text/x-python",
   "name": "python",
   "nbconvert_exporter": "python",
   "pygments_lexer": "ipython3",
   "version": "3.11.3"
  }
 },
 "nbformat": 4,
 "nbformat_minor": 5
}
