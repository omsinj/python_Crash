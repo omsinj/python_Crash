{
 "cells": [
  {
   "cell_type": "code",
   "execution_count": 1,
   "id": "18d84df7",
   "metadata": {},
   "outputs": [],
   "source": [
    "a = [1,2,3]\n",
    "b = [4,5,6]"
   ]
  },
  {
   "cell_type": "code",
   "execution_count": 3,
   "id": "f03db9bb",
   "metadata": {},
   "outputs": [],
   "source": [
    "ab = []\n",
    "for i in range(0, len(a)):\n",
    "    ab.append(a[i] * b[i])"
   ]
  },
  {
   "cell_type": "code",
   "execution_count": 4,
   "id": "50f1bd05",
   "metadata": {},
   "outputs": [
    {
     "data": {
      "text/plain": [
       "[4, 10, 18]"
      ]
     },
     "execution_count": 4,
     "metadata": {},
     "output_type": "execute_result"
    }
   ],
   "source": [
    "ab"
   ]
  },
  {
   "cell_type": "code",
   "execution_count": 5,
   "id": "d1d45d38",
   "metadata": {},
   "outputs": [],
   "source": [
    "for i in range(0, len(a)):\n",
    "    ab.append(a[i] + b[i])"
   ]
  },
  {
   "cell_type": "code",
   "execution_count": 6,
   "id": "2af7dee3",
   "metadata": {},
   "outputs": [
    {
     "data": {
      "text/plain": [
       "[4, 10, 18, 5, 7, 9]"
      ]
     },
     "execution_count": 6,
     "metadata": {},
     "output_type": "execute_result"
    }
   ],
   "source": [
    "ab"
   ]
  },
  {
   "cell_type": "code",
   "execution_count": 11,
   "id": "c55f0b66",
   "metadata": {},
   "outputs": [],
   "source": [
    "x= [20, 'a', 21, 'b', 22, 'c', 23, 'd', 24, 'e', 25, 'f']"
   ]
  },
  {
   "cell_type": "code",
   "execution_count": 12,
   "id": "a4c7bd48",
   "metadata": {},
   "outputs": [
    {
     "data": {
      "text/plain": [
       "['a', 'b', 'c', 'd', 'e', 'f']"
      ]
     },
     "execution_count": 12,
     "metadata": {},
     "output_type": "execute_result"
    }
   ],
   "source": [
    "x[1::2]"
   ]
  },
  {
   "cell_type": "code",
   "execution_count": 13,
   "id": "1bffc718",
   "metadata": {},
   "outputs": [
    {
     "data": {
      "text/plain": [
       "['a', 'b', 'c', 'd', 'e', 'f']"
      ]
     },
     "execution_count": 13,
     "metadata": {},
     "output_type": "execute_result"
    }
   ],
   "source": [
    "x[1:12:2]"
   ]
  },
  {
   "cell_type": "code",
   "execution_count": 14,
   "id": "6a5aff5c",
   "metadata": {},
   "outputs": [
    {
     "data": {
      "text/plain": [
       "['f', 'e', 'd', 'c', 'b', 'a']"
      ]
     },
     "execution_count": 14,
     "metadata": {},
     "output_type": "execute_result"
    }
   ],
   "source": [
    "x[-1:-12:-2]"
   ]
  },
  {
   "cell_type": "markdown",
   "id": "7df3f95c",
   "metadata": {},
   "source": [
    "financial statement analysis"
   ]
  },
  {
   "cell_type": "code",
   "execution_count": 15,
   "id": "5232995b",
   "metadata": {},
   "outputs": [],
   "source": [
    "revenue = [234.50, 3456.21, 98788.11, 4567.70, 2345.56]\n",
    "expenses = [1234.67, 230986.07, 12089.0, 3456.61, 234.40]"
   ]
  },
  {
   "cell_type": "code",
   "execution_count": 17,
   "id": "2523172c",
   "metadata": {},
   "outputs": [],
   "source": [
    "profit = list([])\n",
    "\n",
    "for i in range(0, len(revenue)):\n",
    "    profit.append(revenue[i] - expenses[i])"
   ]
  },
  {
   "cell_type": "code",
   "execution_count": 18,
   "id": "c981b9a4",
   "metadata": {},
   "outputs": [
    {
     "data": {
      "text/plain": [
       "[-1000.1700000000001,\n",
       " -227529.86000000002,\n",
       " 86699.11,\n",
       " 1111.0899999999997,\n",
       " 2111.16]"
      ]
     },
     "execution_count": 18,
     "metadata": {},
     "output_type": "execute_result"
    }
   ],
   "source": [
    "profit"
   ]
  },
  {
   "cell_type": "code",
   "execution_count": 20,
   "id": "0619198b",
   "metadata": {},
   "outputs": [],
   "source": [
    "tax = [round(i * 0.3, 2) for i in profit]"
   ]
  },
  {
   "cell_type": "code",
   "execution_count": 21,
   "id": "6d9e10d1",
   "metadata": {},
   "outputs": [
    {
     "data": {
      "text/plain": [
       "[-300.05, -68258.96, 26009.73, 333.33, 633.35]"
      ]
     },
     "execution_count": 21,
     "metadata": {},
     "output_type": "execute_result"
    }
   ],
   "source": [
    "tax"
   ]
  },
  {
   "cell_type": "code",
   "execution_count": 22,
   "id": "5f5b47b4",
   "metadata": {},
   "outputs": [],
   "source": [
    "profit_after_tax = list([])\n",
    "\n",
    "for i in range(0, len(profit)):\n",
    "    profit_after_tax.append(profit[i] - tax[i])"
   ]
  },
  {
   "cell_type": "code",
   "execution_count": 23,
   "id": "329a981f",
   "metadata": {},
   "outputs": [
    {
     "data": {
      "text/plain": [
       "[-700.1200000000001,\n",
       " -159270.90000000002,\n",
       " 60689.380000000005,\n",
       " 777.7599999999998,\n",
       " 1477.81]"
      ]
     },
     "execution_count": 23,
     "metadata": {},
     "output_type": "execute_result"
    }
   ],
   "source": [
    "profit_after_tax"
   ]
  },
  {
   "cell_type": "code",
   "execution_count": 25,
   "id": "49b1b6f4",
   "metadata": {},
   "outputs": [],
   "source": [
    "profit_margin = list([])\n",
    "\n",
    "for i in range(0, len(profit)):\n",
    "    profit_margin.append(profit_after_tax[i] / revenue[i])"
   ]
  },
  {
   "cell_type": "code",
   "execution_count": 26,
   "id": "469d38b4",
   "metadata": {},
   "outputs": [],
   "source": [
    "profit_margin = [round((i*100),2) for i in profit_margin]"
   ]
  },
  {
   "cell_type": "code",
   "execution_count": 27,
   "id": "892b672f",
   "metadata": {},
   "outputs": [
    {
     "data": {
      "text/plain": [
       "[-298.56, -4608.25, 61.43, 17.03, 63.0]"
      ]
     },
     "execution_count": 27,
     "metadata": {},
     "output_type": "execute_result"
    }
   ],
   "source": [
    "profit_margin"
   ]
  },
  {
   "cell_type": "code",
   "execution_count": 30,
   "id": "f0915a2f",
   "metadata": {},
   "outputs": [],
   "source": [
    "mean_profit = sum(profit_after_tax) / len(profit_after_tax)"
   ]
  },
  {
   "cell_type": "code",
   "execution_count": 31,
   "id": "0937a7fd",
   "metadata": {},
   "outputs": [
    {
     "data": {
      "text/plain": [
       "-19405.214000000004"
      ]
     },
     "execution_count": 31,
     "metadata": {},
     "output_type": "execute_result"
    }
   ],
   "source": [
    "mean_profit"
   ]
  },
  {
   "cell_type": "code",
   "execution_count": 36,
   "id": "8ddf34a3",
   "metadata": {},
   "outputs": [],
   "source": [
    "good_months = list([])\n",
    "for i in range(0, len(profit)):\n",
    "    good_months.append(profit_after_tax[i] < mean_profit)\n",
    "  "
   ]
  },
  {
   "cell_type": "code",
   "execution_count": 37,
   "id": "60addb82",
   "metadata": {},
   "outputs": [
    {
     "data": {
      "text/plain": [
       "[False, True, False, False, False]"
      ]
     },
     "execution_count": 37,
     "metadata": {},
     "output_type": "execute_result"
    }
   ],
   "source": [
    "good_months"
   ]
  },
  {
   "cell_type": "code",
   "execution_count": 39,
   "id": "aa469927",
   "metadata": {},
   "outputs": [],
   "source": [
    "bad_months = ([])\n",
    "for i in range(0, len(profit)):\n",
    "    bad_months.append(profit_after_tax[i] > mean_profit)\n"
   ]
  },
  {
   "cell_type": "code",
   "execution_count": 40,
   "id": "bf5f7644",
   "metadata": {},
   "outputs": [
    {
     "data": {
      "text/plain": [
       "[True, False, True, True, True]"
      ]
     },
     "execution_count": 40,
     "metadata": {},
     "output_type": "execute_result"
    }
   ],
   "source": [
    "bad_months"
   ]
  },
  {
   "cell_type": "code",
   "execution_count": 42,
   "id": "a2442408",
   "metadata": {},
   "outputs": [],
   "source": [
    "best_month = list([])\n",
    "for i in range(0, len(profit)):\n",
    "    best_month.append(profit_after_tax[i] ==max(profit_after_tax))"
   ]
  },
  {
   "cell_type": "code",
   "execution_count": 43,
   "id": "b9bf26d2",
   "metadata": {},
   "outputs": [
    {
     "data": {
      "text/plain": [
       "[False, False, True, False, False]"
      ]
     },
     "execution_count": 43,
     "metadata": {},
     "output_type": "execute_result"
    }
   ],
   "source": [
    "best_month"
   ]
  },
  {
   "cell_type": "code",
   "execution_count": 44,
   "id": "8fae7aec",
   "metadata": {},
   "outputs": [],
   "source": [
    "worst_month = list([])\n",
    "for i in range(0, len(profit)):\n",
    "    worst_month.append(profit_after_tax[i] ==min(profit_after_tax))"
   ]
  },
  {
   "cell_type": "code",
   "execution_count": 45,
   "id": "fd71e2a9",
   "metadata": {},
   "outputs": [
    {
     "data": {
      "text/plain": [
       "[False, True, False, False, False]"
      ]
     },
     "execution_count": 45,
     "metadata": {},
     "output_type": "execute_result"
    }
   ],
   "source": [
    "worst_month"
   ]
  },
  {
   "cell_type": "code",
   "execution_count": 48,
   "id": "a9b8e0a2",
   "metadata": {},
   "outputs": [
    {
     "name": "stdout",
     "output_type": "stream",
     "text": [
      "[False, False, True, False, False]\n",
      "[False, True, False, False, False]\n"
     ]
    }
   ],
   "source": [
    "print (best_month)\n",
    "print(worst_month)"
   ]
  },
  {
   "cell_type": "code",
   "execution_count": null,
   "id": "64ce98ef",
   "metadata": {},
   "outputs": [],
   "source": []
  }
 ],
 "metadata": {
  "kernelspec": {
   "display_name": "Python 3 (ipykernel)",
   "language": "python",
   "name": "python3"
  },
  "language_info": {
   "codemirror_mode": {
    "name": "ipython",
    "version": 3
   },
   "file_extension": ".py",
   "mimetype": "text/x-python",
   "name": "python",
   "nbconvert_exporter": "python",
   "pygments_lexer": "ipython3",
   "version": "3.11.3"
  }
 },
 "nbformat": 4,
 "nbformat_minor": 5
}
