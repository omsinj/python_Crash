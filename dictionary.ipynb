{
 "cells": [
  {
   "cell_type": "code",
   "execution_count": 1,
   "id": "5464e7a2",
   "metadata": {},
   "outputs": [],
   "source": [
    "cell_types = ['Neutrophil', 'Eosinophil', 'Basophil', 'Small lymphocyte', 'Large lymphocyte', 'Monocyte']\n",
    "diameters = [11, 11, 13.5, 7.5, 13.5, 22.5]"
   ]
  },
  {
   "cell_type": "code",
   "execution_count": 2,
   "id": "74c4a9c5",
   "metadata": {},
   "outputs": [
    {
     "name": "stdout",
     "output_type": "stream",
     "text": [
      "Neutrophil: 0.011 millimeters\n",
      "Eosinophil: 0.011 millimeters\n",
      "Basophil: 0.0135 millimeters\n",
      "Small lymphocyte: 0.0075 millimeters\n",
      "Large lymphocyte: 0.0135 millimeters\n",
      "Monocyte: 0.0225 millimeters\n"
     ]
    }
   ],
   "source": [
    "cell_diameters = {\n",
    "    'Neutrophil': 11,\n",
    "    'Eosinophil': 11,\n",
    "    'Basophil': 13.5,\n",
    "    'Small lymphocyte': 7.5,\n",
    "    'Large lymphocyte': 13.5,\n",
    "    'Monocyte': 22.5\n",
    "}\n",
    "\n",
    "# Convert diameters from micrometers to millimeters\n",
    "for cell_type, diameter in cell_diameters.items():\n",
    "    cell_diameters[cell_type] = diameter / 1000  # 1 millimeter = 1000 micrometers\n",
    "\n",
    "# Print the result\n",
    "for cell_type, diameter in cell_diameters.items():\n",
    "    print(f\"{cell_type}: {diameter} millimeters\")\n"
   ]
  },
  {
   "cell_type": "code",
   "execution_count": 4,
   "id": "abd1c23d",
   "metadata": {},
   "outputs": [],
   "source": [
    "bat_list = ['Plecotus austriacus', 'Pipistrellus nathusii', 'Myotis daubentonii', 'Nyctalus noctula', \n",
    "            'Pipistrellus pipistrellus', 'Pipistrellus pipistrellus', 'Pipistrellus nathusii', 'Pipistrellus nathusii', \n",
    "            'Eptesicus serotinus', 'Myotis bechsteinii', 'Pipistrellus nathusii', 'Pipistrellus pygmaeus', \n",
    "            'Pipistrellus pipistrellus', 'Plecotus austriacus', 'Myotis daubentonii', 'Nyctalus noctula', 'Myotis brandtii', \n",
    "            'Myotis mystacinus', 'Pipistrellus nathusii', 'Pipistrellus pygmaeus', 'Pipistrellus nathusii', \n",
    "            'Rhinolophus hipposideros', 'Nyctalus leisleri', 'Pipistrellus pipistrellus', 'Pipistrellus nathusii', \n",
    "            'Nyctalus noctula', 'Plecotus austriacus', 'Pipistrellus nathusii', 'Myotis nattereri', \n",
    "            'Pipistrellus pipistrellus', 'Pipistrellus nathusii', 'Plecotus auritus', 'Barbastella barbastellus', \n",
    "            'Pipistrellus nathusii', 'Myotis brandtii', 'Pipistrellus pipistrellus', 'Myotis nattereri']"
   ]
  },
  {
   "cell_type": "code",
   "execution_count": 5,
   "id": "aa172835",
   "metadata": {},
   "outputs": [
    {
     "name": "stdout",
     "output_type": "stream",
     "text": [
      "Number of each bat species observed:\n",
      "Plecotus austriacus: 3\n",
      "Pipistrellus nathusii: 10\n",
      "Myotis daubentonii: 2\n",
      "Nyctalus noctula: 3\n",
      "Pipistrellus pipistrellus: 6\n",
      "Eptesicus serotinus: 1\n",
      "Myotis bechsteinii: 1\n",
      "Pipistrellus pygmaeus: 2\n",
      "Myotis brandtii: 2\n",
      "Myotis mystacinus: 1\n",
      "Rhinolophus hipposideros: 1\n",
      "Nyctalus leisleri: 1\n",
      "Myotis nattereri: 2\n",
      "Plecotus auritus: 1\n",
      "Barbastella barbastellus: 1\n",
      "\n",
      "Number of different bat species observed:\n",
      "15\n",
      "\n",
      "Number of species in the genus Pipistrellus observed: 3\n"
     ]
    }
   ],
   "source": [
    "bat_list = ['Plecotus austriacus', 'Pipistrellus nathusii', 'Myotis daubentonii', 'Nyctalus noctula', 'Pipistrellus pipistrellus', 'Pipistrellus pipistrellus', 'Pipistrellus nathusii', 'Pipistrellus nathusii', 'Eptesicus serotinus', 'Myotis bechsteinii', 'Pipistrellus nathusii', 'Pipistrellus pygmaeus', 'Pipistrellus pipistrellus', 'Plecotus austriacus', 'Myotis daubentonii', 'Nyctalus noctula', 'Myotis brandtii', 'Myotis mystacinus', 'Pipistrellus nathusii', 'Pipistrellus pygmaeus', 'Pipistrellus nathusii', 'Rhinolophus hipposideros', 'Nyctalus leisleri', 'Pipistrellus pipistrellus', 'Pipistrellus nathusii', 'Nyctalus noctula', 'Plecotus austriacus', 'Pipistrellus nathusii', 'Myotis nattereri', 'Pipistrellus pipistrellus', 'Pipistrellus nathusii', 'Plecotus auritus', 'Barbastella barbastellus', 'Pipistrellus nathusii', 'Myotis brandtii', 'Pipistrellus pipistrellus', 'Myotis nattereri']\n",
    "\n",
    "# Create an empty dictionary to store the counts of each bat species\n",
    "bat_counts = {}\n",
    "\n",
    "# Iterate through the bat_list and count the occurrences of each species\n",
    "for species in bat_list:\n",
    "    if species in bat_counts:\n",
    "        bat_counts[species] += 1\n",
    "    else:\n",
    "        bat_counts[species] = 1\n",
    "\n",
    "# Print the counts of each bat species\n",
    "print(\"Number of each bat species observed:\")\n",
    "for species, count in bat_counts.items():\n",
    "    print(f\"{species}: {count}\")\n",
    "\n",
    "# Print the total number of different bat species observed\n",
    "print(\"\\nNumber of different bat species observed:\")\n",
    "print(len(bat_counts))\n",
    "\n",
    "# Count the number of species in the genus Pipistrellus\n",
    "pipistrellus_count = sum(1 for species in bat_counts if species.startswith(\"Pipistrellus\"))\n",
    "print(\"\\nNumber of species in the genus Pipistrellus observed:\", pipistrellus_count)\n"
   ]
  },
  {
   "cell_type": "code",
   "execution_count": 6,
   "id": "034e3f92",
   "metadata": {},
   "outputs": [
    {
     "ename": "FileNotFoundError",
     "evalue": "[Errno 2] No such file or directory: 'cars.csv'",
     "output_type": "error",
     "traceback": [
      "\u001b[1;31m---------------------------------------------------------------------------\u001b[0m",
      "\u001b[1;31mFileNotFoundError\u001b[0m                         Traceback (most recent call last)",
      "Cell \u001b[1;32mIn[6], line 5\u001b[0m\n\u001b[0;32m      3\u001b[0m \u001b[38;5;66;03m# Read data from cars.csv and construct the dictionary\u001b[39;00m\n\u001b[0;32m      4\u001b[0m car_data \u001b[38;5;241m=\u001b[39m {}\n\u001b[1;32m----> 5\u001b[0m \u001b[38;5;28;01mwith\u001b[39;00m \u001b[38;5;28mopen\u001b[39m(\u001b[38;5;124m'\u001b[39m\u001b[38;5;124mcars.csv\u001b[39m\u001b[38;5;124m'\u001b[39m, newline\u001b[38;5;241m=\u001b[39m\u001b[38;5;124m'\u001b[39m\u001b[38;5;124m'\u001b[39m) \u001b[38;5;28;01mas\u001b[39;00m csvfile:\n\u001b[0;32m      6\u001b[0m     reader \u001b[38;5;241m=\u001b[39m csv\u001b[38;5;241m.\u001b[39mDictReader(csvfile)\n\u001b[0;32m      7\u001b[0m     \u001b[38;5;28;01mfor\u001b[39;00m row \u001b[38;5;129;01min\u001b[39;00m reader:\n",
      "File \u001b[1;32m~\\anaconda3\\Lib\\site-packages\\IPython\\core\\interactiveshell.py:284\u001b[0m, in \u001b[0;36m_modified_open\u001b[1;34m(file, *args, **kwargs)\u001b[0m\n\u001b[0;32m    277\u001b[0m \u001b[38;5;28;01mif\u001b[39;00m file \u001b[38;5;129;01min\u001b[39;00m {\u001b[38;5;241m0\u001b[39m, \u001b[38;5;241m1\u001b[39m, \u001b[38;5;241m2\u001b[39m}:\n\u001b[0;32m    278\u001b[0m     \u001b[38;5;28;01mraise\u001b[39;00m \u001b[38;5;167;01mValueError\u001b[39;00m(\n\u001b[0;32m    279\u001b[0m         \u001b[38;5;124mf\u001b[39m\u001b[38;5;124m\"\u001b[39m\u001b[38;5;124mIPython won\u001b[39m\u001b[38;5;124m'\u001b[39m\u001b[38;5;124mt let you open fd=\u001b[39m\u001b[38;5;132;01m{\u001b[39;00mfile\u001b[38;5;132;01m}\u001b[39;00m\u001b[38;5;124m by default \u001b[39m\u001b[38;5;124m\"\u001b[39m\n\u001b[0;32m    280\u001b[0m         \u001b[38;5;124m\"\u001b[39m\u001b[38;5;124mas it is likely to crash IPython. If you know what you are doing, \u001b[39m\u001b[38;5;124m\"\u001b[39m\n\u001b[0;32m    281\u001b[0m         \u001b[38;5;124m\"\u001b[39m\u001b[38;5;124myou can use builtins\u001b[39m\u001b[38;5;124m'\u001b[39m\u001b[38;5;124m open.\u001b[39m\u001b[38;5;124m\"\u001b[39m\n\u001b[0;32m    282\u001b[0m     )\n\u001b[1;32m--> 284\u001b[0m \u001b[38;5;28;01mreturn\u001b[39;00m io_open(file, \u001b[38;5;241m*\u001b[39margs, \u001b[38;5;241m*\u001b[39m\u001b[38;5;241m*\u001b[39mkwargs)\n",
      "\u001b[1;31mFileNotFoundError\u001b[0m: [Errno 2] No such file or directory: 'cars.csv'"
     ]
    }
   ],
   "source": [
    "import csv\n",
    "\n",
    "# Read data from cars.csv and construct the dictionary\n",
    "car_data = {}\n",
    "with open('cars.csv', newline='') as csvfile:\n",
    "    reader = csv.DictReader(csvfile)\n",
    "    for row in reader:\n",
    "        car_model = row.pop('model')\n",
    "        car_data[car_model] = row\n",
    "\n",
    "# Request car model and variable from user\n",
    "car_model = input(\"Enter car model: \")\n",
    "variable = input(\"Enter variable (e.g., mpg, cyl, disp, hp, drat, wt, qsec, vs, am, gear): \")\n",
    "\n",
    "# Retrieve the value associated with the variable for the specified car model\n",
    "if car_model in car_data:\n",
    "    if variable in car_data[car_model]:\n",
    "        value = car_data[car_model][variable]\n",
    "        print(f\"The value of {variable} for {car_model} is: {value}\")\n",
    "    else:\n",
    "        print(f\"Variable '{variable}' not found for {car_model}.\")\n",
    "else:\n",
    "    print(f\"Car model '{car_model}' not found in the data.\")\n"
   ]
  },
  {
   "cell_type": "code",
   "execution_count": null,
   "id": "1c943be7",
   "metadata": {},
   "outputs": [],
   "source": []
  }
 ],
 "metadata": {
  "kernelspec": {
   "display_name": "Python 3 (ipykernel)",
   "language": "python",
   "name": "python3"
  },
  "language_info": {
   "codemirror_mode": {
    "name": "ipython",
    "version": 3
   },
   "file_extension": ".py",
   "mimetype": "text/x-python",
   "name": "python",
   "nbconvert_exporter": "python",
   "pygments_lexer": "ipython3",
   "version": "3.11.3"
  }
 },
 "nbformat": 4,
 "nbformat_minor": 5
}
