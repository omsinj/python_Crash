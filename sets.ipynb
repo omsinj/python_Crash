{
 "cells": [
  {
   "cell_type": "code",
   "execution_count": 1,
   "id": "1a209c2d",
   "metadata": {},
   "outputs": [
    {
     "name": "stdout",
     "output_type": "stream",
     "text": [
      "{'apple', 'icecream', 'orange'}\n"
     ]
    }
   ],
   "source": [
    "thisisaset = {\"apple\", \"orange\", \"icecream\"}\n",
    "print(thisisaset)"
   ]
  },
  {
   "cell_type": "markdown",
   "id": "1d33723a",
   "metadata": {},
   "source": [
    "Once a set is created, you cannot change its items, but you can remove items and add new items.\n",
    "Duplicates are not allowed"
   ]
  },
  {
   "cell_type": "code",
   "execution_count": 2,
   "id": "c1cfc608",
   "metadata": {},
   "outputs": [
    {
     "name": "stdout",
     "output_type": "stream",
     "text": [
      "3\n"
     ]
    }
   ],
   "source": [
    "print(len(thisisaset))"
   ]
  },
  {
   "cell_type": "code",
   "execution_count": 3,
   "id": "4f47f4e5",
   "metadata": {},
   "outputs": [],
   "source": [
    "set1 = {\"apple\", \"banana\", \"cherry\"}\n",
    "set2 = {1, 5, 7, 9, 3}\n",
    "set3 = {True, False, False}"
   ]
  },
  {
   "cell_type": "markdown",
   "id": "85cb799f",
   "metadata": {},
   "source": [
    "Sets can be of any data type"
   ]
  },
  {
   "cell_type": "code",
   "execution_count": 4,
   "id": "069f1e8a",
   "metadata": {},
   "outputs": [],
   "source": [
    "thisisaset = ((\"apple\", \"orange\", \"icecream\"))"
   ]
  },
  {
   "cell_type": "markdown",
   "id": "f5226814",
   "metadata": {},
   "source": [
    "It is also possible to use the set() constructor to make a set"
   ]
  },
  {
   "cell_type": "markdown",
   "id": "9d96f4ec",
   "metadata": {},
   "source": [
    "There are four collection data types in the Python programming language:\n",
    "\n",
    "List is a collection which is ordered and changeable. Allows duplicate members.\n",
    "Tuple is a collection which is ordered and unchangeable. Allows duplicate members.\n",
    "Set is a collection which is unordered, unchangeable*, and unindexed. No duplicate members.\n",
    "Dictionary is a collection which is ordered** and changeable. No duplicate members."
   ]
  },
  {
   "cell_type": "code",
   "execution_count": 6,
   "id": "3e78c04f",
   "metadata": {},
   "outputs": [
    {
     "name": "stdout",
     "output_type": "stream",
     "text": [
      "{'apple', 'icecream', 'orange'}\n",
      "{'apple', 'icecream', 'orange'}\n",
      "{'apple', 'icecream', 'orange'}\n"
     ]
    }
   ],
   "source": [
    "thisisaset = {\"apple\", \"orange\", \"icecream\"}\n",
    "\n",
    "for x in thisisaset:\n",
    "    print(thisisaset)"
   ]
  },
  {
   "cell_type": "code",
   "execution_count": 8,
   "id": "bb8ad847",
   "metadata": {},
   "outputs": [
    {
     "name": "stdout",
     "output_type": "stream",
     "text": [
      "{'apple', 'icecream', 'pumpkins', 'orange'}\n"
     ]
    }
   ],
   "source": [
    "thisisaset = {\"apple\", \"orange\", \"icecream\"}\n",
    "thisisaset.add(\"pumpkins\")\n",
    "print(thisisaset)"
   ]
  },
  {
   "cell_type": "markdown",
   "id": "369d1b58",
   "metadata": {},
   "source": [
    "To add items from another set into the current set, use the update() method.\n",
    "You can use the union() method that returns a new set containing all items from both sets, or the update() method that inserts all the items from one set into another:"
   ]
  },
  {
   "cell_type": "code",
   "execution_count": 17,
   "id": "66729c85",
   "metadata": {},
   "outputs": [
    {
     "name": "stdout",
     "output_type": "stream",
     "text": [
      "{'jazz', 'hiphop', 'reggae', 'apple', 'icecream', 'orange'}\n"
     ]
    }
   ],
   "source": [
    "thisisaset = {\"apple\", \"orange\", \"icecream\"}\n",
    "thisisanotherset = {\"jazz\", \"hiphop\", \"reggae\"}\n",
    "\n",
    "thisisaset.update(thisisanotherset)\n",
    "print(thisisaset)"
   ]
  },
  {
   "cell_type": "markdown",
   "id": "f6a72f7e",
   "metadata": {},
   "source": [
    "To remove an item in a set, use the remove(), or the discard() method."
   ]
  },
  {
   "cell_type": "code",
   "execution_count": 10,
   "id": "539a011f",
   "metadata": {},
   "outputs": [],
   "source": [
    "thisisaset.remove(\"orange\")"
   ]
  },
  {
   "cell_type": "code",
   "execution_count": 11,
   "id": "7761c722",
   "metadata": {},
   "outputs": [
    {
     "name": "stdout",
     "output_type": "stream",
     "text": [
      "{'jazz', 'hiphop', 'reggae', 'apple', 'icecream'}\n"
     ]
    }
   ],
   "source": [
    "print(thisisaset)"
   ]
  },
  {
   "cell_type": "code",
   "execution_count": 12,
   "id": "eaac6016",
   "metadata": {},
   "outputs": [
    {
     "name": "stdout",
     "output_type": "stream",
     "text": [
      "{'jazz', 'hiphop', 'apple', 'icecream'}\n"
     ]
    }
   ],
   "source": [
    "thisisaset.discard(\"reggae\")\n",
    "print(thisisaset)"
   ]
  },
  {
   "cell_type": "markdown",
   "id": "e75752a9",
   "metadata": {},
   "source": [
    "You can also use the pop() method to remove an item, but this method will remove a random item, so you cannot be sure what item that gets removed."
   ]
  },
  {
   "cell_type": "code",
   "execution_count": 13,
   "id": "308e8641",
   "metadata": {},
   "outputs": [],
   "source": [
    "x = thisisaset.pop()"
   ]
  },
  {
   "cell_type": "code",
   "execution_count": 14,
   "id": "0ac517e0",
   "metadata": {},
   "outputs": [
    {
     "name": "stdout",
     "output_type": "stream",
     "text": [
      "jazz\n"
     ]
    }
   ],
   "source": [
    "print(x)"
   ]
  },
  {
   "cell_type": "markdown",
   "id": "86b25362",
   "metadata": {},
   "source": [
    "The clear() method empties the set:\n",
    "The del keyword will delete the set completely:"
   ]
  },
  {
   "cell_type": "code",
   "execution_count": 16,
   "id": "eda85eef",
   "metadata": {},
   "outputs": [
    {
     "name": "stdout",
     "output_type": "stream",
     "text": [
      "hiphop\n",
      "apple\n",
      "icecream\n"
     ]
    }
   ],
   "source": [
    "for x in thisisaset:\n",
    "    print(x)"
   ]
  },
  {
   "cell_type": "markdown",
   "id": "0663ea61",
   "metadata": {},
   "source": [
    "\n",
    "Return a set that contains the items that exist in both set x, and set y:"
   ]
  },
  {
   "cell_type": "code",
   "execution_count": 19,
   "id": "34b636c6",
   "metadata": {},
   "outputs": [
    {
     "name": "stdout",
     "output_type": "stream",
     "text": [
      "{'apple'}\n"
     ]
    }
   ],
   "source": [
    "x = {\"apple\", \"banana\", \"cherry\"}\n",
    "y = {\"google\", \"microsoft\", \"apple\"}\n",
    "\n",
    "z = x.intersection(y)\n",
    "\n",
    "print(z)"
   ]
  },
  {
   "cell_type": "markdown",
   "id": "631c7f14",
   "metadata": {},
   "source": [
    "\n",
    "Keep the items that exist in both set x, and set y:"
   ]
  },
  {
   "cell_type": "code",
   "execution_count": 20,
   "id": "3ababa74",
   "metadata": {},
   "outputs": [
    {
     "name": "stdout",
     "output_type": "stream",
     "text": [
      "{'apple'}\n"
     ]
    }
   ],
   "source": [
    "x = {\"apple\", \"banana\", \"cherry\"}\n",
    "y = {\"google\", \"microsoft\", \"apple\"}\n",
    "\n",
    "x.intersection_update(y)\n",
    "\n",
    "print(x)"
   ]
  },
  {
   "cell_type": "code",
   "execution_count": null,
   "id": "855cc943",
   "metadata": {},
   "outputs": [],
   "source": []
  }
 ],
 "metadata": {
  "kernelspec": {
   "display_name": "Python 3 (ipykernel)",
   "language": "python",
   "name": "python3"
  },
  "language_info": {
   "codemirror_mode": {
    "name": "ipython",
    "version": 3
   },
   "file_extension": ".py",
   "mimetype": "text/x-python",
   "name": "python",
   "nbconvert_exporter": "python",
   "pygments_lexer": "ipython3",
   "version": "3.11.3"
  }
 },
 "nbformat": 4,
 "nbformat_minor": 5
}
