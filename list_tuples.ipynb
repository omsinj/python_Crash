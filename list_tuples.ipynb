{
 "cells": [
  {
   "cell_type": "markdown",
   "id": "8136428f",
   "metadata": {},
   "source": [
    "A list is an ordered sequence of elements and numeration starts at 0. It can contain mixed data tyes."
   ]
  },
  {
   "cell_type": "code",
   "execution_count": 19,
   "id": "12f14461",
   "metadata": {},
   "outputs": [],
   "source": [
    "list1 = [1, 5, 46, 67, 23]"
   ]
  },
  {
   "cell_type": "code",
   "execution_count": 20,
   "id": "693442b6",
   "metadata": {},
   "outputs": [
    {
     "data": {
      "text/plain": [
       "[1, 5, 46, 67, 23]"
      ]
     },
     "execution_count": 20,
     "metadata": {},
     "output_type": "execute_result"
    }
   ],
   "source": [
    "list1"
   ]
  },
  {
   "cell_type": "code",
   "execution_count": 21,
   "id": "62d780a5",
   "metadata": {},
   "outputs": [
    {
     "data": {
      "text/plain": [
       "list"
      ]
     },
     "execution_count": 21,
     "metadata": {},
     "output_type": "execute_result"
    }
   ],
   "source": [
    "type(list1)"
   ]
  },
  {
   "cell_type": "code",
   "execution_count": 22,
   "id": "9f9df23b",
   "metadata": {},
   "outputs": [],
   "source": [
    "list2 = [\"hello\", 4, True, 45.7]"
   ]
  },
  {
   "cell_type": "code",
   "execution_count": 23,
   "id": "a641754b",
   "metadata": {},
   "outputs": [
    {
     "data": {
      "text/plain": [
       "list"
      ]
     },
     "execution_count": 23,
     "metadata": {},
     "output_type": "execute_result"
    }
   ],
   "source": [
    "type(list2)"
   ]
  },
  {
   "cell_type": "code",
   "execution_count": 24,
   "id": "b69fcb65",
   "metadata": {},
   "outputs": [],
   "source": [
    "list3 = [\"welcome\", 55, [34, 56, \"hello\"]]"
   ]
  },
  {
   "cell_type": "code",
   "execution_count": 25,
   "id": "24e3b851",
   "metadata": {},
   "outputs": [
    {
     "data": {
      "text/plain": [
       "list"
      ]
     },
     "execution_count": 25,
     "metadata": {},
     "output_type": "execute_result"
    }
   ],
   "source": [
    "type(list3)"
   ]
  },
  {
   "cell_type": "code",
   "execution_count": 26,
   "id": "959ff616",
   "metadata": {},
   "outputs": [
    {
     "data": {
      "text/plain": [
       "range(0, 5)"
      ]
     },
     "execution_count": 26,
     "metadata": {},
     "output_type": "execute_result"
    }
   ],
   "source": [
    "range(5)"
   ]
  },
  {
   "cell_type": "code",
   "execution_count": 27,
   "id": "2ec61337",
   "metadata": {},
   "outputs": [],
   "source": [
    "x = range(0, 5)"
   ]
  },
  {
   "cell_type": "code",
   "execution_count": 28,
   "id": "b6e9e720",
   "metadata": {},
   "outputs": [
    {
     "data": {
      "text/plain": [
       "range(0, 5)"
      ]
     },
     "execution_count": 28,
     "metadata": {},
     "output_type": "execute_result"
    }
   ],
   "source": [
    "x"
   ]
  },
  {
   "cell_type": "code",
   "execution_count": 32,
   "id": "4ea09d55",
   "metadata": {},
   "outputs": [
    {
     "data": {
      "text/plain": [
       "1"
      ]
     },
     "execution_count": 32,
     "metadata": {},
     "output_type": "execute_result"
    }
   ],
   "source": [
    "list[0]"
   ]
  },
  {
   "cell_type": "code",
   "execution_count": 33,
   "id": "e1451398",
   "metadata": {},
   "outputs": [
    {
     "data": {
      "text/plain": [
       "23"
      ]
     },
     "execution_count": 33,
     "metadata": {},
     "output_type": "execute_result"
    }
   ],
   "source": [
    "list1[-1]"
   ]
  },
  {
   "cell_type": "code",
   "execution_count": 34,
   "id": "58651c86",
   "metadata": {},
   "outputs": [],
   "source": [
    "w = [23, 56, \"string\", 34, 23, True, \"hello\"]"
   ]
  },
  {
   "cell_type": "code",
   "execution_count": 35,
   "id": "3aaf3a93",
   "metadata": {},
   "outputs": [
    {
     "data": {
      "text/plain": [
       "[23, 56, 'string', 34]"
      ]
     },
     "execution_count": 35,
     "metadata": {},
     "output_type": "execute_result"
    }
   ],
   "source": [
    "w[0:4]"
   ]
  },
  {
   "cell_type": "code",
   "execution_count": 36,
   "id": "2ba033fc",
   "metadata": {},
   "outputs": [],
   "source": [
    "w[2] = 45"
   ]
  },
  {
   "cell_type": "code",
   "execution_count": 37,
   "id": "81d09fd2",
   "metadata": {},
   "outputs": [
    {
     "data": {
      "text/plain": [
       "[23, 56, 45, 34, 23, True, 'hello']"
      ]
     },
     "execution_count": 37,
     "metadata": {},
     "output_type": "execute_result"
    }
   ],
   "source": [
    "w"
   ]
  },
  {
   "cell_type": "code",
   "execution_count": 41,
   "id": "4b000ee2",
   "metadata": {},
   "outputs": [],
   "source": [
    "w[2:4] = 34, 36, 75, 67"
   ]
  },
  {
   "cell_type": "code",
   "execution_count": 43,
   "id": "8574f849",
   "metadata": {},
   "outputs": [],
   "source": [
    "w[0] = 23, 90, 124"
   ]
  },
  {
   "cell_type": "code",
   "execution_count": 44,
   "id": "6e8ecfb0",
   "metadata": {},
   "outputs": [
    {
     "data": {
      "text/plain": [
       "[(23, 90, 124), 56, 34, 36, 75, 67, 23, True, 'hello']"
      ]
     },
     "execution_count": 44,
     "metadata": {},
     "output_type": "execute_result"
    }
   ],
   "source": [
    "w"
   ]
  },
  {
   "cell_type": "code",
   "execution_count": 45,
   "id": "7348190f",
   "metadata": {},
   "outputs": [],
   "source": [
    "w[-1] = 78, \"0001\""
   ]
  },
  {
   "cell_type": "code",
   "execution_count": 46,
   "id": "2de87647",
   "metadata": {},
   "outputs": [
    {
     "data": {
      "text/plain": [
       "[(23, 90, 124), 56, 34, 36, 75, 67, 23, True, (78, '0001')]"
      ]
     },
     "execution_count": 46,
     "metadata": {},
     "output_type": "execute_result"
    }
   ],
   "source": [
    "w"
   ]
  },
  {
   "cell_type": "code",
   "execution_count": 51,
   "id": "8b3f6d5a",
   "metadata": {},
   "outputs": [],
   "source": [
    "w[1] = 345"
   ]
  },
  {
   "cell_type": "code",
   "execution_count": 52,
   "id": "a30bd25f",
   "metadata": {},
   "outputs": [
    {
     "data": {
      "text/plain": [
       "[(23, 90, 124), 345, 34, 36, 75, 67, 23, True, (78, '0001')]"
      ]
     },
     "execution_count": 52,
     "metadata": {},
     "output_type": "execute_result"
    }
   ],
   "source": [
    "w"
   ]
  },
  {
   "cell_type": "code",
   "execution_count": 53,
   "id": "ce33b88c",
   "metadata": {},
   "outputs": [],
   "source": [
    "w[-4] = 45"
   ]
  },
  {
   "cell_type": "code",
   "execution_count": 54,
   "id": "6fcf4446",
   "metadata": {},
   "outputs": [
    {
     "data": {
      "text/plain": [
       "[(23, 90, 124), 345, 34, 36, 75, 45, 23, True, (78, '0001')]"
      ]
     },
     "execution_count": 54,
     "metadata": {},
     "output_type": "execute_result"
    }
   ],
   "source": [
    "w"
   ]
  },
  {
   "cell_type": "code",
   "execution_count": 56,
   "id": "2dd35e56",
   "metadata": {},
   "outputs": [
    {
     "name": "stdout",
     "output_type": "stream",
     "text": [
      "(23, 90, 124)\n",
      "345\n",
      "34\n",
      "36\n",
      "75\n",
      "45\n",
      "23\n",
      "True\n",
      "(78, '0001')\n"
     ]
    }
   ],
   "source": [
    "for i in w:\n",
    "    print(i)\n",
    "    "
   ]
  },
  {
   "cell_type": "code",
   "execution_count": 57,
   "id": "4598e2f3",
   "metadata": {},
   "outputs": [
    {
     "name": "stdout",
     "output_type": "stream",
     "text": [
      "[(23, 90, 124), 345, 34, 36]\n",
      "[(23, 90, 124), 345, 34, 36]\n",
      "[(23, 90, 124), 345, 34, 36]\n",
      "[(23, 90, 124), 345, 34, 36]\n",
      "[(23, 90, 124), 345, 34, 36]\n",
      "[(23, 90, 124), 345, 34, 36]\n",
      "[(23, 90, 124), 345, 34, 36]\n",
      "[(23, 90, 124), 345, 34, 36]\n",
      "[(23, 90, 124), 345, 34, 36]\n"
     ]
    }
   ],
   "source": [
    "for i in w:\n",
    "    print(w[0:4])"
   ]
  },
  {
   "cell_type": "code",
   "execution_count": 61,
   "id": "4c1bd417",
   "metadata": {},
   "outputs": [
    {
     "data": {
      "text/plain": [
       "[(78, '0001'), True, 23, 45, 75, 36, 34, 345, (23, 90, 124)]"
      ]
     },
     "execution_count": 61,
     "metadata": {},
     "output_type": "execute_result"
    }
   ],
   "source": [
    "w[::-1]"
   ]
  },
  {
   "cell_type": "code",
   "execution_count": 64,
   "id": "0601f5d7",
   "metadata": {},
   "outputs": [
    {
     "data": {
      "text/plain": [
       "[]"
      ]
     },
     "execution_count": 64,
     "metadata": {},
     "output_type": "execute_result"
    }
   ],
   "source": [
    "w[0:3:-1]"
   ]
  },
  {
   "cell_type": "code",
   "execution_count": 62,
   "id": "dccff17e",
   "metadata": {},
   "outputs": [
    {
     "data": {
      "text/plain": [
       "[(23, 90, 124), 36, 23]"
      ]
     },
     "execution_count": 62,
     "metadata": {},
     "output_type": "execute_result"
    }
   ],
   "source": [
    "w[::3]"
   ]
  },
  {
   "cell_type": "markdown",
   "id": "a0dbe2d7",
   "metadata": {},
   "source": [
    "        Tuples = is an immutable list - cannot be change compared to list"
   ]
  },
  {
   "cell_type": "code",
   "execution_count": 65,
   "id": "450e4212",
   "metadata": {},
   "outputs": [],
   "source": [
    "z = (345, 100, 467, 1, 34, 89)"
   ]
  },
  {
   "cell_type": "code",
   "execution_count": 66,
   "id": "65d12445",
   "metadata": {},
   "outputs": [
    {
     "data": {
      "text/plain": [
       "(345, 100, 467, 1, 34, 89)"
      ]
     },
     "execution_count": 66,
     "metadata": {},
     "output_type": "execute_result"
    }
   ],
   "source": [
    "z"
   ]
  },
  {
   "cell_type": "code",
   "execution_count": 67,
   "id": "183ac559",
   "metadata": {},
   "outputs": [
    {
     "name": "stdout",
     "output_type": "stream",
     "text": [
      "445\n"
     ]
    }
   ],
   "source": [
    "print(z[0] + z[1])"
   ]
  },
  {
   "cell_type": "markdown",
   "id": "add90068",
   "metadata": {},
   "source": [
    "Functions "
   ]
  },
  {
   "cell_type": "code",
   "execution_count": 68,
   "id": "d7cdd1f1",
   "metadata": {},
   "outputs": [
    {
     "data": {
      "text/plain": [
       "range(20, 31)"
      ]
     },
     "execution_count": 68,
     "metadata": {},
     "output_type": "execute_result"
    }
   ],
   "source": [
    "range(20,31)"
   ]
  },
  {
   "cell_type": "code",
   "execution_count": null,
   "id": "c97d004f",
   "metadata": {},
   "outputs": [],
   "source": []
  }
 ],
 "metadata": {
  "kernelspec": {
   "display_name": "Python 3 (ipykernel)",
   "language": "python",
   "name": "python3"
  },
  "language_info": {
   "codemirror_mode": {
    "name": "ipython",
    "version": 3
   },
   "file_extension": ".py",
   "mimetype": "text/x-python",
   "name": "python",
   "nbconvert_exporter": "python",
   "pygments_lexer": "ipython3",
   "version": "3.11.3"
  }
 },
 "nbformat": 4,
 "nbformat_minor": 5
}
