{
 "cells": [
  {
   "cell_type": "code",
   "execution_count": 1,
   "id": "8c8a2f7b",
   "metadata": {},
   "outputs": [
    {
     "data": {
      "text/plain": [
       "range(0, 5)"
      ]
     },
     "execution_count": 1,
     "metadata": {},
     "output_type": "execute_result"
    }
   ],
   "source": [
    "range(5)"
   ]
  },
  {
   "cell_type": "code",
   "execution_count": 2,
   "id": "b0467afa",
   "metadata": {},
   "outputs": [],
   "source": [
    "x = [10, 10, 100, 100, 57]"
   ]
  },
  {
   "cell_type": "code",
   "execution_count": 6,
   "id": "ab2bb864",
   "metadata": {},
   "outputs": [
    {
     "name": "stdout",
     "output_type": "stream",
     "text": [
      "jj is equal to  10\n",
      "jj is equal to  10\n",
      "jj is equal to  100\n",
      "jj is equal to  100\n",
      "jj is equal to  57\n"
     ]
    }
   ],
   "source": [
    "for jj in x:\n",
    "    print(\"jj is equal to \", jj)"
   ]
  },
  {
   "cell_type": "code",
   "execution_count": 7,
   "id": "ff0e468d",
   "metadata": {},
   "outputs": [],
   "source": [
    "y = (24, 65, 67)"
   ]
  },
  {
   "cell_type": "code",
   "execution_count": 8,
   "id": "e6a4233a",
   "metadata": {},
   "outputs": [
    {
     "data": {
      "text/plain": [
       "(24, 65, 67)"
      ]
     },
     "execution_count": 8,
     "metadata": {},
     "output_type": "execute_result"
    }
   ],
   "source": [
    "y"
   ]
  },
  {
   "cell_type": "code",
   "execution_count": 9,
   "id": "980e2acc",
   "metadata": {},
   "outputs": [
    {
     "name": "stdout",
     "output_type": "stream",
     "text": [
      "the lis is  24\n",
      "the lis is  65\n",
      "the lis is  67\n"
     ]
    }
   ],
   "source": [
    "for x in y:\n",
    "    print(\"the lis is \", x)"
   ]
  },
  {
   "cell_type": "code",
   "execution_count": null,
   "id": "1463fd0c",
   "metadata": {},
   "outputs": [],
   "source": []
  }
 ],
 "metadata": {
  "kernelspec": {
   "display_name": "Python 3 (ipykernel)",
   "language": "python",
   "name": "python3"
  },
  "language_info": {
   "codemirror_mode": {
    "name": "ipython",
    "version": 3
   },
   "file_extension": ".py",
   "mimetype": "text/x-python",
   "name": "python",
   "nbconvert_exporter": "python",
   "pygments_lexer": "ipython3",
   "version": "3.11.3"
  }
 },
 "nbformat": 4,
 "nbformat_minor": 5
}
