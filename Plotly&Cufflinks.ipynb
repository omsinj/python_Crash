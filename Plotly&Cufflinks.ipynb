{
 "cells": [
  {
   "cell_type": "code",
   "execution_count": 1,
   "id": "ac2b715e",
   "metadata": {},
   "outputs": [
    {
     "name": "stdout",
     "output_type": "stream",
     "text": [
      "Requirement already satisfied: plotly in c:\\users\\ojaga\\anaconda3\\lib\\site-packages (5.9.0)\n",
      "Requirement already satisfied: tenacity>=6.2.0 in c:\\users\\ojaga\\anaconda3\\lib\\site-packages (from plotly) (8.2.2)\n",
      "Note: you may need to restart the kernel to use updated packages.\n"
     ]
    }
   ],
   "source": [
    "pip install plotly"
   ]
  },
  {
   "cell_type": "code",
   "execution_count": 2,
   "id": "de1c32ae",
   "metadata": {},
   "outputs": [
    {
     "name": "stdout",
     "output_type": "stream",
     "text": [
      "Collecting cufflinks\n",
      "  Downloading cufflinks-0.17.3.tar.gz (81 kB)\n",
      "                                              0.0/81.7 kB ? eta -:--:--\n",
      "     ---------------------------------------- 81.7/81.7 kB 2.3 MB/s eta 0:00:00\n",
      "  Preparing metadata (setup.py): started\n",
      "  Preparing metadata (setup.py): finished with status 'done'\n",
      "Requirement already satisfied: numpy>=1.9.2 in c:\\users\\ojaga\\anaconda3\\lib\\site-packages (from cufflinks) (1.24.3)\n",
      "Requirement already satisfied: pandas>=0.19.2 in c:\\users\\ojaga\\anaconda3\\lib\\site-packages (from cufflinks) (1.5.3)\n",
      "Requirement already satisfied: plotly>=4.1.1 in c:\\users\\ojaga\\anaconda3\\lib\\site-packages (from cufflinks) (5.9.0)\n",
      "Requirement already satisfied: six>=1.9.0 in c:\\users\\ojaga\\anaconda3\\lib\\site-packages (from cufflinks) (1.16.0)\n",
      "Collecting colorlover>=0.2.1 (from cufflinks)\n",
      "  Downloading colorlover-0.3.0-py3-none-any.whl (8.9 kB)\n",
      "Requirement already satisfied: setuptools>=34.4.1 in c:\\users\\ojaga\\anaconda3\\lib\\site-packages (from cufflinks) (67.8.0)\n",
      "Requirement already satisfied: ipython>=5.3.0 in c:\\users\\ojaga\\anaconda3\\lib\\site-packages (from cufflinks) (8.12.0)\n",
      "Requirement already satisfied: ipywidgets>=7.0.0 in c:\\users\\ojaga\\anaconda3\\lib\\site-packages (from cufflinks) (8.0.4)\n",
      "Requirement already satisfied: backcall in c:\\users\\ojaga\\anaconda3\\lib\\site-packages (from ipython>=5.3.0->cufflinks) (0.2.0)\n",
      "Requirement already satisfied: decorator in c:\\users\\ojaga\\anaconda3\\lib\\site-packages (from ipython>=5.3.0->cufflinks) (5.1.1)\n",
      "Requirement already satisfied: jedi>=0.16 in c:\\users\\ojaga\\anaconda3\\lib\\site-packages (from ipython>=5.3.0->cufflinks) (0.18.1)\n",
      "Requirement already satisfied: matplotlib-inline in c:\\users\\ojaga\\anaconda3\\lib\\site-packages (from ipython>=5.3.0->cufflinks) (0.1.6)\n",
      "Requirement already satisfied: pickleshare in c:\\users\\ojaga\\anaconda3\\lib\\site-packages (from ipython>=5.3.0->cufflinks) (0.7.5)\n",
      "Requirement already satisfied: prompt-toolkit!=3.0.37,<3.1.0,>=3.0.30 in c:\\users\\ojaga\\anaconda3\\lib\\site-packages (from ipython>=5.3.0->cufflinks) (3.0.36)\n",
      "Requirement already satisfied: pygments>=2.4.0 in c:\\users\\ojaga\\anaconda3\\lib\\site-packages (from ipython>=5.3.0->cufflinks) (2.15.1)\n",
      "Requirement already satisfied: stack-data in c:\\users\\ojaga\\anaconda3\\lib\\site-packages (from ipython>=5.3.0->cufflinks) (0.2.0)\n",
      "Requirement already satisfied: traitlets>=5 in c:\\users\\ojaga\\anaconda3\\lib\\site-packages (from ipython>=5.3.0->cufflinks) (5.7.1)\n",
      "Requirement already satisfied: colorama in c:\\users\\ojaga\\anaconda3\\lib\\site-packages (from ipython>=5.3.0->cufflinks) (0.4.6)\n",
      "Requirement already satisfied: ipykernel>=4.5.1 in c:\\users\\ojaga\\anaconda3\\lib\\site-packages (from ipywidgets>=7.0.0->cufflinks) (6.19.2)\n",
      "Requirement already satisfied: widgetsnbextension~=4.0 in c:\\users\\ojaga\\anaconda3\\lib\\site-packages (from ipywidgets>=7.0.0->cufflinks) (4.0.5)\n",
      "Requirement already satisfied: jupyterlab-widgets~=3.0 in c:\\users\\ojaga\\anaconda3\\lib\\site-packages (from ipywidgets>=7.0.0->cufflinks) (3.0.5)\n",
      "Requirement already satisfied: python-dateutil>=2.8.1 in c:\\users\\ojaga\\anaconda3\\lib\\site-packages (from pandas>=0.19.2->cufflinks) (2.8.2)\n",
      "Requirement already satisfied: pytz>=2020.1 in c:\\users\\ojaga\\anaconda3\\lib\\site-packages (from pandas>=0.19.2->cufflinks) (2022.7)\n",
      "Requirement already satisfied: tenacity>=6.2.0 in c:\\users\\ojaga\\anaconda3\\lib\\site-packages (from plotly>=4.1.1->cufflinks) (8.2.2)\n",
      "Requirement already satisfied: comm>=0.1.1 in c:\\users\\ojaga\\anaconda3\\lib\\site-packages (from ipykernel>=4.5.1->ipywidgets>=7.0.0->cufflinks) (0.1.2)\n",
      "Requirement already satisfied: debugpy>=1.0 in c:\\users\\ojaga\\anaconda3\\lib\\site-packages (from ipykernel>=4.5.1->ipywidgets>=7.0.0->cufflinks) (1.5.1)\n",
      "Requirement already satisfied: jupyter-client>=6.1.12 in c:\\users\\ojaga\\anaconda3\\lib\\site-packages (from ipykernel>=4.5.1->ipywidgets>=7.0.0->cufflinks) (7.4.9)\n",
      "Requirement already satisfied: nest-asyncio in c:\\users\\ojaga\\anaconda3\\lib\\site-packages (from ipykernel>=4.5.1->ipywidgets>=7.0.0->cufflinks) (1.5.6)\n",
      "Requirement already satisfied: packaging in c:\\users\\ojaga\\anaconda3\\lib\\site-packages (from ipykernel>=4.5.1->ipywidgets>=7.0.0->cufflinks) (23.0)\n",
      "Requirement already satisfied: psutil in c:\\users\\ojaga\\anaconda3\\lib\\site-packages (from ipykernel>=4.5.1->ipywidgets>=7.0.0->cufflinks) (5.9.0)\n",
      "Requirement already satisfied: pyzmq>=17 in c:\\users\\ojaga\\anaconda3\\lib\\site-packages (from ipykernel>=4.5.1->ipywidgets>=7.0.0->cufflinks) (23.2.0)\n",
      "Requirement already satisfied: tornado>=6.1 in c:\\users\\ojaga\\anaconda3\\lib\\site-packages (from ipykernel>=4.5.1->ipywidgets>=7.0.0->cufflinks) (6.2)\n",
      "Requirement already satisfied: parso<0.9.0,>=0.8.0 in c:\\users\\ojaga\\anaconda3\\lib\\site-packages (from jedi>=0.16->ipython>=5.3.0->cufflinks) (0.8.3)\n",
      "Requirement already satisfied: wcwidth in c:\\users\\ojaga\\anaconda3\\lib\\site-packages (from prompt-toolkit!=3.0.37,<3.1.0,>=3.0.30->ipython>=5.3.0->cufflinks) (0.2.12)\n",
      "Requirement already satisfied: executing in c:\\users\\ojaga\\anaconda3\\lib\\site-packages (from stack-data->ipython>=5.3.0->cufflinks) (0.8.3)\n",
      "Requirement already satisfied: asttokens in c:\\users\\ojaga\\anaconda3\\lib\\site-packages (from stack-data->ipython>=5.3.0->cufflinks) (2.0.5)\n",
      "Requirement already satisfied: pure-eval in c:\\users\\ojaga\\anaconda3\\lib\\site-packages (from stack-data->ipython>=5.3.0->cufflinks) (0.2.2)\n",
      "Requirement already satisfied: entrypoints in c:\\users\\ojaga\\anaconda3\\lib\\site-packages (from jupyter-client>=6.1.12->ipykernel>=4.5.1->ipywidgets>=7.0.0->cufflinks) (0.4)\n",
      "Requirement already satisfied: jupyter-core>=4.9.2 in c:\\users\\ojaga\\anaconda3\\lib\\site-packages (from jupyter-client>=6.1.12->ipykernel>=4.5.1->ipywidgets>=7.0.0->cufflinks) (5.3.0)\n",
      "Requirement already satisfied: platformdirs>=2.5 in c:\\users\\ojaga\\anaconda3\\lib\\site-packages (from jupyter-core>=4.9.2->jupyter-client>=6.1.12->ipykernel>=4.5.1->ipywidgets>=7.0.0->cufflinks) (2.5.2)\n",
      "Requirement already satisfied: pywin32>=300 in c:\\users\\ojaga\\anaconda3\\lib\\site-packages (from jupyter-core>=4.9.2->jupyter-client>=6.1.12->ipykernel>=4.5.1->ipywidgets>=7.0.0->cufflinks) (305.1)\n",
      "Building wheels for collected packages: cufflinks\n",
      "  Building wheel for cufflinks (setup.py): started\n",
      "  Building wheel for cufflinks (setup.py): finished with status 'done'\n",
      "  Created wheel for cufflinks: filename=cufflinks-0.17.3-py3-none-any.whl size=68725 sha256=f649618c07841e0dbb8a5e1bdd5fea0da64c374283d23c1c0c0ada9fcdfbf130\n",
      "  Stored in directory: c:\\users\\ojaga\\appdata\\local\\pip\\cache\\wheels\\c3\\bf\\8f\\afa0730b29e347e8c1071049f89748c1262e7a14a838820ae6\n",
      "Successfully built cufflinks\n",
      "Installing collected packages: colorlover, cufflinks\n",
      "Successfully installed colorlover-0.3.0 cufflinks-0.17.3\n",
      "Note: you may need to restart the kernel to use updated packages.\n"
     ]
    }
   ],
   "source": [
    "pip install cufflinks"
   ]
  },
  {
   "cell_type": "code",
   "execution_count": 3,
   "id": "f5dcb721",
   "metadata": {},
   "outputs": [
    {
     "name": "stdout",
     "output_type": "stream",
     "text": [
      "Collecting chart-studio\n",
      "  Downloading chart_studio-1.1.0-py3-none-any.whl (64 kB)\n",
      "                                              0.0/64.4 kB ? eta -:--:--\n",
      "     ---------------------------------------- 64.4/64.4 kB 1.7 MB/s eta 0:00:00\n",
      "Requirement already satisfied: plotly in c:\\users\\ojaga\\anaconda3\\lib\\site-packages (from chart-studio) (5.9.0)\n",
      "Requirement already satisfied: requests in c:\\users\\ojaga\\anaconda3\\lib\\site-packages (from chart-studio) (2.29.0)\n",
      "Collecting retrying>=1.3.3 (from chart-studio)\n",
      "  Downloading retrying-1.3.4-py3-none-any.whl (11 kB)\n",
      "Requirement already satisfied: six in c:\\users\\ojaga\\anaconda3\\lib\\site-packages (from chart-studio) (1.16.0)\n",
      "Requirement already satisfied: tenacity>=6.2.0 in c:\\users\\ojaga\\anaconda3\\lib\\site-packages (from plotly->chart-studio) (8.2.2)\n",
      "Requirement already satisfied: charset-normalizer<4,>=2 in c:\\users\\ojaga\\anaconda3\\lib\\site-packages (from requests->chart-studio) (2.0.4)\n",
      "Requirement already satisfied: idna<4,>=2.5 in c:\\users\\ojaga\\anaconda3\\lib\\site-packages (from requests->chart-studio) (3.4)\n",
      "Requirement already satisfied: urllib3<1.27,>=1.21.1 in c:\\users\\ojaga\\anaconda3\\lib\\site-packages (from requests->chart-studio) (1.26.16)\n",
      "Requirement already satisfied: certifi>=2017.4.17 in c:\\users\\ojaga\\anaconda3\\lib\\site-packages (from requests->chart-studio) (2023.11.17)\n",
      "Installing collected packages: retrying, chart-studio\n",
      "Successfully installed chart-studio-1.1.0 retrying-1.3.4\n",
      "Note: you may need to restart the kernel to use updated packages.\n"
     ]
    }
   ],
   "source": [
    "pip install chart-studio"
   ]
  },
  {
   "cell_type": "code",
   "execution_count": 6,
   "id": "d3b1566d",
   "metadata": {},
   "outputs": [],
   "source": [
    "import pandas as pd\n",
    "import chart_studio.plotly as py\n",
    "import numpy as np\n",
    "from plotly import __version__\n",
    "import cufflinks as cf\n",
    "from plotly.offline import download_plotlyjs, init_notebook_mode, plot, iplot\n",
    "\n",
    "import matplotlib.pyplot as plt\n",
    "%matplotlib inline"
   ]
  },
  {
   "cell_type": "code",
   "execution_count": 7,
   "id": "c2ecb7f2",
   "metadata": {},
   "outputs": [
    {
     "data": {
      "text/html": [
       "        <script type=\"text/javascript\">\n",
       "        window.PlotlyConfig = {MathJaxConfig: 'local'};\n",
       "        if (window.MathJax && window.MathJax.Hub && window.MathJax.Hub.Config) {window.MathJax.Hub.Config({SVG: {font: \"STIX-Web\"}});}\n",
       "        if (typeof require !== 'undefined') {\n",
       "        require.undef(\"plotly\");\n",
       "        requirejs.config({\n",
       "            paths: {\n",
       "                'plotly': ['https://cdn.plot.ly/plotly-2.12.1.min']\n",
       "            }\n",
       "        });\n",
       "        require(['plotly'], function(Plotly) {\n",
       "            window._Plotly = Plotly;\n",
       "        });\n",
       "        }\n",
       "        </script>\n",
       "        "
      ]
     },
     "metadata": {},
     "output_type": "display_data"
    }
   ],
   "source": [
    "init_notebook_mode(connected = True)"
   ]
  },
  {
   "cell_type": "code",
   "execution_count": 8,
   "id": "63cb329c",
   "metadata": {},
   "outputs": [
    {
     "data": {
      "text/html": [
       "        <script type=\"text/javascript\">\n",
       "        window.PlotlyConfig = {MathJaxConfig: 'local'};\n",
       "        if (window.MathJax && window.MathJax.Hub && window.MathJax.Hub.Config) {window.MathJax.Hub.Config({SVG: {font: \"STIX-Web\"}});}\n",
       "        if (typeof require !== 'undefined') {\n",
       "        require.undef(\"plotly\");\n",
       "        requirejs.config({\n",
       "            paths: {\n",
       "                'plotly': ['https://cdn.plot.ly/plotly-2.12.1.min']\n",
       "            }\n",
       "        });\n",
       "        require(['plotly'], function(Plotly) {\n",
       "            window._Plotly = Plotly;\n",
       "        });\n",
       "        }\n",
       "        </script>\n",
       "        "
      ]
     },
     "metadata": {},
     "output_type": "display_data"
    }
   ],
   "source": [
    "cf.go_offline()"
   ]
  },
  {
   "cell_type": "code",
   "execution_count": 23,
   "id": "3b83fb52",
   "metadata": {},
   "outputs": [],
   "source": [
    "df = pd.DataFrame(np.random.randn(100, 4), columns=['A', 'B', 'C', 'D'])\n"
   ]
  },
  {
   "cell_type": "code",
   "execution_count": 24,
   "id": "171a1134",
   "metadata": {},
   "outputs": [
    {
     "data": {
      "text/html": [
       "<div>\n",
       "<style scoped>\n",
       "    .dataframe tbody tr th:only-of-type {\n",
       "        vertical-align: middle;\n",
       "    }\n",
       "\n",
       "    .dataframe tbody tr th {\n",
       "        vertical-align: top;\n",
       "    }\n",
       "\n",
       "    .dataframe thead th {\n",
       "        text-align: right;\n",
       "    }\n",
       "</style>\n",
       "<table border=\"1\" class=\"dataframe\">\n",
       "  <thead>\n",
       "    <tr style=\"text-align: right;\">\n",
       "      <th></th>\n",
       "      <th>A</th>\n",
       "      <th>B</th>\n",
       "      <th>C</th>\n",
       "      <th>D</th>\n",
       "    </tr>\n",
       "  </thead>\n",
       "  <tbody>\n",
       "    <tr>\n",
       "      <th>0</th>\n",
       "      <td>0.963656</td>\n",
       "      <td>1.041861</td>\n",
       "      <td>1.968469</td>\n",
       "      <td>1.663034</td>\n",
       "    </tr>\n",
       "    <tr>\n",
       "      <th>1</th>\n",
       "      <td>1.121381</td>\n",
       "      <td>-1.493967</td>\n",
       "      <td>0.886574</td>\n",
       "      <td>0.075504</td>\n",
       "    </tr>\n",
       "    <tr>\n",
       "      <th>2</th>\n",
       "      <td>0.081173</td>\n",
       "      <td>-0.021279</td>\n",
       "      <td>-0.928292</td>\n",
       "      <td>-0.597325</td>\n",
       "    </tr>\n",
       "    <tr>\n",
       "      <th>3</th>\n",
       "      <td>0.906750</td>\n",
       "      <td>0.332930</td>\n",
       "      <td>0.086423</td>\n",
       "      <td>-1.657450</td>\n",
       "    </tr>\n",
       "    <tr>\n",
       "      <th>4</th>\n",
       "      <td>1.289087</td>\n",
       "      <td>1.140744</td>\n",
       "      <td>-0.178515</td>\n",
       "      <td>0.052804</td>\n",
       "    </tr>\n",
       "    <tr>\n",
       "      <th>...</th>\n",
       "      <td>...</td>\n",
       "      <td>...</td>\n",
       "      <td>...</td>\n",
       "      <td>...</td>\n",
       "    </tr>\n",
       "    <tr>\n",
       "      <th>95</th>\n",
       "      <td>1.199667</td>\n",
       "      <td>-1.177586</td>\n",
       "      <td>-0.244653</td>\n",
       "      <td>-0.353829</td>\n",
       "    </tr>\n",
       "    <tr>\n",
       "      <th>96</th>\n",
       "      <td>0.068314</td>\n",
       "      <td>0.748292</td>\n",
       "      <td>1.109348</td>\n",
       "      <td>-0.691322</td>\n",
       "    </tr>\n",
       "    <tr>\n",
       "      <th>97</th>\n",
       "      <td>-0.057602</td>\n",
       "      <td>0.214533</td>\n",
       "      <td>3.462656</td>\n",
       "      <td>0.898685</td>\n",
       "    </tr>\n",
       "    <tr>\n",
       "      <th>98</th>\n",
       "      <td>0.382706</td>\n",
       "      <td>0.109380</td>\n",
       "      <td>-0.417502</td>\n",
       "      <td>0.249478</td>\n",
       "    </tr>\n",
       "    <tr>\n",
       "      <th>99</th>\n",
       "      <td>0.569200</td>\n",
       "      <td>-0.362953</td>\n",
       "      <td>0.129392</td>\n",
       "      <td>-0.403443</td>\n",
       "    </tr>\n",
       "  </tbody>\n",
       "</table>\n",
       "<p>100 rows × 4 columns</p>\n",
       "</div>"
      ],
      "text/plain": [
       "           A         B         C         D\n",
       "0   0.963656  1.041861  1.968469  1.663034\n",
       "1   1.121381 -1.493967  0.886574  0.075504\n",
       "2   0.081173 -0.021279 -0.928292 -0.597325\n",
       "3   0.906750  0.332930  0.086423 -1.657450\n",
       "4   1.289087  1.140744 -0.178515  0.052804\n",
       "..       ...       ...       ...       ...\n",
       "95  1.199667 -1.177586 -0.244653 -0.353829\n",
       "96  0.068314  0.748292  1.109348 -0.691322\n",
       "97 -0.057602  0.214533  3.462656  0.898685\n",
       "98  0.382706  0.109380 -0.417502  0.249478\n",
       "99  0.569200 -0.362953  0.129392 -0.403443\n",
       "\n",
       "[100 rows x 4 columns]"
      ]
     },
     "execution_count": 24,
     "metadata": {},
     "output_type": "execute_result"
    }
   ],
   "source": [
    "df"
   ]
  },
  {
   "cell_type": "code",
   "execution_count": 26,
   "id": "68165290",
   "metadata": {},
   "outputs": [],
   "source": [
    "df2 = pd.DataFrame({'category':['A', 'B', 'C'], 'Values': [23,43,50]})"
   ]
  },
  {
   "cell_type": "code",
   "execution_count": 27,
   "id": "f8f970f0",
   "metadata": {},
   "outputs": [
    {
     "data": {
      "text/html": [
       "<div>\n",
       "<style scoped>\n",
       "    .dataframe tbody tr th:only-of-type {\n",
       "        vertical-align: middle;\n",
       "    }\n",
       "\n",
       "    .dataframe tbody tr th {\n",
       "        vertical-align: top;\n",
       "    }\n",
       "\n",
       "    .dataframe thead th {\n",
       "        text-align: right;\n",
       "    }\n",
       "</style>\n",
       "<table border=\"1\" class=\"dataframe\">\n",
       "  <thead>\n",
       "    <tr style=\"text-align: right;\">\n",
       "      <th></th>\n",
       "      <th>category</th>\n",
       "      <th>Values</th>\n",
       "    </tr>\n",
       "  </thead>\n",
       "  <tbody>\n",
       "    <tr>\n",
       "      <th>0</th>\n",
       "      <td>A</td>\n",
       "      <td>23</td>\n",
       "    </tr>\n",
       "    <tr>\n",
       "      <th>1</th>\n",
       "      <td>B</td>\n",
       "      <td>43</td>\n",
       "    </tr>\n",
       "    <tr>\n",
       "      <th>2</th>\n",
       "      <td>C</td>\n",
       "      <td>50</td>\n",
       "    </tr>\n",
       "  </tbody>\n",
       "</table>\n",
       "</div>"
      ],
      "text/plain": [
       "  category  Values\n",
       "0        A      23\n",
       "1        B      43\n",
       "2        C      50"
      ]
     },
     "execution_count": 27,
     "metadata": {},
     "output_type": "execute_result"
    }
   ],
   "source": [
    "df2"
   ]
  },
  {
   "cell_type": "code",
   "execution_count": 28,
   "id": "f0dda9f2",
   "metadata": {},
   "outputs": [
    {
     "data": {
      "text/plain": [
       "<Axes: >"
      ]
     },
     "execution_count": 28,
     "metadata": {},
     "output_type": "execute_result"
    },
    {
     "data": {
      "image/png": "[encoded data removed]",
      "text/plain": [
       "<Figure size 640x480 with 1 Axes>"
      ]
     },
     "metadata": {},
     "output_type": "display_data"
    }
   ],
   "source": [
    "df.plot()"
   ]
  },
  {
   "cell_type": "code",
   "execution_count": 29,
   "id": "a1571703",
   "metadata": {},
   "outputs": [
    {
     "data": {
      "application/vnd.plotly.v1+json": {
       "config": {
        "linkText": "Export to plot.ly",
        "plotlyServerURL": "https://plot.ly",
        "showLink": true
       },
       "data": [
        {
         "line": {
          "color": "rgba(255, 153, 51, 1.0)",
          "dash": "solid",
          "shape": "linear",
          "width": 1.3
         },
         "mode": "lines",
         "name": "A",
         "text": "",
         "type": "scatter",
         "x": [
          0,
          1,
          2,
          3,
          4,
          5,
          6,
          7,
          8,
          9,
          10,
          11,
          12,
          13,
          14,
          15,
          16,
          17,
          18,
          19,
          20,
          21,
          22,
          23,
          24,
          25,
          26,
          27,
          28,
          29,
          30,
          31,
          32,
          33,
          34,
          35,
          36,
          37,
          38,
          39,
          40,
          41,
          42,
          43,
          44,
          45,
          46,
          47,
          48,
          49,
          50,
          51,
          52,
          53,
          54,
          55,
          56,
          57,
          58,
          59,
          60,
          61,
          62,
          63,
          64,
          65,
          66,
          67,
          68,
          69,
          70,
          71,
          72,
          73,
          74,
          75,
          76,
          77,
          78,
          79,
          80,
          81,
          82,
          83,
          84,
          85,
          86,
          87,
          88,
          89,
          90,
          91,
          92,
          93,
          94,
          95,
          96,
          97,
          98,
          99
         ],
         "y": [
          0.963656208822238,
          1.1213805704854953,
          0.08117322059561863,
          0.9067501670920386,
          1.28908725845038,
          -0.8484788632427857,
          -0.8009485265222287,
          -0.13954698878550142,
          -0.4209938328140542,
          0.2837355152610227,
          -0.21272756966893616,
          1.7570408279670209,
          0.3550122841604106,
          1.30974406905139,
          0.2232155423907447,
          0.20225806270488592,
          0.4297931309428796,
          0.2710898356704665,
          1.2673150001525066,
          -0.28317420340831106,
          0.20613001876357961,
          0.4635201733939552,
          0.5460897413984124,
          0.12438837142487577,
          -0.3311450835685355,
          0.43842530680477404,
          1.0684047789837727,
          -0.6243736534857598,
          -1.1906662032404274,
          1.4656058483881402,
          0.16715588520722816,
          0.48360128610027264,
          1.0718721211795463,
          -0.24068377304579952,
          -0.8837940178049627,
          0.28414594957742983,
          0.18636052031088884,
          1.0554728665925521,
          0.24657908043205698,
          -0.255956079869308,
          0.07878204355354528,
          -1.1832024418880038,
          -0.3947053481469931,
          0.015051127698353848,
          -0.9273312434230097,
          -0.5904417385480116,
          -0.8248473181016788,
          -2.553642906404523,
          0.5853809835216754,
          0.07471667146690081,
          0.8078271481497611,
          2.0119568319081234,
          1.7051615445225863,
          0.3690781122530383,
          0.27207568986467,
          0.9429351698391747,
          0.8709196392545411,
          1.8881327097718632,
          -2.277236818278749,
          0.7641282663968877,
          -1.9210586871999982,
          0.6083480372818315,
          -1.7059804718374605,
          1.8390631369000259,
          0.47676559937164253,
          0.7951445119372802,
          0.7363841786006643,
          1.2801801668695012,
          -0.987315530991337,
          -0.7855382455137779,
          -1.5235664056893965,
          -0.8068782421283027,
          0.1899751266947658,
          -0.8176847491115944,
          -0.7588257659066171,
          0.7146591792126702,
          1.1389770375251385,
          -0.49140946806501906,
          0.3885375141880657,
          0.19210286916179659,
          -1.8674308759485234,
          0.2563319473019304,
          1.4141223099861748,
          1.5347206360501597,
          -1.094691314002368,
          -0.060435557199993446,
          0.2992179294797572,
          1.4510015729851962,
          0.38567992079704777,
          -1.8471002701272756,
          -0.2158731199529436,
          -0.3833111312088049,
          -2.0068888309777657,
          -0.548083205199428,
          0.6861555341365956,
          1.199667217838947,
          0.06831398795428081,
          -0.057601596970910905,
          0.3827056101028784,
          0.5691997438450976
         ]
        },
        {
         "line": {
          "color": "rgba(55, 128, 191, 1.0)",
          "dash": "solid",
          "shape": "linear",
          "width": 1.3
         },
         "mode": "lines",
         "name": "B",
         "text": "",
         "type": "scatter",
         "x": [
          0,
          1,
          2,
          3,
          4,
          5,
          6,
          7,
          8,
          9,
          10,
          11,
          12,
          13,
          14,
          15,
          16,
          17,
          18,
          19,
          20,
          21,
          22,
          23,
          24,
          25,
          26,
          27,
          28,
          29,
          30,
          31,
          32,
          33,
          34,
          35,
          36,
          37,
          38,
          39,
          40,
          41,
          42,
          43,
          44,
          45,
          46,
          47,
          48,
          49,
          50,
          51,
          52,
          53,
          54,
          55,
          56,
          57,
          58,
          59,
          60,
          61,
          62,
          63,
          64,
          65,
          66,
          67,
          68,
          69,
          70,
          71,
          72,
          73,
          74,
          75,
          76,
          77,
          78,
          79,
          80,
          81,
          82,
          83,
          84,
          85,
          86,
          87,
          88,
          89,
          90,
          91,
          92,
          93,
          94,
          95,
          96,
          97,
          98,
          99
         ],
         "y": [
          1.0418607474294792,
          -1.4939672413762932,
          -0.02127901542430224,
          0.33292977024558157,
          1.1407436277450778,
          -0.3015660930492725,
          -0.0752865847187486,
          -1.009791743749023,
          -0.6974105177481036,
          -1.0778447312443185,
          0.21994773983594507,
          -1.2767378096491764,
          -0.4772520284876469,
          -0.13191693638288507,
          -0.8840497936830316,
          0.43491378665196123,
          1.237780885733663,
          -0.7372283644576442,
          -0.11267970353145566,
          -1.637025903877696,
          -0.8643009602442039,
          -1.170864879740225,
          0.8657447067108397,
          -1.3316471625112472,
          0.27930606940491254,
          0.1010548787720902,
          0.7014020947179823,
          0.8115916437019352,
          0.9534863463399055,
          -0.17974376572600015,
          0.15539942126823825,
          0.12563065884091904,
          -0.6983132119953138,
          -0.8557269377205827,
          -1.1114678483065996,
          1.6267980935814845,
          0.10835953580183216,
          -0.724885465855628,
          -0.13014748543449164,
          0.02635813457746775,
          -0.10731405448780107,
          0.9394176236033902,
          0.8852004040890421,
          0.8837667760803889,
          -0.6827153117408953,
          -0.9093724172772358,
          0.5777482827305919,
          0.1320824276129593,
          0.051752566935829254,
          2.2294346148078286,
          -0.3450934390030509,
          0.1620081871920339,
          0.22742137414734556,
          0.53465876620935,
          0.7992154964793429,
          -1.3109197447319967,
          -1.8881307729462076,
          2.130605406350455,
          -0.031583068295145504,
          0.5445342145696391,
          -0.3836665294064964,
          -0.8276744278807356,
          1.5347897785141216,
          -0.10205298921735546,
          -0.9931249156241323,
          0.6784877290695253,
          0.6442290539833533,
          0.22188261861927183,
          0.658824210911803,
          0.4725016736628034,
          -0.5884114772778922,
          -0.868227094420527,
          -1.3615134352744052,
          1.092930344226626,
          -0.13734327442278882,
          -1.3246769110560028,
          -0.6863100288573838,
          0.2900951740060484,
          -0.7262357878917776,
          -1.5393687384063548,
          -0.6345124844359458,
          1.0511810398400365,
          -0.32552486870352804,
          0.46721489635640734,
          1.2701651157118028,
          0.821796041357051,
          -1.3530062245164303,
          -0.6629088380930819,
          0.8386510462005943,
          -0.10769881867698582,
          0.18586510865496922,
          0.0027232401253373915,
          -2.1003147011287964,
          0.19799553908870476,
          0.5799814202834371,
          -1.1775863243324383,
          0.748291680102528,
          0.2145327190535425,
          0.10937980687552407,
          -0.3629526709313861
         ]
        },
        {
         "line": {
          "color": "rgba(50, 171, 96, 1.0)",
          "dash": "solid",
          "shape": "linear",
          "width": 1.3
         },
         "mode": "lines",
         "name": "C",
         "text": "",
         "type": "scatter",
         "x": [
          0,
          1,
          2,
          3,
          4,
          5,
          6,
          7,
          8,
          9,
          10,
          11,
          12,
          13,
          14,
          15,
          16,
          17,
          18,
          19,
          20,
          21,
          22,
          23,
          24,
          25,
          26,
          27,
          28,
          29,
          30,
          31,
          32,
          33,
          34,
          35,
          36,
          37,
          38,
          39,
          40,
          41,
          42,
          43,
          44,
          45,
          46,
          47,
          48,
          49,
          50,
          51,
          52,
          53,
          54,
          55,
          56,
          57,
          58,
          59,
          60,
          61,
          62,
          63,
          64,
          65,
          66,
          67,
          68,
          69,
          70,
          71,
          72,
          73,
          74,
          75,
          76,
          77,
          78,
          79,
          80,
          81,
          82,
          83,
          84,
          85,
          86,
          87,
          88,
          89,
          90,
          91,
          92,
          93,
          94,
          95,
          96,
          97,
          98,
          99
         ],
         "y": [
          1.9684685598255098,
          0.8865735701165786,
          -0.9282924703857871,
          0.0864231738857163,
          -0.17851496705340106,
          0.8941201736951061,
          -1.767757746744734,
          -0.9029257916222327,
          -0.15040689632672258,
          0.3608236978003134,
          -2.3993756008061955,
          -0.483640402637199,
          2.453497287095231,
          0.2886471123783374,
          0.4789224073967982,
          1.8868787058240575,
          -0.7069821240099842,
          0.9364960925054092,
          -0.11826593254370696,
          -1.2466608150509335,
          0.5835449052351525,
          -0.7856053542283987,
          -1.402302566540273,
          1.3852800062444897,
          0.5641183370922549,
          0.8809989823072313,
          -0.2316988475498588,
          0.9588801018246939,
          -1.8023754339085756,
          1.3856050832892777,
          0.2889566018572497,
          -2.2912515772536093,
          1.2338406432349927,
          -0.37060434083404203,
          -1.115233219161336,
          0.04673985612202292,
          0.0942462710028508,
          -0.13839475415973518,
          -0.09718950720666848,
          0.24901537761553835,
          0.9108528097216493,
          -0.5528486250284738,
          0.1437258643037152,
          1.2368565085155692,
          0.11806071227737899,
          -0.6915685444367112,
          0.6893681392468275,
          -2.1930493530215243,
          -0.9934789592227896,
          -0.6189689820317923,
          -0.8698092136412182,
          0.8003318888279906,
          -0.5982506634931678,
          -0.7890609206749534,
          -0.6548147871758787,
          0.5587927372009642,
          0.27255474613842035,
          1.0925266720615479,
          1.3392761253917005,
          0.1065019292120311,
          -1.1867386077150974,
          1.78632170548558,
          -0.02624061741045453,
          -1.1556722058561715,
          0.07704352120398042,
          -0.22053430872375845,
          2.5042220859217554,
          0.2355109428038429,
          0.1805691839545755,
          1.641624590650236,
          0.9246325724024335,
          -0.0517173982740807,
          -1.6078788351856876,
          -0.673781299334335,
          -0.11875226070443112,
          -1.1803330927190678,
          -0.6051380566023823,
          1.3120299005977665,
          -1.586753953775392,
          1.0494361893220578,
          0.8185429666565787,
          0.0796582520338552,
          0.8785869617159295,
          -1.3860246585946714,
          0.4098334039689942,
          2.026756298055897,
          -2.341265735162529,
          1.0423930455611918,
          1.7745715730437097,
          -0.7451216801801956,
          0.13019025491771619,
          0.6720981517354053,
          1.2143690393829878,
          -0.6817286989667747,
          1.7765429487539386,
          -0.24465282170560929,
          1.1093476031534293,
          3.462655523208048,
          -0.4175023099069305,
          0.1293918215907214
         ]
        },
        {
         "line": {
          "color": "rgba(128, 0, 128, 1.0)",
          "dash": "solid",
          "shape": "linear",
          "width": 1.3
         },
         "mode": "lines",
         "name": "D",
         "text": "",
         "type": "scatter",
         "x": [
          0,
          1,
          2,
          3,
          4,
          5,
          6,
          7,
          8,
          9,
          10,
          11,
          12,
          13,
          14,
          15,
          16,
          17,
          18,
          19,
          20,
          21,
          22,
          23,
          24,
          25,
          26,
          27,
          28,
          29,
          30,
          31,
          32,
          33,
          34,
          35,
          36,
          37,
          38,
          39,
          40,
          41,
          42,
          43,
          44,
          45,
          46,
          47,
          48,
          49,
          50,
          51,
          52,
          53,
          54,
          55,
          56,
          57,
          58,
          59,
          60,
          61,
          62,
          63,
          64,
          65,
          66,
          67,
          68,
          69,
          70,
          71,
          72,
          73,
          74,
          75,
          76,
          77,
          78,
          79,
          80,
          81,
          82,
          83,
          84,
          85,
          86,
          87,
          88,
          89,
          90,
          91,
          92,
          93,
          94,
          95,
          96,
          97,
          98,
          99
         ],
         "y": [
          1.6630337650354345,
          0.07550432297170971,
          -0.5973245468599844,
          -1.657449860204015,
          0.05280375575287506,
          -0.015347519964781276,
          -0.823066509767297,
          -1.2865818271926146,
          -0.20465223602492458,
          1.4326116078768383,
          1.715349653593688,
          1.8332783984371763,
          0.10489256944377925,
          0.1835183523000019,
          -1.5966870438332263,
          0.44522874299998944,
          0.6584567307528261,
          0.6650332813795531,
          0.2807839634292779,
          -0.29086894397778557,
          0.16752877630439322,
          1.9770173482802893,
          -2.8154582401712154,
          -0.9829856709848566,
          -0.00827771127849985,
          0.16148652501732152,
          2.319848288689466,
          1.022424591320778,
          2.446730447840035,
          -0.5276727460407082,
          -0.4206033582273582,
          -1.8277275907138832,
          0.014979298168371534,
          0.7821409129741059,
          -0.6683656546714996,
          -2.8509032306340627,
          -0.2554547617448989,
          0.6031621488581722,
          -1.8720737192452415,
          -2.2039356896415576,
          1.1354713474057998,
          -1.3147837122357673,
          0.08847860993731024,
          0.5434300304313257,
          -1.9624730325797959,
          -0.7335728844338252,
          -0.7602415933637703,
          -2.478504024403525,
          -2.043359504359485,
          0.07229925889259052,
          0.8223533915753203,
          0.7541898582279355,
          -0.8457042031941514,
          -2.0806587994267742,
          -0.33255328325872824,
          1.1100669481856251,
          0.8590167189662465,
          -0.5954983458201378,
          -0.09732296749624923,
          -0.24106644629353324,
          -0.921362500994098,
          0.7250079654355328,
          -0.7511631767920098,
          0.5235530857383306,
          0.9304102996787895,
          1.1013735671223808,
          2.144674046199205,
          0.06923107230228003,
          1.8428871518189849,
          0.4982298687939204,
          0.19661617252683,
          0.23266766393126748,
          1.4061128071516085,
          0.8462385703859491,
          0.6549491598459045,
          0.439385154094097,
          -2.501445480519395,
          0.045409052141403054,
          0.7869651058984805,
          -1.1339156708019669,
          -0.43148029590986947,
          0.6465899085984634,
          0.3408739471603276,
          -0.7613374448109137,
          -0.09817614527629241,
          -0.7309778541053539,
          -0.07818344318158707,
          -0.4731780226773017,
          0.8875564238258683,
          0.35454221858793916,
          0.6044883944756151,
          -0.8547303972785114,
          0.40388289163412455,
          1.1952818174880846,
          1.761384365862785,
          -0.3538293908999642,
          -0.6913216824668283,
          0.8986854351831924,
          0.2494784614208996,
          -0.40344347187061447
         ]
        }
       ],
       "layout": {
        "legend": {
         "bgcolor": "#F5F6F9",
         "font": {
          "color": "#4D5663"
         }
        },
        "paper_bgcolor": "#F5F6F9",
        "plot_bgcolor": "#F5F6F9",
        "template": {
         "data": {
          "bar": [
           {
            "error_x": {
             "color": "#2a3f5f"
            },
            "error_y": {
             "color": "#2a3f5f"
            },
            "marker": {
             "line": {
              "color": "#E5ECF6",
              "width": 0.5
             },
             "pattern": {
              "fillmode": "overlay",
              "size": 10,
              "solidity": 0.2
             }
            },
            "type": "bar"
           }
          ],
          "barpolar": [
           {
            "marker": {
             "line": {
              "color": "#E5ECF6",
              "width": 0.5
             },
             "pattern": {
              "fillmode": "overlay",
              "size": 10,
              "solidity": 0.2
             }
            },
            "type": "barpolar"
           }
          ],
          "carpet": [
           {
            "aaxis": {
             "endlinecolor": "#2a3f5f",
             "gridcolor": "white",
             "linecolor": "white",
             "minorgridcolor": "white",
             "startlinecolor": "#2a3f5f"
            },
            "baxis": {
             "endlinecolor": "#2a3f5f",
             "gridcolor": "white",
             "linecolor": "white",
             "minorgridcolor": "white",
             "startlinecolor": "#2a3f5f"
            },
            "type": "carpet"
           }
          ],
          "choropleth": [
           {
            "colorbar": {
             "outlinewidth": 0,
             "ticks": ""
            },
            "type": "choropleth"
           }
          ],
          "contour": [
           {
            "colorbar": {
             "outlinewidth": 0,
             "ticks": ""
            },
            "colorscale": [
             [
              0,
              "#0d0887"
             ],
             [
              0.1111111111111111,
              "#46039f"
             ],
             [
              0.2222222222222222,
              "#7201a8"
             ],
             [
              0.3333333333333333,
              "#9c179e"
             ],
             [
              0.4444444444444444,
              "#bd3786"
             ],
             [
              0.5555555555555556,
              "#d8576b"
             ],
             [
              0.6666666666666666,
              "#ed7953"
             ],
             [
              0.7777777777777778,
              "#fb9f3a"
             ],
             [
              0.8888888888888888,
              "#fdca26"
             ],
             [
              1,
              "#f0f921"
             ]
            ],
            "type": "contour"
           }
          ],
          "contourcarpet": [
           {
            "colorbar": {
             "outlinewidth": 0,
             "ticks": ""
            },
            "type": "contourcarpet"
           }
          ],
          "heatmap": [
           {
            "colorbar": {
             "outlinewidth": 0,
             "ticks": ""
            },
            "colorscale": [
             [
              0,
              "#0d0887"
             ],
             [
              0.1111111111111111,
              "#46039f"
             ],
             [
              0.2222222222222222,
              "#7201a8"
             ],
             [
              0.3333333333333333,
              "#9c179e"
             ],
             [
              0.4444444444444444,
              "#bd3786"
             ],
             [
              0.5555555555555556,
              "#d8576b"
             ],
             [
              0.6666666666666666,
              "#ed7953"
             ],
             [
              0.7777777777777778,
              "#fb9f3a"
             ],
             [
              0.8888888888888888,
              "#fdca26"
             ],
             [
              1,
              "#f0f921"
             ]
            ],
            "type": "heatmap"
           }
          ],
          "heatmapgl": [
           {
            "colorbar": {
             "outlinewidth": 0,
             "ticks": ""
            },
            "colorscale": [
             [
              0,
              "#0d0887"
             ],
             [
              0.1111111111111111,
              "#46039f"
             ],
             [
              0.2222222222222222,
              "#7201a8"
             ],
             [
              0.3333333333333333,
              "#9c179e"
             ],
             [
              0.4444444444444444,
              "#bd3786"
             ],
             [
              0.5555555555555556,
              "#d8576b"
             ],
             [
              0.6666666666666666,
              "#ed7953"
             ],
             [
              0.7777777777777778,
              "#fb9f3a"
             ],
             [
              0.8888888888888888,
              "#fdca26"
             ],
             [
              1,
              "#f0f921"
             ]
            ],
            "type": "heatmapgl"
           }
          ],
          "histogram": [
           {
            "marker": {
             "pattern": {
              "fillmode": "overlay",
              "size": 10,
              "solidity": 0.2
             }
            },
            "type": "histogram"
           }
          ],
          "histogram2d": [
           {
            "colorbar": {
             "outlinewidth": 0,
             "ticks": ""
            },
            "colorscale": [
             [
              0,
              "#0d0887"
             ],
             [
              0.1111111111111111,
              "#46039f"
             ],
             [
              0.2222222222222222,
              "#7201a8"
             ],
             [
              0.3333333333333333,
              "#9c179e"
             ],
             [
              0.4444444444444444,
              "#bd3786"
             ],
             [
              0.5555555555555556,
              "#d8576b"
             ],
             [
              0.6666666666666666,
              "#ed7953"
             ],
             [
              0.7777777777777778,
              "#fb9f3a"
             ],
             [
              0.8888888888888888,
              "#fdca26"
             ],
             [
              1,
              "#f0f921"
             ]
            ],
            "type": "histogram2d"
           }
          ],
          "histogram2dcontour": [
           {
            "colorbar": {
             "outlinewidth": 0,
             "ticks": ""
            },
            "colorscale": [
             [
              0,
              "#0d0887"
             ],
             [
              0.1111111111111111,
              "#46039f"
             ],
             [
              0.2222222222222222,
              "#7201a8"
             ],
             [
              0.3333333333333333,
              "#9c179e"
             ],
             [
              0.4444444444444444,
              "#bd3786"
             ],
             [
              0.5555555555555556,
              "#d8576b"
             ],
             [
              0.6666666666666666,
              "#ed7953"
             ],
             [
              0.7777777777777778,
              "#fb9f3a"
             ],
             [
              0.8888888888888888,
              "#fdca26"
             ],
             [
              1,
              "#f0f921"
             ]
            ],
            "type": "histogram2dcontour"
           }
          ],
          "mesh3d": [
           {
            "colorbar": {
             "outlinewidth": 0,
             "ticks": ""
            },
            "type": "mesh3d"
           }
          ],
          "parcoords": [
           {
            "line": {
             "colorbar": {
              "outlinewidth": 0,
              "ticks": ""
             }
            },
            "type": "parcoords"
           }
          ],
          "pie": [
           {
            "automargin": true,
            "type": "pie"
           }
          ],
          "scatter": [
           {
            "fillpattern": {
             "fillmode": "overlay",
             "size": 10,
             "solidity": 0.2
            },
            "type": "scatter"
           }
          ],
          "scatter3d": [
           {
            "line": {
             "colorbar": {
              "outlinewidth": 0,
              "ticks": ""
             }
            },
            "marker": {
             "colorbar": {
              "outlinewidth": 0,
              "ticks": ""
             }
            },
            "type": "scatter3d"
           }
          ],
          "scattercarpet": [
           {
            "marker": {
             "colorbar": {
              "outlinewidth": 0,
              "ticks": ""
             }
            },
            "type": "scattercarpet"
           }
          ],
          "scattergeo": [
           {
            "marker": {
             "colorbar": {
              "outlinewidth": 0,
              "ticks": ""
             }
            },
            "type": "scattergeo"
           }
          ],
          "scattergl": [
           {
            "marker": {
             "colorbar": {
              "outlinewidth": 0,
              "ticks": ""
             }
            },
            "type": "scattergl"
           }
          ],
          "scattermapbox": [
           {
            "marker": {
             "colorbar": {
              "outlinewidth": 0,
              "ticks": ""
             }
            },
            "type": "scattermapbox"
           }
          ],
          "scatterpolar": [
           {
            "marker": {
             "colorbar": {
              "outlinewidth": 0,
              "ticks": ""
             }
            },
            "type": "scatterpolar"
           }
          ],
          "scatterpolargl": [
           {
            "marker": {
             "colorbar": {
              "outlinewidth": 0,
              "ticks": ""
             }
            },
            "type": "scatterpolargl"
           }
          ],
          "scatterternary": [
           {
            "marker": {
             "colorbar": {
              "outlinewidth": 0,
              "ticks": ""
             }
            },
            "type": "scatterternary"
           }
          ],
          "surface": [
           {
            "colorbar": {
             "outlinewidth": 0,
             "ticks": ""
            },
            "colorscale": [
             [
              0,
              "#0d0887"
             ],
             [
              0.1111111111111111,
              "#46039f"
             ],
             [
              0.2222222222222222,
              "#7201a8"
             ],
             [
              0.3333333333333333,
              "#9c179e"
             ],
             [
              0.4444444444444444,
              "#bd3786"
             ],
             [
              0.5555555555555556,
              "#d8576b"
             ],
             [
              0.6666666666666666,
              "#ed7953"
             ],
             [
              0.7777777777777778,
              "#fb9f3a"
             ],
             [
              0.8888888888888888,
              "#fdca26"
             ],
             [
              1,
              "#f0f921"
             ]
            ],
            "type": "surface"
           }
          ],
          "table": [
           {
            "cells": {
             "fill": {
              "color": "#EBF0F8"
             },
             "line": {
              "color": "white"
             }
            },
            "header": {
             "fill": {
              "color": "#C8D4E3"
             },
             "line": {
              "color": "white"
             }
            },
            "type": "table"
           }
          ]
         },
         "layout": {
          "annotationdefaults": {
           "arrowcolor": "#2a3f5f",
           "arrowhead": 0,
           "arrowwidth": 1
          },
          "autotypenumbers": "strict",
          "coloraxis": {
           "colorbar": {
            "outlinewidth": 0,
            "ticks": ""
           }
          },
          "colorscale": {
           "diverging": [
            [
             0,
             "#8e0152"
            ],
            [
             0.1,
             "#c51b7d"
            ],
            [
             0.2,
             "#de77ae"
            ],
            [
             0.3,
             "#f1b6da"
            ],
            [
             0.4,
             "#fde0ef"
            ],
            [
             0.5,
             "#f7f7f7"
            ],
            [
             0.6,
             "#e6f5d0"
            ],
            [
             0.7,
             "#b8e186"
            ],
            [
             0.8,
             "#7fbc41"
            ],
            [
             0.9,
             "#4d9221"
            ],
            [
             1,
             "#276419"
            ]
           ],
           "sequential": [
            [
             0,
             "#0d0887"
            ],
            [
             0.1111111111111111,
             "#46039f"
            ],
            [
             0.2222222222222222,
             "#7201a8"
            ],
            [
             0.3333333333333333,
             "#9c179e"
            ],
            [
             0.4444444444444444,
             "#bd3786"
            ],
            [
             0.5555555555555556,
             "#d8576b"
            ],
            [
             0.6666666666666666,
             "#ed7953"
            ],
            [
             0.7777777777777778,
             "#fb9f3a"
            ],
            [
             0.8888888888888888,
             "#fdca26"
            ],
            [
             1,
             "#f0f921"
            ]
           ],
           "sequentialminus": [
            [
             0,
             "#0d0887"
            ],
            [
             0.1111111111111111,
             "#46039f"
            ],
            [
             0.2222222222222222,
             "#7201a8"
            ],
            [
             0.3333333333333333,
             "#9c179e"
            ],
            [
             0.4444444444444444,
             "#bd3786"
            ],
            [
             0.5555555555555556,
             "#d8576b"
            ],
            [
             0.6666666666666666,
             "#ed7953"
            ],
            [
             0.7777777777777778,
             "#fb9f3a"
            ],
            [
             0.8888888888888888,
             "#fdca26"
            ],
            [
             1,
             "#f0f921"
            ]
           ]
          },
          "colorway": [
           "#636efa",
           "#EF553B",
           "#00cc96",
           "#ab63fa",
           "#FFA15A",
           "#19d3f3",
           "#FF6692",
           "#B6E880",
           "#FF97FF",
           "#FECB52"
          ],
          "font": {
           "color": "#2a3f5f"
          },
          "geo": {
           "bgcolor": "white",
           "lakecolor": "white",
           "landcolor": "#E5ECF6",
           "showlakes": true,
           "showland": true,
           "subunitcolor": "white"
          },
          "hoverlabel": {
           "align": "left"
          },
          "hovermode": "closest",
          "mapbox": {
           "style": "light"
          },
          "paper_bgcolor": "white",
          "plot_bgcolor": "#E5ECF6",
          "polar": {
           "angularaxis": {
            "gridcolor": "white",
            "linecolor": "white",
            "ticks": ""
           },
           "bgcolor": "#E5ECF6",
           "radialaxis": {
            "gridcolor": "white",
            "linecolor": "white",
            "ticks": ""
           }
          },
          "scene": {
           "xaxis": {
            "backgroundcolor": "#E5ECF6",
            "gridcolor": "white",
            "gridwidth": 2,
            "linecolor": "white",
            "showbackground": true,
            "ticks": "",
            "zerolinecolor": "white"
           },
           "yaxis": {
            "backgroundcolor": "#E5ECF6",
            "gridcolor": "white",
            "gridwidth": 2,
            "linecolor": "white",
            "showbackground": true,
            "ticks": "",
            "zerolinecolor": "white"
           },
           "zaxis": {
            "backgroundcolor": "#E5ECF6",
            "gridcolor": "white",
            "gridwidth": 2,
            "linecolor": "white",
            "showbackground": true,
            "ticks": "",
            "zerolinecolor": "white"
           }
          },
          "shapedefaults": {
           "line": {
            "color": "#2a3f5f"
           }
          },
          "ternary": {
           "aaxis": {
            "gridcolor": "white",
            "linecolor": "white",
            "ticks": ""
           },
           "baxis": {
            "gridcolor": "white",
            "linecolor": "white",
            "ticks": ""
           },
           "bgcolor": "#E5ECF6",
           "caxis": {
            "gridcolor": "white",
            "linecolor": "white",
            "ticks": ""
           }
          },
          "title": {
           "x": 0.05
          },
          "xaxis": {
           "automargin": true,
           "gridcolor": "white",
           "linecolor": "white",
           "ticks": "",
           "title": {
            "standoff": 15
           },
           "zerolinecolor": "white",
           "zerolinewidth": 2
          },
          "yaxis": {
           "automargin": true,
           "gridcolor": "white",
           "linecolor": "white",
           "ticks": "",
           "title": {
            "standoff": 15
           },
           "zerolinecolor": "white",
           "zerolinewidth": 2
          }
         }
        },
        "title": {
         "font": {
          "color": "#4D5663"
         }
        },
        "xaxis": {
         "gridcolor": "#E1E5ED",
         "showgrid": true,
         "tickfont": {
          "color": "#4D5663"
         },
         "title": {
          "font": {
           "color": "#4D5663"
          },
          "text": ""
         },
         "zerolinecolor": "#E1E5ED"
        },
        "yaxis": {
         "gridcolor": "#E1E5ED",
         "showgrid": true,
         "tickfont": {
          "color": "#4D5663"
         },
         "title": {
          "font": {
           "color": "#4D5663"
          },
          "text": ""
         },
         "zerolinecolor": "#E1E5ED"
        }
       }
      },
      "text/html": [
       "<div>                            <div id=\"65f04a7b-0ce3-4403-81dc-797184fbcd11\" class=\"plotly-graph-div\" style=\"height:525px; width:100%;\"></div>            <script type=\"text/javascript\">                require([\"plotly\"], function(Plotly) {                    window.PLOTLYENV=window.PLOTLYENV || {};\n",
       "                    window.PLOTLYENV.BASE_URL='https://plot.ly';                                    if (document.getElementById(\"65f04a7b-0ce3-4403-81dc-797184fbcd11\")) {                    Plotly.newPlot(                        \"65f04a7b-0ce3-4403-81dc-797184fbcd11\",                        [{\"line\":{\"color\":\"rgba(255, 153, 51, 1.0)\",\"dash\":\"solid\",\"shape\":\"linear\",\"width\":1.3},\"mode\":\"lines\",\"name\":\"A\",\"text\":\"\",\"x\":[0,1,2,3,4,5,6,7,8,9,10,11,12,13,14,15,16,17,18,19,20,21,22,23,24,25,26,27,28,29,30,31,32,33,34,35,36,37,38,39,40,41,42,43,44,45,46,47,48,49,50,51,52,53,54,55,56,57,58,59,60,61,62,63,64,65,66,67,68,69,70,71,72,73,74,75,76,77,78,79,80,81,82,83,84,85,86,87,88,89,90,91,92,93,94,95,96,97,98,99],\"y\":[0.963656208822238,1.1213805704854953,0.08117322059561863,0.9067501670920386,1.28908725845038,-0.8484788632427857,-0.8009485265222287,-0.13954698878550142,-0.4209938328140542,0.2837355152610227,-0.21272756966893616,1.7570408279670209,0.3550122841604106,1.30974406905139,0.2232155423907447,0.20225806270488592,0.4297931309428796,0.2710898356704665,1.2673150001525066,-0.28317420340831106,0.20613001876357961,0.4635201733939552,0.5460897413984124,0.12438837142487577,-0.3311450835685355,0.43842530680477404,1.0684047789837727,-0.6243736534857598,-1.1906662032404274,1.4656058483881402,0.16715588520722816,0.48360128610027264,1.0718721211795463,-0.24068377304579952,-0.8837940178049627,0.28414594957742983,0.18636052031088884,1.0554728665925521,0.24657908043205698,-0.255956079869308,0.07878204355354528,-1.1832024418880038,-0.3947053481469931,0.015051127698353848,-0.9273312434230097,-0.5904417385480116,-0.8248473181016788,-2.553642906404523,0.5853809835216754,0.07471667146690081,0.8078271481497611,2.0119568319081234,1.7051615445225863,0.3690781122530383,0.27207568986467,0.9429351698391747,0.8709196392545411,1.8881327097718632,-2.277236818278749,0.7641282663968877,-1.9210586871999982,0.6083480372818315,-1.7059804718374605,1.8390631369000259,0.47676559937164253,0.7951445119372802,0.7363841786006643,1.2801801668695012,-0.987315530991337,-0.7855382455137779,-1.5235664056893965,-0.8068782421283027,0.1899751266947658,-0.8176847491115944,-0.7588257659066171,0.7146591792126702,1.1389770375251385,-0.49140946806501906,0.3885375141880657,0.19210286916179659,-1.8674308759485234,0.2563319473019304,1.4141223099861748,1.5347206360501597,-1.094691314002368,-0.060435557199993446,0.2992179294797572,1.4510015729851962,0.38567992079704777,-1.8471002701272756,-0.2158731199529436,-0.3833111312088049,-2.0068888309777657,-0.548083205199428,0.6861555341365956,1.199667217838947,0.06831398795428081,-0.057601596970910905,0.3827056101028784,0.5691997438450976],\"type\":\"scatter\"},{\"line\":{\"color\":\"rgba(55, 128, 191, 1.0)\",\"dash\":\"solid\",\"shape\":\"linear\",\"width\":1.3},\"mode\":\"lines\",\"name\":\"B\",\"text\":\"\",\"x\":[0,1,2,3,4,5,6,7,8,9,10,11,12,13,14,15,16,17,18,19,20,21,22,23,24,25,26,27,28,29,30,31,32,33,34,35,36,37,38,39,40,41,42,43,44,45,46,47,48,49,50,51,52,53,54,55,56,57,58,59,60,61,62,63,64,65,66,67,68,69,70,71,72,73,74,75,76,77,78,79,80,81,82,83,84,85,86,87,88,89,90,91,92,93,94,95,96,97,98,99],\"y\":[1.0418607474294792,-1.4939672413762932,-0.02127901542430224,0.33292977024558157,1.1407436277450778,-0.3015660930492725,-0.0752865847187486,-1.009791743749023,-0.6974105177481036,-1.0778447312443185,0.21994773983594507,-1.2767378096491764,-0.4772520284876469,-0.13191693638288507,-0.8840497936830316,0.43491378665196123,1.237780885733663,-0.7372283644576442,-0.11267970353145566,-1.637025903877696,-0.8643009602442039,-1.170864879740225,0.8657447067108397,-1.3316471625112472,0.27930606940491254,0.1010548787720902,0.7014020947179823,0.8115916437019352,0.9534863463399055,-0.17974376572600015,0.15539942126823825,0.12563065884091904,-0.6983132119953138,-0.8557269377205827,-1.1114678483065996,1.6267980935814845,0.10835953580183216,-0.724885465855628,-0.13014748543449164,0.02635813457746775,-0.10731405448780107,0.9394176236033902,0.8852004040890421,0.8837667760803889,-0.6827153117408953,-0.9093724172772358,0.5777482827305919,0.1320824276129593,0.051752566935829254,2.2294346148078286,-0.3450934390030509,0.1620081871920339,0.22742137414734556,0.53465876620935,0.7992154964793429,-1.3109197447319967,-1.8881307729462076,2.130605406350455,-0.031583068295145504,0.5445342145696391,-0.3836665294064964,-0.8276744278807356,1.5347897785141216,-0.10205298921735546,-0.9931249156241323,0.6784877290695253,0.6442290539833533,0.22188261861927183,0.658824210911803,0.4725016736628034,-0.5884114772778922,-0.868227094420527,-1.3615134352744052,1.092930344226626,-0.13734327442278882,-1.3246769110560028,-0.6863100288573838,0.2900951740060484,-0.7262357878917776,-1.5393687384063548,-0.6345124844359458,1.0511810398400365,-0.32552486870352804,0.46721489635640734,1.2701651157118028,0.821796041357051,-1.3530062245164303,-0.6629088380930819,0.8386510462005943,-0.10769881867698582,0.18586510865496922,0.0027232401253373915,-2.1003147011287964,0.19799553908870476,0.5799814202834371,-1.1775863243324383,0.748291680102528,0.2145327190535425,0.10937980687552407,-0.3629526709313861],\"type\":\"scatter\"},{\"line\":{\"color\":\"rgba(50, 171, 96, 1.0)\",\"dash\":\"solid\",\"shape\":\"linear\",\"width\":1.3},\"mode\":\"lines\",\"name\":\"C\",\"text\":\"\",\"x\":[0,1,2,3,4,5,6,7,8,9,10,11,12,13,14,15,16,17,18,19,20,21,22,23,24,25,26,27,28,29,30,31,32,33,34,35,36,37,38,39,40,41,42,43,44,45,46,47,48,49,50,51,52,53,54,55,56,57,58,59,60,61,62,63,64,65,66,67,68,69,70,71,72,73,74,75,76,77,78,79,80,81,82,83,84,85,86,87,88,89,90,91,92,93,94,95,96,97,98,99],\"y\":[1.9684685598255098,0.8865735701165786,-0.9282924703857871,0.0864231738857163,-0.17851496705340106,0.8941201736951061,-1.767757746744734,-0.9029257916222327,-0.15040689632672258,0.3608236978003134,-2.3993756008061955,-0.483640402637199,2.453497287095231,0.2886471123783374,0.4789224073967982,1.8868787058240575,-0.7069821240099842,0.9364960925054092,-0.11826593254370696,-1.2466608150509335,0.5835449052351525,-0.7856053542283987,-1.402302566540273,1.3852800062444897,0.5641183370922549,0.8809989823072313,-0.2316988475498588,0.9588801018246939,-1.8023754339085756,1.3856050832892777,0.2889566018572497,-2.2912515772536093,1.2338406432349927,-0.37060434083404203,-1.115233219161336,0.04673985612202292,0.0942462710028508,-0.13839475415973518,-0.09718950720666848,0.24901537761553835,0.9108528097216493,-0.5528486250284738,0.1437258643037152,1.2368565085155692,0.11806071227737899,-0.6915685444367112,0.6893681392468275,-2.1930493530215243,-0.9934789592227896,-0.6189689820317923,-0.8698092136412182,0.8003318888279906,-0.5982506634931678,-0.7890609206749534,-0.6548147871758787,0.5587927372009642,0.27255474613842035,1.0925266720615479,1.3392761253917005,0.1065019292120311,-1.1867386077150974,1.78632170548558,-0.02624061741045453,-1.1556722058561715,0.07704352120398042,-0.22053430872375845,2.5042220859217554,0.2355109428038429,0.1805691839545755,1.641624590650236,0.9246325724024335,-0.0517173982740807,-1.6078788351856876,-0.673781299334335,-0.11875226070443112,-1.1803330927190678,-0.6051380566023823,1.3120299005977665,-1.586753953775392,1.0494361893220578,0.8185429666565787,0.0796582520338552,0.8785869617159295,-1.3860246585946714,0.4098334039689942,2.026756298055897,-2.341265735162529,1.0423930455611918,1.7745715730437097,-0.7451216801801956,0.13019025491771619,0.6720981517354053,1.2143690393829878,-0.6817286989667747,1.7765429487539386,-0.24465282170560929,1.1093476031534293,3.462655523208048,-0.4175023099069305,0.1293918215907214],\"type\":\"scatter\"},{\"line\":{\"color\":\"rgba(128, 0, 128, 1.0)\",\"dash\":\"solid\",\"shape\":\"linear\",\"width\":1.3},\"mode\":\"lines\",\"name\":\"D\",\"text\":\"\",\"x\":[0,1,2,3,4,5,6,7,8,9,10,11,12,13,14,15,16,17,18,19,20,21,22,23,24,25,26,27,28,29,30,31,32,33,34,35,36,37,38,39,40,41,42,43,44,45,46,47,48,49,50,51,52,53,54,55,56,57,58,59,60,61,62,63,64,65,66,67,68,69,70,71,72,73,74,75,76,77,78,79,80,81,82,83,84,85,86,87,88,89,90,91,92,93,94,95,96,97,98,99],\"y\":[1.6630337650354345,0.07550432297170971,-0.5973245468599844,-1.657449860204015,0.05280375575287506,-0.015347519964781276,-0.823066509767297,-1.2865818271926146,-0.20465223602492458,1.4326116078768383,1.715349653593688,1.8332783984371763,0.10489256944377925,0.1835183523000019,-1.5966870438332263,0.44522874299998944,0.6584567307528261,0.6650332813795531,0.2807839634292779,-0.29086894397778557,0.16752877630439322,1.9770173482802893,-2.8154582401712154,-0.9829856709848566,-0.00827771127849985,0.16148652501732152,2.319848288689466,1.022424591320778,2.446730447840035,-0.5276727460407082,-0.4206033582273582,-1.8277275907138832,0.014979298168371534,0.7821409129741059,-0.6683656546714996,-2.8509032306340627,-0.2554547617448989,0.6031621488581722,-1.8720737192452415,-2.2039356896415576,1.1354713474057998,-1.3147837122357673,0.08847860993731024,0.5434300304313257,-1.9624730325797959,-0.7335728844338252,-0.7602415933637703,-2.478504024403525,-2.043359504359485,0.07229925889259052,0.8223533915753203,0.7541898582279355,-0.8457042031941514,-2.0806587994267742,-0.33255328325872824,1.1100669481856251,0.8590167189662465,-0.5954983458201378,-0.09732296749624923,-0.24106644629353324,-0.921362500994098,0.7250079654355328,-0.7511631767920098,0.5235530857383306,0.9304102996787895,1.1013735671223808,2.144674046199205,0.06923107230228003,1.8428871518189849,0.4982298687939204,0.19661617252683,0.23266766393126748,1.4061128071516085,0.8462385703859491,0.6549491598459045,0.439385154094097,-2.501445480519395,0.045409052141403054,0.7869651058984805,-1.1339156708019669,-0.43148029590986947,0.6465899085984634,0.3408739471603276,-0.7613374448109137,-0.09817614527629241,-0.7309778541053539,-0.07818344318158707,-0.4731780226773017,0.8875564238258683,0.35454221858793916,0.6044883944756151,-0.8547303972785114,0.40388289163412455,1.1952818174880846,1.761384365862785,-0.3538293908999642,-0.6913216824668283,0.8986854351831924,0.2494784614208996,-0.40344347187061447],\"type\":\"scatter\"}],                        {\"legend\":{\"bgcolor\":\"#F5F6F9\",\"font\":{\"color\":\"#4D5663\"}},\"paper_bgcolor\":\"#F5F6F9\",\"plot_bgcolor\":\"#F5F6F9\",\"template\":{\"data\":{\"barpolar\":[{\"marker\":{\"line\":{\"color\":\"#E5ECF6\",\"width\":0.5},\"pattern\":{\"fillmode\":\"overlay\",\"size\":10,\"solidity\":0.2}},\"type\":\"barpolar\"}],\"bar\":[{\"error_x\":{\"color\":\"#2a3f5f\"},\"error_y\":{\"color\":\"#2a3f5f\"},\"marker\":{\"line\":{\"color\":\"#E5ECF6\",\"width\":0.5},\"pattern\":{\"fillmode\":\"overlay\",\"size\":10,\"solidity\":0.2}},\"type\":\"bar\"}],\"carpet\":[{\"aaxis\":{\"endlinecolor\":\"#2a3f5f\",\"gridcolor\":\"white\",\"linecolor\":\"white\",\"minorgridcolor\":\"white\",\"startlinecolor\":\"#2a3f5f\"},\"baxis\":{\"endlinecolor\":\"#2a3f5f\",\"gridcolor\":\"white\",\"linecolor\":\"white\",\"minorgridcolor\":\"white\",\"startlinecolor\":\"#2a3f5f\"},\"type\":\"carpet\"}],\"choropleth\":[{\"colorbar\":{\"outlinewidth\":0,\"ticks\":\"\"},\"type\":\"choropleth\"}],\"contourcarpet\":[{\"colorbar\":{\"outlinewidth\":0,\"ticks\":\"\"},\"type\":\"contourcarpet\"}],\"contour\":[{\"colorbar\":{\"outlinewidth\":0,\"ticks\":\"\"},\"colorscale\":[[0.0,\"#0d0887\"],[0.1111111111111111,\"#46039f\"],[0.2222222222222222,\"#7201a8\"],[0.3333333333333333,\"#9c179e\"],[0.4444444444444444,\"#bd3786\"],[0.5555555555555556,\"#d8576b\"],[0.6666666666666666,\"#ed7953\"],[0.7777777777777778,\"#fb9f3a\"],[0.8888888888888888,\"#fdca26\"],[1.0,\"#f0f921\"]],\"type\":\"contour\"}],\"heatmapgl\":[{\"colorbar\":{\"outlinewidth\":0,\"ticks\":\"\"},\"colorscale\":[[0.0,\"#0d0887\"],[0.1111111111111111,\"#46039f\"],[0.2222222222222222,\"#7201a8\"],[0.3333333333333333,\"#9c179e\"],[0.4444444444444444,\"#bd3786\"],[0.5555555555555556,\"#d8576b\"],[0.6666666666666666,\"#ed7953\"],[0.7777777777777778,\"#fb9f3a\"],[0.8888888888888888,\"#fdca26\"],[1.0,\"#f0f921\"]],\"type\":\"heatmapgl\"}],\"heatmap\":[{\"colorbar\":{\"outlinewidth\":0,\"ticks\":\"\"},\"colorscale\":[[0.0,\"#0d0887\"],[0.1111111111111111,\"#46039f\"],[0.2222222222222222,\"#7201a8\"],[0.3333333333333333,\"#9c179e\"],[0.4444444444444444,\"#bd3786\"],[0.5555555555555556,\"#d8576b\"],[0.6666666666666666,\"#ed7953\"],[0.7777777777777778,\"#fb9f3a\"],[0.8888888888888888,\"#fdca26\"],[1.0,\"#f0f921\"]],\"type\":\"heatmap\"}],\"histogram2dcontour\":[{\"colorbar\":{\"outlinewidth\":0,\"ticks\":\"\"},\"colorscale\":[[0.0,\"#0d0887\"],[0.1111111111111111,\"#46039f\"],[0.2222222222222222,\"#7201a8\"],[0.3333333333333333,\"#9c179e\"],[0.4444444444444444,\"#bd3786\"],[0.5555555555555556,\"#d8576b\"],[0.6666666666666666,\"#ed7953\"],[0.7777777777777778,\"#fb9f3a\"],[0.8888888888888888,\"#fdca26\"],[1.0,\"#f0f921\"]],\"type\":\"histogram2dcontour\"}],\"histogram2d\":[{\"colorbar\":{\"outlinewidth\":0,\"ticks\":\"\"},\"colorscale\":[[0.0,\"#0d0887\"],[0.1111111111111111,\"#46039f\"],[0.2222222222222222,\"#7201a8\"],[0.3333333333333333,\"#9c179e\"],[0.4444444444444444,\"#bd3786\"],[0.5555555555555556,\"#d8576b\"],[0.6666666666666666,\"#ed7953\"],[0.7777777777777778,\"#fb9f3a\"],[0.8888888888888888,\"#fdca26\"],[1.0,\"#f0f921\"]],\"type\":\"histogram2d\"}],\"histogram\":[{\"marker\":{\"pattern\":{\"fillmode\":\"overlay\",\"size\":10,\"solidity\":0.2}},\"type\":\"histogram\"}],\"mesh3d\":[{\"colorbar\":{\"outlinewidth\":0,\"ticks\":\"\"},\"type\":\"mesh3d\"}],\"parcoords\":[{\"line\":{\"colorbar\":{\"outlinewidth\":0,\"ticks\":\"\"}},\"type\":\"parcoords\"}],\"pie\":[{\"automargin\":true,\"type\":\"pie\"}],\"scatter3d\":[{\"line\":{\"colorbar\":{\"outlinewidth\":0,\"ticks\":\"\"}},\"marker\":{\"colorbar\":{\"outlinewidth\":0,\"ticks\":\"\"}},\"type\":\"scatter3d\"}],\"scattercarpet\":[{\"marker\":{\"colorbar\":{\"outlinewidth\":0,\"ticks\":\"\"}},\"type\":\"scattercarpet\"}],\"scattergeo\":[{\"marker\":{\"colorbar\":{\"outlinewidth\":0,\"ticks\":\"\"}},\"type\":\"scattergeo\"}],\"scattergl\":[{\"marker\":{\"colorbar\":{\"outlinewidth\":0,\"ticks\":\"\"}},\"type\":\"scattergl\"}],\"scattermapbox\":[{\"marker\":{\"colorbar\":{\"outlinewidth\":0,\"ticks\":\"\"}},\"type\":\"scattermapbox\"}],\"scatterpolargl\":[{\"marker\":{\"colorbar\":{\"outlinewidth\":0,\"ticks\":\"\"}},\"type\":\"scatterpolargl\"}],\"scatterpolar\":[{\"marker\":{\"colorbar\":{\"outlinewidth\":0,\"ticks\":\"\"}},\"type\":\"scatterpolar\"}],\"scatter\":[{\"fillpattern\":{\"fillmode\":\"overlay\",\"size\":10,\"solidity\":0.2},\"type\":\"scatter\"}],\"scatterternary\":[{\"marker\":{\"colorbar\":{\"outlinewidth\":0,\"ticks\":\"\"}},\"type\":\"scatterternary\"}],\"surface\":[{\"colorbar\":{\"outlinewidth\":0,\"ticks\":\"\"},\"colorscale\":[[0.0,\"#0d0887\"],[0.1111111111111111,\"#46039f\"],[0.2222222222222222,\"#7201a8\"],[0.3333333333333333,\"#9c179e\"],[0.4444444444444444,\"#bd3786\"],[0.5555555555555556,\"#d8576b\"],[0.6666666666666666,\"#ed7953\"],[0.7777777777777778,\"#fb9f3a\"],[0.8888888888888888,\"#fdca26\"],[1.0,\"#f0f921\"]],\"type\":\"surface\"}],\"table\":[{\"cells\":{\"fill\":{\"color\":\"#EBF0F8\"},\"line\":{\"color\":\"white\"}},\"header\":{\"fill\":{\"color\":\"#C8D4E3\"},\"line\":{\"color\":\"white\"}},\"type\":\"table\"}]},\"layout\":{\"annotationdefaults\":{\"arrowcolor\":\"#2a3f5f\",\"arrowhead\":0,\"arrowwidth\":1},\"autotypenumbers\":\"strict\",\"coloraxis\":{\"colorbar\":{\"outlinewidth\":0,\"ticks\":\"\"}},\"colorscale\":{\"diverging\":[[0,\"#8e0152\"],[0.1,\"#c51b7d\"],[0.2,\"#de77ae\"],[0.3,\"#f1b6da\"],[0.4,\"#fde0ef\"],[0.5,\"#f7f7f7\"],[0.6,\"#e6f5d0\"],[0.7,\"#b8e186\"],[0.8,\"#7fbc41\"],[0.9,\"#4d9221\"],[1,\"#276419\"]],\"sequential\":[[0.0,\"#0d0887\"],[0.1111111111111111,\"#46039f\"],[0.2222222222222222,\"#7201a8\"],[0.3333333333333333,\"#9c179e\"],[0.4444444444444444,\"#bd3786\"],[0.5555555555555556,\"#d8576b\"],[0.6666666666666666,\"#ed7953\"],[0.7777777777777778,\"#fb9f3a\"],[0.8888888888888888,\"#fdca26\"],[1.0,\"#f0f921\"]],\"sequentialminus\":[[0.0,\"#0d0887\"],[0.1111111111111111,\"#46039f\"],[0.2222222222222222,\"#7201a8\"],[0.3333333333333333,\"#9c179e\"],[0.4444444444444444,\"#bd3786\"],[0.5555555555555556,\"#d8576b\"],[0.6666666666666666,\"#ed7953\"],[0.7777777777777778,\"#fb9f3a\"],[0.8888888888888888,\"#fdca26\"],[1.0,\"#f0f921\"]]},\"colorway\":[\"#636efa\",\"#EF553B\",\"#00cc96\",\"#ab63fa\",\"#FFA15A\",\"#19d3f3\",\"#FF6692\",\"#B6E880\",\"#FF97FF\",\"#FECB52\"],\"font\":{\"color\":\"#2a3f5f\"},\"geo\":{\"bgcolor\":\"white\",\"lakecolor\":\"white\",\"landcolor\":\"#E5ECF6\",\"showlakes\":true,\"showland\":true,\"subunitcolor\":\"white\"},\"hoverlabel\":{\"align\":\"left\"},\"hovermode\":\"closest\",\"mapbox\":{\"style\":\"light\"},\"paper_bgcolor\":\"white\",\"plot_bgcolor\":\"#E5ECF6\",\"polar\":{\"angularaxis\":{\"gridcolor\":\"white\",\"linecolor\":\"white\",\"ticks\":\"\"},\"bgcolor\":\"#E5ECF6\",\"radialaxis\":{\"gridcolor\":\"white\",\"linecolor\":\"white\",\"ticks\":\"\"}},\"scene\":{\"xaxis\":{\"backgroundcolor\":\"#E5ECF6\",\"gridcolor\":\"white\",\"gridwidth\":2,\"linecolor\":\"white\",\"showbackground\":true,\"ticks\":\"\",\"zerolinecolor\":\"white\"},\"yaxis\":{\"backgroundcolor\":\"#E5ECF6\",\"gridcolor\":\"white\",\"gridwidth\":2,\"linecolor\":\"white\",\"showbackground\":true,\"ticks\":\"\",\"zerolinecolor\":\"white\"},\"zaxis\":{\"backgroundcolor\":\"#E5ECF6\",\"gridcolor\":\"white\",\"gridwidth\":2,\"linecolor\":\"white\",\"showbackground\":true,\"ticks\":\"\",\"zerolinecolor\":\"white\"}},\"shapedefaults\":{\"line\":{\"color\":\"#2a3f5f\"}},\"ternary\":{\"aaxis\":{\"gridcolor\":\"white\",\"linecolor\":\"white\",\"ticks\":\"\"},\"baxis\":{\"gridcolor\":\"white\",\"linecolor\":\"white\",\"ticks\":\"\"},\"bgcolor\":\"#E5ECF6\",\"caxis\":{\"gridcolor\":\"white\",\"linecolor\":\"white\",\"ticks\":\"\"}},\"title\":{\"x\":0.05},\"xaxis\":{\"automargin\":true,\"gridcolor\":\"white\",\"linecolor\":\"white\",\"ticks\":\"\",\"title\":{\"standoff\":15},\"zerolinecolor\":\"white\",\"zerolinewidth\":2},\"yaxis\":{\"automargin\":true,\"gridcolor\":\"white\",\"linecolor\":\"white\",\"ticks\":\"\",\"title\":{\"standoff\":15},\"zerolinecolor\":\"white\",\"zerolinewidth\":2}}},\"title\":{\"font\":{\"color\":\"#4D5663\"}},\"xaxis\":{\"gridcolor\":\"#E1E5ED\",\"showgrid\":true,\"tickfont\":{\"color\":\"#4D5663\"},\"title\":{\"font\":{\"color\":\"#4D5663\"},\"text\":\"\"},\"zerolinecolor\":\"#E1E5ED\"},\"yaxis\":{\"gridcolor\":\"#E1E5ED\",\"showgrid\":true,\"tickfont\":{\"color\":\"#4D5663\"},\"title\":{\"font\":{\"color\":\"#4D5663\"},\"text\":\"\"},\"zerolinecolor\":\"#E1E5ED\"}},                        {\"showLink\": true, \"linkText\": \"Export to plot.ly\", \"plotlyServerURL\": \"https://plot.ly\", \"responsive\": true}                    ).then(function(){\n",
       "                            \n",
       "var gd = document.getElementById('65f04a7b-0ce3-4403-81dc-797184fbcd11');\n",
       "var x = new MutationObserver(function (mutations, observer) {{\n",
       "        var display = window.getComputedStyle(gd).display;\n",
       "        if (!display || display === 'none') {{\n",
       "            console.log([gd, 'removed!']);\n",
       "            Plotly.purge(gd);\n",
       "            observer.disconnect();\n",
       "        }}\n",
       "}});\n",
       "\n",
       "// Listen for the removal of the full notebook cells\n",
       "var notebookContainer = gd.closest('#notebook-container');\n",
       "if (notebookContainer) {{\n",
       "    x.observe(notebookContainer, {childList: true});\n",
       "}}\n",
       "\n",
       "// Listen for the clearing of the current output cell\n",
       "var outputEl = gd.closest('.output');\n",
       "if (outputEl) {{\n",
       "    x.observe(outputEl, {childList: true});\n",
       "}}\n",
       "\n",
       "                        })                };                });            </script>        </div>"
      ]
     },
     "metadata": {},
     "output_type": "display_data"
    }
   ],
   "source": [
    "df.iplot() # interactive visualisation. "
   ]
  },
  {
   "cell_type": "code",
   "execution_count": 31,
   "id": "33d97a33",
   "metadata": {},
   "outputs": [
    {
     "data": {
      "application/vnd.plotly.v1+json": {
       "config": {
        "linkText": "Export to plot.ly",
        "plotlyServerURL": "https://plot.ly",
        "showLink": true
       },
       "data": [
        {
         "line": {
          "color": "rgba(255, 153, 51, 1.0)",
          "dash": "solid",
          "shape": "linear",
          "width": 1.3
         },
         "marker": {
          "size": 12,
          "symbol": "circle"
         },
         "mode": "markers",
         "name": "B",
         "text": "",
         "type": "scatter",
         "x": [
          0.963656208822238,
          1.1213805704854953,
          0.08117322059561863,
          0.9067501670920386,
          1.28908725845038,
          -0.8484788632427857,
          -0.8009485265222287,
          -0.13954698878550142,
          -0.4209938328140542,
          0.2837355152610227,
          -0.21272756966893616,
          1.7570408279670209,
          0.3550122841604106,
          1.30974406905139,
          0.2232155423907447,
          0.20225806270488592,
          0.4297931309428796,
          0.2710898356704665,
          1.2673150001525066,
          -0.28317420340831106,
          0.20613001876357961,
          0.4635201733939552,
          0.5460897413984124,
          0.12438837142487577,
          -0.3311450835685355,
          0.43842530680477404,
          1.0684047789837727,
          -0.6243736534857598,
          -1.1906662032404274,
          1.4656058483881402,
          0.16715588520722816,
          0.48360128610027264,
          1.0718721211795463,
          -0.24068377304579952,
          -0.8837940178049627,
          0.28414594957742983,
          0.18636052031088884,
          1.0554728665925521,
          0.24657908043205698,
          -0.255956079869308,
          0.07878204355354528,
          -1.1832024418880038,
          -0.3947053481469931,
          0.015051127698353848,
          -0.9273312434230097,
          -0.5904417385480116,
          -0.8248473181016788,
          -2.553642906404523,
          0.5853809835216754,
          0.07471667146690081,
          0.8078271481497611,
          2.0119568319081234,
          1.7051615445225863,
          0.3690781122530383,
          0.27207568986467,
          0.9429351698391747,
          0.8709196392545411,
          1.8881327097718632,
          -2.277236818278749,
          0.7641282663968877,
          -1.9210586871999982,
          0.6083480372818315,
          -1.7059804718374605,
          1.8390631369000259,
          0.47676559937164253,
          0.7951445119372802,
          0.7363841786006643,
          1.2801801668695012,
          -0.987315530991337,
          -0.7855382455137779,
          -1.5235664056893965,
          -0.8068782421283027,
          0.1899751266947658,
          -0.8176847491115944,
          -0.7588257659066171,
          0.7146591792126702,
          1.1389770375251385,
          -0.49140946806501906,
          0.3885375141880657,
          0.19210286916179659,
          -1.8674308759485234,
          0.2563319473019304,
          1.4141223099861748,
          1.5347206360501597,
          -1.094691314002368,
          -0.060435557199993446,
          0.2992179294797572,
          1.4510015729851962,
          0.38567992079704777,
          -1.8471002701272756,
          -0.2158731199529436,
          -0.3833111312088049,
          -2.0068888309777657,
          -0.548083205199428,
          0.6861555341365956,
          1.199667217838947,
          0.06831398795428081,
          -0.057601596970910905,
          0.3827056101028784,
          0.5691997438450976
         ],
         "y": [
          1.0418607474294792,
          -1.4939672413762932,
          -0.02127901542430224,
          0.33292977024558157,
          1.1407436277450778,
          -0.3015660930492725,
          -0.0752865847187486,
          -1.009791743749023,
          -0.6974105177481036,
          -1.0778447312443185,
          0.21994773983594507,
          -1.2767378096491764,
          -0.4772520284876469,
          -0.13191693638288507,
          -0.8840497936830316,
          0.43491378665196123,
          1.237780885733663,
          -0.7372283644576442,
          -0.11267970353145566,
          -1.637025903877696,
          -0.8643009602442039,
          -1.170864879740225,
          0.8657447067108397,
          -1.3316471625112472,
          0.27930606940491254,
          0.1010548787720902,
          0.7014020947179823,
          0.8115916437019352,
          0.9534863463399055,
          -0.17974376572600015,
          0.15539942126823825,
          0.12563065884091904,
          -0.6983132119953138,
          -0.8557269377205827,
          -1.1114678483065996,
          1.6267980935814845,
          0.10835953580183216,
          -0.724885465855628,
          -0.13014748543449164,
          0.02635813457746775,
          -0.10731405448780107,
          0.9394176236033902,
          0.8852004040890421,
          0.8837667760803889,
          -0.6827153117408953,
          -0.9093724172772358,
          0.5777482827305919,
          0.1320824276129593,
          0.051752566935829254,
          2.2294346148078286,
          -0.3450934390030509,
          0.1620081871920339,
          0.22742137414734556,
          0.53465876620935,
          0.7992154964793429,
          -1.3109197447319967,
          -1.8881307729462076,
          2.130605406350455,
          -0.031583068295145504,
          0.5445342145696391,
          -0.3836665294064964,
          -0.8276744278807356,
          1.5347897785141216,
          -0.10205298921735546,
          -0.9931249156241323,
          0.6784877290695253,
          0.6442290539833533,
          0.22188261861927183,
          0.658824210911803,
          0.4725016736628034,
          -0.5884114772778922,
          -0.868227094420527,
          -1.3615134352744052,
          1.092930344226626,
          -0.13734327442278882,
          -1.3246769110560028,
          -0.6863100288573838,
          0.2900951740060484,
          -0.7262357878917776,
          -1.5393687384063548,
          -0.6345124844359458,
          1.0511810398400365,
          -0.32552486870352804,
          0.46721489635640734,
          1.2701651157118028,
          0.821796041357051,
          -1.3530062245164303,
          -0.6629088380930819,
          0.8386510462005943,
          -0.10769881867698582,
          0.18586510865496922,
          0.0027232401253373915,
          -2.1003147011287964,
          0.19799553908870476,
          0.5799814202834371,
          -1.1775863243324383,
          0.748291680102528,
          0.2145327190535425,
          0.10937980687552407,
          -0.3629526709313861
         ]
        }
       ],
       "layout": {
        "legend": {
         "bgcolor": "#F5F6F9",
         "font": {
          "color": "#4D5663"
         }
        },
        "paper_bgcolor": "#F5F6F9",
        "plot_bgcolor": "#F5F6F9",
        "template": {
         "data": {
          "bar": [
           {
            "error_x": {
             "color": "#2a3f5f"
            },
            "error_y": {
             "color": "#2a3f5f"
            },
            "marker": {
             "line": {
              "color": "#E5ECF6",
              "width": 0.5
             },
             "pattern": {
              "fillmode": "overlay",
              "size": 10,
              "solidity": 0.2
             }
            },
            "type": "bar"
           }
          ],
          "barpolar": [
           {
            "marker": {
             "line": {
              "color": "#E5ECF6",
              "width": 0.5
             },
             "pattern": {
              "fillmode": "overlay",
              "size": 10,
              "solidity": 0.2
             }
            },
            "type": "barpolar"
           }
          ],
          "carpet": [
           {
            "aaxis": {
             "endlinecolor": "#2a3f5f",
             "gridcolor": "white",
             "linecolor": "white",
             "minorgridcolor": "white",
             "startlinecolor": "#2a3f5f"
            },
            "baxis": {
             "endlinecolor": "#2a3f5f",
             "gridcolor": "white",
             "linecolor": "white",
             "minorgridcolor": "white",
             "startlinecolor": "#2a3f5f"
            },
            "type": "carpet"
           }
          ],
          "choropleth": [
           {
            "colorbar": {
             "outlinewidth": 0,
             "ticks": ""
            },
            "type": "choropleth"
           }
          ],
          "contour": [
           {
            "colorbar": {
             "outlinewidth": 0,
             "ticks": ""
            },
            "colorscale": [
             [
              0,
              "#0d0887"
             ],
             [
              0.1111111111111111,
              "#46039f"
             ],
             [
              0.2222222222222222,
              "#7201a8"
             ],
             [
              0.3333333333333333,
              "#9c179e"
             ],
             [
              0.4444444444444444,
              "#bd3786"
             ],
             [
              0.5555555555555556,
              "#d8576b"
             ],
             [
              0.6666666666666666,
              "#ed7953"
             ],
             [
              0.7777777777777778,
              "#fb9f3a"
             ],
             [
              0.8888888888888888,
              "#fdca26"
             ],
             [
              1,
              "#f0f921"
             ]
            ],
            "type": "contour"
           }
          ],
          "contourcarpet": [
           {
            "colorbar": {
             "outlinewidth": 0,
             "ticks": ""
            },
            "type": "contourcarpet"
           }
          ],
          "heatmap": [
           {
            "colorbar": {
             "outlinewidth": 0,
             "ticks": ""
            },
            "colorscale": [
             [
              0,
              "#0d0887"
             ],
             [
              0.1111111111111111,
              "#46039f"
             ],
             [
              0.2222222222222222,
              "#7201a8"
             ],
             [
              0.3333333333333333,
              "#9c179e"
             ],
             [
              0.4444444444444444,
              "#bd3786"
             ],
             [
              0.5555555555555556,
              "#d8576b"
             ],
             [
              0.6666666666666666,
              "#ed7953"
             ],
             [
              0.7777777777777778,
              "#fb9f3a"
             ],
             [
              0.8888888888888888,
              "#fdca26"
             ],
             [
              1,
              "#f0f921"
             ]
            ],
            "type": "heatmap"
           }
          ],
          "heatmapgl": [
           {
            "colorbar": {
             "outlinewidth": 0,
             "ticks": ""
            },
            "colorscale": [
             [
              0,
              "#0d0887"
             ],
             [
              0.1111111111111111,
              "#46039f"
             ],
             [
              0.2222222222222222,
              "#7201a8"
             ],
             [
              0.3333333333333333,
              "#9c179e"
             ],
             [
              0.4444444444444444,
              "#bd3786"
             ],
             [
              0.5555555555555556,
              "#d8576b"
             ],
             [
              0.6666666666666666,
              "#ed7953"
             ],
             [
              0.7777777777777778,
              "#fb9f3a"
             ],
             [
              0.8888888888888888,
              "#fdca26"
             ],
             [
              1,
              "#f0f921"
             ]
            ],
            "type": "heatmapgl"
           }
          ],
          "histogram": [
           {
            "marker": {
             "pattern": {
              "fillmode": "overlay",
              "size": 10,
              "solidity": 0.2
             }
            },
            "type": "histogram"
           }
          ],
          "histogram2d": [
           {
            "colorbar": {
             "outlinewidth": 0,
             "ticks": ""
            },
            "colorscale": [
             [
              0,
              "#0d0887"
             ],
             [
              0.1111111111111111,
              "#46039f"
             ],
             [
              0.2222222222222222,
              "#7201a8"
             ],
             [
              0.3333333333333333,
              "#9c179e"
             ],
             [
              0.4444444444444444,
              "#bd3786"
             ],
             [
              0.5555555555555556,
              "#d8576b"
             ],
             [
              0.6666666666666666,
              "#ed7953"
             ],
             [
              0.7777777777777778,
              "#fb9f3a"
             ],
             [
              0.8888888888888888,
              "#fdca26"
             ],
             [
              1,
              "#f0f921"
             ]
            ],
            "type": "histogram2d"
           }
          ],
          "histogram2dcontour": [
           {
            "colorbar": {
             "outlinewidth": 0,
             "ticks": ""
            },
            "colorscale": [
             [
              0,
              "#0d0887"
             ],
             [
              0.1111111111111111,
              "#46039f"
             ],
             [
              0.2222222222222222,
              "#7201a8"
             ],
             [
              0.3333333333333333,
              "#9c179e"
             ],
             [
              0.4444444444444444,
              "#bd3786"
             ],
             [
              0.5555555555555556,
              "#d8576b"
             ],
             [
              0.6666666666666666,
              "#ed7953"
             ],
             [
              0.7777777777777778,
              "#fb9f3a"
             ],
             [
              0.8888888888888888,
              "#fdca26"
             ],
             [
              1,
              "#f0f921"
             ]
            ],
            "type": "histogram2dcontour"
           }
          ],
          "mesh3d": [
           {
            "colorbar": {
             "outlinewidth": 0,
             "ticks": ""
            },
            "type": "mesh3d"
           }
          ],
          "parcoords": [
           {
            "line": {
             "colorbar": {
              "outlinewidth": 0,
              "ticks": ""
             }
            },
            "type": "parcoords"
           }
          ],
          "pie": [
           {
            "automargin": true,
            "type": "pie"
           }
          ],
          "scatter": [
           {
            "fillpattern": {
             "fillmode": "overlay",
             "size": 10,
             "solidity": 0.2
            },
            "type": "scatter"
           }
          ],
          "scatter3d": [
           {
            "line": {
             "colorbar": {
              "outlinewidth": 0,
              "ticks": ""
             }
            },
            "marker": {
             "colorbar": {
              "outlinewidth": 0,
              "ticks": ""
             }
            },
            "type": "scatter3d"
           }
          ],
          "scattercarpet": [
           {
            "marker": {
             "colorbar": {
              "outlinewidth": 0,
              "ticks": ""
             }
            },
            "type": "scattercarpet"
           }
          ],
          "scattergeo": [
           {
            "marker": {
             "colorbar": {
              "outlinewidth": 0,
              "ticks": ""
             }
            },
            "type": "scattergeo"
           }
          ],
          "scattergl": [
           {
            "marker": {
             "colorbar": {
              "outlinewidth": 0,
              "ticks": ""
             }
            },
            "type": "scattergl"
           }
          ],
          "scattermapbox": [
           {
            "marker": {
             "colorbar": {
              "outlinewidth": 0,
              "ticks": ""
             }
            },
            "type": "scattermapbox"
           }
          ],
          "scatterpolar": [
           {
            "marker": {
             "colorbar": {
              "outlinewidth": 0,
              "ticks": ""
             }
            },
            "type": "scatterpolar"
           }
          ],
          "scatterpolargl": [
           {
            "marker": {
             "colorbar": {
              "outlinewidth": 0,
              "ticks": ""
             }
            },
            "type": "scatterpolargl"
           }
          ],
          "scatterternary": [
           {
            "marker": {
             "colorbar": {
              "outlinewidth": 0,
              "ticks": ""
             }
            },
            "type": "scatterternary"
           }
          ],
          "surface": [
           {
            "colorbar": {
             "outlinewidth": 0,
             "ticks": ""
            },
            "colorscale": [
             [
              0,
              "#0d0887"
             ],
             [
              0.1111111111111111,
              "#46039f"
             ],
             [
              0.2222222222222222,
              "#7201a8"
             ],
             [
              0.3333333333333333,
              "#9c179e"
             ],
             [
              0.4444444444444444,
              "#bd3786"
             ],
             [
              0.5555555555555556,
              "#d8576b"
             ],
             [
              0.6666666666666666,
              "#ed7953"
             ],
             [
              0.7777777777777778,
              "#fb9f3a"
             ],
             [
              0.8888888888888888,
              "#fdca26"
             ],
             [
              1,
              "#f0f921"
             ]
            ],
            "type": "surface"
           }
          ],
          "table": [
           {
            "cells": {
             "fill": {
              "color": "#EBF0F8"
             },
             "line": {
              "color": "white"
             }
            },
            "header": {
             "fill": {
              "color": "#C8D4E3"
             },
             "line": {
              "color": "white"
             }
            },
            "type": "table"
           }
          ]
         },
         "layout": {
          "annotationdefaults": {
           "arrowcolor": "#2a3f5f",
           "arrowhead": 0,
           "arrowwidth": 1
          },
          "autotypenumbers": "strict",
          "coloraxis": {
           "colorbar": {
            "outlinewidth": 0,
            "ticks": ""
           }
          },
          "colorscale": {
           "diverging": [
            [
             0,
             "#8e0152"
            ],
            [
             0.1,
             "#c51b7d"
            ],
            [
             0.2,
             "#de77ae"
            ],
            [
             0.3,
             "#f1b6da"
            ],
            [
             0.4,
             "#fde0ef"
            ],
            [
             0.5,
             "#f7f7f7"
            ],
            [
             0.6,
             "#e6f5d0"
            ],
            [
             0.7,
             "#b8e186"
            ],
            [
             0.8,
             "#7fbc41"
            ],
            [
             0.9,
             "#4d9221"
            ],
            [
             1,
             "#276419"
            ]
           ],
           "sequential": [
            [
             0,
             "#0d0887"
            ],
            [
             0.1111111111111111,
             "#46039f"
            ],
            [
             0.2222222222222222,
             "#7201a8"
            ],
            [
             0.3333333333333333,
             "#9c179e"
            ],
            [
             0.4444444444444444,
             "#bd3786"
            ],
            [
             0.5555555555555556,
             "#d8576b"
            ],
            [
             0.6666666666666666,
             "#ed7953"
            ],
            [
             0.7777777777777778,
             "#fb9f3a"
            ],
            [
             0.8888888888888888,
             "#fdca26"
            ],
            [
             1,
             "#f0f921"
            ]
           ],
           "sequentialminus": [
            [
             0,
             "#0d0887"
            ],
            [
             0.1111111111111111,
             "#46039f"
            ],
            [
             0.2222222222222222,
             "#7201a8"
            ],
            [
             0.3333333333333333,
             "#9c179e"
            ],
            [
             0.4444444444444444,
             "#bd3786"
            ],
            [
             0.5555555555555556,
             "#d8576b"
            ],
            [
             0.6666666666666666,
             "#ed7953"
            ],
            [
             0.7777777777777778,
             "#fb9f3a"
            ],
            [
             0.8888888888888888,
             "#fdca26"
            ],
            [
             1,
             "#f0f921"
            ]
           ]
          },
          "colorway": [
           "#636efa",
           "#EF553B",
           "#00cc96",
           "#ab63fa",
           "#FFA15A",
           "#19d3f3",
           "#FF6692",
           "#B6E880",
           "#FF97FF",
           "#FECB52"
          ],
          "font": {
           "color": "#2a3f5f"
          },
          "geo": {
           "bgcolor": "white",
           "lakecolor": "white",
           "landcolor": "#E5ECF6",
           "showlakes": true,
           "showland": true,
           "subunitcolor": "white"
          },
          "hoverlabel": {
           "align": "left"
          },
          "hovermode": "closest",
          "mapbox": {
           "style": "light"
          },
          "paper_bgcolor": "white",
          "plot_bgcolor": "#E5ECF6",
          "polar": {
           "angularaxis": {
            "gridcolor": "white",
            "linecolor": "white",
            "ticks": ""
           },
           "bgcolor": "#E5ECF6",
           "radialaxis": {
            "gridcolor": "white",
            "linecolor": "white",
            "ticks": ""
           }
          },
          "scene": {
           "xaxis": {
            "backgroundcolor": "#E5ECF6",
            "gridcolor": "white",
            "gridwidth": 2,
            "linecolor": "white",
            "showbackground": true,
            "ticks": "",
            "zerolinecolor": "white"
           },
           "yaxis": {
            "backgroundcolor": "#E5ECF6",
            "gridcolor": "white",
            "gridwidth": 2,
            "linecolor": "white",
            "showbackground": true,
            "ticks": "",
            "zerolinecolor": "white"
           },
           "zaxis": {
            "backgroundcolor": "#E5ECF6",
            "gridcolor": "white",
            "gridwidth": 2,
            "linecolor": "white",
            "showbackground": true,
            "ticks": "",
            "zerolinecolor": "white"
           }
          },
          "shapedefaults": {
           "line": {
            "color": "#2a3f5f"
           }
          },
          "ternary": {
           "aaxis": {
            "gridcolor": "white",
            "linecolor": "white",
            "ticks": ""
           },
           "baxis": {
            "gridcolor": "white",
            "linecolor": "white",
            "ticks": ""
           },
           "bgcolor": "#E5ECF6",
           "caxis": {
            "gridcolor": "white",
            "linecolor": "white",
            "ticks": ""
           }
          },
          "title": {
           "x": 0.05
          },
          "xaxis": {
           "automargin": true,
           "gridcolor": "white",
           "linecolor": "white",
           "ticks": "",
           "title": {
            "standoff": 15
           },
           "zerolinecolor": "white",
           "zerolinewidth": 2
          },
          "yaxis": {
           "automargin": true,
           "gridcolor": "white",
           "linecolor": "white",
           "ticks": "",
           "title": {
            "standoff": 15
           },
           "zerolinecolor": "white",
           "zerolinewidth": 2
          }
         }
        },
        "title": {
         "font": {
          "color": "#4D5663"
         }
        },
        "xaxis": {
         "gridcolor": "#E1E5ED",
         "showgrid": true,
         "tickfont": {
          "color": "#4D5663"
         },
         "title": {
          "font": {
           "color": "#4D5663"
          },
          "text": ""
         },
         "zerolinecolor": "#E1E5ED"
        },
        "yaxis": {
         "gridcolor": "#E1E5ED",
         "showgrid": true,
         "tickfont": {
          "color": "#4D5663"
         },
         "title": {
          "font": {
           "color": "#4D5663"
          },
          "text": ""
         },
         "zerolinecolor": "#E1E5ED"
        }
       }
      },
      "text/html": [
       "<div>                            <div id=\"ccddc6ae-a893-48b0-8145-e02448caf24c\" class=\"plotly-graph-div\" style=\"height:525px; width:100%;\"></div>            <script type=\"text/javascript\">                require([\"plotly\"], function(Plotly) {                    window.PLOTLYENV=window.PLOTLYENV || {};\n",
       "                    window.PLOTLYENV.BASE_URL='https://plot.ly';                                    if (document.getElementById(\"ccddc6ae-a893-48b0-8145-e02448caf24c\")) {                    Plotly.newPlot(                        \"ccddc6ae-a893-48b0-8145-e02448caf24c\",                        [{\"line\":{\"color\":\"rgba(255, 153, 51, 1.0)\",\"dash\":\"solid\",\"shape\":\"linear\",\"width\":1.3},\"marker\":{\"size\":12,\"symbol\":\"circle\"},\"mode\":\"markers\",\"name\":\"B\",\"text\":\"\",\"x\":[0.963656208822238,1.1213805704854953,0.08117322059561863,0.9067501670920386,1.28908725845038,-0.8484788632427857,-0.8009485265222287,-0.13954698878550142,-0.4209938328140542,0.2837355152610227,-0.21272756966893616,1.7570408279670209,0.3550122841604106,1.30974406905139,0.2232155423907447,0.20225806270488592,0.4297931309428796,0.2710898356704665,1.2673150001525066,-0.28317420340831106,0.20613001876357961,0.4635201733939552,0.5460897413984124,0.12438837142487577,-0.3311450835685355,0.43842530680477404,1.0684047789837727,-0.6243736534857598,-1.1906662032404274,1.4656058483881402,0.16715588520722816,0.48360128610027264,1.0718721211795463,-0.24068377304579952,-0.8837940178049627,0.28414594957742983,0.18636052031088884,1.0554728665925521,0.24657908043205698,-0.255956079869308,0.07878204355354528,-1.1832024418880038,-0.3947053481469931,0.015051127698353848,-0.9273312434230097,-0.5904417385480116,-0.8248473181016788,-2.553642906404523,0.5853809835216754,0.07471667146690081,0.8078271481497611,2.0119568319081234,1.7051615445225863,0.3690781122530383,0.27207568986467,0.9429351698391747,0.8709196392545411,1.8881327097718632,-2.277236818278749,0.7641282663968877,-1.9210586871999982,0.6083480372818315,-1.7059804718374605,1.8390631369000259,0.47676559937164253,0.7951445119372802,0.7363841786006643,1.2801801668695012,-0.987315530991337,-0.7855382455137779,-1.5235664056893965,-0.8068782421283027,0.1899751266947658,-0.8176847491115944,-0.7588257659066171,0.7146591792126702,1.1389770375251385,-0.49140946806501906,0.3885375141880657,0.19210286916179659,-1.8674308759485234,0.2563319473019304,1.4141223099861748,1.5347206360501597,-1.094691314002368,-0.060435557199993446,0.2992179294797572,1.4510015729851962,0.38567992079704777,-1.8471002701272756,-0.2158731199529436,-0.3833111312088049,-2.0068888309777657,-0.548083205199428,0.6861555341365956,1.199667217838947,0.06831398795428081,-0.057601596970910905,0.3827056101028784,0.5691997438450976],\"y\":[1.0418607474294792,-1.4939672413762932,-0.02127901542430224,0.33292977024558157,1.1407436277450778,-0.3015660930492725,-0.0752865847187486,-1.009791743749023,-0.6974105177481036,-1.0778447312443185,0.21994773983594507,-1.2767378096491764,-0.4772520284876469,-0.13191693638288507,-0.8840497936830316,0.43491378665196123,1.237780885733663,-0.7372283644576442,-0.11267970353145566,-1.637025903877696,-0.8643009602442039,-1.170864879740225,0.8657447067108397,-1.3316471625112472,0.27930606940491254,0.1010548787720902,0.7014020947179823,0.8115916437019352,0.9534863463399055,-0.17974376572600015,0.15539942126823825,0.12563065884091904,-0.6983132119953138,-0.8557269377205827,-1.1114678483065996,1.6267980935814845,0.10835953580183216,-0.724885465855628,-0.13014748543449164,0.02635813457746775,-0.10731405448780107,0.9394176236033902,0.8852004040890421,0.8837667760803889,-0.6827153117408953,-0.9093724172772358,0.5777482827305919,0.1320824276129593,0.051752566935829254,2.2294346148078286,-0.3450934390030509,0.1620081871920339,0.22742137414734556,0.53465876620935,0.7992154964793429,-1.3109197447319967,-1.8881307729462076,2.130605406350455,-0.031583068295145504,0.5445342145696391,-0.3836665294064964,-0.8276744278807356,1.5347897785141216,-0.10205298921735546,-0.9931249156241323,0.6784877290695253,0.6442290539833533,0.22188261861927183,0.658824210911803,0.4725016736628034,-0.5884114772778922,-0.868227094420527,-1.3615134352744052,1.092930344226626,-0.13734327442278882,-1.3246769110560028,-0.6863100288573838,0.2900951740060484,-0.7262357878917776,-1.5393687384063548,-0.6345124844359458,1.0511810398400365,-0.32552486870352804,0.46721489635640734,1.2701651157118028,0.821796041357051,-1.3530062245164303,-0.6629088380930819,0.8386510462005943,-0.10769881867698582,0.18586510865496922,0.0027232401253373915,-2.1003147011287964,0.19799553908870476,0.5799814202834371,-1.1775863243324383,0.748291680102528,0.2145327190535425,0.10937980687552407,-0.3629526709313861],\"type\":\"scatter\"}],                        {\"legend\":{\"bgcolor\":\"#F5F6F9\",\"font\":{\"color\":\"#4D5663\"}},\"paper_bgcolor\":\"#F5F6F9\",\"plot_bgcolor\":\"#F5F6F9\",\"template\":{\"data\":{\"barpolar\":[{\"marker\":{\"line\":{\"color\":\"#E5ECF6\",\"width\":0.5},\"pattern\":{\"fillmode\":\"overlay\",\"size\":10,\"solidity\":0.2}},\"type\":\"barpolar\"}],\"bar\":[{\"error_x\":{\"color\":\"#2a3f5f\"},\"error_y\":{\"color\":\"#2a3f5f\"},\"marker\":{\"line\":{\"color\":\"#E5ECF6\",\"width\":0.5},\"pattern\":{\"fillmode\":\"overlay\",\"size\":10,\"solidity\":0.2}},\"type\":\"bar\"}],\"carpet\":[{\"aaxis\":{\"endlinecolor\":\"#2a3f5f\",\"gridcolor\":\"white\",\"linecolor\":\"white\",\"minorgridcolor\":\"white\",\"startlinecolor\":\"#2a3f5f\"},\"baxis\":{\"endlinecolor\":\"#2a3f5f\",\"gridcolor\":\"white\",\"linecolor\":\"white\",\"minorgridcolor\":\"white\",\"startlinecolor\":\"#2a3f5f\"},\"type\":\"carpet\"}],\"choropleth\":[{\"colorbar\":{\"outlinewidth\":0,\"ticks\":\"\"},\"type\":\"choropleth\"}],\"contourcarpet\":[{\"colorbar\":{\"outlinewidth\":0,\"ticks\":\"\"},\"type\":\"contourcarpet\"}],\"contour\":[{\"colorbar\":{\"outlinewidth\":0,\"ticks\":\"\"},\"colorscale\":[[0.0,\"#0d0887\"],[0.1111111111111111,\"#46039f\"],[0.2222222222222222,\"#7201a8\"],[0.3333333333333333,\"#9c179e\"],[0.4444444444444444,\"#bd3786\"],[0.5555555555555556,\"#d8576b\"],[0.6666666666666666,\"#ed7953\"],[0.7777777777777778,\"#fb9f3a\"],[0.8888888888888888,\"#fdca26\"],[1.0,\"#f0f921\"]],\"type\":\"contour\"}],\"heatmapgl\":[{\"colorbar\":{\"outlinewidth\":0,\"ticks\":\"\"},\"colorscale\":[[0.0,\"#0d0887\"],[0.1111111111111111,\"#46039f\"],[0.2222222222222222,\"#7201a8\"],[0.3333333333333333,\"#9c179e\"],[0.4444444444444444,\"#bd3786\"],[0.5555555555555556,\"#d8576b\"],[0.6666666666666666,\"#ed7953\"],[0.7777777777777778,\"#fb9f3a\"],[0.8888888888888888,\"#fdca26\"],[1.0,\"#f0f921\"]],\"type\":\"heatmapgl\"}],\"heatmap\":[{\"colorbar\":{\"outlinewidth\":0,\"ticks\":\"\"},\"colorscale\":[[0.0,\"#0d0887\"],[0.1111111111111111,\"#46039f\"],[0.2222222222222222,\"#7201a8\"],[0.3333333333333333,\"#9c179e\"],[0.4444444444444444,\"#bd3786\"],[0.5555555555555556,\"#d8576b\"],[0.6666666666666666,\"#ed7953\"],[0.7777777777777778,\"#fb9f3a\"],[0.8888888888888888,\"#fdca26\"],[1.0,\"#f0f921\"]],\"type\":\"heatmap\"}],\"histogram2dcontour\":[{\"colorbar\":{\"outlinewidth\":0,\"ticks\":\"\"},\"colorscale\":[[0.0,\"#0d0887\"],[0.1111111111111111,\"#46039f\"],[0.2222222222222222,\"#7201a8\"],[0.3333333333333333,\"#9c179e\"],[0.4444444444444444,\"#bd3786\"],[0.5555555555555556,\"#d8576b\"],[0.6666666666666666,\"#ed7953\"],[0.7777777777777778,\"#fb9f3a\"],[0.8888888888888888,\"#fdca26\"],[1.0,\"#f0f921\"]],\"type\":\"histogram2dcontour\"}],\"histogram2d\":[{\"colorbar\":{\"outlinewidth\":0,\"ticks\":\"\"},\"colorscale\":[[0.0,\"#0d0887\"],[0.1111111111111111,\"#46039f\"],[0.2222222222222222,\"#7201a8\"],[0.3333333333333333,\"#9c179e\"],[0.4444444444444444,\"#bd3786\"],[0.5555555555555556,\"#d8576b\"],[0.6666666666666666,\"#ed7953\"],[0.7777777777777778,\"#fb9f3a\"],[0.8888888888888888,\"#fdca26\"],[1.0,\"#f0f921\"]],\"type\":\"histogram2d\"}],\"histogram\":[{\"marker\":{\"pattern\":{\"fillmode\":\"overlay\",\"size\":10,\"solidity\":0.2}},\"type\":\"histogram\"}],\"mesh3d\":[{\"colorbar\":{\"outlinewidth\":0,\"ticks\":\"\"},\"type\":\"mesh3d\"}],\"parcoords\":[{\"line\":{\"colorbar\":{\"outlinewidth\":0,\"ticks\":\"\"}},\"type\":\"parcoords\"}],\"pie\":[{\"automargin\":true,\"type\":\"pie\"}],\"scatter3d\":[{\"line\":{\"colorbar\":{\"outlinewidth\":0,\"ticks\":\"\"}},\"marker\":{\"colorbar\":{\"outlinewidth\":0,\"ticks\":\"\"}},\"type\":\"scatter3d\"}],\"scattercarpet\":[{\"marker\":{\"colorbar\":{\"outlinewidth\":0,\"ticks\":\"\"}},\"type\":\"scattercarpet\"}],\"scattergeo\":[{\"marker\":{\"colorbar\":{\"outlinewidth\":0,\"ticks\":\"\"}},\"type\":\"scattergeo\"}],\"scattergl\":[{\"marker\":{\"colorbar\":{\"outlinewidth\":0,\"ticks\":\"\"}},\"type\":\"scattergl\"}],\"scattermapbox\":[{\"marker\":{\"colorbar\":{\"outlinewidth\":0,\"ticks\":\"\"}},\"type\":\"scattermapbox\"}],\"scatterpolargl\":[{\"marker\":{\"colorbar\":{\"outlinewidth\":0,\"ticks\":\"\"}},\"type\":\"scatterpolargl\"}],\"scatterpolar\":[{\"marker\":{\"colorbar\":{\"outlinewidth\":0,\"ticks\":\"\"}},\"type\":\"scatterpolar\"}],\"scatter\":[{\"fillpattern\":{\"fillmode\":\"overlay\",\"size\":10,\"solidity\":0.2},\"type\":\"scatter\"}],\"scatterternary\":[{\"marker\":{\"colorbar\":{\"outlinewidth\":0,\"ticks\":\"\"}},\"type\":\"scatterternary\"}],\"surface\":[{\"colorbar\":{\"outlinewidth\":0,\"ticks\":\"\"},\"colorscale\":[[0.0,\"#0d0887\"],[0.1111111111111111,\"#46039f\"],[0.2222222222222222,\"#7201a8\"],[0.3333333333333333,\"#9c179e\"],[0.4444444444444444,\"#bd3786\"],[0.5555555555555556,\"#d8576b\"],[0.6666666666666666,\"#ed7953\"],[0.7777777777777778,\"#fb9f3a\"],[0.8888888888888888,\"#fdca26\"],[1.0,\"#f0f921\"]],\"type\":\"surface\"}],\"table\":[{\"cells\":{\"fill\":{\"color\":\"#EBF0F8\"},\"line\":{\"color\":\"white\"}},\"header\":{\"fill\":{\"color\":\"#C8D4E3\"},\"line\":{\"color\":\"white\"}},\"type\":\"table\"}]},\"layout\":{\"annotationdefaults\":{\"arrowcolor\":\"#2a3f5f\",\"arrowhead\":0,\"arrowwidth\":1},\"autotypenumbers\":\"strict\",\"coloraxis\":{\"colorbar\":{\"outlinewidth\":0,\"ticks\":\"\"}},\"colorscale\":{\"diverging\":[[0,\"#8e0152\"],[0.1,\"#c51b7d\"],[0.2,\"#de77ae\"],[0.3,\"#f1b6da\"],[0.4,\"#fde0ef\"],[0.5,\"#f7f7f7\"],[0.6,\"#e6f5d0\"],[0.7,\"#b8e186\"],[0.8,\"#7fbc41\"],[0.9,\"#4d9221\"],[1,\"#276419\"]],\"sequential\":[[0.0,\"#0d0887\"],[0.1111111111111111,\"#46039f\"],[0.2222222222222222,\"#7201a8\"],[0.3333333333333333,\"#9c179e\"],[0.4444444444444444,\"#bd3786\"],[0.5555555555555556,\"#d8576b\"],[0.6666666666666666,\"#ed7953\"],[0.7777777777777778,\"#fb9f3a\"],[0.8888888888888888,\"#fdca26\"],[1.0,\"#f0f921\"]],\"sequentialminus\":[[0.0,\"#0d0887\"],[0.1111111111111111,\"#46039f\"],[0.2222222222222222,\"#7201a8\"],[0.3333333333333333,\"#9c179e\"],[0.4444444444444444,\"#bd3786\"],[0.5555555555555556,\"#d8576b\"],[0.6666666666666666,\"#ed7953\"],[0.7777777777777778,\"#fb9f3a\"],[0.8888888888888888,\"#fdca26\"],[1.0,\"#f0f921\"]]},\"colorway\":[\"#636efa\",\"#EF553B\",\"#00cc96\",\"#ab63fa\",\"#FFA15A\",\"#19d3f3\",\"#FF6692\",\"#B6E880\",\"#FF97FF\",\"#FECB52\"],\"font\":{\"color\":\"#2a3f5f\"},\"geo\":{\"bgcolor\":\"white\",\"lakecolor\":\"white\",\"landcolor\":\"#E5ECF6\",\"showlakes\":true,\"showland\":true,\"subunitcolor\":\"white\"},\"hoverlabel\":{\"align\":\"left\"},\"hovermode\":\"closest\",\"mapbox\":{\"style\":\"light\"},\"paper_bgcolor\":\"white\",\"plot_bgcolor\":\"#E5ECF6\",\"polar\":{\"angularaxis\":{\"gridcolor\":\"white\",\"linecolor\":\"white\",\"ticks\":\"\"},\"bgcolor\":\"#E5ECF6\",\"radialaxis\":{\"gridcolor\":\"white\",\"linecolor\":\"white\",\"ticks\":\"\"}},\"scene\":{\"xaxis\":{\"backgroundcolor\":\"#E5ECF6\",\"gridcolor\":\"white\",\"gridwidth\":2,\"linecolor\":\"white\",\"showbackground\":true,\"ticks\":\"\",\"zerolinecolor\":\"white\"},\"yaxis\":{\"backgroundcolor\":\"#E5ECF6\",\"gridcolor\":\"white\",\"gridwidth\":2,\"linecolor\":\"white\",\"showbackground\":true,\"ticks\":\"\",\"zerolinecolor\":\"white\"},\"zaxis\":{\"backgroundcolor\":\"#E5ECF6\",\"gridcolor\":\"white\",\"gridwidth\":2,\"linecolor\":\"white\",\"showbackground\":true,\"ticks\":\"\",\"zerolinecolor\":\"white\"}},\"shapedefaults\":{\"line\":{\"color\":\"#2a3f5f\"}},\"ternary\":{\"aaxis\":{\"gridcolor\":\"white\",\"linecolor\":\"white\",\"ticks\":\"\"},\"baxis\":{\"gridcolor\":\"white\",\"linecolor\":\"white\",\"ticks\":\"\"},\"bgcolor\":\"#E5ECF6\",\"caxis\":{\"gridcolor\":\"white\",\"linecolor\":\"white\",\"ticks\":\"\"}},\"title\":{\"x\":0.05},\"xaxis\":{\"automargin\":true,\"gridcolor\":\"white\",\"linecolor\":\"white\",\"ticks\":\"\",\"title\":{\"standoff\":15},\"zerolinecolor\":\"white\",\"zerolinewidth\":2},\"yaxis\":{\"automargin\":true,\"gridcolor\":\"white\",\"linecolor\":\"white\",\"ticks\":\"\",\"title\":{\"standoff\":15},\"zerolinecolor\":\"white\",\"zerolinewidth\":2}}},\"title\":{\"font\":{\"color\":\"#4D5663\"}},\"xaxis\":{\"gridcolor\":\"#E1E5ED\",\"showgrid\":true,\"tickfont\":{\"color\":\"#4D5663\"},\"title\":{\"font\":{\"color\":\"#4D5663\"},\"text\":\"\"},\"zerolinecolor\":\"#E1E5ED\"},\"yaxis\":{\"gridcolor\":\"#E1E5ED\",\"showgrid\":true,\"tickfont\":{\"color\":\"#4D5663\"},\"title\":{\"font\":{\"color\":\"#4D5663\"},\"text\":\"\"},\"zerolinecolor\":\"#E1E5ED\"}},                        {\"showLink\": true, \"linkText\": \"Export to plot.ly\", \"plotlyServerURL\": \"https://plot.ly\", \"responsive\": true}                    ).then(function(){\n",
       "                            \n",
       "var gd = document.getElementById('ccddc6ae-a893-48b0-8145-e02448caf24c');\n",
       "var x = new MutationObserver(function (mutations, observer) {{\n",
       "        var display = window.getComputedStyle(gd).display;\n",
       "        if (!display || display === 'none') {{\n",
       "            console.log([gd, 'removed!']);\n",
       "            Plotly.purge(gd);\n",
       "            observer.disconnect();\n",
       "        }}\n",
       "}});\n",
       "\n",
       "// Listen for the removal of the full notebook cells\n",
       "var notebookContainer = gd.closest('#notebook-container');\n",
       "if (notebookContainer) {{\n",
       "    x.observe(notebookContainer, {childList: true});\n",
       "}}\n",
       "\n",
       "// Listen for the clearing of the current output cell\n",
       "var outputEl = gd.closest('.output');\n",
       "if (outputEl) {{\n",
       "    x.observe(outputEl, {childList: true});\n",
       "}}\n",
       "\n",
       "                        })                };                });            </script>        </div>"
      ]
     },
     "metadata": {},
     "output_type": "display_data"
    }
   ],
   "source": [
    "df.iplot(kind='scatter', x = 'A', y = 'B', mode = 'markers')"
   ]
  },
  {
   "cell_type": "code",
   "execution_count": 34,
   "id": "00a543a6",
   "metadata": {},
   "outputs": [
    {
     "data": {
      "text/html": [
       "<div>\n",
       "<style scoped>\n",
       "    .dataframe tbody tr th:only-of-type {\n",
       "        vertical-align: middle;\n",
       "    }\n",
       "\n",
       "    .dataframe tbody tr th {\n",
       "        vertical-align: top;\n",
       "    }\n",
       "\n",
       "    .dataframe thead th {\n",
       "        text-align: right;\n",
       "    }\n",
       "</style>\n",
       "<table border=\"1\" class=\"dataframe\">\n",
       "  <thead>\n",
       "    <tr style=\"text-align: right;\">\n",
       "      <th></th>\n",
       "      <th>category</th>\n",
       "      <th>Values</th>\n",
       "    </tr>\n",
       "  </thead>\n",
       "  <tbody>\n",
       "    <tr>\n",
       "      <th>0</th>\n",
       "      <td>A</td>\n",
       "      <td>23</td>\n",
       "    </tr>\n",
       "    <tr>\n",
       "      <th>1</th>\n",
       "      <td>B</td>\n",
       "      <td>43</td>\n",
       "    </tr>\n",
       "    <tr>\n",
       "      <th>2</th>\n",
       "      <td>C</td>\n",
       "      <td>50</td>\n",
       "    </tr>\n",
       "  </tbody>\n",
       "</table>\n",
       "</div>"
      ],
      "text/plain": [
       "  category  Values\n",
       "0        A      23\n",
       "1        B      43\n",
       "2        C      50"
      ]
     },
     "execution_count": 34,
     "metadata": {},
     "output_type": "execute_result"
    }
   ],
   "source": [
    "df2"
   ]
  },
  {
   "cell_type": "code",
   "execution_count": 35,
   "id": "187e1c78",
   "metadata": {},
   "outputs": [
    {
     "data": {
      "application/vnd.plotly.v1+json": {
       "config": {
        "linkText": "Export to plot.ly",
        "plotlyServerURL": "https://plot.ly",
        "showLink": true
       },
       "data": [
        {
         "marker": {
          "color": "rgba(255, 153, 51, 0.6)",
          "line": {
           "color": "rgba(255, 153, 51, 1.0)",
           "width": 1
          }
         },
         "name": "Values",
         "orientation": "v",
         "text": "",
         "type": "bar",
         "x": [
          "A",
          "B",
          "C"
         ],
         "y": [
          23,
          43,
          50
         ]
        }
       ],
       "layout": {
        "legend": {
         "bgcolor": "#F5F6F9",
         "font": {
          "color": "#4D5663"
         }
        },
        "paper_bgcolor": "#F5F6F9",
        "plot_bgcolor": "#F5F6F9",
        "template": {
         "data": {
          "bar": [
           {
            "error_x": {
             "color": "#2a3f5f"
            },
            "error_y": {
             "color": "#2a3f5f"
            },
            "marker": {
             "line": {
              "color": "#E5ECF6",
              "width": 0.5
             },
             "pattern": {
              "fillmode": "overlay",
              "size": 10,
              "solidity": 0.2
             }
            },
            "type": "bar"
           }
          ],
          "barpolar": [
           {
            "marker": {
             "line": {
              "color": "#E5ECF6",
              "width": 0.5
             },
             "pattern": {
              "fillmode": "overlay",
              "size": 10,
              "solidity": 0.2
             }
            },
            "type": "barpolar"
           }
          ],
          "carpet": [
           {
            "aaxis": {
             "endlinecolor": "#2a3f5f",
             "gridcolor": "white",
             "linecolor": "white",
             "minorgridcolor": "white",
             "startlinecolor": "#2a3f5f"
            },
            "baxis": {
             "endlinecolor": "#2a3f5f",
             "gridcolor": "white",
             "linecolor": "white",
             "minorgridcolor": "white",
             "startlinecolor": "#2a3f5f"
            },
            "type": "carpet"
           }
          ],
          "choropleth": [
           {
            "colorbar": {
             "outlinewidth": 0,
             "ticks": ""
            },
            "type": "choropleth"
           }
          ],
          "contour": [
           {
            "colorbar": {
             "outlinewidth": 0,
             "ticks": ""
            },
            "colorscale": [
             [
              0,
              "#0d0887"
             ],
             [
              0.1111111111111111,
              "#46039f"
             ],
             [
              0.2222222222222222,
              "#7201a8"
             ],
             [
              0.3333333333333333,
              "#9c179e"
             ],
             [
              0.4444444444444444,
              "#bd3786"
             ],
             [
              0.5555555555555556,
              "#d8576b"
             ],
             [
              0.6666666666666666,
              "#ed7953"
             ],
             [
              0.7777777777777778,
              "#fb9f3a"
             ],
             [
              0.8888888888888888,
              "#fdca26"
             ],
             [
              1,
              "#f0f921"
             ]
            ],
            "type": "contour"
           }
          ],
          "contourcarpet": [
           {
            "colorbar": {
             "outlinewidth": 0,
             "ticks": ""
            },
            "type": "contourcarpet"
           }
          ],
          "heatmap": [
           {
            "colorbar": {
             "outlinewidth": 0,
             "ticks": ""
            },
            "colorscale": [
             [
              0,
              "#0d0887"
             ],
             [
              0.1111111111111111,
              "#46039f"
             ],
             [
              0.2222222222222222,
              "#7201a8"
             ],
             [
              0.3333333333333333,
              "#9c179e"
             ],
             [
              0.4444444444444444,
              "#bd3786"
             ],
             [
              0.5555555555555556,
              "#d8576b"
             ],
             [
              0.6666666666666666,
              "#ed7953"
             ],
             [
              0.7777777777777778,
              "#fb9f3a"
             ],
             [
              0.8888888888888888,
              "#fdca26"
             ],
             [
              1,
              "#f0f921"
             ]
            ],
            "type": "heatmap"
           }
          ],
          "heatmapgl": [
           {
            "colorbar": {
             "outlinewidth": 0,
             "ticks": ""
            },
            "colorscale": [
             [
              0,
              "#0d0887"
             ],
             [
              0.1111111111111111,
              "#46039f"
             ],
             [
              0.2222222222222222,
              "#7201a8"
             ],
             [
              0.3333333333333333,
              "#9c179e"
             ],
             [
              0.4444444444444444,
              "#bd3786"
             ],
             [
              0.5555555555555556,
              "#d8576b"
             ],
             [
              0.6666666666666666,
              "#ed7953"
             ],
             [
              0.7777777777777778,
              "#fb9f3a"
             ],
             [
              0.8888888888888888,
              "#fdca26"
             ],
             [
              1,
              "#f0f921"
             ]
            ],
            "type": "heatmapgl"
           }
          ],
          "histogram": [
           {
            "marker": {
             "pattern": {
              "fillmode": "overlay",
              "size": 10,
              "solidity": 0.2
             }
            },
            "type": "histogram"
           }
          ],
          "histogram2d": [
           {
            "colorbar": {
             "outlinewidth": 0,
             "ticks": ""
            },
            "colorscale": [
             [
              0,
              "#0d0887"
             ],
             [
              0.1111111111111111,
              "#46039f"
             ],
             [
              0.2222222222222222,
              "#7201a8"
             ],
             [
              0.3333333333333333,
              "#9c179e"
             ],
             [
              0.4444444444444444,
              "#bd3786"
             ],
             [
              0.5555555555555556,
              "#d8576b"
             ],
             [
              0.6666666666666666,
              "#ed7953"
             ],
             [
              0.7777777777777778,
              "#fb9f3a"
             ],
             [
              0.8888888888888888,
              "#fdca26"
             ],
             [
              1,
              "#f0f921"
             ]
            ],
            "type": "histogram2d"
           }
          ],
          "histogram2dcontour": [
           {
            "colorbar": {
             "outlinewidth": 0,
             "ticks": ""
            },
            "colorscale": [
             [
              0,
              "#0d0887"
             ],
             [
              0.1111111111111111,
              "#46039f"
             ],
             [
              0.2222222222222222,
              "#7201a8"
             ],
             [
              0.3333333333333333,
              "#9c179e"
             ],
             [
              0.4444444444444444,
              "#bd3786"
             ],
             [
              0.5555555555555556,
              "#d8576b"
             ],
             [
              0.6666666666666666,
              "#ed7953"
             ],
             [
              0.7777777777777778,
              "#fb9f3a"
             ],
             [
              0.8888888888888888,
              "#fdca26"
             ],
             [
              1,
              "#f0f921"
             ]
            ],
            "type": "histogram2dcontour"
           }
          ],
          "mesh3d": [
           {
            "colorbar": {
             "outlinewidth": 0,
             "ticks": ""
            },
            "type": "mesh3d"
           }
          ],
          "parcoords": [
           {
            "line": {
             "colorbar": {
              "outlinewidth": 0,
              "ticks": ""
             }
            },
            "type": "parcoords"
           }
          ],
          "pie": [
           {
            "automargin": true,
            "type": "pie"
           }
          ],
          "scatter": [
           {
            "fillpattern": {
             "fillmode": "overlay",
             "size": 10,
             "solidity": 0.2
            },
            "type": "scatter"
           }
          ],
          "scatter3d": [
           {
            "line": {
             "colorbar": {
              "outlinewidth": 0,
              "ticks": ""
             }
            },
            "marker": {
             "colorbar": {
              "outlinewidth": 0,
              "ticks": ""
             }
            },
            "type": "scatter3d"
           }
          ],
          "scattercarpet": [
           {
            "marker": {
             "colorbar": {
              "outlinewidth": 0,
              "ticks": ""
             }
            },
            "type": "scattercarpet"
           }
          ],
          "scattergeo": [
           {
            "marker": {
             "colorbar": {
              "outlinewidth": 0,
              "ticks": ""
             }
            },
            "type": "scattergeo"
           }
          ],
          "scattergl": [
           {
            "marker": {
             "colorbar": {
              "outlinewidth": 0,
              "ticks": ""
             }
            },
            "type": "scattergl"
           }
          ],
          "scattermapbox": [
           {
            "marker": {
             "colorbar": {
              "outlinewidth": 0,
              "ticks": ""
             }
            },
            "type": "scattermapbox"
           }
          ],
          "scatterpolar": [
           {
            "marker": {
             "colorbar": {
              "outlinewidth": 0,
              "ticks": ""
             }
            },
            "type": "scatterpolar"
           }
          ],
          "scatterpolargl": [
           {
            "marker": {
             "colorbar": {
              "outlinewidth": 0,
              "ticks": ""
             }
            },
            "type": "scatterpolargl"
           }
          ],
          "scatterternary": [
           {
            "marker": {
             "colorbar": {
              "outlinewidth": 0,
              "ticks": ""
             }
            },
            "type": "scatterternary"
           }
          ],
          "surface": [
           {
            "colorbar": {
             "outlinewidth": 0,
             "ticks": ""
            },
            "colorscale": [
             [
              0,
              "#0d0887"
             ],
             [
              0.1111111111111111,
              "#46039f"
             ],
             [
              0.2222222222222222,
              "#7201a8"
             ],
             [
              0.3333333333333333,
              "#9c179e"
             ],
             [
              0.4444444444444444,
              "#bd3786"
             ],
             [
              0.5555555555555556,
              "#d8576b"
             ],
             [
              0.6666666666666666,
              "#ed7953"
             ],
             [
              0.7777777777777778,
              "#fb9f3a"
             ],
             [
              0.8888888888888888,
              "#fdca26"
             ],
             [
              1,
              "#f0f921"
             ]
            ],
            "type": "surface"
           }
          ],
          "table": [
           {
            "cells": {
             "fill": {
              "color": "#EBF0F8"
             },
             "line": {
              "color": "white"
             }
            },
            "header": {
             "fill": {
              "color": "#C8D4E3"
             },
             "line": {
              "color": "white"
             }
            },
            "type": "table"
           }
          ]
         },
         "layout": {
          "annotationdefaults": {
           "arrowcolor": "#2a3f5f",
           "arrowhead": 0,
           "arrowwidth": 1
          },
          "autotypenumbers": "strict",
          "coloraxis": {
           "colorbar": {
            "outlinewidth": 0,
            "ticks": ""
           }
          },
          "colorscale": {
           "diverging": [
            [
             0,
             "#8e0152"
            ],
            [
             0.1,
             "#c51b7d"
            ],
            [
             0.2,
             "#de77ae"
            ],
            [
             0.3,
             "#f1b6da"
            ],
            [
             0.4,
             "#fde0ef"
            ],
            [
             0.5,
             "#f7f7f7"
            ],
            [
             0.6,
             "#e6f5d0"
            ],
            [
             0.7,
             "#b8e186"
            ],
            [
             0.8,
             "#7fbc41"
            ],
            [
             0.9,
             "#4d9221"
            ],
            [
             1,
             "#276419"
            ]
           ],
           "sequential": [
            [
             0,
             "#0d0887"
            ],
            [
             0.1111111111111111,
             "#46039f"
            ],
            [
             0.2222222222222222,
             "#7201a8"
            ],
            [
             0.3333333333333333,
             "#9c179e"
            ],
            [
             0.4444444444444444,
             "#bd3786"
            ],
            [
             0.5555555555555556,
             "#d8576b"
            ],
            [
             0.6666666666666666,
             "#ed7953"
            ],
            [
             0.7777777777777778,
             "#fb9f3a"
            ],
            [
             0.8888888888888888,
             "#fdca26"
            ],
            [
             1,
             "#f0f921"
            ]
           ],
           "sequentialminus": [
            [
             0,
             "#0d0887"
            ],
            [
             0.1111111111111111,
             "#46039f"
            ],
            [
             0.2222222222222222,
             "#7201a8"
            ],
            [
             0.3333333333333333,
             "#9c179e"
            ],
            [
             0.4444444444444444,
             "#bd3786"
            ],
            [
             0.5555555555555556,
             "#d8576b"
            ],
            [
             0.6666666666666666,
             "#ed7953"
            ],
            [
             0.7777777777777778,
             "#fb9f3a"
            ],
            [
             0.8888888888888888,
             "#fdca26"
            ],
            [
             1,
             "#f0f921"
            ]
           ]
          },
          "colorway": [
           "#636efa",
           "#EF553B",
           "#00cc96",
           "#ab63fa",
           "#FFA15A",
           "#19d3f3",
           "#FF6692",
           "#B6E880",
           "#FF97FF",
           "#FECB52"
          ],
          "font": {
           "color": "#2a3f5f"
          },
          "geo": {
           "bgcolor": "white",
           "lakecolor": "white",
           "landcolor": "#E5ECF6",
           "showlakes": true,
           "showland": true,
           "subunitcolor": "white"
          },
          "hoverlabel": {
           "align": "left"
          },
          "hovermode": "closest",
          "mapbox": {
           "style": "light"
          },
          "paper_bgcolor": "white",
          "plot_bgcolor": "#E5ECF6",
          "polar": {
           "angularaxis": {
            "gridcolor": "white",
            "linecolor": "white",
            "ticks": ""
           },
           "bgcolor": "#E5ECF6",
           "radialaxis": {
            "gridcolor": "white",
            "linecolor": "white",
            "ticks": ""
           }
          },
          "scene": {
           "xaxis": {
            "backgroundcolor": "#E5ECF6",
            "gridcolor": "white",
            "gridwidth": 2,
            "linecolor": "white",
            "showbackground": true,
            "ticks": "",
            "zerolinecolor": "white"
           },
           "yaxis": {
            "backgroundcolor": "#E5ECF6",
            "gridcolor": "white",
            "gridwidth": 2,
            "linecolor": "white",
            "showbackground": true,
            "ticks": "",
            "zerolinecolor": "white"
           },
           "zaxis": {
            "backgroundcolor": "#E5ECF6",
            "gridcolor": "white",
            "gridwidth": 2,
            "linecolor": "white",
            "showbackground": true,
            "ticks": "",
            "zerolinecolor": "white"
           }
          },
          "shapedefaults": {
           "line": {
            "color": "#2a3f5f"
           }
          },
          "ternary": {
           "aaxis": {
            "gridcolor": "white",
            "linecolor": "white",
            "ticks": ""
           },
           "baxis": {
            "gridcolor": "white",
            "linecolor": "white",
            "ticks": ""
           },
           "bgcolor": "#E5ECF6",
           "caxis": {
            "gridcolor": "white",
            "linecolor": "white",
            "ticks": ""
           }
          },
          "title": {
           "x": 0.05
          },
          "xaxis": {
           "automargin": true,
           "gridcolor": "white",
           "linecolor": "white",
           "ticks": "",
           "title": {
            "standoff": 15
           },
           "zerolinecolor": "white",
           "zerolinewidth": 2
          },
          "yaxis": {
           "automargin": true,
           "gridcolor": "white",
           "linecolor": "white",
           "ticks": "",
           "title": {
            "standoff": 15
           },
           "zerolinecolor": "white",
           "zerolinewidth": 2
          }
         }
        },
        "title": {
         "font": {
          "color": "#4D5663"
         }
        },
        "xaxis": {
         "gridcolor": "#E1E5ED",
         "showgrid": true,
         "tickfont": {
          "color": "#4D5663"
         },
         "title": {
          "font": {
           "color": "#4D5663"
          },
          "text": ""
         },
         "zerolinecolor": "#E1E5ED"
        },
        "yaxis": {
         "gridcolor": "#E1E5ED",
         "showgrid": true,
         "tickfont": {
          "color": "#4D5663"
         },
         "title": {
          "font": {
           "color": "#4D5663"
          },
          "text": ""
         },
         "zerolinecolor": "#E1E5ED"
        }
       }
      },
      "text/html": [
       "<div>                            <div id=\"070ca8c1-c043-4ce9-b98c-080bc2799aa8\" class=\"plotly-graph-div\" style=\"height:525px; width:100%;\"></div>            <script type=\"text/javascript\">                require([\"plotly\"], function(Plotly) {                    window.PLOTLYENV=window.PLOTLYENV || {};\n",
       "                    window.PLOTLYENV.BASE_URL='https://plot.ly';                                    if (document.getElementById(\"070ca8c1-c043-4ce9-b98c-080bc2799aa8\")) {                    Plotly.newPlot(                        \"070ca8c1-c043-4ce9-b98c-080bc2799aa8\",                        [{\"marker\":{\"color\":\"rgba(255, 153, 51, 0.6)\",\"line\":{\"color\":\"rgba(255, 153, 51, 1.0)\",\"width\":1}},\"name\":\"Values\",\"orientation\":\"v\",\"text\":\"\",\"x\":[\"A\",\"B\",\"C\"],\"y\":[23,43,50],\"type\":\"bar\"}],                        {\"legend\":{\"bgcolor\":\"#F5F6F9\",\"font\":{\"color\":\"#4D5663\"}},\"paper_bgcolor\":\"#F5F6F9\",\"plot_bgcolor\":\"#F5F6F9\",\"template\":{\"data\":{\"barpolar\":[{\"marker\":{\"line\":{\"color\":\"#E5ECF6\",\"width\":0.5},\"pattern\":{\"fillmode\":\"overlay\",\"size\":10,\"solidity\":0.2}},\"type\":\"barpolar\"}],\"bar\":[{\"error_x\":{\"color\":\"#2a3f5f\"},\"error_y\":{\"color\":\"#2a3f5f\"},\"marker\":{\"line\":{\"color\":\"#E5ECF6\",\"width\":0.5},\"pattern\":{\"fillmode\":\"overlay\",\"size\":10,\"solidity\":0.2}},\"type\":\"bar\"}],\"carpet\":[{\"aaxis\":{\"endlinecolor\":\"#2a3f5f\",\"gridcolor\":\"white\",\"linecolor\":\"white\",\"minorgridcolor\":\"white\",\"startlinecolor\":\"#2a3f5f\"},\"baxis\":{\"endlinecolor\":\"#2a3f5f\",\"gridcolor\":\"white\",\"linecolor\":\"white\",\"minorgridcolor\":\"white\",\"startlinecolor\":\"#2a3f5f\"},\"type\":\"carpet\"}],\"choropleth\":[{\"colorbar\":{\"outlinewidth\":0,\"ticks\":\"\"},\"type\":\"choropleth\"}],\"contourcarpet\":[{\"colorbar\":{\"outlinewidth\":0,\"ticks\":\"\"},\"type\":\"contourcarpet\"}],\"contour\":[{\"colorbar\":{\"outlinewidth\":0,\"ticks\":\"\"},\"colorscale\":[[0.0,\"#0d0887\"],[0.1111111111111111,\"#46039f\"],[0.2222222222222222,\"#7201a8\"],[0.3333333333333333,\"#9c179e\"],[0.4444444444444444,\"#bd3786\"],[0.5555555555555556,\"#d8576b\"],[0.6666666666666666,\"#ed7953\"],[0.7777777777777778,\"#fb9f3a\"],[0.8888888888888888,\"#fdca26\"],[1.0,\"#f0f921\"]],\"type\":\"contour\"}],\"heatmapgl\":[{\"colorbar\":{\"outlinewidth\":0,\"ticks\":\"\"},\"colorscale\":[[0.0,\"#0d0887\"],[0.1111111111111111,\"#46039f\"],[0.2222222222222222,\"#7201a8\"],[0.3333333333333333,\"#9c179e\"],[0.4444444444444444,\"#bd3786\"],[0.5555555555555556,\"#d8576b\"],[0.6666666666666666,\"#ed7953\"],[0.7777777777777778,\"#fb9f3a\"],[0.8888888888888888,\"#fdca26\"],[1.0,\"#f0f921\"]],\"type\":\"heatmapgl\"}],\"heatmap\":[{\"colorbar\":{\"outlinewidth\":0,\"ticks\":\"\"},\"colorscale\":[[0.0,\"#0d0887\"],[0.1111111111111111,\"#46039f\"],[0.2222222222222222,\"#7201a8\"],[0.3333333333333333,\"#9c179e\"],[0.4444444444444444,\"#bd3786\"],[0.5555555555555556,\"#d8576b\"],[0.6666666666666666,\"#ed7953\"],[0.7777777777777778,\"#fb9f3a\"],[0.8888888888888888,\"#fdca26\"],[1.0,\"#f0f921\"]],\"type\":\"heatmap\"}],\"histogram2dcontour\":[{\"colorbar\":{\"outlinewidth\":0,\"ticks\":\"\"},\"colorscale\":[[0.0,\"#0d0887\"],[0.1111111111111111,\"#46039f\"],[0.2222222222222222,\"#7201a8\"],[0.3333333333333333,\"#9c179e\"],[0.4444444444444444,\"#bd3786\"],[0.5555555555555556,\"#d8576b\"],[0.6666666666666666,\"#ed7953\"],[0.7777777777777778,\"#fb9f3a\"],[0.8888888888888888,\"#fdca26\"],[1.0,\"#f0f921\"]],\"type\":\"histogram2dcontour\"}],\"histogram2d\":[{\"colorbar\":{\"outlinewidth\":0,\"ticks\":\"\"},\"colorscale\":[[0.0,\"#0d0887\"],[0.1111111111111111,\"#46039f\"],[0.2222222222222222,\"#7201a8\"],[0.3333333333333333,\"#9c179e\"],[0.4444444444444444,\"#bd3786\"],[0.5555555555555556,\"#d8576b\"],[0.6666666666666666,\"#ed7953\"],[0.7777777777777778,\"#fb9f3a\"],[0.8888888888888888,\"#fdca26\"],[1.0,\"#f0f921\"]],\"type\":\"histogram2d\"}],\"histogram\":[{\"marker\":{\"pattern\":{\"fillmode\":\"overlay\",\"size\":10,\"solidity\":0.2}},\"type\":\"histogram\"}],\"mesh3d\":[{\"colorbar\":{\"outlinewidth\":0,\"ticks\":\"\"},\"type\":\"mesh3d\"}],\"parcoords\":[{\"line\":{\"colorbar\":{\"outlinewidth\":0,\"ticks\":\"\"}},\"type\":\"parcoords\"}],\"pie\":[{\"automargin\":true,\"type\":\"pie\"}],\"scatter3d\":[{\"line\":{\"colorbar\":{\"outlinewidth\":0,\"ticks\":\"\"}},\"marker\":{\"colorbar\":{\"outlinewidth\":0,\"ticks\":\"\"}},\"type\":\"scatter3d\"}],\"scattercarpet\":[{\"marker\":{\"colorbar\":{\"outlinewidth\":0,\"ticks\":\"\"}},\"type\":\"scattercarpet\"}],\"scattergeo\":[{\"marker\":{\"colorbar\":{\"outlinewidth\":0,\"ticks\":\"\"}},\"type\":\"scattergeo\"}],\"scattergl\":[{\"marker\":{\"colorbar\":{\"outlinewidth\":0,\"ticks\":\"\"}},\"type\":\"scattergl\"}],\"scattermapbox\":[{\"marker\":{\"colorbar\":{\"outlinewidth\":0,\"ticks\":\"\"}},\"type\":\"scattermapbox\"}],\"scatterpolargl\":[{\"marker\":{\"colorbar\":{\"outlinewidth\":0,\"ticks\":\"\"}},\"type\":\"scatterpolargl\"}],\"scatterpolar\":[{\"marker\":{\"colorbar\":{\"outlinewidth\":0,\"ticks\":\"\"}},\"type\":\"scatterpolar\"}],\"scatter\":[{\"fillpattern\":{\"fillmode\":\"overlay\",\"size\":10,\"solidity\":0.2},\"type\":\"scatter\"}],\"scatterternary\":[{\"marker\":{\"colorbar\":{\"outlinewidth\":0,\"ticks\":\"\"}},\"type\":\"scatterternary\"}],\"surface\":[{\"colorbar\":{\"outlinewidth\":0,\"ticks\":\"\"},\"colorscale\":[[0.0,\"#0d0887\"],[0.1111111111111111,\"#46039f\"],[0.2222222222222222,\"#7201a8\"],[0.3333333333333333,\"#9c179e\"],[0.4444444444444444,\"#bd3786\"],[0.5555555555555556,\"#d8576b\"],[0.6666666666666666,\"#ed7953\"],[0.7777777777777778,\"#fb9f3a\"],[0.8888888888888888,\"#fdca26\"],[1.0,\"#f0f921\"]],\"type\":\"surface\"}],\"table\":[{\"cells\":{\"fill\":{\"color\":\"#EBF0F8\"},\"line\":{\"color\":\"white\"}},\"header\":{\"fill\":{\"color\":\"#C8D4E3\"},\"line\":{\"color\":\"white\"}},\"type\":\"table\"}]},\"layout\":{\"annotationdefaults\":{\"arrowcolor\":\"#2a3f5f\",\"arrowhead\":0,\"arrowwidth\":1},\"autotypenumbers\":\"strict\",\"coloraxis\":{\"colorbar\":{\"outlinewidth\":0,\"ticks\":\"\"}},\"colorscale\":{\"diverging\":[[0,\"#8e0152\"],[0.1,\"#c51b7d\"],[0.2,\"#de77ae\"],[0.3,\"#f1b6da\"],[0.4,\"#fde0ef\"],[0.5,\"#f7f7f7\"],[0.6,\"#e6f5d0\"],[0.7,\"#b8e186\"],[0.8,\"#7fbc41\"],[0.9,\"#4d9221\"],[1,\"#276419\"]],\"sequential\":[[0.0,\"#0d0887\"],[0.1111111111111111,\"#46039f\"],[0.2222222222222222,\"#7201a8\"],[0.3333333333333333,\"#9c179e\"],[0.4444444444444444,\"#bd3786\"],[0.5555555555555556,\"#d8576b\"],[0.6666666666666666,\"#ed7953\"],[0.7777777777777778,\"#fb9f3a\"],[0.8888888888888888,\"#fdca26\"],[1.0,\"#f0f921\"]],\"sequentialminus\":[[0.0,\"#0d0887\"],[0.1111111111111111,\"#46039f\"],[0.2222222222222222,\"#7201a8\"],[0.3333333333333333,\"#9c179e\"],[0.4444444444444444,\"#bd3786\"],[0.5555555555555556,\"#d8576b\"],[0.6666666666666666,\"#ed7953\"],[0.7777777777777778,\"#fb9f3a\"],[0.8888888888888888,\"#fdca26\"],[1.0,\"#f0f921\"]]},\"colorway\":[\"#636efa\",\"#EF553B\",\"#00cc96\",\"#ab63fa\",\"#FFA15A\",\"#19d3f3\",\"#FF6692\",\"#B6E880\",\"#FF97FF\",\"#FECB52\"],\"font\":{\"color\":\"#2a3f5f\"},\"geo\":{\"bgcolor\":\"white\",\"lakecolor\":\"white\",\"landcolor\":\"#E5ECF6\",\"showlakes\":true,\"showland\":true,\"subunitcolor\":\"white\"},\"hoverlabel\":{\"align\":\"left\"},\"hovermode\":\"closest\",\"mapbox\":{\"style\":\"light\"},\"paper_bgcolor\":\"white\",\"plot_bgcolor\":\"#E5ECF6\",\"polar\":{\"angularaxis\":{\"gridcolor\":\"white\",\"linecolor\":\"white\",\"ticks\":\"\"},\"bgcolor\":\"#E5ECF6\",\"radialaxis\":{\"gridcolor\":\"white\",\"linecolor\":\"white\",\"ticks\":\"\"}},\"scene\":{\"xaxis\":{\"backgroundcolor\":\"#E5ECF6\",\"gridcolor\":\"white\",\"gridwidth\":2,\"linecolor\":\"white\",\"showbackground\":true,\"ticks\":\"\",\"zerolinecolor\":\"white\"},\"yaxis\":{\"backgroundcolor\":\"#E5ECF6\",\"gridcolor\":\"white\",\"gridwidth\":2,\"linecolor\":\"white\",\"showbackground\":true,\"ticks\":\"\",\"zerolinecolor\":\"white\"},\"zaxis\":{\"backgroundcolor\":\"#E5ECF6\",\"gridcolor\":\"white\",\"gridwidth\":2,\"linecolor\":\"white\",\"showbackground\":true,\"ticks\":\"\",\"zerolinecolor\":\"white\"}},\"shapedefaults\":{\"line\":{\"color\":\"#2a3f5f\"}},\"ternary\":{\"aaxis\":{\"gridcolor\":\"white\",\"linecolor\":\"white\",\"ticks\":\"\"},\"baxis\":{\"gridcolor\":\"white\",\"linecolor\":\"white\",\"ticks\":\"\"},\"bgcolor\":\"#E5ECF6\",\"caxis\":{\"gridcolor\":\"white\",\"linecolor\":\"white\",\"ticks\":\"\"}},\"title\":{\"x\":0.05},\"xaxis\":{\"automargin\":true,\"gridcolor\":\"white\",\"linecolor\":\"white\",\"ticks\":\"\",\"title\":{\"standoff\":15},\"zerolinecolor\":\"white\",\"zerolinewidth\":2},\"yaxis\":{\"automargin\":true,\"gridcolor\":\"white\",\"linecolor\":\"white\",\"ticks\":\"\",\"title\":{\"standoff\":15},\"zerolinecolor\":\"white\",\"zerolinewidth\":2}}},\"title\":{\"font\":{\"color\":\"#4D5663\"}},\"xaxis\":{\"gridcolor\":\"#E1E5ED\",\"showgrid\":true,\"tickfont\":{\"color\":\"#4D5663\"},\"title\":{\"font\":{\"color\":\"#4D5663\"},\"text\":\"\"},\"zerolinecolor\":\"#E1E5ED\"},\"yaxis\":{\"gridcolor\":\"#E1E5ED\",\"showgrid\":true,\"tickfont\":{\"color\":\"#4D5663\"},\"title\":{\"font\":{\"color\":\"#4D5663\"},\"text\":\"\"},\"zerolinecolor\":\"#E1E5ED\"}},                        {\"showLink\": true, \"linkText\": \"Export to plot.ly\", \"plotlyServerURL\": \"https://plot.ly\", \"responsive\": true}                    ).then(function(){\n",
       "                            \n",
       "var gd = document.getElementById('070ca8c1-c043-4ce9-b98c-080bc2799aa8');\n",
       "var x = new MutationObserver(function (mutations, observer) {{\n",
       "        var display = window.getComputedStyle(gd).display;\n",
       "        if (!display || display === 'none') {{\n",
       "            console.log([gd, 'removed!']);\n",
       "            Plotly.purge(gd);\n",
       "            observer.disconnect();\n",
       "        }}\n",
       "}});\n",
       "\n",
       "// Listen for the removal of the full notebook cells\n",
       "var notebookContainer = gd.closest('#notebook-container');\n",
       "if (notebookContainer) {{\n",
       "    x.observe(notebookContainer, {childList: true});\n",
       "}}\n",
       "\n",
       "// Listen for the clearing of the current output cell\n",
       "var outputEl = gd.closest('.output');\n",
       "if (outputEl) {{\n",
       "    x.observe(outputEl, {childList: true});\n",
       "}}\n",
       "\n",
       "                        })                };                });            </script>        </div>"
      ]
     },
     "metadata": {},
     "output_type": "display_data"
    }
   ],
   "source": [
    "df2.iplot(kind = 'bar', x='category', y = 'Values')"
   ]
  },
  {
   "cell_type": "code",
   "execution_count": 36,
   "id": "6111c6b1",
   "metadata": {},
   "outputs": [
    {
     "data": {
      "text/html": [
       "<div>\n",
       "<style scoped>\n",
       "    .dataframe tbody tr th:only-of-type {\n",
       "        vertical-align: middle;\n",
       "    }\n",
       "\n",
       "    .dataframe tbody tr th {\n",
       "        vertical-align: top;\n",
       "    }\n",
       "\n",
       "    .dataframe thead th {\n",
       "        text-align: right;\n",
       "    }\n",
       "</style>\n",
       "<table border=\"1\" class=\"dataframe\">\n",
       "  <thead>\n",
       "    <tr style=\"text-align: right;\">\n",
       "      <th></th>\n",
       "      <th>A</th>\n",
       "      <th>B</th>\n",
       "      <th>C</th>\n",
       "      <th>D</th>\n",
       "    </tr>\n",
       "  </thead>\n",
       "  <tbody>\n",
       "    <tr>\n",
       "      <th>0</th>\n",
       "      <td>0.963656</td>\n",
       "      <td>1.041861</td>\n",
       "      <td>1.968469</td>\n",
       "      <td>1.663034</td>\n",
       "    </tr>\n",
       "    <tr>\n",
       "      <th>1</th>\n",
       "      <td>1.121381</td>\n",
       "      <td>-1.493967</td>\n",
       "      <td>0.886574</td>\n",
       "      <td>0.075504</td>\n",
       "    </tr>\n",
       "    <tr>\n",
       "      <th>2</th>\n",
       "      <td>0.081173</td>\n",
       "      <td>-0.021279</td>\n",
       "      <td>-0.928292</td>\n",
       "      <td>-0.597325</td>\n",
       "    </tr>\n",
       "    <tr>\n",
       "      <th>3</th>\n",
       "      <td>0.906750</td>\n",
       "      <td>0.332930</td>\n",
       "      <td>0.086423</td>\n",
       "      <td>-1.657450</td>\n",
       "    </tr>\n",
       "    <tr>\n",
       "      <th>4</th>\n",
       "      <td>1.289087</td>\n",
       "      <td>1.140744</td>\n",
       "      <td>-0.178515</td>\n",
       "      <td>0.052804</td>\n",
       "    </tr>\n",
       "    <tr>\n",
       "      <th>...</th>\n",
       "      <td>...</td>\n",
       "      <td>...</td>\n",
       "      <td>...</td>\n",
       "      <td>...</td>\n",
       "    </tr>\n",
       "    <tr>\n",
       "      <th>95</th>\n",
       "      <td>1.199667</td>\n",
       "      <td>-1.177586</td>\n",
       "      <td>-0.244653</td>\n",
       "      <td>-0.353829</td>\n",
       "    </tr>\n",
       "    <tr>\n",
       "      <th>96</th>\n",
       "      <td>0.068314</td>\n",
       "      <td>0.748292</td>\n",
       "      <td>1.109348</td>\n",
       "      <td>-0.691322</td>\n",
       "    </tr>\n",
       "    <tr>\n",
       "      <th>97</th>\n",
       "      <td>-0.057602</td>\n",
       "      <td>0.214533</td>\n",
       "      <td>3.462656</td>\n",
       "      <td>0.898685</td>\n",
       "    </tr>\n",
       "    <tr>\n",
       "      <th>98</th>\n",
       "      <td>0.382706</td>\n",
       "      <td>0.109380</td>\n",
       "      <td>-0.417502</td>\n",
       "      <td>0.249478</td>\n",
       "    </tr>\n",
       "    <tr>\n",
       "      <th>99</th>\n",
       "      <td>0.569200</td>\n",
       "      <td>-0.362953</td>\n",
       "      <td>0.129392</td>\n",
       "      <td>-0.403443</td>\n",
       "    </tr>\n",
       "  </tbody>\n",
       "</table>\n",
       "<p>100 rows × 4 columns</p>\n",
       "</div>"
      ],
      "text/plain": [
       "           A         B         C         D\n",
       "0   0.963656  1.041861  1.968469  1.663034\n",
       "1   1.121381 -1.493967  0.886574  0.075504\n",
       "2   0.081173 -0.021279 -0.928292 -0.597325\n",
       "3   0.906750  0.332930  0.086423 -1.657450\n",
       "4   1.289087  1.140744 -0.178515  0.052804\n",
       "..       ...       ...       ...       ...\n",
       "95  1.199667 -1.177586 -0.244653 -0.353829\n",
       "96  0.068314  0.748292  1.109348 -0.691322\n",
       "97 -0.057602  0.214533  3.462656  0.898685\n",
       "98  0.382706  0.109380 -0.417502  0.249478\n",
       "99  0.569200 -0.362953  0.129392 -0.403443\n",
       "\n",
       "[100 rows x 4 columns]"
      ]
     },
     "execution_count": 36,
     "metadata": {},
     "output_type": "execute_result"
    }
   ],
   "source": [
    "df"
   ]
  },
  {
   "cell_type": "code",
   "execution_count": 38,
   "id": "61180378",
   "metadata": {},
   "outputs": [
    {
     "data": {
      "application/vnd.plotly.v1+json": {
       "config": {
        "linkText": "Export to plot.ly",
        "plotlyServerURL": "https://plot.ly",
        "showLink": true
       },
       "data": [
        {
         "marker": {
          "color": "rgba(255, 153, 51, 0.6)",
          "line": {
           "color": "rgba(255, 153, 51, 1.0)",
           "width": 1
          }
         },
         "name": "None",
         "orientation": "v",
         "text": "",
         "type": "bar",
         "x": [
          "A",
          "B",
          "C",
          "D"
         ],
         "y": [
          100,
          100,
          100,
          100
         ]
        }
       ],
       "layout": {
        "legend": {
         "bgcolor": "#F5F6F9",
         "font": {
          "color": "#4D5663"
         }
        },
        "paper_bgcolor": "#F5F6F9",
        "plot_bgcolor": "#F5F6F9",
        "template": {
         "data": {
          "bar": [
           {
            "error_x": {
             "color": "#2a3f5f"
            },
            "error_y": {
             "color": "#2a3f5f"
            },
            "marker": {
             "line": {
              "color": "#E5ECF6",
              "width": 0.5
             },
             "pattern": {
              "fillmode": "overlay",
              "size": 10,
              "solidity": 0.2
             }
            },
            "type": "bar"
           }
          ],
          "barpolar": [
           {
            "marker": {
             "line": {
              "color": "#E5ECF6",
              "width": 0.5
             },
             "pattern": {
              "fillmode": "overlay",
              "size": 10,
              "solidity": 0.2
             }
            },
            "type": "barpolar"
           }
          ],
          "carpet": [
           {
            "aaxis": {
             "endlinecolor": "#2a3f5f",
             "gridcolor": "white",
             "linecolor": "white",
             "minorgridcolor": "white",
             "startlinecolor": "#2a3f5f"
            },
            "baxis": {
             "endlinecolor": "#2a3f5f",
             "gridcolor": "white",
             "linecolor": "white",
             "minorgridcolor": "white",
             "startlinecolor": "#2a3f5f"
            },
            "type": "carpet"
           }
          ],
          "choropleth": [
           {
            "colorbar": {
             "outlinewidth": 0,
             "ticks": ""
            },
            "type": "choropleth"
           }
          ],
          "contour": [
           {
            "colorbar": {
             "outlinewidth": 0,
             "ticks": ""
            },
            "colorscale": [
             [
              0,
              "#0d0887"
             ],
             [
              0.1111111111111111,
              "#46039f"
             ],
             [
              0.2222222222222222,
              "#7201a8"
             ],
             [
              0.3333333333333333,
              "#9c179e"
             ],
             [
              0.4444444444444444,
              "#bd3786"
             ],
             [
              0.5555555555555556,
              "#d8576b"
             ],
             [
              0.6666666666666666,
              "#ed7953"
             ],
             [
              0.7777777777777778,
              "#fb9f3a"
             ],
             [
              0.8888888888888888,
              "#fdca26"
             ],
             [
              1,
              "#f0f921"
             ]
            ],
            "type": "contour"
           }
          ],
          "contourcarpet": [
           {
            "colorbar": {
             "outlinewidth": 0,
             "ticks": ""
            },
            "type": "contourcarpet"
           }
          ],
          "heatmap": [
           {
            "colorbar": {
             "outlinewidth": 0,
             "ticks": ""
            },
            "colorscale": [
             [
              0,
              "#0d0887"
             ],
             [
              0.1111111111111111,
              "#46039f"
             ],
             [
              0.2222222222222222,
              "#7201a8"
             ],
             [
              0.3333333333333333,
              "#9c179e"
             ],
             [
              0.4444444444444444,
              "#bd3786"
             ],
             [
              0.5555555555555556,
              "#d8576b"
             ],
             [
              0.6666666666666666,
              "#ed7953"
             ],
             [
              0.7777777777777778,
              "#fb9f3a"
             ],
             [
              0.8888888888888888,
              "#fdca26"
             ],
             [
              1,
              "#f0f921"
             ]
            ],
            "type": "heatmap"
           }
          ],
          "heatmapgl": [
           {
            "colorbar": {
             "outlinewidth": 0,
             "ticks": ""
            },
            "colorscale": [
             [
              0,
              "#0d0887"
             ],
             [
              0.1111111111111111,
              "#46039f"
             ],
             [
              0.2222222222222222,
              "#7201a8"
             ],
             [
              0.3333333333333333,
              "#9c179e"
             ],
             [
              0.4444444444444444,
              "#bd3786"
             ],
             [
              0.5555555555555556,
              "#d8576b"
             ],
             [
              0.6666666666666666,
              "#ed7953"
             ],
             [
              0.7777777777777778,
              "#fb9f3a"
             ],
             [
              0.8888888888888888,
              "#fdca26"
             ],
             [
              1,
              "#f0f921"
             ]
            ],
            "type": "heatmapgl"
           }
          ],
          "histogram": [
           {
            "marker": {
             "pattern": {
              "fillmode": "overlay",
              "size": 10,
              "solidity": 0.2
             }
            },
            "type": "histogram"
           }
          ],
          "histogram2d": [
           {
            "colorbar": {
             "outlinewidth": 0,
             "ticks": ""
            },
            "colorscale": [
             [
              0,
              "#0d0887"
             ],
             [
              0.1111111111111111,
              "#46039f"
             ],
             [
              0.2222222222222222,
              "#7201a8"
             ],
             [
              0.3333333333333333,
              "#9c179e"
             ],
             [
              0.4444444444444444,
              "#bd3786"
             ],
             [
              0.5555555555555556,
              "#d8576b"
             ],
             [
              0.6666666666666666,
              "#ed7953"
             ],
             [
              0.7777777777777778,
              "#fb9f3a"
             ],
             [
              0.8888888888888888,
              "#fdca26"
             ],
             [
              1,
              "#f0f921"
             ]
            ],
            "type": "histogram2d"
           }
          ],
          "histogram2dcontour": [
           {
            "colorbar": {
             "outlinewidth": 0,
             "ticks": ""
            },
            "colorscale": [
             [
              0,
              "#0d0887"
             ],
             [
              0.1111111111111111,
              "#46039f"
             ],
             [
              0.2222222222222222,
              "#7201a8"
             ],
             [
              0.3333333333333333,
              "#9c179e"
             ],
             [
              0.4444444444444444,
              "#bd3786"
             ],
             [
              0.5555555555555556,
              "#d8576b"
             ],
             [
              0.6666666666666666,
              "#ed7953"
             ],
             [
              0.7777777777777778,
              "#fb9f3a"
             ],
             [
              0.8888888888888888,
              "#fdca26"
             ],
             [
              1,
              "#f0f921"
             ]
            ],
            "type": "histogram2dcontour"
           }
          ],
          "mesh3d": [
           {
            "colorbar": {
             "outlinewidth": 0,
             "ticks": ""
            },
            "type": "mesh3d"
           }
          ],
          "parcoords": [
           {
            "line": {
             "colorbar": {
              "outlinewidth": 0,
              "ticks": ""
             }
            },
            "type": "parcoords"
           }
          ],
          "pie": [
           {
            "automargin": true,
            "type": "pie"
           }
          ],
          "scatter": [
           {
            "fillpattern": {
             "fillmode": "overlay",
             "size": 10,
             "solidity": 0.2
            },
            "type": "scatter"
           }
          ],
          "scatter3d": [
           {
            "line": {
             "colorbar": {
              "outlinewidth": 0,
              "ticks": ""
             }
            },
            "marker": {
             "colorbar": {
              "outlinewidth": 0,
              "ticks": ""
             }
            },
            "type": "scatter3d"
           }
          ],
          "scattercarpet": [
           {
            "marker": {
             "colorbar": {
              "outlinewidth": 0,
              "ticks": ""
             }
            },
            "type": "scattercarpet"
           }
          ],
          "scattergeo": [
           {
            "marker": {
             "colorbar": {
              "outlinewidth": 0,
              "ticks": ""
             }
            },
            "type": "scattergeo"
           }
          ],
          "scattergl": [
           {
            "marker": {
             "colorbar": {
              "outlinewidth": 0,
              "ticks": ""
             }
            },
            "type": "scattergl"
           }
          ],
          "scattermapbox": [
           {
            "marker": {
             "colorbar": {
              "outlinewidth": 0,
              "ticks": ""
             }
            },
            "type": "scattermapbox"
           }
          ],
          "scatterpolar": [
           {
            "marker": {
             "colorbar": {
              "outlinewidth": 0,
              "ticks": ""
             }
            },
            "type": "scatterpolar"
           }
          ],
          "scatterpolargl": [
           {
            "marker": {
             "colorbar": {
              "outlinewidth": 0,
              "ticks": ""
             }
            },
            "type": "scatterpolargl"
           }
          ],
          "scatterternary": [
           {
            "marker": {
             "colorbar": {
              "outlinewidth": 0,
              "ticks": ""
             }
            },
            "type": "scatterternary"
           }
          ],
          "surface": [
           {
            "colorbar": {
             "outlinewidth": 0,
             "ticks": ""
            },
            "colorscale": [
             [
              0,
              "#0d0887"
             ],
             [
              0.1111111111111111,
              "#46039f"
             ],
             [
              0.2222222222222222,
              "#7201a8"
             ],
             [
              0.3333333333333333,
              "#9c179e"
             ],
             [
              0.4444444444444444,
              "#bd3786"
             ],
             [
              0.5555555555555556,
              "#d8576b"
             ],
             [
              0.6666666666666666,
              "#ed7953"
             ],
             [
              0.7777777777777778,
              "#fb9f3a"
             ],
             [
              0.8888888888888888,
              "#fdca26"
             ],
             [
              1,
              "#f0f921"
             ]
            ],
            "type": "surface"
           }
          ],
          "table": [
           {
            "cells": {
             "fill": {
              "color": "#EBF0F8"
             },
             "line": {
              "color": "white"
             }
            },
            "header": {
             "fill": {
              "color": "#C8D4E3"
             },
             "line": {
              "color": "white"
             }
            },
            "type": "table"
           }
          ]
         },
         "layout": {
          "annotationdefaults": {
           "arrowcolor": "#2a3f5f",
           "arrowhead": 0,
           "arrowwidth": 1
          },
          "autotypenumbers": "strict",
          "coloraxis": {
           "colorbar": {
            "outlinewidth": 0,
            "ticks": ""
           }
          },
          "colorscale": {
           "diverging": [
            [
             0,
             "#8e0152"
            ],
            [
             0.1,
             "#c51b7d"
            ],
            [
             0.2,
             "#de77ae"
            ],
            [
             0.3,
             "#f1b6da"
            ],
            [
             0.4,
             "#fde0ef"
            ],
            [
             0.5,
             "#f7f7f7"
            ],
            [
             0.6,
             "#e6f5d0"
            ],
            [
             0.7,
             "#b8e186"
            ],
            [
             0.8,
             "#7fbc41"
            ],
            [
             0.9,
             "#4d9221"
            ],
            [
             1,
             "#276419"
            ]
           ],
           "sequential": [
            [
             0,
             "#0d0887"
            ],
            [
             0.1111111111111111,
             "#46039f"
            ],
            [
             0.2222222222222222,
             "#7201a8"
            ],
            [
             0.3333333333333333,
             "#9c179e"
            ],
            [
             0.4444444444444444,
             "#bd3786"
            ],
            [
             0.5555555555555556,
             "#d8576b"
            ],
            [
             0.6666666666666666,
             "#ed7953"
            ],
            [
             0.7777777777777778,
             "#fb9f3a"
            ],
            [
             0.8888888888888888,
             "#fdca26"
            ],
            [
             1,
             "#f0f921"
            ]
           ],
           "sequentialminus": [
            [
             0,
             "#0d0887"
            ],
            [
             0.1111111111111111,
             "#46039f"
            ],
            [
             0.2222222222222222,
             "#7201a8"
            ],
            [
             0.3333333333333333,
             "#9c179e"
            ],
            [
             0.4444444444444444,
             "#bd3786"
            ],
            [
             0.5555555555555556,
             "#d8576b"
            ],
            [
             0.6666666666666666,
             "#ed7953"
            ],
            [
             0.7777777777777778,
             "#fb9f3a"
            ],
            [
             0.8888888888888888,
             "#fdca26"
            ],
            [
             1,
             "#f0f921"
            ]
           ]
          },
          "colorway": [
           "#636efa",
           "#EF553B",
           "#00cc96",
           "#ab63fa",
           "#FFA15A",
           "#19d3f3",
           "#FF6692",
           "#B6E880",
           "#FF97FF",
           "#FECB52"
          ],
          "font": {
           "color": "#2a3f5f"
          },
          "geo": {
           "bgcolor": "white",
           "lakecolor": "white",
           "landcolor": "#E5ECF6",
           "showlakes": true,
           "showland": true,
           "subunitcolor": "white"
          },
          "hoverlabel": {
           "align": "left"
          },
          "hovermode": "closest",
          "mapbox": {
           "style": "light"
          },
          "paper_bgcolor": "white",
          "plot_bgcolor": "#E5ECF6",
          "polar": {
           "angularaxis": {
            "gridcolor": "white",
            "linecolor": "white",
            "ticks": ""
           },
           "bgcolor": "#E5ECF6",
           "radialaxis": {
            "gridcolor": "white",
            "linecolor": "white",
            "ticks": ""
           }
          },
          "scene": {
           "xaxis": {
            "backgroundcolor": "#E5ECF6",
            "gridcolor": "white",
            "gridwidth": 2,
            "linecolor": "white",
            "showbackground": true,
            "ticks": "",
            "zerolinecolor": "white"
           },
           "yaxis": {
            "backgroundcolor": "#E5ECF6",
            "gridcolor": "white",
            "gridwidth": 2,
            "linecolor": "white",
            "showbackground": true,
            "ticks": "",
            "zerolinecolor": "white"
           },
           "zaxis": {
            "backgroundcolor": "#E5ECF6",
            "gridcolor": "white",
            "gridwidth": 2,
            "linecolor": "white",
            "showbackground": true,
            "ticks": "",
            "zerolinecolor": "white"
           }
          },
          "shapedefaults": {
           "line": {
            "color": "#2a3f5f"
           }
          },
          "ternary": {
           "aaxis": {
            "gridcolor": "white",
            "linecolor": "white",
            "ticks": ""
           },
           "baxis": {
            "gridcolor": "white",
            "linecolor": "white",
            "ticks": ""
           },
           "bgcolor": "#E5ECF6",
           "caxis": {
            "gridcolor": "white",
            "linecolor": "white",
            "ticks": ""
           }
          },
          "title": {
           "x": 0.05
          },
          "xaxis": {
           "automargin": true,
           "gridcolor": "white",
           "linecolor": "white",
           "ticks": "",
           "title": {
            "standoff": 15
           },
           "zerolinecolor": "white",
           "zerolinewidth": 2
          },
          "yaxis": {
           "automargin": true,
           "gridcolor": "white",
           "linecolor": "white",
           "ticks": "",
           "title": {
            "standoff": 15
           },
           "zerolinecolor": "white",
           "zerolinewidth": 2
          }
         }
        },
        "title": {
         "font": {
          "color": "#4D5663"
         }
        },
        "xaxis": {
         "gridcolor": "#E1E5ED",
         "showgrid": true,
         "tickfont": {
          "color": "#4D5663"
         },
         "title": {
          "font": {
           "color": "#4D5663"
          },
          "text": ""
         },
         "zerolinecolor": "#E1E5ED"
        },
        "yaxis": {
         "gridcolor": "#E1E5ED",
         "showgrid": true,
         "tickfont": {
          "color": "#4D5663"
         },
         "title": {
          "font": {
           "color": "#4D5663"
          },
          "text": ""
         },
         "zerolinecolor": "#E1E5ED"
        }
       }
      },
      "text/html": [
       "<div>                            <div id=\"605ab8fc-ebe8-4e2b-92be-2032876c4b3f\" class=\"plotly-graph-div\" style=\"height:525px; width:100%;\"></div>            <script type=\"text/javascript\">                require([\"plotly\"], function(Plotly) {                    window.PLOTLYENV=window.PLOTLYENV || {};\n",
       "                    window.PLOTLYENV.BASE_URL='https://plot.ly';                                    if (document.getElementById(\"605ab8fc-ebe8-4e2b-92be-2032876c4b3f\")) {                    Plotly.newPlot(                        \"605ab8fc-ebe8-4e2b-92be-2032876c4b3f\",                        [{\"marker\":{\"color\":\"rgba(255, 153, 51, 0.6)\",\"line\":{\"color\":\"rgba(255, 153, 51, 1.0)\",\"width\":1}},\"name\":\"None\",\"orientation\":\"v\",\"text\":\"\",\"x\":[\"A\",\"B\",\"C\",\"D\"],\"y\":[100,100,100,100],\"type\":\"bar\"}],                        {\"legend\":{\"bgcolor\":\"#F5F6F9\",\"font\":{\"color\":\"#4D5663\"}},\"paper_bgcolor\":\"#F5F6F9\",\"plot_bgcolor\":\"#F5F6F9\",\"template\":{\"data\":{\"barpolar\":[{\"marker\":{\"line\":{\"color\":\"#E5ECF6\",\"width\":0.5},\"pattern\":{\"fillmode\":\"overlay\",\"size\":10,\"solidity\":0.2}},\"type\":\"barpolar\"}],\"bar\":[{\"error_x\":{\"color\":\"#2a3f5f\"},\"error_y\":{\"color\":\"#2a3f5f\"},\"marker\":{\"line\":{\"color\":\"#E5ECF6\",\"width\":0.5},\"pattern\":{\"fillmode\":\"overlay\",\"size\":10,\"solidity\":0.2}},\"type\":\"bar\"}],\"carpet\":[{\"aaxis\":{\"endlinecolor\":\"#2a3f5f\",\"gridcolor\":\"white\",\"linecolor\":\"white\",\"minorgridcolor\":\"white\",\"startlinecolor\":\"#2a3f5f\"},\"baxis\":{\"endlinecolor\":\"#2a3f5f\",\"gridcolor\":\"white\",\"linecolor\":\"white\",\"minorgridcolor\":\"white\",\"startlinecolor\":\"#2a3f5f\"},\"type\":\"carpet\"}],\"choropleth\":[{\"colorbar\":{\"outlinewidth\":0,\"ticks\":\"\"},\"type\":\"choropleth\"}],\"contourcarpet\":[{\"colorbar\":{\"outlinewidth\":0,\"ticks\":\"\"},\"type\":\"contourcarpet\"}],\"contour\":[{\"colorbar\":{\"outlinewidth\":0,\"ticks\":\"\"},\"colorscale\":[[0.0,\"#0d0887\"],[0.1111111111111111,\"#46039f\"],[0.2222222222222222,\"#7201a8\"],[0.3333333333333333,\"#9c179e\"],[0.4444444444444444,\"#bd3786\"],[0.5555555555555556,\"#d8576b\"],[0.6666666666666666,\"#ed7953\"],[0.7777777777777778,\"#fb9f3a\"],[0.8888888888888888,\"#fdca26\"],[1.0,\"#f0f921\"]],\"type\":\"contour\"}],\"heatmapgl\":[{\"colorbar\":{\"outlinewidth\":0,\"ticks\":\"\"},\"colorscale\":[[0.0,\"#0d0887\"],[0.1111111111111111,\"#46039f\"],[0.2222222222222222,\"#7201a8\"],[0.3333333333333333,\"#9c179e\"],[0.4444444444444444,\"#bd3786\"],[0.5555555555555556,\"#d8576b\"],[0.6666666666666666,\"#ed7953\"],[0.7777777777777778,\"#fb9f3a\"],[0.8888888888888888,\"#fdca26\"],[1.0,\"#f0f921\"]],\"type\":\"heatmapgl\"}],\"heatmap\":[{\"colorbar\":{\"outlinewidth\":0,\"ticks\":\"\"},\"colorscale\":[[0.0,\"#0d0887\"],[0.1111111111111111,\"#46039f\"],[0.2222222222222222,\"#7201a8\"],[0.3333333333333333,\"#9c179e\"],[0.4444444444444444,\"#bd3786\"],[0.5555555555555556,\"#d8576b\"],[0.6666666666666666,\"#ed7953\"],[0.7777777777777778,\"#fb9f3a\"],[0.8888888888888888,\"#fdca26\"],[1.0,\"#f0f921\"]],\"type\":\"heatmap\"}],\"histogram2dcontour\":[{\"colorbar\":{\"outlinewidth\":0,\"ticks\":\"\"},\"colorscale\":[[0.0,\"#0d0887\"],[0.1111111111111111,\"#46039f\"],[0.2222222222222222,\"#7201a8\"],[0.3333333333333333,\"#9c179e\"],[0.4444444444444444,\"#bd3786\"],[0.5555555555555556,\"#d8576b\"],[0.6666666666666666,\"#ed7953\"],[0.7777777777777778,\"#fb9f3a\"],[0.8888888888888888,\"#fdca26\"],[1.0,\"#f0f921\"]],\"type\":\"histogram2dcontour\"}],\"histogram2d\":[{\"colorbar\":{\"outlinewidth\":0,\"ticks\":\"\"},\"colorscale\":[[0.0,\"#0d0887\"],[0.1111111111111111,\"#46039f\"],[0.2222222222222222,\"#7201a8\"],[0.3333333333333333,\"#9c179e\"],[0.4444444444444444,\"#bd3786\"],[0.5555555555555556,\"#d8576b\"],[0.6666666666666666,\"#ed7953\"],[0.7777777777777778,\"#fb9f3a\"],[0.8888888888888888,\"#fdca26\"],[1.0,\"#f0f921\"]],\"type\":\"histogram2d\"}],\"histogram\":[{\"marker\":{\"pattern\":{\"fillmode\":\"overlay\",\"size\":10,\"solidity\":0.2}},\"type\":\"histogram\"}],\"mesh3d\":[{\"colorbar\":{\"outlinewidth\":0,\"ticks\":\"\"},\"type\":\"mesh3d\"}],\"parcoords\":[{\"line\":{\"colorbar\":{\"outlinewidth\":0,\"ticks\":\"\"}},\"type\":\"parcoords\"}],\"pie\":[{\"automargin\":true,\"type\":\"pie\"}],\"scatter3d\":[{\"line\":{\"colorbar\":{\"outlinewidth\":0,\"ticks\":\"\"}},\"marker\":{\"colorbar\":{\"outlinewidth\":0,\"ticks\":\"\"}},\"type\":\"scatter3d\"}],\"scattercarpet\":[{\"marker\":{\"colorbar\":{\"outlinewidth\":0,\"ticks\":\"\"}},\"type\":\"scattercarpet\"}],\"scattergeo\":[{\"marker\":{\"colorbar\":{\"outlinewidth\":0,\"ticks\":\"\"}},\"type\":\"scattergeo\"}],\"scattergl\":[{\"marker\":{\"colorbar\":{\"outlinewidth\":0,\"ticks\":\"\"}},\"type\":\"scattergl\"}],\"scattermapbox\":[{\"marker\":{\"colorbar\":{\"outlinewidth\":0,\"ticks\":\"\"}},\"type\":\"scattermapbox\"}],\"scatterpolargl\":[{\"marker\":{\"colorbar\":{\"outlinewidth\":0,\"ticks\":\"\"}},\"type\":\"scatterpolargl\"}],\"scatterpolar\":[{\"marker\":{\"colorbar\":{\"outlinewidth\":0,\"ticks\":\"\"}},\"type\":\"scatterpolar\"}],\"scatter\":[{\"fillpattern\":{\"fillmode\":\"overlay\",\"size\":10,\"solidity\":0.2},\"type\":\"scatter\"}],\"scatterternary\":[{\"marker\":{\"colorbar\":{\"outlinewidth\":0,\"ticks\":\"\"}},\"type\":\"scatterternary\"}],\"surface\":[{\"colorbar\":{\"outlinewidth\":0,\"ticks\":\"\"},\"colorscale\":[[0.0,\"#0d0887\"],[0.1111111111111111,\"#46039f\"],[0.2222222222222222,\"#7201a8\"],[0.3333333333333333,\"#9c179e\"],[0.4444444444444444,\"#bd3786\"],[0.5555555555555556,\"#d8576b\"],[0.6666666666666666,\"#ed7953\"],[0.7777777777777778,\"#fb9f3a\"],[0.8888888888888888,\"#fdca26\"],[1.0,\"#f0f921\"]],\"type\":\"surface\"}],\"table\":[{\"cells\":{\"fill\":{\"color\":\"#EBF0F8\"},\"line\":{\"color\":\"white\"}},\"header\":{\"fill\":{\"color\":\"#C8D4E3\"},\"line\":{\"color\":\"white\"}},\"type\":\"table\"}]},\"layout\":{\"annotationdefaults\":{\"arrowcolor\":\"#2a3f5f\",\"arrowhead\":0,\"arrowwidth\":1},\"autotypenumbers\":\"strict\",\"coloraxis\":{\"colorbar\":{\"outlinewidth\":0,\"ticks\":\"\"}},\"colorscale\":{\"diverging\":[[0,\"#8e0152\"],[0.1,\"#c51b7d\"],[0.2,\"#de77ae\"],[0.3,\"#f1b6da\"],[0.4,\"#fde0ef\"],[0.5,\"#f7f7f7\"],[0.6,\"#e6f5d0\"],[0.7,\"#b8e186\"],[0.8,\"#7fbc41\"],[0.9,\"#4d9221\"],[1,\"#276419\"]],\"sequential\":[[0.0,\"#0d0887\"],[0.1111111111111111,\"#46039f\"],[0.2222222222222222,\"#7201a8\"],[0.3333333333333333,\"#9c179e\"],[0.4444444444444444,\"#bd3786\"],[0.5555555555555556,\"#d8576b\"],[0.6666666666666666,\"#ed7953\"],[0.7777777777777778,\"#fb9f3a\"],[0.8888888888888888,\"#fdca26\"],[1.0,\"#f0f921\"]],\"sequentialminus\":[[0.0,\"#0d0887\"],[0.1111111111111111,\"#46039f\"],[0.2222222222222222,\"#7201a8\"],[0.3333333333333333,\"#9c179e\"],[0.4444444444444444,\"#bd3786\"],[0.5555555555555556,\"#d8576b\"],[0.6666666666666666,\"#ed7953\"],[0.7777777777777778,\"#fb9f3a\"],[0.8888888888888888,\"#fdca26\"],[1.0,\"#f0f921\"]]},\"colorway\":[\"#636efa\",\"#EF553B\",\"#00cc96\",\"#ab63fa\",\"#FFA15A\",\"#19d3f3\",\"#FF6692\",\"#B6E880\",\"#FF97FF\",\"#FECB52\"],\"font\":{\"color\":\"#2a3f5f\"},\"geo\":{\"bgcolor\":\"white\",\"lakecolor\":\"white\",\"landcolor\":\"#E5ECF6\",\"showlakes\":true,\"showland\":true,\"subunitcolor\":\"white\"},\"hoverlabel\":{\"align\":\"left\"},\"hovermode\":\"closest\",\"mapbox\":{\"style\":\"light\"},\"paper_bgcolor\":\"white\",\"plot_bgcolor\":\"#E5ECF6\",\"polar\":{\"angularaxis\":{\"gridcolor\":\"white\",\"linecolor\":\"white\",\"ticks\":\"\"},\"bgcolor\":\"#E5ECF6\",\"radialaxis\":{\"gridcolor\":\"white\",\"linecolor\":\"white\",\"ticks\":\"\"}},\"scene\":{\"xaxis\":{\"backgroundcolor\":\"#E5ECF6\",\"gridcolor\":\"white\",\"gridwidth\":2,\"linecolor\":\"white\",\"showbackground\":true,\"ticks\":\"\",\"zerolinecolor\":\"white\"},\"yaxis\":{\"backgroundcolor\":\"#E5ECF6\",\"gridcolor\":\"white\",\"gridwidth\":2,\"linecolor\":\"white\",\"showbackground\":true,\"ticks\":\"\",\"zerolinecolor\":\"white\"},\"zaxis\":{\"backgroundcolor\":\"#E5ECF6\",\"gridcolor\":\"white\",\"gridwidth\":2,\"linecolor\":\"white\",\"showbackground\":true,\"ticks\":\"\",\"zerolinecolor\":\"white\"}},\"shapedefaults\":{\"line\":{\"color\":\"#2a3f5f\"}},\"ternary\":{\"aaxis\":{\"gridcolor\":\"white\",\"linecolor\":\"white\",\"ticks\":\"\"},\"baxis\":{\"gridcolor\":\"white\",\"linecolor\":\"white\",\"ticks\":\"\"},\"bgcolor\":\"#E5ECF6\",\"caxis\":{\"gridcolor\":\"white\",\"linecolor\":\"white\",\"ticks\":\"\"}},\"title\":{\"x\":0.05},\"xaxis\":{\"automargin\":true,\"gridcolor\":\"white\",\"linecolor\":\"white\",\"ticks\":\"\",\"title\":{\"standoff\":15},\"zerolinecolor\":\"white\",\"zerolinewidth\":2},\"yaxis\":{\"automargin\":true,\"gridcolor\":\"white\",\"linecolor\":\"white\",\"ticks\":\"\",\"title\":{\"standoff\":15},\"zerolinecolor\":\"white\",\"zerolinewidth\":2}}},\"title\":{\"font\":{\"color\":\"#4D5663\"}},\"xaxis\":{\"gridcolor\":\"#E1E5ED\",\"showgrid\":true,\"tickfont\":{\"color\":\"#4D5663\"},\"title\":{\"font\":{\"color\":\"#4D5663\"},\"text\":\"\"},\"zerolinecolor\":\"#E1E5ED\"},\"yaxis\":{\"gridcolor\":\"#E1E5ED\",\"showgrid\":true,\"tickfont\":{\"color\":\"#4D5663\"},\"title\":{\"font\":{\"color\":\"#4D5663\"},\"text\":\"\"},\"zerolinecolor\":\"#E1E5ED\"}},                        {\"showLink\": true, \"linkText\": \"Export to plot.ly\", \"plotlyServerURL\": \"https://plot.ly\", \"responsive\": true}                    ).then(function(){\n",
       "                            \n",
       "var gd = document.getElementById('605ab8fc-ebe8-4e2b-92be-2032876c4b3f');\n",
       "var x = new MutationObserver(function (mutations, observer) {{\n",
       "        var display = window.getComputedStyle(gd).display;\n",
       "        if (!display || display === 'none') {{\n",
       "            console.log([gd, 'removed!']);\n",
       "            Plotly.purge(gd);\n",
       "            observer.disconnect();\n",
       "        }}\n",
       "}});\n",
       "\n",
       "// Listen for the removal of the full notebook cells\n",
       "var notebookContainer = gd.closest('#notebook-container');\n",
       "if (notebookContainer) {{\n",
       "    x.observe(notebookContainer, {childList: true});\n",
       "}}\n",
       "\n",
       "// Listen for the clearing of the current output cell\n",
       "var outputEl = gd.closest('.output');\n",
       "if (outputEl) {{\n",
       "    x.observe(outputEl, {childList: true});\n",
       "}}\n",
       "\n",
       "                        })                };                });            </script>        </div>"
      ]
     },
     "metadata": {},
     "output_type": "display_data"
    }
   ],
   "source": [
    "df.count().iplot(kind = 'bar')"
   ]
  },
  {
   "cell_type": "code",
   "execution_count": 39,
   "id": "d2b33cf0",
   "metadata": {},
   "outputs": [
    {
     "data": {
      "application/vnd.plotly.v1+json": {
       "config": {
        "linkText": "Export to plot.ly",
        "plotlyServerURL": "https://plot.ly",
        "showLink": true
       },
       "data": [
        {
         "boxpoints": false,
         "line": {
          "width": 1.3
         },
         "marker": {
          "color": "rgba(255, 153, 51, 1.0)"
         },
         "name": "A",
         "orientation": "v",
         "type": "box",
         "y": [
          0.963656208822238,
          1.1213805704854953,
          0.08117322059561863,
          0.9067501670920386,
          1.28908725845038,
          -0.8484788632427857,
          -0.8009485265222287,
          -0.13954698878550142,
          -0.4209938328140542,
          0.2837355152610227,
          -0.21272756966893616,
          1.7570408279670209,
          0.3550122841604106,
          1.30974406905139,
          0.2232155423907447,
          0.20225806270488592,
          0.4297931309428796,
          0.2710898356704665,
          1.2673150001525066,
          -0.28317420340831106,
          0.20613001876357961,
          0.4635201733939552,
          0.5460897413984124,
          0.12438837142487577,
          -0.3311450835685355,
          0.43842530680477404,
          1.0684047789837727,
          -0.6243736534857598,
          -1.1906662032404274,
          1.4656058483881402,
          0.16715588520722816,
          0.48360128610027264,
          1.0718721211795463,
          -0.24068377304579952,
          -0.8837940178049627,
          0.28414594957742983,
          0.18636052031088884,
          1.0554728665925521,
          0.24657908043205698,
          -0.255956079869308,
          0.07878204355354528,
          -1.1832024418880038,
          -0.3947053481469931,
          0.015051127698353848,
          -0.9273312434230097,
          -0.5904417385480116,
          -0.8248473181016788,
          -2.553642906404523,
          0.5853809835216754,
          0.07471667146690081,
          0.8078271481497611,
          2.0119568319081234,
          1.7051615445225863,
          0.3690781122530383,
          0.27207568986467,
          0.9429351698391747,
          0.8709196392545411,
          1.8881327097718632,
          -2.277236818278749,
          0.7641282663968877,
          -1.9210586871999982,
          0.6083480372818315,
          -1.7059804718374605,
          1.8390631369000259,
          0.47676559937164253,
          0.7951445119372802,
          0.7363841786006643,
          1.2801801668695012,
          -0.987315530991337,
          -0.7855382455137779,
          -1.5235664056893965,
          -0.8068782421283027,
          0.1899751266947658,
          -0.8176847491115944,
          -0.7588257659066171,
          0.7146591792126702,
          1.1389770375251385,
          -0.49140946806501906,
          0.3885375141880657,
          0.19210286916179659,
          -1.8674308759485234,
          0.2563319473019304,
          1.4141223099861748,
          1.5347206360501597,
          -1.094691314002368,
          -0.060435557199993446,
          0.2992179294797572,
          1.4510015729851962,
          0.38567992079704777,
          -1.8471002701272756,
          -0.2158731199529436,
          -0.3833111312088049,
          -2.0068888309777657,
          -0.548083205199428,
          0.6861555341365956,
          1.199667217838947,
          0.06831398795428081,
          -0.057601596970910905,
          0.3827056101028784,
          0.5691997438450976
         ]
        },
        {
         "boxpoints": false,
         "line": {
          "width": 1.3
         },
         "marker": {
          "color": "rgba(55, 128, 191, 1.0)"
         },
         "name": "B",
         "orientation": "v",
         "type": "box",
         "y": [
          1.0418607474294792,
          -1.4939672413762932,
          -0.02127901542430224,
          0.33292977024558157,
          1.1407436277450778,
          -0.3015660930492725,
          -0.0752865847187486,
          -1.009791743749023,
          -0.6974105177481036,
          -1.0778447312443185,
          0.21994773983594507,
          -1.2767378096491764,
          -0.4772520284876469,
          -0.13191693638288507,
          -0.8840497936830316,
          0.43491378665196123,
          1.237780885733663,
          -0.7372283644576442,
          -0.11267970353145566,
          -1.637025903877696,
          -0.8643009602442039,
          -1.170864879740225,
          0.8657447067108397,
          -1.3316471625112472,
          0.27930606940491254,
          0.1010548787720902,
          0.7014020947179823,
          0.8115916437019352,
          0.9534863463399055,
          -0.17974376572600015,
          0.15539942126823825,
          0.12563065884091904,
          -0.6983132119953138,
          -0.8557269377205827,
          -1.1114678483065996,
          1.6267980935814845,
          0.10835953580183216,
          -0.724885465855628,
          -0.13014748543449164,
          0.02635813457746775,
          -0.10731405448780107,
          0.9394176236033902,
          0.8852004040890421,
          0.8837667760803889,
          -0.6827153117408953,
          -0.9093724172772358,
          0.5777482827305919,
          0.1320824276129593,
          0.051752566935829254,
          2.2294346148078286,
          -0.3450934390030509,
          0.1620081871920339,
          0.22742137414734556,
          0.53465876620935,
          0.7992154964793429,
          -1.3109197447319967,
          -1.8881307729462076,
          2.130605406350455,
          -0.031583068295145504,
          0.5445342145696391,
          -0.3836665294064964,
          -0.8276744278807356,
          1.5347897785141216,
          -0.10205298921735546,
          -0.9931249156241323,
          0.6784877290695253,
          0.6442290539833533,
          0.22188261861927183,
          0.658824210911803,
          0.4725016736628034,
          -0.5884114772778922,
          -0.868227094420527,
          -1.3615134352744052,
          1.092930344226626,
          -0.13734327442278882,
          -1.3246769110560028,
          -0.6863100288573838,
          0.2900951740060484,
          -0.7262357878917776,
          -1.5393687384063548,
          -0.6345124844359458,
          1.0511810398400365,
          -0.32552486870352804,
          0.46721489635640734,
          1.2701651157118028,
          0.821796041357051,
          -1.3530062245164303,
          -0.6629088380930819,
          0.8386510462005943,
          -0.10769881867698582,
          0.18586510865496922,
          0.0027232401253373915,
          -2.1003147011287964,
          0.19799553908870476,
          0.5799814202834371,
          -1.1775863243324383,
          0.748291680102528,
          0.2145327190535425,
          0.10937980687552407,
          -0.3629526709313861
         ]
        },
        {
         "boxpoints": false,
         "line": {
          "width": 1.3
         },
         "marker": {
          "color": "rgba(50, 171, 96, 1.0)"
         },
         "name": "C",
         "orientation": "v",
         "type": "box",
         "y": [
          1.9684685598255098,
          0.8865735701165786,
          -0.9282924703857871,
          0.0864231738857163,
          -0.17851496705340106,
          0.8941201736951061,
          -1.767757746744734,
          -0.9029257916222327,
          -0.15040689632672258,
          0.3608236978003134,
          -2.3993756008061955,
          -0.483640402637199,
          2.453497287095231,
          0.2886471123783374,
          0.4789224073967982,
          1.8868787058240575,
          -0.7069821240099842,
          0.9364960925054092,
          -0.11826593254370696,
          -1.2466608150509335,
          0.5835449052351525,
          -0.7856053542283987,
          -1.402302566540273,
          1.3852800062444897,
          0.5641183370922549,
          0.8809989823072313,
          -0.2316988475498588,
          0.9588801018246939,
          -1.8023754339085756,
          1.3856050832892777,
          0.2889566018572497,
          -2.2912515772536093,
          1.2338406432349927,
          -0.37060434083404203,
          -1.115233219161336,
          0.04673985612202292,
          0.0942462710028508,
          -0.13839475415973518,
          -0.09718950720666848,
          0.24901537761553835,
          0.9108528097216493,
          -0.5528486250284738,
          0.1437258643037152,
          1.2368565085155692,
          0.11806071227737899,
          -0.6915685444367112,
          0.6893681392468275,
          -2.1930493530215243,
          -0.9934789592227896,
          -0.6189689820317923,
          -0.8698092136412182,
          0.8003318888279906,
          -0.5982506634931678,
          -0.7890609206749534,
          -0.6548147871758787,
          0.5587927372009642,
          0.27255474613842035,
          1.0925266720615479,
          1.3392761253917005,
          0.1065019292120311,
          -1.1867386077150974,
          1.78632170548558,
          -0.02624061741045453,
          -1.1556722058561715,
          0.07704352120398042,
          -0.22053430872375845,
          2.5042220859217554,
          0.2355109428038429,
          0.1805691839545755,
          1.641624590650236,
          0.9246325724024335,
          -0.0517173982740807,
          -1.6078788351856876,
          -0.673781299334335,
          -0.11875226070443112,
          -1.1803330927190678,
          -0.6051380566023823,
          1.3120299005977665,
          -1.586753953775392,
          1.0494361893220578,
          0.8185429666565787,
          0.0796582520338552,
          0.8785869617159295,
          -1.3860246585946714,
          0.4098334039689942,
          2.026756298055897,
          -2.341265735162529,
          1.0423930455611918,
          1.7745715730437097,
          -0.7451216801801956,
          0.13019025491771619,
          0.6720981517354053,
          1.2143690393829878,
          -0.6817286989667747,
          1.7765429487539386,
          -0.24465282170560929,
          1.1093476031534293,
          3.462655523208048,
          -0.4175023099069305,
          0.1293918215907214
         ]
        },
        {
         "boxpoints": false,
         "line": {
          "width": 1.3
         },
         "marker": {
          "color": "rgba(128, 0, 128, 1.0)"
         },
         "name": "D",
         "orientation": "v",
         "type": "box",
         "y": [
          1.6630337650354345,
          0.07550432297170971,
          -0.5973245468599844,
          -1.657449860204015,
          0.05280375575287506,
          -0.015347519964781276,
          -0.823066509767297,
          -1.2865818271926146,
          -0.20465223602492458,
          1.4326116078768383,
          1.715349653593688,
          1.8332783984371763,
          0.10489256944377925,
          0.1835183523000019,
          -1.5966870438332263,
          0.44522874299998944,
          0.6584567307528261,
          0.6650332813795531,
          0.2807839634292779,
          -0.29086894397778557,
          0.16752877630439322,
          1.9770173482802893,
          -2.8154582401712154,
          -0.9829856709848566,
          -0.00827771127849985,
          0.16148652501732152,
          2.319848288689466,
          1.022424591320778,
          2.446730447840035,
          -0.5276727460407082,
          -0.4206033582273582,
          -1.8277275907138832,
          0.014979298168371534,
          0.7821409129741059,
          -0.6683656546714996,
          -2.8509032306340627,
          -0.2554547617448989,
          0.6031621488581722,
          -1.8720737192452415,
          -2.2039356896415576,
          1.1354713474057998,
          -1.3147837122357673,
          0.08847860993731024,
          0.5434300304313257,
          -1.9624730325797959,
          -0.7335728844338252,
          -0.7602415933637703,
          -2.478504024403525,
          -2.043359504359485,
          0.07229925889259052,
          0.8223533915753203,
          0.7541898582279355,
          -0.8457042031941514,
          -2.0806587994267742,
          -0.33255328325872824,
          1.1100669481856251,
          0.8590167189662465,
          -0.5954983458201378,
          -0.09732296749624923,
          -0.24106644629353324,
          -0.921362500994098,
          0.7250079654355328,
          -0.7511631767920098,
          0.5235530857383306,
          0.9304102996787895,
          1.1013735671223808,
          2.144674046199205,
          0.06923107230228003,
          1.8428871518189849,
          0.4982298687939204,
          0.19661617252683,
          0.23266766393126748,
          1.4061128071516085,
          0.8462385703859491,
          0.6549491598459045,
          0.439385154094097,
          -2.501445480519395,
          0.045409052141403054,
          0.7869651058984805,
          -1.1339156708019669,
          -0.43148029590986947,
          0.6465899085984634,
          0.3408739471603276,
          -0.7613374448109137,
          -0.09817614527629241,
          -0.7309778541053539,
          -0.07818344318158707,
          -0.4731780226773017,
          0.8875564238258683,
          0.35454221858793916,
          0.6044883944756151,
          -0.8547303972785114,
          0.40388289163412455,
          1.1952818174880846,
          1.761384365862785,
          -0.3538293908999642,
          -0.6913216824668283,
          0.8986854351831924,
          0.2494784614208996,
          -0.40344347187061447
         ]
        }
       ],
       "layout": {
        "legend": {
         "bgcolor": "#F5F6F9",
         "font": {
          "color": "#4D5663"
         }
        },
        "paper_bgcolor": "#F5F6F9",
        "plot_bgcolor": "#F5F6F9",
        "template": {
         "data": {
          "bar": [
           {
            "error_x": {
             "color": "#2a3f5f"
            },
            "error_y": {
             "color": "#2a3f5f"
            },
            "marker": {
             "line": {
              "color": "#E5ECF6",
              "width": 0.5
             },
             "pattern": {
              "fillmode": "overlay",
              "size": 10,
              "solidity": 0.2
             }
            },
            "type": "bar"
           }
          ],
          "barpolar": [
           {
            "marker": {
             "line": {
              "color": "#E5ECF6",
              "width": 0.5
             },
             "pattern": {
              "fillmode": "overlay",
              "size": 10,
              "solidity": 0.2
             }
            },
            "type": "barpolar"
           }
          ],
          "carpet": [
           {
            "aaxis": {
             "endlinecolor": "#2a3f5f",
             "gridcolor": "white",
             "linecolor": "white",
             "minorgridcolor": "white",
             "startlinecolor": "#2a3f5f"
            },
            "baxis": {
             "endlinecolor": "#2a3f5f",
             "gridcolor": "white",
             "linecolor": "white",
             "minorgridcolor": "white",
             "startlinecolor": "#2a3f5f"
            },
            "type": "carpet"
           }
          ],
          "choropleth": [
           {
            "colorbar": {
             "outlinewidth": 0,
             "ticks": ""
            },
            "type": "choropleth"
           }
          ],
          "contour": [
           {
            "colorbar": {
             "outlinewidth": 0,
             "ticks": ""
            },
            "colorscale": [
             [
              0,
              "#0d0887"
             ],
             [
              0.1111111111111111,
              "#46039f"
             ],
             [
              0.2222222222222222,
              "#7201a8"
             ],
             [
              0.3333333333333333,
              "#9c179e"
             ],
             [
              0.4444444444444444,
              "#bd3786"
             ],
             [
              0.5555555555555556,
              "#d8576b"
             ],
             [
              0.6666666666666666,
              "#ed7953"
             ],
             [
              0.7777777777777778,
              "#fb9f3a"
             ],
             [
              0.8888888888888888,
              "#fdca26"
             ],
             [
              1,
              "#f0f921"
             ]
            ],
            "type": "contour"
           }
          ],
          "contourcarpet": [
           {
            "colorbar": {
             "outlinewidth": 0,
             "ticks": ""
            },
            "type": "contourcarpet"
           }
          ],
          "heatmap": [
           {
            "colorbar": {
             "outlinewidth": 0,
             "ticks": ""
            },
            "colorscale": [
             [
              0,
              "#0d0887"
             ],
             [
              0.1111111111111111,
              "#46039f"
             ],
             [
              0.2222222222222222,
              "#7201a8"
             ],
             [
              0.3333333333333333,
              "#9c179e"
             ],
             [
              0.4444444444444444,
              "#bd3786"
             ],
             [
              0.5555555555555556,
              "#d8576b"
             ],
             [
              0.6666666666666666,
              "#ed7953"
             ],
             [
              0.7777777777777778,
              "#fb9f3a"
             ],
             [
              0.8888888888888888,
              "#fdca26"
             ],
             [
              1,
              "#f0f921"
             ]
            ],
            "type": "heatmap"
           }
          ],
          "heatmapgl": [
           {
            "colorbar": {
             "outlinewidth": 0,
             "ticks": ""
            },
            "colorscale": [
             [
              0,
              "#0d0887"
             ],
             [
              0.1111111111111111,
              "#46039f"
             ],
             [
              0.2222222222222222,
              "#7201a8"
             ],
             [
              0.3333333333333333,
              "#9c179e"
             ],
             [
              0.4444444444444444,
              "#bd3786"
             ],
             [
              0.5555555555555556,
              "#d8576b"
             ],
             [
              0.6666666666666666,
              "#ed7953"
             ],
             [
              0.7777777777777778,
              "#fb9f3a"
             ],
             [
              0.8888888888888888,
              "#fdca26"
             ],
             [
              1,
              "#f0f921"
             ]
            ],
            "type": "heatmapgl"
           }
          ],
          "histogram": [
           {
            "marker": {
             "pattern": {
              "fillmode": "overlay",
              "size": 10,
              "solidity": 0.2
             }
            },
            "type": "histogram"
           }
          ],
          "histogram2d": [
           {
            "colorbar": {
             "outlinewidth": 0,
             "ticks": ""
            },
            "colorscale": [
             [
              0,
              "#0d0887"
             ],
             [
              0.1111111111111111,
              "#46039f"
             ],
             [
              0.2222222222222222,
              "#7201a8"
             ],
             [
              0.3333333333333333,
              "#9c179e"
             ],
             [
              0.4444444444444444,
              "#bd3786"
             ],
             [
              0.5555555555555556,
              "#d8576b"
             ],
             [
              0.6666666666666666,
              "#ed7953"
             ],
             [
              0.7777777777777778,
              "#fb9f3a"
             ],
             [
              0.8888888888888888,
              "#fdca26"
             ],
             [
              1,
              "#f0f921"
             ]
            ],
            "type": "histogram2d"
           }
          ],
          "histogram2dcontour": [
           {
            "colorbar": {
             "outlinewidth": 0,
             "ticks": ""
            },
            "colorscale": [
             [
              0,
              "#0d0887"
             ],
             [
              0.1111111111111111,
              "#46039f"
             ],
             [
              0.2222222222222222,
              "#7201a8"
             ],
             [
              0.3333333333333333,
              "#9c179e"
             ],
             [
              0.4444444444444444,
              "#bd3786"
             ],
             [
              0.5555555555555556,
              "#d8576b"
             ],
             [
              0.6666666666666666,
              "#ed7953"
             ],
             [
              0.7777777777777778,
              "#fb9f3a"
             ],
             [
              0.8888888888888888,
              "#fdca26"
             ],
             [
              1,
              "#f0f921"
             ]
            ],
            "type": "histogram2dcontour"
           }
          ],
          "mesh3d": [
           {
            "colorbar": {
             "outlinewidth": 0,
             "ticks": ""
            },
            "type": "mesh3d"
           }
          ],
          "parcoords": [
           {
            "line": {
             "colorbar": {
              "outlinewidth": 0,
              "ticks": ""
             }
            },
            "type": "parcoords"
           }
          ],
          "pie": [
           {
            "automargin": true,
            "type": "pie"
           }
          ],
          "scatter": [
           {
            "fillpattern": {
             "fillmode": "overlay",
             "size": 10,
             "solidity": 0.2
            },
            "type": "scatter"
           }
          ],
          "scatter3d": [
           {
            "line": {
             "colorbar": {
              "outlinewidth": 0,
              "ticks": ""
             }
            },
            "marker": {
             "colorbar": {
              "outlinewidth": 0,
              "ticks": ""
             }
            },
            "type": "scatter3d"
           }
          ],
          "scattercarpet": [
           {
            "marker": {
             "colorbar": {
              "outlinewidth": 0,
              "ticks": ""
             }
            },
            "type": "scattercarpet"
           }
          ],
          "scattergeo": [
           {
            "marker": {
             "colorbar": {
              "outlinewidth": 0,
              "ticks": ""
             }
            },
            "type": "scattergeo"
           }
          ],
          "scattergl": [
           {
            "marker": {
             "colorbar": {
              "outlinewidth": 0,
              "ticks": ""
             }
            },
            "type": "scattergl"
           }
          ],
          "scattermapbox": [
           {
            "marker": {
             "colorbar": {
              "outlinewidth": 0,
              "ticks": ""
             }
            },
            "type": "scattermapbox"
           }
          ],
          "scatterpolar": [
           {
            "marker": {
             "colorbar": {
              "outlinewidth": 0,
              "ticks": ""
             }
            },
            "type": "scatterpolar"
           }
          ],
          "scatterpolargl": [
           {
            "marker": {
             "colorbar": {
              "outlinewidth": 0,
              "ticks": ""
             }
            },
            "type": "scatterpolargl"
           }
          ],
          "scatterternary": [
           {
            "marker": {
             "colorbar": {
              "outlinewidth": 0,
              "ticks": ""
             }
            },
            "type": "scatterternary"
           }
          ],
          "surface": [
           {
            "colorbar": {
             "outlinewidth": 0,
             "ticks": ""
            },
            "colorscale": [
             [
              0,
              "#0d0887"
             ],
             [
              0.1111111111111111,
              "#46039f"
             ],
             [
              0.2222222222222222,
              "#7201a8"
             ],
             [
              0.3333333333333333,
              "#9c179e"
             ],
             [
              0.4444444444444444,
              "#bd3786"
             ],
             [
              0.5555555555555556,
              "#d8576b"
             ],
             [
              0.6666666666666666,
              "#ed7953"
             ],
             [
              0.7777777777777778,
              "#fb9f3a"
             ],
             [
              0.8888888888888888,
              "#fdca26"
             ],
             [
              1,
              "#f0f921"
             ]
            ],
            "type": "surface"
           }
          ],
          "table": [
           {
            "cells": {
             "fill": {
              "color": "#EBF0F8"
             },
             "line": {
              "color": "white"
             }
            },
            "header": {
             "fill": {
              "color": "#C8D4E3"
             },
             "line": {
              "color": "white"
             }
            },
            "type": "table"
           }
          ]
         },
         "layout": {
          "annotationdefaults": {
           "arrowcolor": "#2a3f5f",
           "arrowhead": 0,
           "arrowwidth": 1
          },
          "autotypenumbers": "strict",
          "coloraxis": {
           "colorbar": {
            "outlinewidth": 0,
            "ticks": ""
           }
          },
          "colorscale": {
           "diverging": [
            [
             0,
             "#8e0152"
            ],
            [
             0.1,
             "#c51b7d"
            ],
            [
             0.2,
             "#de77ae"
            ],
            [
             0.3,
             "#f1b6da"
            ],
            [
             0.4,
             "#fde0ef"
            ],
            [
             0.5,
             "#f7f7f7"
            ],
            [
             0.6,
             "#e6f5d0"
            ],
            [
             0.7,
             "#b8e186"
            ],
            [
             0.8,
             "#7fbc41"
            ],
            [
             0.9,
             "#4d9221"
            ],
            [
             1,
             "#276419"
            ]
           ],
           "sequential": [
            [
             0,
             "#0d0887"
            ],
            [
             0.1111111111111111,
             "#46039f"
            ],
            [
             0.2222222222222222,
             "#7201a8"
            ],
            [
             0.3333333333333333,
             "#9c179e"
            ],
            [
             0.4444444444444444,
             "#bd3786"
            ],
            [
             0.5555555555555556,
             "#d8576b"
            ],
            [
             0.6666666666666666,
             "#ed7953"
            ],
            [
             0.7777777777777778,
             "#fb9f3a"
            ],
            [
             0.8888888888888888,
             "#fdca26"
            ],
            [
             1,
             "#f0f921"
            ]
           ],
           "sequentialminus": [
            [
             0,
             "#0d0887"
            ],
            [
             0.1111111111111111,
             "#46039f"
            ],
            [
             0.2222222222222222,
             "#7201a8"
            ],
            [
             0.3333333333333333,
             "#9c179e"
            ],
            [
             0.4444444444444444,
             "#bd3786"
            ],
            [
             0.5555555555555556,
             "#d8576b"
            ],
            [
             0.6666666666666666,
             "#ed7953"
            ],
            [
             0.7777777777777778,
             "#fb9f3a"
            ],
            [
             0.8888888888888888,
             "#fdca26"
            ],
            [
             1,
             "#f0f921"
            ]
           ]
          },
          "colorway": [
           "#636efa",
           "#EF553B",
           "#00cc96",
           "#ab63fa",
           "#FFA15A",
           "#19d3f3",
           "#FF6692",
           "#B6E880",
           "#FF97FF",
           "#FECB52"
          ],
          "font": {
           "color": "#2a3f5f"
          },
          "geo": {
           "bgcolor": "white",
           "lakecolor": "white",
           "landcolor": "#E5ECF6",
           "showlakes": true,
           "showland": true,
           "subunitcolor": "white"
          },
          "hoverlabel": {
           "align": "left"
          },
          "hovermode": "closest",
          "mapbox": {
           "style": "light"
          },
          "paper_bgcolor": "white",
          "plot_bgcolor": "#E5ECF6",
          "polar": {
           "angularaxis": {
            "gridcolor": "white",
            "linecolor": "white",
            "ticks": ""
           },
           "bgcolor": "#E5ECF6",
           "radialaxis": {
            "gridcolor": "white",
            "linecolor": "white",
            "ticks": ""
           }
          },
          "scene": {
           "xaxis": {
            "backgroundcolor": "#E5ECF6",
            "gridcolor": "white",
            "gridwidth": 2,
            "linecolor": "white",
            "showbackground": true,
            "ticks": "",
            "zerolinecolor": "white"
           },
           "yaxis": {
            "backgroundcolor": "#E5ECF6",
            "gridcolor": "white",
            "gridwidth": 2,
            "linecolor": "white",
            "showbackground": true,
            "ticks": "",
            "zerolinecolor": "white"
           },
           "zaxis": {
            "backgroundcolor": "#E5ECF6",
            "gridcolor": "white",
            "gridwidth": 2,
            "linecolor": "white",
            "showbackground": true,
            "ticks": "",
            "zerolinecolor": "white"
           }
          },
          "shapedefaults": {
           "line": {
            "color": "#2a3f5f"
           }
          },
          "ternary": {
           "aaxis": {
            "gridcolor": "white",
            "linecolor": "white",
            "ticks": ""
           },
           "baxis": {
            "gridcolor": "white",
            "linecolor": "white",
            "ticks": ""
           },
           "bgcolor": "#E5ECF6",
           "caxis": {
            "gridcolor": "white",
            "linecolor": "white",
            "ticks": ""
           }
          },
          "title": {
           "x": 0.05
          },
          "xaxis": {
           "automargin": true,
           "gridcolor": "white",
           "linecolor": "white",
           "ticks": "",
           "title": {
            "standoff": 15
           },
           "zerolinecolor": "white",
           "zerolinewidth": 2
          },
          "yaxis": {
           "automargin": true,
           "gridcolor": "white",
           "linecolor": "white",
           "ticks": "",
           "title": {
            "standoff": 15
           },
           "zerolinecolor": "white",
           "zerolinewidth": 2
          }
         }
        },
        "title": {
         "font": {
          "color": "#4D5663"
         }
        },
        "xaxis": {
         "gridcolor": "#E1E5ED",
         "showgrid": true,
         "tickfont": {
          "color": "#4D5663"
         },
         "title": {
          "font": {
           "color": "#4D5663"
          },
          "text": ""
         },
         "zerolinecolor": "#E1E5ED"
        },
        "yaxis": {
         "gridcolor": "#E1E5ED",
         "showgrid": true,
         "tickfont": {
          "color": "#4D5663"
         },
         "title": {
          "font": {
           "color": "#4D5663"
          },
          "text": ""
         },
         "zerolinecolor": "#E1E5ED"
        }
       }
      },
      "text/html": [
       "<div>                            <div id=\"3808e2ef-d965-49dd-9f5b-adf3a6397bc9\" class=\"plotly-graph-div\" style=\"height:525px; width:100%;\"></div>            <script type=\"text/javascript\">                require([\"plotly\"], function(Plotly) {                    window.PLOTLYENV=window.PLOTLYENV || {};\n",
       "                    window.PLOTLYENV.BASE_URL='https://plot.ly';                                    if (document.getElementById(\"3808e2ef-d965-49dd-9f5b-adf3a6397bc9\")) {                    Plotly.newPlot(                        \"3808e2ef-d965-49dd-9f5b-adf3a6397bc9\",                        [{\"boxpoints\":false,\"line\":{\"width\":1.3},\"marker\":{\"color\":\"rgba(255, 153, 51, 1.0)\"},\"name\":\"A\",\"orientation\":\"v\",\"y\":[0.963656208822238,1.1213805704854953,0.08117322059561863,0.9067501670920386,1.28908725845038,-0.8484788632427857,-0.8009485265222287,-0.13954698878550142,-0.4209938328140542,0.2837355152610227,-0.21272756966893616,1.7570408279670209,0.3550122841604106,1.30974406905139,0.2232155423907447,0.20225806270488592,0.4297931309428796,0.2710898356704665,1.2673150001525066,-0.28317420340831106,0.20613001876357961,0.4635201733939552,0.5460897413984124,0.12438837142487577,-0.3311450835685355,0.43842530680477404,1.0684047789837727,-0.6243736534857598,-1.1906662032404274,1.4656058483881402,0.16715588520722816,0.48360128610027264,1.0718721211795463,-0.24068377304579952,-0.8837940178049627,0.28414594957742983,0.18636052031088884,1.0554728665925521,0.24657908043205698,-0.255956079869308,0.07878204355354528,-1.1832024418880038,-0.3947053481469931,0.015051127698353848,-0.9273312434230097,-0.5904417385480116,-0.8248473181016788,-2.553642906404523,0.5853809835216754,0.07471667146690081,0.8078271481497611,2.0119568319081234,1.7051615445225863,0.3690781122530383,0.27207568986467,0.9429351698391747,0.8709196392545411,1.8881327097718632,-2.277236818278749,0.7641282663968877,-1.9210586871999982,0.6083480372818315,-1.7059804718374605,1.8390631369000259,0.47676559937164253,0.7951445119372802,0.7363841786006643,1.2801801668695012,-0.987315530991337,-0.7855382455137779,-1.5235664056893965,-0.8068782421283027,0.1899751266947658,-0.8176847491115944,-0.7588257659066171,0.7146591792126702,1.1389770375251385,-0.49140946806501906,0.3885375141880657,0.19210286916179659,-1.8674308759485234,0.2563319473019304,1.4141223099861748,1.5347206360501597,-1.094691314002368,-0.060435557199993446,0.2992179294797572,1.4510015729851962,0.38567992079704777,-1.8471002701272756,-0.2158731199529436,-0.3833111312088049,-2.0068888309777657,-0.548083205199428,0.6861555341365956,1.199667217838947,0.06831398795428081,-0.057601596970910905,0.3827056101028784,0.5691997438450976],\"type\":\"box\"},{\"boxpoints\":false,\"line\":{\"width\":1.3},\"marker\":{\"color\":\"rgba(55, 128, 191, 1.0)\"},\"name\":\"B\",\"orientation\":\"v\",\"y\":[1.0418607474294792,-1.4939672413762932,-0.02127901542430224,0.33292977024558157,1.1407436277450778,-0.3015660930492725,-0.0752865847187486,-1.009791743749023,-0.6974105177481036,-1.0778447312443185,0.21994773983594507,-1.2767378096491764,-0.4772520284876469,-0.13191693638288507,-0.8840497936830316,0.43491378665196123,1.237780885733663,-0.7372283644576442,-0.11267970353145566,-1.637025903877696,-0.8643009602442039,-1.170864879740225,0.8657447067108397,-1.3316471625112472,0.27930606940491254,0.1010548787720902,0.7014020947179823,0.8115916437019352,0.9534863463399055,-0.17974376572600015,0.15539942126823825,0.12563065884091904,-0.6983132119953138,-0.8557269377205827,-1.1114678483065996,1.6267980935814845,0.10835953580183216,-0.724885465855628,-0.13014748543449164,0.02635813457746775,-0.10731405448780107,0.9394176236033902,0.8852004040890421,0.8837667760803889,-0.6827153117408953,-0.9093724172772358,0.5777482827305919,0.1320824276129593,0.051752566935829254,2.2294346148078286,-0.3450934390030509,0.1620081871920339,0.22742137414734556,0.53465876620935,0.7992154964793429,-1.3109197447319967,-1.8881307729462076,2.130605406350455,-0.031583068295145504,0.5445342145696391,-0.3836665294064964,-0.8276744278807356,1.5347897785141216,-0.10205298921735546,-0.9931249156241323,0.6784877290695253,0.6442290539833533,0.22188261861927183,0.658824210911803,0.4725016736628034,-0.5884114772778922,-0.868227094420527,-1.3615134352744052,1.092930344226626,-0.13734327442278882,-1.3246769110560028,-0.6863100288573838,0.2900951740060484,-0.7262357878917776,-1.5393687384063548,-0.6345124844359458,1.0511810398400365,-0.32552486870352804,0.46721489635640734,1.2701651157118028,0.821796041357051,-1.3530062245164303,-0.6629088380930819,0.8386510462005943,-0.10769881867698582,0.18586510865496922,0.0027232401253373915,-2.1003147011287964,0.19799553908870476,0.5799814202834371,-1.1775863243324383,0.748291680102528,0.2145327190535425,0.10937980687552407,-0.3629526709313861],\"type\":\"box\"},{\"boxpoints\":false,\"line\":{\"width\":1.3},\"marker\":{\"color\":\"rgba(50, 171, 96, 1.0)\"},\"name\":\"C\",\"orientation\":\"v\",\"y\":[1.9684685598255098,0.8865735701165786,-0.9282924703857871,0.0864231738857163,-0.17851496705340106,0.8941201736951061,-1.767757746744734,-0.9029257916222327,-0.15040689632672258,0.3608236978003134,-2.3993756008061955,-0.483640402637199,2.453497287095231,0.2886471123783374,0.4789224073967982,1.8868787058240575,-0.7069821240099842,0.9364960925054092,-0.11826593254370696,-1.2466608150509335,0.5835449052351525,-0.7856053542283987,-1.402302566540273,1.3852800062444897,0.5641183370922549,0.8809989823072313,-0.2316988475498588,0.9588801018246939,-1.8023754339085756,1.3856050832892777,0.2889566018572497,-2.2912515772536093,1.2338406432349927,-0.37060434083404203,-1.115233219161336,0.04673985612202292,0.0942462710028508,-0.13839475415973518,-0.09718950720666848,0.24901537761553835,0.9108528097216493,-0.5528486250284738,0.1437258643037152,1.2368565085155692,0.11806071227737899,-0.6915685444367112,0.6893681392468275,-2.1930493530215243,-0.9934789592227896,-0.6189689820317923,-0.8698092136412182,0.8003318888279906,-0.5982506634931678,-0.7890609206749534,-0.6548147871758787,0.5587927372009642,0.27255474613842035,1.0925266720615479,1.3392761253917005,0.1065019292120311,-1.1867386077150974,1.78632170548558,-0.02624061741045453,-1.1556722058561715,0.07704352120398042,-0.22053430872375845,2.5042220859217554,0.2355109428038429,0.1805691839545755,1.641624590650236,0.9246325724024335,-0.0517173982740807,-1.6078788351856876,-0.673781299334335,-0.11875226070443112,-1.1803330927190678,-0.6051380566023823,1.3120299005977665,-1.586753953775392,1.0494361893220578,0.8185429666565787,0.0796582520338552,0.8785869617159295,-1.3860246585946714,0.4098334039689942,2.026756298055897,-2.341265735162529,1.0423930455611918,1.7745715730437097,-0.7451216801801956,0.13019025491771619,0.6720981517354053,1.2143690393829878,-0.6817286989667747,1.7765429487539386,-0.24465282170560929,1.1093476031534293,3.462655523208048,-0.4175023099069305,0.1293918215907214],\"type\":\"box\"},{\"boxpoints\":false,\"line\":{\"width\":1.3},\"marker\":{\"color\":\"rgba(128, 0, 128, 1.0)\"},\"name\":\"D\",\"orientation\":\"v\",\"y\":[1.6630337650354345,0.07550432297170971,-0.5973245468599844,-1.657449860204015,0.05280375575287506,-0.015347519964781276,-0.823066509767297,-1.2865818271926146,-0.20465223602492458,1.4326116078768383,1.715349653593688,1.8332783984371763,0.10489256944377925,0.1835183523000019,-1.5966870438332263,0.44522874299998944,0.6584567307528261,0.6650332813795531,0.2807839634292779,-0.29086894397778557,0.16752877630439322,1.9770173482802893,-2.8154582401712154,-0.9829856709848566,-0.00827771127849985,0.16148652501732152,2.319848288689466,1.022424591320778,2.446730447840035,-0.5276727460407082,-0.4206033582273582,-1.8277275907138832,0.014979298168371534,0.7821409129741059,-0.6683656546714996,-2.8509032306340627,-0.2554547617448989,0.6031621488581722,-1.8720737192452415,-2.2039356896415576,1.1354713474057998,-1.3147837122357673,0.08847860993731024,0.5434300304313257,-1.9624730325797959,-0.7335728844338252,-0.7602415933637703,-2.478504024403525,-2.043359504359485,0.07229925889259052,0.8223533915753203,0.7541898582279355,-0.8457042031941514,-2.0806587994267742,-0.33255328325872824,1.1100669481856251,0.8590167189662465,-0.5954983458201378,-0.09732296749624923,-0.24106644629353324,-0.921362500994098,0.7250079654355328,-0.7511631767920098,0.5235530857383306,0.9304102996787895,1.1013735671223808,2.144674046199205,0.06923107230228003,1.8428871518189849,0.4982298687939204,0.19661617252683,0.23266766393126748,1.4061128071516085,0.8462385703859491,0.6549491598459045,0.439385154094097,-2.501445480519395,0.045409052141403054,0.7869651058984805,-1.1339156708019669,-0.43148029590986947,0.6465899085984634,0.3408739471603276,-0.7613374448109137,-0.09817614527629241,-0.7309778541053539,-0.07818344318158707,-0.4731780226773017,0.8875564238258683,0.35454221858793916,0.6044883944756151,-0.8547303972785114,0.40388289163412455,1.1952818174880846,1.761384365862785,-0.3538293908999642,-0.6913216824668283,0.8986854351831924,0.2494784614208996,-0.40344347187061447],\"type\":\"box\"}],                        {\"legend\":{\"bgcolor\":\"#F5F6F9\",\"font\":{\"color\":\"#4D5663\"}},\"paper_bgcolor\":\"#F5F6F9\",\"plot_bgcolor\":\"#F5F6F9\",\"template\":{\"data\":{\"barpolar\":[{\"marker\":{\"line\":{\"color\":\"#E5ECF6\",\"width\":0.5},\"pattern\":{\"fillmode\":\"overlay\",\"size\":10,\"solidity\":0.2}},\"type\":\"barpolar\"}],\"bar\":[{\"error_x\":{\"color\":\"#2a3f5f\"},\"error_y\":{\"color\":\"#2a3f5f\"},\"marker\":{\"line\":{\"color\":\"#E5ECF6\",\"width\":0.5},\"pattern\":{\"fillmode\":\"overlay\",\"size\":10,\"solidity\":0.2}},\"type\":\"bar\"}],\"carpet\":[{\"aaxis\":{\"endlinecolor\":\"#2a3f5f\",\"gridcolor\":\"white\",\"linecolor\":\"white\",\"minorgridcolor\":\"white\",\"startlinecolor\":\"#2a3f5f\"},\"baxis\":{\"endlinecolor\":\"#2a3f5f\",\"gridcolor\":\"white\",\"linecolor\":\"white\",\"minorgridcolor\":\"white\",\"startlinecolor\":\"#2a3f5f\"},\"type\":\"carpet\"}],\"choropleth\":[{\"colorbar\":{\"outlinewidth\":0,\"ticks\":\"\"},\"type\":\"choropleth\"}],\"contourcarpet\":[{\"colorbar\":{\"outlinewidth\":0,\"ticks\":\"\"},\"type\":\"contourcarpet\"}],\"contour\":[{\"colorbar\":{\"outlinewidth\":0,\"ticks\":\"\"},\"colorscale\":[[0.0,\"#0d0887\"],[0.1111111111111111,\"#46039f\"],[0.2222222222222222,\"#7201a8\"],[0.3333333333333333,\"#9c179e\"],[0.4444444444444444,\"#bd3786\"],[0.5555555555555556,\"#d8576b\"],[0.6666666666666666,\"#ed7953\"],[0.7777777777777778,\"#fb9f3a\"],[0.8888888888888888,\"#fdca26\"],[1.0,\"#f0f921\"]],\"type\":\"contour\"}],\"heatmapgl\":[{\"colorbar\":{\"outlinewidth\":0,\"ticks\":\"\"},\"colorscale\":[[0.0,\"#0d0887\"],[0.1111111111111111,\"#46039f\"],[0.2222222222222222,\"#7201a8\"],[0.3333333333333333,\"#9c179e\"],[0.4444444444444444,\"#bd3786\"],[0.5555555555555556,\"#d8576b\"],[0.6666666666666666,\"#ed7953\"],[0.7777777777777778,\"#fb9f3a\"],[0.8888888888888888,\"#fdca26\"],[1.0,\"#f0f921\"]],\"type\":\"heatmapgl\"}],\"heatmap\":[{\"colorbar\":{\"outlinewidth\":0,\"ticks\":\"\"},\"colorscale\":[[0.0,\"#0d0887\"],[0.1111111111111111,\"#46039f\"],[0.2222222222222222,\"#7201a8\"],[0.3333333333333333,\"#9c179e\"],[0.4444444444444444,\"#bd3786\"],[0.5555555555555556,\"#d8576b\"],[0.6666666666666666,\"#ed7953\"],[0.7777777777777778,\"#fb9f3a\"],[0.8888888888888888,\"#fdca26\"],[1.0,\"#f0f921\"]],\"type\":\"heatmap\"}],\"histogram2dcontour\":[{\"colorbar\":{\"outlinewidth\":0,\"ticks\":\"\"},\"colorscale\":[[0.0,\"#0d0887\"],[0.1111111111111111,\"#46039f\"],[0.2222222222222222,\"#7201a8\"],[0.3333333333333333,\"#9c179e\"],[0.4444444444444444,\"#bd3786\"],[0.5555555555555556,\"#d8576b\"],[0.6666666666666666,\"#ed7953\"],[0.7777777777777778,\"#fb9f3a\"],[0.8888888888888888,\"#fdca26\"],[1.0,\"#f0f921\"]],\"type\":\"histogram2dcontour\"}],\"histogram2d\":[{\"colorbar\":{\"outlinewidth\":0,\"ticks\":\"\"},\"colorscale\":[[0.0,\"#0d0887\"],[0.1111111111111111,\"#46039f\"],[0.2222222222222222,\"#7201a8\"],[0.3333333333333333,\"#9c179e\"],[0.4444444444444444,\"#bd3786\"],[0.5555555555555556,\"#d8576b\"],[0.6666666666666666,\"#ed7953\"],[0.7777777777777778,\"#fb9f3a\"],[0.8888888888888888,\"#fdca26\"],[1.0,\"#f0f921\"]],\"type\":\"histogram2d\"}],\"histogram\":[{\"marker\":{\"pattern\":{\"fillmode\":\"overlay\",\"size\":10,\"solidity\":0.2}},\"type\":\"histogram\"}],\"mesh3d\":[{\"colorbar\":{\"outlinewidth\":0,\"ticks\":\"\"},\"type\":\"mesh3d\"}],\"parcoords\":[{\"line\":{\"colorbar\":{\"outlinewidth\":0,\"ticks\":\"\"}},\"type\":\"parcoords\"}],\"pie\":[{\"automargin\":true,\"type\":\"pie\"}],\"scatter3d\":[{\"line\":{\"colorbar\":{\"outlinewidth\":0,\"ticks\":\"\"}},\"marker\":{\"colorbar\":{\"outlinewidth\":0,\"ticks\":\"\"}},\"type\":\"scatter3d\"}],\"scattercarpet\":[{\"marker\":{\"colorbar\":{\"outlinewidth\":0,\"ticks\":\"\"}},\"type\":\"scattercarpet\"}],\"scattergeo\":[{\"marker\":{\"colorbar\":{\"outlinewidth\":0,\"ticks\":\"\"}},\"type\":\"scattergeo\"}],\"scattergl\":[{\"marker\":{\"colorbar\":{\"outlinewidth\":0,\"ticks\":\"\"}},\"type\":\"scattergl\"}],\"scattermapbox\":[{\"marker\":{\"colorbar\":{\"outlinewidth\":0,\"ticks\":\"\"}},\"type\":\"scattermapbox\"}],\"scatterpolargl\":[{\"marker\":{\"colorbar\":{\"outlinewidth\":0,\"ticks\":\"\"}},\"type\":\"scatterpolargl\"}],\"scatterpolar\":[{\"marker\":{\"colorbar\":{\"outlinewidth\":0,\"ticks\":\"\"}},\"type\":\"scatterpolar\"}],\"scatter\":[{\"fillpattern\":{\"fillmode\":\"overlay\",\"size\":10,\"solidity\":0.2},\"type\":\"scatter\"}],\"scatterternary\":[{\"marker\":{\"colorbar\":{\"outlinewidth\":0,\"ticks\":\"\"}},\"type\":\"scatterternary\"}],\"surface\":[{\"colorbar\":{\"outlinewidth\":0,\"ticks\":\"\"},\"colorscale\":[[0.0,\"#0d0887\"],[0.1111111111111111,\"#46039f\"],[0.2222222222222222,\"#7201a8\"],[0.3333333333333333,\"#9c179e\"],[0.4444444444444444,\"#bd3786\"],[0.5555555555555556,\"#d8576b\"],[0.6666666666666666,\"#ed7953\"],[0.7777777777777778,\"#fb9f3a\"],[0.8888888888888888,\"#fdca26\"],[1.0,\"#f0f921\"]],\"type\":\"surface\"}],\"table\":[{\"cells\":{\"fill\":{\"color\":\"#EBF0F8\"},\"line\":{\"color\":\"white\"}},\"header\":{\"fill\":{\"color\":\"#C8D4E3\"},\"line\":{\"color\":\"white\"}},\"type\":\"table\"}]},\"layout\":{\"annotationdefaults\":{\"arrowcolor\":\"#2a3f5f\",\"arrowhead\":0,\"arrowwidth\":1},\"autotypenumbers\":\"strict\",\"coloraxis\":{\"colorbar\":{\"outlinewidth\":0,\"ticks\":\"\"}},\"colorscale\":{\"diverging\":[[0,\"#8e0152\"],[0.1,\"#c51b7d\"],[0.2,\"#de77ae\"],[0.3,\"#f1b6da\"],[0.4,\"#fde0ef\"],[0.5,\"#f7f7f7\"],[0.6,\"#e6f5d0\"],[0.7,\"#b8e186\"],[0.8,\"#7fbc41\"],[0.9,\"#4d9221\"],[1,\"#276419\"]],\"sequential\":[[0.0,\"#0d0887\"],[0.1111111111111111,\"#46039f\"],[0.2222222222222222,\"#7201a8\"],[0.3333333333333333,\"#9c179e\"],[0.4444444444444444,\"#bd3786\"],[0.5555555555555556,\"#d8576b\"],[0.6666666666666666,\"#ed7953\"],[0.7777777777777778,\"#fb9f3a\"],[0.8888888888888888,\"#fdca26\"],[1.0,\"#f0f921\"]],\"sequentialminus\":[[0.0,\"#0d0887\"],[0.1111111111111111,\"#46039f\"],[0.2222222222222222,\"#7201a8\"],[0.3333333333333333,\"#9c179e\"],[0.4444444444444444,\"#bd3786\"],[0.5555555555555556,\"#d8576b\"],[0.6666666666666666,\"#ed7953\"],[0.7777777777777778,\"#fb9f3a\"],[0.8888888888888888,\"#fdca26\"],[1.0,\"#f0f921\"]]},\"colorway\":[\"#636efa\",\"#EF553B\",\"#00cc96\",\"#ab63fa\",\"#FFA15A\",\"#19d3f3\",\"#FF6692\",\"#B6E880\",\"#FF97FF\",\"#FECB52\"],\"font\":{\"color\":\"#2a3f5f\"},\"geo\":{\"bgcolor\":\"white\",\"lakecolor\":\"white\",\"landcolor\":\"#E5ECF6\",\"showlakes\":true,\"showland\":true,\"subunitcolor\":\"white\"},\"hoverlabel\":{\"align\":\"left\"},\"hovermode\":\"closest\",\"mapbox\":{\"style\":\"light\"},\"paper_bgcolor\":\"white\",\"plot_bgcolor\":\"#E5ECF6\",\"polar\":{\"angularaxis\":{\"gridcolor\":\"white\",\"linecolor\":\"white\",\"ticks\":\"\"},\"bgcolor\":\"#E5ECF6\",\"radialaxis\":{\"gridcolor\":\"white\",\"linecolor\":\"white\",\"ticks\":\"\"}},\"scene\":{\"xaxis\":{\"backgroundcolor\":\"#E5ECF6\",\"gridcolor\":\"white\",\"gridwidth\":2,\"linecolor\":\"white\",\"showbackground\":true,\"ticks\":\"\",\"zerolinecolor\":\"white\"},\"yaxis\":{\"backgroundcolor\":\"#E5ECF6\",\"gridcolor\":\"white\",\"gridwidth\":2,\"linecolor\":\"white\",\"showbackground\":true,\"ticks\":\"\",\"zerolinecolor\":\"white\"},\"zaxis\":{\"backgroundcolor\":\"#E5ECF6\",\"gridcolor\":\"white\",\"gridwidth\":2,\"linecolor\":\"white\",\"showbackground\":true,\"ticks\":\"\",\"zerolinecolor\":\"white\"}},\"shapedefaults\":{\"line\":{\"color\":\"#2a3f5f\"}},\"ternary\":{\"aaxis\":{\"gridcolor\":\"white\",\"linecolor\":\"white\",\"ticks\":\"\"},\"baxis\":{\"gridcolor\":\"white\",\"linecolor\":\"white\",\"ticks\":\"\"},\"bgcolor\":\"#E5ECF6\",\"caxis\":{\"gridcolor\":\"white\",\"linecolor\":\"white\",\"ticks\":\"\"}},\"title\":{\"x\":0.05},\"xaxis\":{\"automargin\":true,\"gridcolor\":\"white\",\"linecolor\":\"white\",\"ticks\":\"\",\"title\":{\"standoff\":15},\"zerolinecolor\":\"white\",\"zerolinewidth\":2},\"yaxis\":{\"automargin\":true,\"gridcolor\":\"white\",\"linecolor\":\"white\",\"ticks\":\"\",\"title\":{\"standoff\":15},\"zerolinecolor\":\"white\",\"zerolinewidth\":2}}},\"title\":{\"font\":{\"color\":\"#4D5663\"}},\"xaxis\":{\"gridcolor\":\"#E1E5ED\",\"showgrid\":true,\"tickfont\":{\"color\":\"#4D5663\"},\"title\":{\"font\":{\"color\":\"#4D5663\"},\"text\":\"\"},\"zerolinecolor\":\"#E1E5ED\"},\"yaxis\":{\"gridcolor\":\"#E1E5ED\",\"showgrid\":true,\"tickfont\":{\"color\":\"#4D5663\"},\"title\":{\"font\":{\"color\":\"#4D5663\"},\"text\":\"\"},\"zerolinecolor\":\"#E1E5ED\"}},                        {\"showLink\": true, \"linkText\": \"Export to plot.ly\", \"plotlyServerURL\": \"https://plot.ly\", \"responsive\": true}                    ).then(function(){\n",
       "                            \n",
       "var gd = document.getElementById('3808e2ef-d965-49dd-9f5b-adf3a6397bc9');\n",
       "var x = new MutationObserver(function (mutations, observer) {{\n",
       "        var display = window.getComputedStyle(gd).display;\n",
       "        if (!display || display === 'none') {{\n",
       "            console.log([gd, 'removed!']);\n",
       "            Plotly.purge(gd);\n",
       "            observer.disconnect();\n",
       "        }}\n",
       "}});\n",
       "\n",
       "// Listen for the removal of the full notebook cells\n",
       "var notebookContainer = gd.closest('#notebook-container');\n",
       "if (notebookContainer) {{\n",
       "    x.observe(notebookContainer, {childList: true});\n",
       "}}\n",
       "\n",
       "// Listen for the clearing of the current output cell\n",
       "var outputEl = gd.closest('.output');\n",
       "if (outputEl) {{\n",
       "    x.observe(outputEl, {childList: true});\n",
       "}}\n",
       "\n",
       "                        })                };                });            </script>        </div>"
      ]
     },
     "metadata": {},
     "output_type": "display_data"
    }
   ],
   "source": [
    "df.iplot(kind='box')"
   ]
  },
  {
   "cell_type": "code",
   "execution_count": 40,
   "id": "b2fa59f6",
   "metadata": {},
   "outputs": [],
   "source": [
    "# three day suurface plot"
   ]
  },
  {
   "cell_type": "code",
   "execution_count": 42,
   "id": "ca642528",
   "metadata": {},
   "outputs": [],
   "source": [
    "df3 = pd.DataFrame({'x':[1,2,3,4,5],'y':[10,20,30,20,10],'z':[500,400,300,200,100]})"
   ]
  },
  {
   "cell_type": "code",
   "execution_count": 43,
   "id": "51356b29",
   "metadata": {},
   "outputs": [
    {
     "data": {
      "text/html": [
       "<div>\n",
       "<style scoped>\n",
       "    .dataframe tbody tr th:only-of-type {\n",
       "        vertical-align: middle;\n",
       "    }\n",
       "\n",
       "    .dataframe tbody tr th {\n",
       "        vertical-align: top;\n",
       "    }\n",
       "\n",
       "    .dataframe thead th {\n",
       "        text-align: right;\n",
       "    }\n",
       "</style>\n",
       "<table border=\"1\" class=\"dataframe\">\n",
       "  <thead>\n",
       "    <tr style=\"text-align: right;\">\n",
       "      <th></th>\n",
       "      <th>x</th>\n",
       "      <th>y</th>\n",
       "      <th>z</th>\n",
       "    </tr>\n",
       "  </thead>\n",
       "  <tbody>\n",
       "    <tr>\n",
       "      <th>0</th>\n",
       "      <td>1</td>\n",
       "      <td>10</td>\n",
       "      <td>500</td>\n",
       "    </tr>\n",
       "    <tr>\n",
       "      <th>1</th>\n",
       "      <td>2</td>\n",
       "      <td>20</td>\n",
       "      <td>400</td>\n",
       "    </tr>\n",
       "    <tr>\n",
       "      <th>2</th>\n",
       "      <td>3</td>\n",
       "      <td>30</td>\n",
       "      <td>300</td>\n",
       "    </tr>\n",
       "    <tr>\n",
       "      <th>3</th>\n",
       "      <td>4</td>\n",
       "      <td>20</td>\n",
       "      <td>200</td>\n",
       "    </tr>\n",
       "    <tr>\n",
       "      <th>4</th>\n",
       "      <td>5</td>\n",
       "      <td>10</td>\n",
       "      <td>100</td>\n",
       "    </tr>\n",
       "  </tbody>\n",
       "</table>\n",
       "</div>"
      ],
      "text/plain": [
       "   x   y    z\n",
       "0  1  10  500\n",
       "1  2  20  400\n",
       "2  3  30  300\n",
       "3  4  20  200\n",
       "4  5  10  100"
      ]
     },
     "execution_count": 43,
     "metadata": {},
     "output_type": "execute_result"
    }
   ],
   "source": [
    "df3"
   ]
  },
  {
   "cell_type": "code",
   "execution_count": 44,
   "id": "533cd231",
   "metadata": {},
   "outputs": [
    {
     "data": {
      "application/vnd.plotly.v1+json": {
       "config": {
        "linkText": "Export to plot.ly",
        "plotlyServerURL": "https://plot.ly",
        "showLink": true
       },
       "data": [
        {
         "colorscale": [
          [
           0,
           "rgb(255, 153, 51)"
          ],
          [
           0.1111111111111111,
           "rgb(55, 128, 191)"
          ],
          [
           0.2222222222222222,
           "rgb(50, 171, 96)"
          ],
          [
           0.3333333333333333,
           "rgb(128, 0, 128)"
          ],
          [
           0.4444444444444444,
           "rgb(219, 64, 82)"
          ],
          [
           0.5555555555555556,
           "rgb(0, 128, 128)"
          ],
          [
           0.6666666666666666,
           "rgb(255, 255, 51)"
          ],
          [
           0.7777777777777778,
           "rgb(128, 128, 0)"
          ],
          [
           0.8888888888888888,
           "rgb(251, 128, 114)"
          ],
          [
           1,
           "rgb(128, 177, 211)"
          ]
         ],
         "type": "surface",
         "x": [
          0,
          1,
          2,
          3,
          4
         ],
         "y": [
          "x",
          "y",
          "z"
         ],
         "z": [
          [
           1,
           2,
           3,
           4,
           5
          ],
          [
           10,
           20,
           30,
           20,
           10
          ],
          [
           500,
           400,
           300,
           200,
           100
          ]
         ]
        }
       ],
       "layout": {
        "legend": {
         "bgcolor": "#F5F6F9",
         "font": {
          "color": "#4D5663"
         }
        },
        "paper_bgcolor": "#F5F6F9",
        "plot_bgcolor": "#F5F6F9",
        "template": {
         "data": {
          "bar": [
           {
            "error_x": {
             "color": "#2a3f5f"
            },
            "error_y": {
             "color": "#2a3f5f"
            },
            "marker": {
             "line": {
              "color": "#E5ECF6",
              "width": 0.5
             },
             "pattern": {
              "fillmode": "overlay",
              "size": 10,
              "solidity": 0.2
             }
            },
            "type": "bar"
           }
          ],
          "barpolar": [
           {
            "marker": {
             "line": {
              "color": "#E5ECF6",
              "width": 0.5
             },
             "pattern": {
              "fillmode": "overlay",
              "size": 10,
              "solidity": 0.2
             }
            },
            "type": "barpolar"
           }
          ],
          "carpet": [
           {
            "aaxis": {
             "endlinecolor": "#2a3f5f",
             "gridcolor": "white",
             "linecolor": "white",
             "minorgridcolor": "white",
             "startlinecolor": "#2a3f5f"
            },
            "baxis": {
             "endlinecolor": "#2a3f5f",
             "gridcolor": "white",
             "linecolor": "white",
             "minorgridcolor": "white",
             "startlinecolor": "#2a3f5f"
            },
            "type": "carpet"
           }
          ],
          "choropleth": [
           {
            "colorbar": {
             "outlinewidth": 0,
             "ticks": ""
            },
            "type": "choropleth"
           }
          ],
          "contour": [
           {
            "colorbar": {
             "outlinewidth": 0,
             "ticks": ""
            },
            "colorscale": [
             [
              0,
              "#0d0887"
             ],
             [
              0.1111111111111111,
              "#46039f"
             ],
             [
              0.2222222222222222,
              "#7201a8"
             ],
             [
              0.3333333333333333,
              "#9c179e"
             ],
             [
              0.4444444444444444,
              "#bd3786"
             ],
             [
              0.5555555555555556,
              "#d8576b"
             ],
             [
              0.6666666666666666,
              "#ed7953"
             ],
             [
              0.7777777777777778,
              "#fb9f3a"
             ],
             [
              0.8888888888888888,
              "#fdca26"
             ],
             [
              1,
              "#f0f921"
             ]
            ],
            "type": "contour"
           }
          ],
          "contourcarpet": [
           {
            "colorbar": {
             "outlinewidth": 0,
             "ticks": ""
            },
            "type": "contourcarpet"
           }
          ],
          "heatmap": [
           {
            "colorbar": {
             "outlinewidth": 0,
             "ticks": ""
            },
            "colorscale": [
             [
              0,
              "#0d0887"
             ],
             [
              0.1111111111111111,
              "#46039f"
             ],
             [
              0.2222222222222222,
              "#7201a8"
             ],
             [
              0.3333333333333333,
              "#9c179e"
             ],
             [
              0.4444444444444444,
              "#bd3786"
             ],
             [
              0.5555555555555556,
              "#d8576b"
             ],
             [
              0.6666666666666666,
              "#ed7953"
             ],
             [
              0.7777777777777778,
              "#fb9f3a"
             ],
             [
              0.8888888888888888,
              "#fdca26"
             ],
             [
              1,
              "#f0f921"
             ]
            ],
            "type": "heatmap"
           }
          ],
          "heatmapgl": [
           {
            "colorbar": {
             "outlinewidth": 0,
             "ticks": ""
            },
            "colorscale": [
             [
              0,
              "#0d0887"
             ],
             [
              0.1111111111111111,
              "#46039f"
             ],
             [
              0.2222222222222222,
              "#7201a8"
             ],
             [
              0.3333333333333333,
              "#9c179e"
             ],
             [
              0.4444444444444444,
              "#bd3786"
             ],
             [
              0.5555555555555556,
              "#d8576b"
             ],
             [
              0.6666666666666666,
              "#ed7953"
             ],
             [
              0.7777777777777778,
              "#fb9f3a"
             ],
             [
              0.8888888888888888,
              "#fdca26"
             ],
             [
              1,
              "#f0f921"
             ]
            ],
            "type": "heatmapgl"
           }
          ],
          "histogram": [
           {
            "marker": {
             "pattern": {
              "fillmode": "overlay",
              "size": 10,
              "solidity": 0.2
             }
            },
            "type": "histogram"
           }
          ],
          "histogram2d": [
           {
            "colorbar": {
             "outlinewidth": 0,
             "ticks": ""
            },
            "colorscale": [
             [
              0,
              "#0d0887"
             ],
             [
              0.1111111111111111,
              "#46039f"
             ],
             [
              0.2222222222222222,
              "#7201a8"
             ],
             [
              0.3333333333333333,
              "#9c179e"
             ],
             [
              0.4444444444444444,
              "#bd3786"
             ],
             [
              0.5555555555555556,
              "#d8576b"
             ],
             [
              0.6666666666666666,
              "#ed7953"
             ],
             [
              0.7777777777777778,
              "#fb9f3a"
             ],
             [
              0.8888888888888888,
              "#fdca26"
             ],
             [
              1,
              "#f0f921"
             ]
            ],
            "type": "histogram2d"
           }
          ],
          "histogram2dcontour": [
           {
            "colorbar": {
             "outlinewidth": 0,
             "ticks": ""
            },
            "colorscale": [
             [
              0,
              "#0d0887"
             ],
             [
              0.1111111111111111,
              "#46039f"
             ],
             [
              0.2222222222222222,
              "#7201a8"
             ],
             [
              0.3333333333333333,
              "#9c179e"
             ],
             [
              0.4444444444444444,
              "#bd3786"
             ],
             [
              0.5555555555555556,
              "#d8576b"
             ],
             [
              0.6666666666666666,
              "#ed7953"
             ],
             [
              0.7777777777777778,
              "#fb9f3a"
             ],
             [
              0.8888888888888888,
              "#fdca26"
             ],
             [
              1,
              "#f0f921"
             ]
            ],
            "type": "histogram2dcontour"
           }
          ],
          "mesh3d": [
           {
            "colorbar": {
             "outlinewidth": 0,
             "ticks": ""
            },
            "type": "mesh3d"
           }
          ],
          "parcoords": [
           {
            "line": {
             "colorbar": {
              "outlinewidth": 0,
              "ticks": ""
             }
            },
            "type": "parcoords"
           }
          ],
          "pie": [
           {
            "automargin": true,
            "type": "pie"
           }
          ],
          "scatter": [
           {
            "fillpattern": {
             "fillmode": "overlay",
             "size": 10,
             "solidity": 0.2
            },
            "type": "scatter"
           }
          ],
          "scatter3d": [
           {
            "line": {
             "colorbar": {
              "outlinewidth": 0,
              "ticks": ""
             }
            },
            "marker": {
             "colorbar": {
              "outlinewidth": 0,
              "ticks": ""
             }
            },
            "type": "scatter3d"
           }
          ],
          "scattercarpet": [
           {
            "marker": {
             "colorbar": {
              "outlinewidth": 0,
              "ticks": ""
             }
            },
            "type": "scattercarpet"
           }
          ],
          "scattergeo": [
           {
            "marker": {
             "colorbar": {
              "outlinewidth": 0,
              "ticks": ""
             }
            },
            "type": "scattergeo"
           }
          ],
          "scattergl": [
           {
            "marker": {
             "colorbar": {
              "outlinewidth": 0,
              "ticks": ""
             }
            },
            "type": "scattergl"
           }
          ],
          "scattermapbox": [
           {
            "marker": {
             "colorbar": {
              "outlinewidth": 0,
              "ticks": ""
             }
            },
            "type": "scattermapbox"
           }
          ],
          "scatterpolar": [
           {
            "marker": {
             "colorbar": {
              "outlinewidth": 0,
              "ticks": ""
             }
            },
            "type": "scatterpolar"
           }
          ],
          "scatterpolargl": [
           {
            "marker": {
             "colorbar": {
              "outlinewidth": 0,
              "ticks": ""
             }
            },
            "type": "scatterpolargl"
           }
          ],
          "scatterternary": [
           {
            "marker": {
             "colorbar": {
              "outlinewidth": 0,
              "ticks": ""
             }
            },
            "type": "scatterternary"
           }
          ],
          "surface": [
           {
            "colorbar": {
             "outlinewidth": 0,
             "ticks": ""
            },
            "colorscale": [
             [
              0,
              "#0d0887"
             ],
             [
              0.1111111111111111,
              "#46039f"
             ],
             [
              0.2222222222222222,
              "#7201a8"
             ],
             [
              0.3333333333333333,
              "#9c179e"
             ],
             [
              0.4444444444444444,
              "#bd3786"
             ],
             [
              0.5555555555555556,
              "#d8576b"
             ],
             [
              0.6666666666666666,
              "#ed7953"
             ],
             [
              0.7777777777777778,
              "#fb9f3a"
             ],
             [
              0.8888888888888888,
              "#fdca26"
             ],
             [
              1,
              "#f0f921"
             ]
            ],
            "type": "surface"
           }
          ],
          "table": [
           {
            "cells": {
             "fill": {
              "color": "#EBF0F8"
             },
             "line": {
              "color": "white"
             }
            },
            "header": {
             "fill": {
              "color": "#C8D4E3"
             },
             "line": {
              "color": "white"
             }
            },
            "type": "table"
           }
          ]
         },
         "layout": {
          "annotationdefaults": {
           "arrowcolor": "#2a3f5f",
           "arrowhead": 0,
           "arrowwidth": 1
          },
          "autotypenumbers": "strict",
          "coloraxis": {
           "colorbar": {
            "outlinewidth": 0,
            "ticks": ""
           }
          },
          "colorscale": {
           "diverging": [
            [
             0,
             "#8e0152"
            ],
            [
             0.1,
             "#c51b7d"
            ],
            [
             0.2,
             "#de77ae"
            ],
            [
             0.3,
             "#f1b6da"
            ],
            [
             0.4,
             "#fde0ef"
            ],
            [
             0.5,
             "#f7f7f7"
            ],
            [
             0.6,
             "#e6f5d0"
            ],
            [
             0.7,
             "#b8e186"
            ],
            [
             0.8,
             "#7fbc41"
            ],
            [
             0.9,
             "#4d9221"
            ],
            [
             1,
             "#276419"
            ]
           ],
           "sequential": [
            [
             0,
             "#0d0887"
            ],
            [
             0.1111111111111111,
             "#46039f"
            ],
            [
             0.2222222222222222,
             "#7201a8"
            ],
            [
             0.3333333333333333,
             "#9c179e"
            ],
            [
             0.4444444444444444,
             "#bd3786"
            ],
            [
             0.5555555555555556,
             "#d8576b"
            ],
            [
             0.6666666666666666,
             "#ed7953"
            ],
            [
             0.7777777777777778,
             "#fb9f3a"
            ],
            [
             0.8888888888888888,
             "#fdca26"
            ],
            [
             1,
             "#f0f921"
            ]
           ],
           "sequentialminus": [
            [
             0,
             "#0d0887"
            ],
            [
             0.1111111111111111,
             "#46039f"
            ],
            [
             0.2222222222222222,
             "#7201a8"
            ],
            [
             0.3333333333333333,
             "#9c179e"
            ],
            [
             0.4444444444444444,
             "#bd3786"
            ],
            [
             0.5555555555555556,
             "#d8576b"
            ],
            [
             0.6666666666666666,
             "#ed7953"
            ],
            [
             0.7777777777777778,
             "#fb9f3a"
            ],
            [
             0.8888888888888888,
             "#fdca26"
            ],
            [
             1,
             "#f0f921"
            ]
           ]
          },
          "colorway": [
           "#636efa",
           "#EF553B",
           "#00cc96",
           "#ab63fa",
           "#FFA15A",
           "#19d3f3",
           "#FF6692",
           "#B6E880",
           "#FF97FF",
           "#FECB52"
          ],
          "font": {
           "color": "#2a3f5f"
          },
          "geo": {
           "bgcolor": "white",
           "lakecolor": "white",
           "landcolor": "#E5ECF6",
           "showlakes": true,
           "showland": true,
           "subunitcolor": "white"
          },
          "hoverlabel": {
           "align": "left"
          },
          "hovermode": "closest",
          "mapbox": {
           "style": "light"
          },
          "paper_bgcolor": "white",
          "plot_bgcolor": "#E5ECF6",
          "polar": {
           "angularaxis": {
            "gridcolor": "white",
            "linecolor": "white",
            "ticks": ""
           },
           "bgcolor": "#E5ECF6",
           "radialaxis": {
            "gridcolor": "white",
            "linecolor": "white",
            "ticks": ""
           }
          },
          "scene": {
           "xaxis": {
            "backgroundcolor": "#E5ECF6",
            "gridcolor": "white",
            "gridwidth": 2,
            "linecolor": "white",
            "showbackground": true,
            "ticks": "",
            "zerolinecolor": "white"
           },
           "yaxis": {
            "backgroundcolor": "#E5ECF6",
            "gridcolor": "white",
            "gridwidth": 2,
            "linecolor": "white",
            "showbackground": true,
            "ticks": "",
            "zerolinecolor": "white"
           },
           "zaxis": {
            "backgroundcolor": "#E5ECF6",
            "gridcolor": "white",
            "gridwidth": 2,
            "linecolor": "white",
            "showbackground": true,
            "ticks": "",
            "zerolinecolor": "white"
           }
          },
          "shapedefaults": {
           "line": {
            "color": "#2a3f5f"
           }
          },
          "ternary": {
           "aaxis": {
            "gridcolor": "white",
            "linecolor": "white",
            "ticks": ""
           },
           "baxis": {
            "gridcolor": "white",
            "linecolor": "white",
            "ticks": ""
           },
           "bgcolor": "#E5ECF6",
           "caxis": {
            "gridcolor": "white",
            "linecolor": "white",
            "ticks": ""
           }
          },
          "title": {
           "x": 0.05
          },
          "xaxis": {
           "automargin": true,
           "gridcolor": "white",
           "linecolor": "white",
           "ticks": "",
           "title": {
            "standoff": 15
           },
           "zerolinecolor": "white",
           "zerolinewidth": 2
          },
          "yaxis": {
           "automargin": true,
           "gridcolor": "white",
           "linecolor": "white",
           "ticks": "",
           "title": {
            "standoff": 15
           },
           "zerolinecolor": "white",
           "zerolinewidth": 2
          }
         }
        },
        "title": {
         "font": {
          "color": "#4D5663"
         }
        },
        "xaxis": {
         "gridcolor": "#E1E5ED",
         "showgrid": true,
         "tickfont": {
          "color": "#4D5663"
         },
         "title": {
          "font": {
           "color": "#4D5663"
          },
          "text": ""
         },
         "zerolinecolor": "#E1E5ED"
        },
        "yaxis": {
         "gridcolor": "#E1E5ED",
         "showgrid": true,
         "tickfont": {
          "color": "#4D5663"
         },
         "title": {
          "font": {
           "color": "#4D5663"
          },
          "text": ""
         },
         "zerolinecolor": "#E1E5ED"
        }
       }
      },
      "text/html": [
       "<div>                            <div id=\"d1e8c017-ecce-4559-9b88-40178380fd04\" class=\"plotly-graph-div\" style=\"height:525px; width:100%;\"></div>            <script type=\"text/javascript\">                require([\"plotly\"], function(Plotly) {                    window.PLOTLYENV=window.PLOTLYENV || {};\n",
       "                    window.PLOTLYENV.BASE_URL='https://plot.ly';                                    if (document.getElementById(\"d1e8c017-ecce-4559-9b88-40178380fd04\")) {                    Plotly.newPlot(                        \"d1e8c017-ecce-4559-9b88-40178380fd04\",                        [{\"colorscale\":[[0.0,\"rgb(255, 153, 51)\"],[0.1111111111111111,\"rgb(55, 128, 191)\"],[0.2222222222222222,\"rgb(50, 171, 96)\"],[0.3333333333333333,\"rgb(128, 0, 128)\"],[0.4444444444444444,\"rgb(219, 64, 82)\"],[0.5555555555555556,\"rgb(0, 128, 128)\"],[0.6666666666666666,\"rgb(255, 255, 51)\"],[0.7777777777777778,\"rgb(128, 128, 0)\"],[0.8888888888888888,\"rgb(251, 128, 114)\"],[1.0,\"rgb(128, 177, 211)\"]],\"x\":[0,1,2,3,4],\"y\":[\"x\",\"y\",\"z\"],\"z\":[[1,2,3,4,5],[10,20,30,20,10],[500,400,300,200,100]],\"type\":\"surface\"}],                        {\"legend\":{\"bgcolor\":\"#F5F6F9\",\"font\":{\"color\":\"#4D5663\"}},\"paper_bgcolor\":\"#F5F6F9\",\"plot_bgcolor\":\"#F5F6F9\",\"template\":{\"data\":{\"barpolar\":[{\"marker\":{\"line\":{\"color\":\"#E5ECF6\",\"width\":0.5},\"pattern\":{\"fillmode\":\"overlay\",\"size\":10,\"solidity\":0.2}},\"type\":\"barpolar\"}],\"bar\":[{\"error_x\":{\"color\":\"#2a3f5f\"},\"error_y\":{\"color\":\"#2a3f5f\"},\"marker\":{\"line\":{\"color\":\"#E5ECF6\",\"width\":0.5},\"pattern\":{\"fillmode\":\"overlay\",\"size\":10,\"solidity\":0.2}},\"type\":\"bar\"}],\"carpet\":[{\"aaxis\":{\"endlinecolor\":\"#2a3f5f\",\"gridcolor\":\"white\",\"linecolor\":\"white\",\"minorgridcolor\":\"white\",\"startlinecolor\":\"#2a3f5f\"},\"baxis\":{\"endlinecolor\":\"#2a3f5f\",\"gridcolor\":\"white\",\"linecolor\":\"white\",\"minorgridcolor\":\"white\",\"startlinecolor\":\"#2a3f5f\"},\"type\":\"carpet\"}],\"choropleth\":[{\"colorbar\":{\"outlinewidth\":0,\"ticks\":\"\"},\"type\":\"choropleth\"}],\"contourcarpet\":[{\"colorbar\":{\"outlinewidth\":0,\"ticks\":\"\"},\"type\":\"contourcarpet\"}],\"contour\":[{\"colorbar\":{\"outlinewidth\":0,\"ticks\":\"\"},\"colorscale\":[[0.0,\"#0d0887\"],[0.1111111111111111,\"#46039f\"],[0.2222222222222222,\"#7201a8\"],[0.3333333333333333,\"#9c179e\"],[0.4444444444444444,\"#bd3786\"],[0.5555555555555556,\"#d8576b\"],[0.6666666666666666,\"#ed7953\"],[0.7777777777777778,\"#fb9f3a\"],[0.8888888888888888,\"#fdca26\"],[1.0,\"#f0f921\"]],\"type\":\"contour\"}],\"heatmapgl\":[{\"colorbar\":{\"outlinewidth\":0,\"ticks\":\"\"},\"colorscale\":[[0.0,\"#0d0887\"],[0.1111111111111111,\"#46039f\"],[0.2222222222222222,\"#7201a8\"],[0.3333333333333333,\"#9c179e\"],[0.4444444444444444,\"#bd3786\"],[0.5555555555555556,\"#d8576b\"],[0.6666666666666666,\"#ed7953\"],[0.7777777777777778,\"#fb9f3a\"],[0.8888888888888888,\"#fdca26\"],[1.0,\"#f0f921\"]],\"type\":\"heatmapgl\"}],\"heatmap\":[{\"colorbar\":{\"outlinewidth\":0,\"ticks\":\"\"},\"colorscale\":[[0.0,\"#0d0887\"],[0.1111111111111111,\"#46039f\"],[0.2222222222222222,\"#7201a8\"],[0.3333333333333333,\"#9c179e\"],[0.4444444444444444,\"#bd3786\"],[0.5555555555555556,\"#d8576b\"],[0.6666666666666666,\"#ed7953\"],[0.7777777777777778,\"#fb9f3a\"],[0.8888888888888888,\"#fdca26\"],[1.0,\"#f0f921\"]],\"type\":\"heatmap\"}],\"histogram2dcontour\":[{\"colorbar\":{\"outlinewidth\":0,\"ticks\":\"\"},\"colorscale\":[[0.0,\"#0d0887\"],[0.1111111111111111,\"#46039f\"],[0.2222222222222222,\"#7201a8\"],[0.3333333333333333,\"#9c179e\"],[0.4444444444444444,\"#bd3786\"],[0.5555555555555556,\"#d8576b\"],[0.6666666666666666,\"#ed7953\"],[0.7777777777777778,\"#fb9f3a\"],[0.8888888888888888,\"#fdca26\"],[1.0,\"#f0f921\"]],\"type\":\"histogram2dcontour\"}],\"histogram2d\":[{\"colorbar\":{\"outlinewidth\":0,\"ticks\":\"\"},\"colorscale\":[[0.0,\"#0d0887\"],[0.1111111111111111,\"#46039f\"],[0.2222222222222222,\"#7201a8\"],[0.3333333333333333,\"#9c179e\"],[0.4444444444444444,\"#bd3786\"],[0.5555555555555556,\"#d8576b\"],[0.6666666666666666,\"#ed7953\"],[0.7777777777777778,\"#fb9f3a\"],[0.8888888888888888,\"#fdca26\"],[1.0,\"#f0f921\"]],\"type\":\"histogram2d\"}],\"histogram\":[{\"marker\":{\"pattern\":{\"fillmode\":\"overlay\",\"size\":10,\"solidity\":0.2}},\"type\":\"histogram\"}],\"mesh3d\":[{\"colorbar\":{\"outlinewidth\":0,\"ticks\":\"\"},\"type\":\"mesh3d\"}],\"parcoords\":[{\"line\":{\"colorbar\":{\"outlinewidth\":0,\"ticks\":\"\"}},\"type\":\"parcoords\"}],\"pie\":[{\"automargin\":true,\"type\":\"pie\"}],\"scatter3d\":[{\"line\":{\"colorbar\":{\"outlinewidth\":0,\"ticks\":\"\"}},\"marker\":{\"colorbar\":{\"outlinewidth\":0,\"ticks\":\"\"}},\"type\":\"scatter3d\"}],\"scattercarpet\":[{\"marker\":{\"colorbar\":{\"outlinewidth\":0,\"ticks\":\"\"}},\"type\":\"scattercarpet\"}],\"scattergeo\":[{\"marker\":{\"colorbar\":{\"outlinewidth\":0,\"ticks\":\"\"}},\"type\":\"scattergeo\"}],\"scattergl\":[{\"marker\":{\"colorbar\":{\"outlinewidth\":0,\"ticks\":\"\"}},\"type\":\"scattergl\"}],\"scattermapbox\":[{\"marker\":{\"colorbar\":{\"outlinewidth\":0,\"ticks\":\"\"}},\"type\":\"scattermapbox\"}],\"scatterpolargl\":[{\"marker\":{\"colorbar\":{\"outlinewidth\":0,\"ticks\":\"\"}},\"type\":\"scatterpolargl\"}],\"scatterpolar\":[{\"marker\":{\"colorbar\":{\"outlinewidth\":0,\"ticks\":\"\"}},\"type\":\"scatterpolar\"}],\"scatter\":[{\"fillpattern\":{\"fillmode\":\"overlay\",\"size\":10,\"solidity\":0.2},\"type\":\"scatter\"}],\"scatterternary\":[{\"marker\":{\"colorbar\":{\"outlinewidth\":0,\"ticks\":\"\"}},\"type\":\"scatterternary\"}],\"surface\":[{\"colorbar\":{\"outlinewidth\":0,\"ticks\":\"\"},\"colorscale\":[[0.0,\"#0d0887\"],[0.1111111111111111,\"#46039f\"],[0.2222222222222222,\"#7201a8\"],[0.3333333333333333,\"#9c179e\"],[0.4444444444444444,\"#bd3786\"],[0.5555555555555556,\"#d8576b\"],[0.6666666666666666,\"#ed7953\"],[0.7777777777777778,\"#fb9f3a\"],[0.8888888888888888,\"#fdca26\"],[1.0,\"#f0f921\"]],\"type\":\"surface\"}],\"table\":[{\"cells\":{\"fill\":{\"color\":\"#EBF0F8\"},\"line\":{\"color\":\"white\"}},\"header\":{\"fill\":{\"color\":\"#C8D4E3\"},\"line\":{\"color\":\"white\"}},\"type\":\"table\"}]},\"layout\":{\"annotationdefaults\":{\"arrowcolor\":\"#2a3f5f\",\"arrowhead\":0,\"arrowwidth\":1},\"autotypenumbers\":\"strict\",\"coloraxis\":{\"colorbar\":{\"outlinewidth\":0,\"ticks\":\"\"}},\"colorscale\":{\"diverging\":[[0,\"#8e0152\"],[0.1,\"#c51b7d\"],[0.2,\"#de77ae\"],[0.3,\"#f1b6da\"],[0.4,\"#fde0ef\"],[0.5,\"#f7f7f7\"],[0.6,\"#e6f5d0\"],[0.7,\"#b8e186\"],[0.8,\"#7fbc41\"],[0.9,\"#4d9221\"],[1,\"#276419\"]],\"sequential\":[[0.0,\"#0d0887\"],[0.1111111111111111,\"#46039f\"],[0.2222222222222222,\"#7201a8\"],[0.3333333333333333,\"#9c179e\"],[0.4444444444444444,\"#bd3786\"],[0.5555555555555556,\"#d8576b\"],[0.6666666666666666,\"#ed7953\"],[0.7777777777777778,\"#fb9f3a\"],[0.8888888888888888,\"#fdca26\"],[1.0,\"#f0f921\"]],\"sequentialminus\":[[0.0,\"#0d0887\"],[0.1111111111111111,\"#46039f\"],[0.2222222222222222,\"#7201a8\"],[0.3333333333333333,\"#9c179e\"],[0.4444444444444444,\"#bd3786\"],[0.5555555555555556,\"#d8576b\"],[0.6666666666666666,\"#ed7953\"],[0.7777777777777778,\"#fb9f3a\"],[0.8888888888888888,\"#fdca26\"],[1.0,\"#f0f921\"]]},\"colorway\":[\"#636efa\",\"#EF553B\",\"#00cc96\",\"#ab63fa\",\"#FFA15A\",\"#19d3f3\",\"#FF6692\",\"#B6E880\",\"#FF97FF\",\"#FECB52\"],\"font\":{\"color\":\"#2a3f5f\"},\"geo\":{\"bgcolor\":\"white\",\"lakecolor\":\"white\",\"landcolor\":\"#E5ECF6\",\"showlakes\":true,\"showland\":true,\"subunitcolor\":\"white\"},\"hoverlabel\":{\"align\":\"left\"},\"hovermode\":\"closest\",\"mapbox\":{\"style\":\"light\"},\"paper_bgcolor\":\"white\",\"plot_bgcolor\":\"#E5ECF6\",\"polar\":{\"angularaxis\":{\"gridcolor\":\"white\",\"linecolor\":\"white\",\"ticks\":\"\"},\"bgcolor\":\"#E5ECF6\",\"radialaxis\":{\"gridcolor\":\"white\",\"linecolor\":\"white\",\"ticks\":\"\"}},\"scene\":{\"xaxis\":{\"backgroundcolor\":\"#E5ECF6\",\"gridcolor\":\"white\",\"gridwidth\":2,\"linecolor\":\"white\",\"showbackground\":true,\"ticks\":\"\",\"zerolinecolor\":\"white\"},\"yaxis\":{\"backgroundcolor\":\"#E5ECF6\",\"gridcolor\":\"white\",\"gridwidth\":2,\"linecolor\":\"white\",\"showbackground\":true,\"ticks\":\"\",\"zerolinecolor\":\"white\"},\"zaxis\":{\"backgroundcolor\":\"#E5ECF6\",\"gridcolor\":\"white\",\"gridwidth\":2,\"linecolor\":\"white\",\"showbackground\":true,\"ticks\":\"\",\"zerolinecolor\":\"white\"}},\"shapedefaults\":{\"line\":{\"color\":\"#2a3f5f\"}},\"ternary\":{\"aaxis\":{\"gridcolor\":\"white\",\"linecolor\":\"white\",\"ticks\":\"\"},\"baxis\":{\"gridcolor\":\"white\",\"linecolor\":\"white\",\"ticks\":\"\"},\"bgcolor\":\"#E5ECF6\",\"caxis\":{\"gridcolor\":\"white\",\"linecolor\":\"white\",\"ticks\":\"\"}},\"title\":{\"x\":0.05},\"xaxis\":{\"automargin\":true,\"gridcolor\":\"white\",\"linecolor\":\"white\",\"ticks\":\"\",\"title\":{\"standoff\":15},\"zerolinecolor\":\"white\",\"zerolinewidth\":2},\"yaxis\":{\"automargin\":true,\"gridcolor\":\"white\",\"linecolor\":\"white\",\"ticks\":\"\",\"title\":{\"standoff\":15},\"zerolinecolor\":\"white\",\"zerolinewidth\":2}}},\"title\":{\"font\":{\"color\":\"#4D5663\"}},\"xaxis\":{\"gridcolor\":\"#E1E5ED\",\"showgrid\":true,\"tickfont\":{\"color\":\"#4D5663\"},\"title\":{\"font\":{\"color\":\"#4D5663\"},\"text\":\"\"},\"zerolinecolor\":\"#E1E5ED\"},\"yaxis\":{\"gridcolor\":\"#E1E5ED\",\"showgrid\":true,\"tickfont\":{\"color\":\"#4D5663\"},\"title\":{\"font\":{\"color\":\"#4D5663\"},\"text\":\"\"},\"zerolinecolor\":\"#E1E5ED\"}},                        {\"showLink\": true, \"linkText\": \"Export to plot.ly\", \"plotlyServerURL\": \"https://plot.ly\", \"responsive\": true}                    ).then(function(){\n",
       "                            \n",
       "var gd = document.getElementById('d1e8c017-ecce-4559-9b88-40178380fd04');\n",
       "var x = new MutationObserver(function (mutations, observer) {{\n",
       "        var display = window.getComputedStyle(gd).display;\n",
       "        if (!display || display === 'none') {{\n",
       "            console.log([gd, 'removed!']);\n",
       "            Plotly.purge(gd);\n",
       "            observer.disconnect();\n",
       "        }}\n",
       "}});\n",
       "\n",
       "// Listen for the removal of the full notebook cells\n",
       "var notebookContainer = gd.closest('#notebook-container');\n",
       "if (notebookContainer) {{\n",
       "    x.observe(notebookContainer, {childList: true});\n",
       "}}\n",
       "\n",
       "// Listen for the clearing of the current output cell\n",
       "var outputEl = gd.closest('.output');\n",
       "if (outputEl) {{\n",
       "    x.observe(outputEl, {childList: true});\n",
       "}}\n",
       "\n",
       "                        })                };                });            </script>        </div>"
      ]
     },
     "metadata": {},
     "output_type": "display_data"
    }
   ],
   "source": [
    "df3.iplot(kind='surface')"
   ]
  },
  {
   "cell_type": "code",
   "execution_count": 46,
   "id": "6b06df42",
   "metadata": {},
   "outputs": [],
   "source": [
    "df4 = pd.DataFrame({'x':[1,2,3,4,5],'y':[10,20,30,20,10],'z':[5,4,3,2,1]})"
   ]
  },
  {
   "cell_type": "code",
   "execution_count": 50,
   "id": "ea7312f3",
   "metadata": {},
   "outputs": [
    {
     "data": {
      "application/vnd.plotly.v1+json": {
       "config": {
        "linkText": "Export to plot.ly",
        "plotlyServerURL": "https://plot.ly",
        "showLink": true
       },
       "data": [
        {
         "colorscale": [
          [
           0,
           "rgb(165,0,38)"
          ],
          [
           0.1,
           "rgb(215,48,39)"
          ],
          [
           0.2,
           "rgb(244,109,67)"
          ],
          [
           0.3,
           "rgb(253,174,97)"
          ],
          [
           0.4,
           "rgb(254,224,144)"
          ],
          [
           0.5,
           "rgb(255,255,191)"
          ],
          [
           0.6,
           "rgb(224,243,248)"
          ],
          [
           0.7,
           "rgb(171,217,233)"
          ],
          [
           0.8,
           "rgb(116,173,209)"
          ],
          [
           0.9,
           "rgb(69,117,180)"
          ],
          [
           1,
           "rgb(49,54,149)"
          ]
         ],
         "type": "surface",
         "x": [
          0,
          1,
          2,
          3,
          4
         ],
         "y": [
          "x",
          "y",
          "z"
         ],
         "z": [
          [
           1,
           2,
           3,
           4,
           5
          ],
          [
           10,
           20,
           30,
           20,
           10
          ],
          [
           5,
           4,
           3,
           2,
           1
          ]
         ]
        }
       ],
       "layout": {
        "legend": {
         "bgcolor": "#F5F6F9",
         "font": {
          "color": "#4D5663"
         }
        },
        "paper_bgcolor": "#F5F6F9",
        "plot_bgcolor": "#F5F6F9",
        "template": {
         "data": {
          "bar": [
           {
            "error_x": {
             "color": "#2a3f5f"
            },
            "error_y": {
             "color": "#2a3f5f"
            },
            "marker": {
             "line": {
              "color": "#E5ECF6",
              "width": 0.5
             },
             "pattern": {
              "fillmode": "overlay",
              "size": 10,
              "solidity": 0.2
             }
            },
            "type": "bar"
           }
          ],
          "barpolar": [
           {
            "marker": {
             "line": {
              "color": "#E5ECF6",
              "width": 0.5
             },
             "pattern": {
              "fillmode": "overlay",
              "size": 10,
              "solidity": 0.2
             }
            },
            "type": "barpolar"
           }
          ],
          "carpet": [
           {
            "aaxis": {
             "endlinecolor": "#2a3f5f",
             "gridcolor": "white",
             "linecolor": "white",
             "minorgridcolor": "white",
             "startlinecolor": "#2a3f5f"
            },
            "baxis": {
             "endlinecolor": "#2a3f5f",
             "gridcolor": "white",
             "linecolor": "white",
             "minorgridcolor": "white",
             "startlinecolor": "#2a3f5f"
            },
            "type": "carpet"
           }
          ],
          "choropleth": [
           {
            "colorbar": {
             "outlinewidth": 0,
             "ticks": ""
            },
            "type": "choropleth"
           }
          ],
          "contour": [
           {
            "colorbar": {
             "outlinewidth": 0,
             "ticks": ""
            },
            "colorscale": [
             [
              0,
              "#0d0887"
             ],
             [
              0.1111111111111111,
              "#46039f"
             ],
             [
              0.2222222222222222,
              "#7201a8"
             ],
             [
              0.3333333333333333,
              "#9c179e"
             ],
             [
              0.4444444444444444,
              "#bd3786"
             ],
             [
              0.5555555555555556,
              "#d8576b"
             ],
             [
              0.6666666666666666,
              "#ed7953"
             ],
             [
              0.7777777777777778,
              "#fb9f3a"
             ],
             [
              0.8888888888888888,
              "#fdca26"
             ],
             [
              1,
              "#f0f921"
             ]
            ],
            "type": "contour"
           }
          ],
          "contourcarpet": [
           {
            "colorbar": {
             "outlinewidth": 0,
             "ticks": ""
            },
            "type": "contourcarpet"
           }
          ],
          "heatmap": [
           {
            "colorbar": {
             "outlinewidth": 0,
             "ticks": ""
            },
            "colorscale": [
             [
              0,
              "#0d0887"
             ],
             [
              0.1111111111111111,
              "#46039f"
             ],
             [
              0.2222222222222222,
              "#7201a8"
             ],
             [
              0.3333333333333333,
              "#9c179e"
             ],
             [
              0.4444444444444444,
              "#bd3786"
             ],
             [
              0.5555555555555556,
              "#d8576b"
             ],
             [
              0.6666666666666666,
              "#ed7953"
             ],
             [
              0.7777777777777778,
              "#fb9f3a"
             ],
             [
              0.8888888888888888,
              "#fdca26"
             ],
             [
              1,
              "#f0f921"
             ]
            ],
            "type": "heatmap"
           }
          ],
          "heatmapgl": [
           {
            "colorbar": {
             "outlinewidth": 0,
             "ticks": ""
            },
            "colorscale": [
             [
              0,
              "#0d0887"
             ],
             [
              0.1111111111111111,
              "#46039f"
             ],
             [
              0.2222222222222222,
              "#7201a8"
             ],
             [
              0.3333333333333333,
              "#9c179e"
             ],
             [
              0.4444444444444444,
              "#bd3786"
             ],
             [
              0.5555555555555556,
              "#d8576b"
             ],
             [
              0.6666666666666666,
              "#ed7953"
             ],
             [
              0.7777777777777778,
              "#fb9f3a"
             ],
             [
              0.8888888888888888,
              "#fdca26"
             ],
             [
              1,
              "#f0f921"
             ]
            ],
            "type": "heatmapgl"
           }
          ],
          "histogram": [
           {
            "marker": {
             "pattern": {
              "fillmode": "overlay",
              "size": 10,
              "solidity": 0.2
             }
            },
            "type": "histogram"
           }
          ],
          "histogram2d": [
           {
            "colorbar": {
             "outlinewidth": 0,
             "ticks": ""
            },
            "colorscale": [
             [
              0,
              "#0d0887"
             ],
             [
              0.1111111111111111,
              "#46039f"
             ],
             [
              0.2222222222222222,
              "#7201a8"
             ],
             [
              0.3333333333333333,
              "#9c179e"
             ],
             [
              0.4444444444444444,
              "#bd3786"
             ],
             [
              0.5555555555555556,
              "#d8576b"
             ],
             [
              0.6666666666666666,
              "#ed7953"
             ],
             [
              0.7777777777777778,
              "#fb9f3a"
             ],
             [
              0.8888888888888888,
              "#fdca26"
             ],
             [
              1,
              "#f0f921"
             ]
            ],
            "type": "histogram2d"
           }
          ],
          "histogram2dcontour": [
           {
            "colorbar": {
             "outlinewidth": 0,
             "ticks": ""
            },
            "colorscale": [
             [
              0,
              "#0d0887"
             ],
             [
              0.1111111111111111,
              "#46039f"
             ],
             [
              0.2222222222222222,
              "#7201a8"
             ],
             [
              0.3333333333333333,
              "#9c179e"
             ],
             [
              0.4444444444444444,
              "#bd3786"
             ],
             [
              0.5555555555555556,
              "#d8576b"
             ],
             [
              0.6666666666666666,
              "#ed7953"
             ],
             [
              0.7777777777777778,
              "#fb9f3a"
             ],
             [
              0.8888888888888888,
              "#fdca26"
             ],
             [
              1,
              "#f0f921"
             ]
            ],
            "type": "histogram2dcontour"
           }
          ],
          "mesh3d": [
           {
            "colorbar": {
             "outlinewidth": 0,
             "ticks": ""
            },
            "type": "mesh3d"
           }
          ],
          "parcoords": [
           {
            "line": {
             "colorbar": {
              "outlinewidth": 0,
              "ticks": ""
             }
            },
            "type": "parcoords"
           }
          ],
          "pie": [
           {
            "automargin": true,
            "type": "pie"
           }
          ],
          "scatter": [
           {
            "fillpattern": {
             "fillmode": "overlay",
             "size": 10,
             "solidity": 0.2
            },
            "type": "scatter"
           }
          ],
          "scatter3d": [
           {
            "line": {
             "colorbar": {
              "outlinewidth": 0,
              "ticks": ""
             }
            },
            "marker": {
             "colorbar": {
              "outlinewidth": 0,
              "ticks": ""
             }
            },
            "type": "scatter3d"
           }
          ],
          "scattercarpet": [
           {
            "marker": {
             "colorbar": {
              "outlinewidth": 0,
              "ticks": ""
             }
            },
            "type": "scattercarpet"
           }
          ],
          "scattergeo": [
           {
            "marker": {
             "colorbar": {
              "outlinewidth": 0,
              "ticks": ""
             }
            },
            "type": "scattergeo"
           }
          ],
          "scattergl": [
           {
            "marker": {
             "colorbar": {
              "outlinewidth": 0,
              "ticks": ""
             }
            },
            "type": "scattergl"
           }
          ],
          "scattermapbox": [
           {
            "marker": {
             "colorbar": {
              "outlinewidth": 0,
              "ticks": ""
             }
            },
            "type": "scattermapbox"
           }
          ],
          "scatterpolar": [
           {
            "marker": {
             "colorbar": {
              "outlinewidth": 0,
              "ticks": ""
             }
            },
            "type": "scatterpolar"
           }
          ],
          "scatterpolargl": [
           {
            "marker": {
             "colorbar": {
              "outlinewidth": 0,
              "ticks": ""
             }
            },
            "type": "scatterpolargl"
           }
          ],
          "scatterternary": [
           {
            "marker": {
             "colorbar": {
              "outlinewidth": 0,
              "ticks": ""
             }
            },
            "type": "scatterternary"
           }
          ],
          "surface": [
           {
            "colorbar": {
             "outlinewidth": 0,
             "ticks": ""
            },
            "colorscale": [
             [
              0,
              "#0d0887"
             ],
             [
              0.1111111111111111,
              "#46039f"
             ],
             [
              0.2222222222222222,
              "#7201a8"
             ],
             [
              0.3333333333333333,
              "#9c179e"
             ],
             [
              0.4444444444444444,
              "#bd3786"
             ],
             [
              0.5555555555555556,
              "#d8576b"
             ],
             [
              0.6666666666666666,
              "#ed7953"
             ],
             [
              0.7777777777777778,
              "#fb9f3a"
             ],
             [
              0.8888888888888888,
              "#fdca26"
             ],
             [
              1,
              "#f0f921"
             ]
            ],
            "type": "surface"
           }
          ],
          "table": [
           {
            "cells": {
             "fill": {
              "color": "#EBF0F8"
             },
             "line": {
              "color": "white"
             }
            },
            "header": {
             "fill": {
              "color": "#C8D4E3"
             },
             "line": {
              "color": "white"
             }
            },
            "type": "table"
           }
          ]
         },
         "layout": {
          "annotationdefaults": {
           "arrowcolor": "#2a3f5f",
           "arrowhead": 0,
           "arrowwidth": 1
          },
          "autotypenumbers": "strict",
          "coloraxis": {
           "colorbar": {
            "outlinewidth": 0,
            "ticks": ""
           }
          },
          "colorscale": {
           "diverging": [
            [
             0,
             "#8e0152"
            ],
            [
             0.1,
             "#c51b7d"
            ],
            [
             0.2,
             "#de77ae"
            ],
            [
             0.3,
             "#f1b6da"
            ],
            [
             0.4,
             "#fde0ef"
            ],
            [
             0.5,
             "#f7f7f7"
            ],
            [
             0.6,
             "#e6f5d0"
            ],
            [
             0.7,
             "#b8e186"
            ],
            [
             0.8,
             "#7fbc41"
            ],
            [
             0.9,
             "#4d9221"
            ],
            [
             1,
             "#276419"
            ]
           ],
           "sequential": [
            [
             0,
             "#0d0887"
            ],
            [
             0.1111111111111111,
             "#46039f"
            ],
            [
             0.2222222222222222,
             "#7201a8"
            ],
            [
             0.3333333333333333,
             "#9c179e"
            ],
            [
             0.4444444444444444,
             "#bd3786"
            ],
            [
             0.5555555555555556,
             "#d8576b"
            ],
            [
             0.6666666666666666,
             "#ed7953"
            ],
            [
             0.7777777777777778,
             "#fb9f3a"
            ],
            [
             0.8888888888888888,
             "#fdca26"
            ],
            [
             1,
             "#f0f921"
            ]
           ],
           "sequentialminus": [
            [
             0,
             "#0d0887"
            ],
            [
             0.1111111111111111,
             "#46039f"
            ],
            [
             0.2222222222222222,
             "#7201a8"
            ],
            [
             0.3333333333333333,
             "#9c179e"
            ],
            [
             0.4444444444444444,
             "#bd3786"
            ],
            [
             0.5555555555555556,
             "#d8576b"
            ],
            [
             0.6666666666666666,
             "#ed7953"
            ],
            [
             0.7777777777777778,
             "#fb9f3a"
            ],
            [
             0.8888888888888888,
             "#fdca26"
            ],
            [
             1,
             "#f0f921"
            ]
           ]
          },
          "colorway": [
           "#636efa",
           "#EF553B",
           "#00cc96",
           "#ab63fa",
           "#FFA15A",
           "#19d3f3",
           "#FF6692",
           "#B6E880",
           "#FF97FF",
           "#FECB52"
          ],
          "font": {
           "color": "#2a3f5f"
          },
          "geo": {
           "bgcolor": "white",
           "lakecolor": "white",
           "landcolor": "#E5ECF6",
           "showlakes": true,
           "showland": true,
           "subunitcolor": "white"
          },
          "hoverlabel": {
           "align": "left"
          },
          "hovermode": "closest",
          "mapbox": {
           "style": "light"
          },
          "paper_bgcolor": "white",
          "plot_bgcolor": "#E5ECF6",
          "polar": {
           "angularaxis": {
            "gridcolor": "white",
            "linecolor": "white",
            "ticks": ""
           },
           "bgcolor": "#E5ECF6",
           "radialaxis": {
            "gridcolor": "white",
            "linecolor": "white",
            "ticks": ""
           }
          },
          "scene": {
           "xaxis": {
            "backgroundcolor": "#E5ECF6",
            "gridcolor": "white",
            "gridwidth": 2,
            "linecolor": "white",
            "showbackground": true,
            "ticks": "",
            "zerolinecolor": "white"
           },
           "yaxis": {
            "backgroundcolor": "#E5ECF6",
            "gridcolor": "white",
            "gridwidth": 2,
            "linecolor": "white",
            "showbackground": true,
            "ticks": "",
            "zerolinecolor": "white"
           },
           "zaxis": {
            "backgroundcolor": "#E5ECF6",
            "gridcolor": "white",
            "gridwidth": 2,
            "linecolor": "white",
            "showbackground": true,
            "ticks": "",
            "zerolinecolor": "white"
           }
          },
          "shapedefaults": {
           "line": {
            "color": "#2a3f5f"
           }
          },
          "ternary": {
           "aaxis": {
            "gridcolor": "white",
            "linecolor": "white",
            "ticks": ""
           },
           "baxis": {
            "gridcolor": "white",
            "linecolor": "white",
            "ticks": ""
           },
           "bgcolor": "#E5ECF6",
           "caxis": {
            "gridcolor": "white",
            "linecolor": "white",
            "ticks": ""
           }
          },
          "title": {
           "x": 0.05
          },
          "xaxis": {
           "automargin": true,
           "gridcolor": "white",
           "linecolor": "white",
           "ticks": "",
           "title": {
            "standoff": 15
           },
           "zerolinecolor": "white",
           "zerolinewidth": 2
          },
          "yaxis": {
           "automargin": true,
           "gridcolor": "white",
           "linecolor": "white",
           "ticks": "",
           "title": {
            "standoff": 15
           },
           "zerolinecolor": "white",
           "zerolinewidth": 2
          }
         }
        },
        "title": {
         "font": {
          "color": "#4D5663"
         }
        },
        "xaxis": {
         "gridcolor": "#E1E5ED",
         "showgrid": true,
         "tickfont": {
          "color": "#4D5663"
         },
         "title": {
          "font": {
           "color": "#4D5663"
          },
          "text": ""
         },
         "zerolinecolor": "#E1E5ED"
        },
        "yaxis": {
         "gridcolor": "#E1E5ED",
         "showgrid": true,
         "tickfont": {
          "color": "#4D5663"
         },
         "title": {
          "font": {
           "color": "#4D5663"
          },
          "text": ""
         },
         "zerolinecolor": "#E1E5ED"
        }
       }
      },
      "text/html": [
       "<div>                            <div id=\"a793100e-6eca-4101-916b-3f50af6ef1d3\" class=\"plotly-graph-div\" style=\"height:525px; width:100%;\"></div>            <script type=\"text/javascript\">                require([\"plotly\"], function(Plotly) {                    window.PLOTLYENV=window.PLOTLYENV || {};\n",
       "                    window.PLOTLYENV.BASE_URL='https://plot.ly';                                    if (document.getElementById(\"a793100e-6eca-4101-916b-3f50af6ef1d3\")) {                    Plotly.newPlot(                        \"a793100e-6eca-4101-916b-3f50af6ef1d3\",                        [{\"colorscale\":[[0.0,\"rgb(165,0,38)\"],[0.1,\"rgb(215,48,39)\"],[0.2,\"rgb(244,109,67)\"],[0.3,\"rgb(253,174,97)\"],[0.4,\"rgb(254,224,144)\"],[0.5,\"rgb(255,255,191)\"],[0.6,\"rgb(224,243,248)\"],[0.7,\"rgb(171,217,233)\"],[0.8,\"rgb(116,173,209)\"],[0.9,\"rgb(69,117,180)\"],[1.0,\"rgb(49,54,149)\"]],\"x\":[0,1,2,3,4],\"y\":[\"x\",\"y\",\"z\"],\"z\":[[1,2,3,4,5],[10,20,30,20,10],[5,4,3,2,1]],\"type\":\"surface\"}],                        {\"legend\":{\"bgcolor\":\"#F5F6F9\",\"font\":{\"color\":\"#4D5663\"}},\"paper_bgcolor\":\"#F5F6F9\",\"plot_bgcolor\":\"#F5F6F9\",\"template\":{\"data\":{\"barpolar\":[{\"marker\":{\"line\":{\"color\":\"#E5ECF6\",\"width\":0.5},\"pattern\":{\"fillmode\":\"overlay\",\"size\":10,\"solidity\":0.2}},\"type\":\"barpolar\"}],\"bar\":[{\"error_x\":{\"color\":\"#2a3f5f\"},\"error_y\":{\"color\":\"#2a3f5f\"},\"marker\":{\"line\":{\"color\":\"#E5ECF6\",\"width\":0.5},\"pattern\":{\"fillmode\":\"overlay\",\"size\":10,\"solidity\":0.2}},\"type\":\"bar\"}],\"carpet\":[{\"aaxis\":{\"endlinecolor\":\"#2a3f5f\",\"gridcolor\":\"white\",\"linecolor\":\"white\",\"minorgridcolor\":\"white\",\"startlinecolor\":\"#2a3f5f\"},\"baxis\":{\"endlinecolor\":\"#2a3f5f\",\"gridcolor\":\"white\",\"linecolor\":\"white\",\"minorgridcolor\":\"white\",\"startlinecolor\":\"#2a3f5f\"},\"type\":\"carpet\"}],\"choropleth\":[{\"colorbar\":{\"outlinewidth\":0,\"ticks\":\"\"},\"type\":\"choropleth\"}],\"contourcarpet\":[{\"colorbar\":{\"outlinewidth\":0,\"ticks\":\"\"},\"type\":\"contourcarpet\"}],\"contour\":[{\"colorbar\":{\"outlinewidth\":0,\"ticks\":\"\"},\"colorscale\":[[0.0,\"#0d0887\"],[0.1111111111111111,\"#46039f\"],[0.2222222222222222,\"#7201a8\"],[0.3333333333333333,\"#9c179e\"],[0.4444444444444444,\"#bd3786\"],[0.5555555555555556,\"#d8576b\"],[0.6666666666666666,\"#ed7953\"],[0.7777777777777778,\"#fb9f3a\"],[0.8888888888888888,\"#fdca26\"],[1.0,\"#f0f921\"]],\"type\":\"contour\"}],\"heatmapgl\":[{\"colorbar\":{\"outlinewidth\":0,\"ticks\":\"\"},\"colorscale\":[[0.0,\"#0d0887\"],[0.1111111111111111,\"#46039f\"],[0.2222222222222222,\"#7201a8\"],[0.3333333333333333,\"#9c179e\"],[0.4444444444444444,\"#bd3786\"],[0.5555555555555556,\"#d8576b\"],[0.6666666666666666,\"#ed7953\"],[0.7777777777777778,\"#fb9f3a\"],[0.8888888888888888,\"#fdca26\"],[1.0,\"#f0f921\"]],\"type\":\"heatmapgl\"}],\"heatmap\":[{\"colorbar\":{\"outlinewidth\":0,\"ticks\":\"\"},\"colorscale\":[[0.0,\"#0d0887\"],[0.1111111111111111,\"#46039f\"],[0.2222222222222222,\"#7201a8\"],[0.3333333333333333,\"#9c179e\"],[0.4444444444444444,\"#bd3786\"],[0.5555555555555556,\"#d8576b\"],[0.6666666666666666,\"#ed7953\"],[0.7777777777777778,\"#fb9f3a\"],[0.8888888888888888,\"#fdca26\"],[1.0,\"#f0f921\"]],\"type\":\"heatmap\"}],\"histogram2dcontour\":[{\"colorbar\":{\"outlinewidth\":0,\"ticks\":\"\"},\"colorscale\":[[0.0,\"#0d0887\"],[0.1111111111111111,\"#46039f\"],[0.2222222222222222,\"#7201a8\"],[0.3333333333333333,\"#9c179e\"],[0.4444444444444444,\"#bd3786\"],[0.5555555555555556,\"#d8576b\"],[0.6666666666666666,\"#ed7953\"],[0.7777777777777778,\"#fb9f3a\"],[0.8888888888888888,\"#fdca26\"],[1.0,\"#f0f921\"]],\"type\":\"histogram2dcontour\"}],\"histogram2d\":[{\"colorbar\":{\"outlinewidth\":0,\"ticks\":\"\"},\"colorscale\":[[0.0,\"#0d0887\"],[0.1111111111111111,\"#46039f\"],[0.2222222222222222,\"#7201a8\"],[0.3333333333333333,\"#9c179e\"],[0.4444444444444444,\"#bd3786\"],[0.5555555555555556,\"#d8576b\"],[0.6666666666666666,\"#ed7953\"],[0.7777777777777778,\"#fb9f3a\"],[0.8888888888888888,\"#fdca26\"],[1.0,\"#f0f921\"]],\"type\":\"histogram2d\"}],\"histogram\":[{\"marker\":{\"pattern\":{\"fillmode\":\"overlay\",\"size\":10,\"solidity\":0.2}},\"type\":\"histogram\"}],\"mesh3d\":[{\"colorbar\":{\"outlinewidth\":0,\"ticks\":\"\"},\"type\":\"mesh3d\"}],\"parcoords\":[{\"line\":{\"colorbar\":{\"outlinewidth\":0,\"ticks\":\"\"}},\"type\":\"parcoords\"}],\"pie\":[{\"automargin\":true,\"type\":\"pie\"}],\"scatter3d\":[{\"line\":{\"colorbar\":{\"outlinewidth\":0,\"ticks\":\"\"}},\"marker\":{\"colorbar\":{\"outlinewidth\":0,\"ticks\":\"\"}},\"type\":\"scatter3d\"}],\"scattercarpet\":[{\"marker\":{\"colorbar\":{\"outlinewidth\":0,\"ticks\":\"\"}},\"type\":\"scattercarpet\"}],\"scattergeo\":[{\"marker\":{\"colorbar\":{\"outlinewidth\":0,\"ticks\":\"\"}},\"type\":\"scattergeo\"}],\"scattergl\":[{\"marker\":{\"colorbar\":{\"outlinewidth\":0,\"ticks\":\"\"}},\"type\":\"scattergl\"}],\"scattermapbox\":[{\"marker\":{\"colorbar\":{\"outlinewidth\":0,\"ticks\":\"\"}},\"type\":\"scattermapbox\"}],\"scatterpolargl\":[{\"marker\":{\"colorbar\":{\"outlinewidth\":0,\"ticks\":\"\"}},\"type\":\"scatterpolargl\"}],\"scatterpolar\":[{\"marker\":{\"colorbar\":{\"outlinewidth\":0,\"ticks\":\"\"}},\"type\":\"scatterpolar\"}],\"scatter\":[{\"fillpattern\":{\"fillmode\":\"overlay\",\"size\":10,\"solidity\":0.2},\"type\":\"scatter\"}],\"scatterternary\":[{\"marker\":{\"colorbar\":{\"outlinewidth\":0,\"ticks\":\"\"}},\"type\":\"scatterternary\"}],\"surface\":[{\"colorbar\":{\"outlinewidth\":0,\"ticks\":\"\"},\"colorscale\":[[0.0,\"#0d0887\"],[0.1111111111111111,\"#46039f\"],[0.2222222222222222,\"#7201a8\"],[0.3333333333333333,\"#9c179e\"],[0.4444444444444444,\"#bd3786\"],[0.5555555555555556,\"#d8576b\"],[0.6666666666666666,\"#ed7953\"],[0.7777777777777778,\"#fb9f3a\"],[0.8888888888888888,\"#fdca26\"],[1.0,\"#f0f921\"]],\"type\":\"surface\"}],\"table\":[{\"cells\":{\"fill\":{\"color\":\"#EBF0F8\"},\"line\":{\"color\":\"white\"}},\"header\":{\"fill\":{\"color\":\"#C8D4E3\"},\"line\":{\"color\":\"white\"}},\"type\":\"table\"}]},\"layout\":{\"annotationdefaults\":{\"arrowcolor\":\"#2a3f5f\",\"arrowhead\":0,\"arrowwidth\":1},\"autotypenumbers\":\"strict\",\"coloraxis\":{\"colorbar\":{\"outlinewidth\":0,\"ticks\":\"\"}},\"colorscale\":{\"diverging\":[[0,\"#8e0152\"],[0.1,\"#c51b7d\"],[0.2,\"#de77ae\"],[0.3,\"#f1b6da\"],[0.4,\"#fde0ef\"],[0.5,\"#f7f7f7\"],[0.6,\"#e6f5d0\"],[0.7,\"#b8e186\"],[0.8,\"#7fbc41\"],[0.9,\"#4d9221\"],[1,\"#276419\"]],\"sequential\":[[0.0,\"#0d0887\"],[0.1111111111111111,\"#46039f\"],[0.2222222222222222,\"#7201a8\"],[0.3333333333333333,\"#9c179e\"],[0.4444444444444444,\"#bd3786\"],[0.5555555555555556,\"#d8576b\"],[0.6666666666666666,\"#ed7953\"],[0.7777777777777778,\"#fb9f3a\"],[0.8888888888888888,\"#fdca26\"],[1.0,\"#f0f921\"]],\"sequentialminus\":[[0.0,\"#0d0887\"],[0.1111111111111111,\"#46039f\"],[0.2222222222222222,\"#7201a8\"],[0.3333333333333333,\"#9c179e\"],[0.4444444444444444,\"#bd3786\"],[0.5555555555555556,\"#d8576b\"],[0.6666666666666666,\"#ed7953\"],[0.7777777777777778,\"#fb9f3a\"],[0.8888888888888888,\"#fdca26\"],[1.0,\"#f0f921\"]]},\"colorway\":[\"#636efa\",\"#EF553B\",\"#00cc96\",\"#ab63fa\",\"#FFA15A\",\"#19d3f3\",\"#FF6692\",\"#B6E880\",\"#FF97FF\",\"#FECB52\"],\"font\":{\"color\":\"#2a3f5f\"},\"geo\":{\"bgcolor\":\"white\",\"lakecolor\":\"white\",\"landcolor\":\"#E5ECF6\",\"showlakes\":true,\"showland\":true,\"subunitcolor\":\"white\"},\"hoverlabel\":{\"align\":\"left\"},\"hovermode\":\"closest\",\"mapbox\":{\"style\":\"light\"},\"paper_bgcolor\":\"white\",\"plot_bgcolor\":\"#E5ECF6\",\"polar\":{\"angularaxis\":{\"gridcolor\":\"white\",\"linecolor\":\"white\",\"ticks\":\"\"},\"bgcolor\":\"#E5ECF6\",\"radialaxis\":{\"gridcolor\":\"white\",\"linecolor\":\"white\",\"ticks\":\"\"}},\"scene\":{\"xaxis\":{\"backgroundcolor\":\"#E5ECF6\",\"gridcolor\":\"white\",\"gridwidth\":2,\"linecolor\":\"white\",\"showbackground\":true,\"ticks\":\"\",\"zerolinecolor\":\"white\"},\"yaxis\":{\"backgroundcolor\":\"#E5ECF6\",\"gridcolor\":\"white\",\"gridwidth\":2,\"linecolor\":\"white\",\"showbackground\":true,\"ticks\":\"\",\"zerolinecolor\":\"white\"},\"zaxis\":{\"backgroundcolor\":\"#E5ECF6\",\"gridcolor\":\"white\",\"gridwidth\":2,\"linecolor\":\"white\",\"showbackground\":true,\"ticks\":\"\",\"zerolinecolor\":\"white\"}},\"shapedefaults\":{\"line\":{\"color\":\"#2a3f5f\"}},\"ternary\":{\"aaxis\":{\"gridcolor\":\"white\",\"linecolor\":\"white\",\"ticks\":\"\"},\"baxis\":{\"gridcolor\":\"white\",\"linecolor\":\"white\",\"ticks\":\"\"},\"bgcolor\":\"#E5ECF6\",\"caxis\":{\"gridcolor\":\"white\",\"linecolor\":\"white\",\"ticks\":\"\"}},\"title\":{\"x\":0.05},\"xaxis\":{\"automargin\":true,\"gridcolor\":\"white\",\"linecolor\":\"white\",\"ticks\":\"\",\"title\":{\"standoff\":15},\"zerolinecolor\":\"white\",\"zerolinewidth\":2},\"yaxis\":{\"automargin\":true,\"gridcolor\":\"white\",\"linecolor\":\"white\",\"ticks\":\"\",\"title\":{\"standoff\":15},\"zerolinecolor\":\"white\",\"zerolinewidth\":2}}},\"title\":{\"font\":{\"color\":\"#4D5663\"}},\"xaxis\":{\"gridcolor\":\"#E1E5ED\",\"showgrid\":true,\"tickfont\":{\"color\":\"#4D5663\"},\"title\":{\"font\":{\"color\":\"#4D5663\"},\"text\":\"\"},\"zerolinecolor\":\"#E1E5ED\"},\"yaxis\":{\"gridcolor\":\"#E1E5ED\",\"showgrid\":true,\"tickfont\":{\"color\":\"#4D5663\"},\"title\":{\"font\":{\"color\":\"#4D5663\"},\"text\":\"\"},\"zerolinecolor\":\"#E1E5ED\"}},                        {\"showLink\": true, \"linkText\": \"Export to plot.ly\", \"plotlyServerURL\": \"https://plot.ly\", \"responsive\": true}                    ).then(function(){\n",
       "                            \n",
       "var gd = document.getElementById('a793100e-6eca-4101-916b-3f50af6ef1d3');\n",
       "var x = new MutationObserver(function (mutations, observer) {{\n",
       "        var display = window.getComputedStyle(gd).display;\n",
       "        if (!display || display === 'none') {{\n",
       "            console.log([gd, 'removed!']);\n",
       "            Plotly.purge(gd);\n",
       "            observer.disconnect();\n",
       "        }}\n",
       "}});\n",
       "\n",
       "// Listen for the removal of the full notebook cells\n",
       "var notebookContainer = gd.closest('#notebook-container');\n",
       "if (notebookContainer) {{\n",
       "    x.observe(notebookContainer, {childList: true});\n",
       "}}\n",
       "\n",
       "// Listen for the clearing of the current output cell\n",
       "var outputEl = gd.closest('.output');\n",
       "if (outputEl) {{\n",
       "    x.observe(outputEl, {childList: true});\n",
       "}}\n",
       "\n",
       "                        })                };                });            </script>        </div>"
      ]
     },
     "metadata": {},
     "output_type": "display_data"
    }
   ],
   "source": [
    "df4.iplot(kind='surface', colorscale='rdylbu')"
   ]
  },
  {
   "cell_type": "code",
   "execution_count": 52,
   "id": "a2ff63d5",
   "metadata": {},
   "outputs": [
    {
     "data": {
      "application/vnd.plotly.v1+json": {
       "config": {
        "linkText": "Export to plot.ly",
        "plotlyServerURL": "https://plot.ly",
        "showLink": true
       },
       "data": [
        {
         "histfunc": "count",
         "histnorm": "",
         "marker": {
          "color": "rgba(255, 153, 51, 1.0)",
          "line": {
           "color": "#4D5663",
           "width": 1.3
          }
         },
         "name": "A",
         "nbinsx": 20,
         "opacity": 0.8,
         "orientation": "v",
         "type": "histogram",
         "x": [
          0.963656208822238,
          1.1213805704854953,
          0.08117322059561863,
          0.9067501670920386,
          1.28908725845038,
          -0.8484788632427857,
          -0.8009485265222287,
          -0.13954698878550142,
          -0.4209938328140542,
          0.2837355152610227,
          -0.21272756966893616,
          1.7570408279670209,
          0.3550122841604106,
          1.30974406905139,
          0.2232155423907447,
          0.20225806270488592,
          0.4297931309428796,
          0.2710898356704665,
          1.2673150001525066,
          -0.28317420340831106,
          0.20613001876357961,
          0.4635201733939552,
          0.5460897413984124,
          0.12438837142487577,
          -0.3311450835685355,
          0.43842530680477404,
          1.0684047789837727,
          -0.6243736534857598,
          -1.1906662032404274,
          1.4656058483881402,
          0.16715588520722816,
          0.48360128610027264,
          1.0718721211795463,
          -0.24068377304579952,
          -0.8837940178049627,
          0.28414594957742983,
          0.18636052031088884,
          1.0554728665925521,
          0.24657908043205698,
          -0.255956079869308,
          0.07878204355354528,
          -1.1832024418880038,
          -0.3947053481469931,
          0.015051127698353848,
          -0.9273312434230097,
          -0.5904417385480116,
          -0.8248473181016788,
          -2.553642906404523,
          0.5853809835216754,
          0.07471667146690081,
          0.8078271481497611,
          2.0119568319081234,
          1.7051615445225863,
          0.3690781122530383,
          0.27207568986467,
          0.9429351698391747,
          0.8709196392545411,
          1.8881327097718632,
          -2.277236818278749,
          0.7641282663968877,
          -1.9210586871999982,
          0.6083480372818315,
          -1.7059804718374605,
          1.8390631369000259,
          0.47676559937164253,
          0.7951445119372802,
          0.7363841786006643,
          1.2801801668695012,
          -0.987315530991337,
          -0.7855382455137779,
          -1.5235664056893965,
          -0.8068782421283027,
          0.1899751266947658,
          -0.8176847491115944,
          -0.7588257659066171,
          0.7146591792126702,
          1.1389770375251385,
          -0.49140946806501906,
          0.3885375141880657,
          0.19210286916179659,
          -1.8674308759485234,
          0.2563319473019304,
          1.4141223099861748,
          1.5347206360501597,
          -1.094691314002368,
          -0.060435557199993446,
          0.2992179294797572,
          1.4510015729851962,
          0.38567992079704777,
          -1.8471002701272756,
          -0.2158731199529436,
          -0.3833111312088049,
          -2.0068888309777657,
          -0.548083205199428,
          0.6861555341365956,
          1.199667217838947,
          0.06831398795428081,
          -0.057601596970910905,
          0.3827056101028784,
          0.5691997438450976
         ]
        },
        {
         "histfunc": "count",
         "histnorm": "",
         "marker": {
          "color": "rgba(55, 128, 191, 1.0)",
          "line": {
           "color": "#4D5663",
           "width": 1.3
          }
         },
         "name": "B",
         "nbinsx": 20,
         "opacity": 0.8,
         "orientation": "v",
         "type": "histogram",
         "x": [
          1.0418607474294792,
          -1.4939672413762932,
          -0.02127901542430224,
          0.33292977024558157,
          1.1407436277450778,
          -0.3015660930492725,
          -0.0752865847187486,
          -1.009791743749023,
          -0.6974105177481036,
          -1.0778447312443185,
          0.21994773983594507,
          -1.2767378096491764,
          -0.4772520284876469,
          -0.13191693638288507,
          -0.8840497936830316,
          0.43491378665196123,
          1.237780885733663,
          -0.7372283644576442,
          -0.11267970353145566,
          -1.637025903877696,
          -0.8643009602442039,
          -1.170864879740225,
          0.8657447067108397,
          -1.3316471625112472,
          0.27930606940491254,
          0.1010548787720902,
          0.7014020947179823,
          0.8115916437019352,
          0.9534863463399055,
          -0.17974376572600015,
          0.15539942126823825,
          0.12563065884091904,
          -0.6983132119953138,
          -0.8557269377205827,
          -1.1114678483065996,
          1.6267980935814845,
          0.10835953580183216,
          -0.724885465855628,
          -0.13014748543449164,
          0.02635813457746775,
          -0.10731405448780107,
          0.9394176236033902,
          0.8852004040890421,
          0.8837667760803889,
          -0.6827153117408953,
          -0.9093724172772358,
          0.5777482827305919,
          0.1320824276129593,
          0.051752566935829254,
          2.2294346148078286,
          -0.3450934390030509,
          0.1620081871920339,
          0.22742137414734556,
          0.53465876620935,
          0.7992154964793429,
          -1.3109197447319967,
          -1.8881307729462076,
          2.130605406350455,
          -0.031583068295145504,
          0.5445342145696391,
          -0.3836665294064964,
          -0.8276744278807356,
          1.5347897785141216,
          -0.10205298921735546,
          -0.9931249156241323,
          0.6784877290695253,
          0.6442290539833533,
          0.22188261861927183,
          0.658824210911803,
          0.4725016736628034,
          -0.5884114772778922,
          -0.868227094420527,
          -1.3615134352744052,
          1.092930344226626,
          -0.13734327442278882,
          -1.3246769110560028,
          -0.6863100288573838,
          0.2900951740060484,
          -0.7262357878917776,
          -1.5393687384063548,
          -0.6345124844359458,
          1.0511810398400365,
          -0.32552486870352804,
          0.46721489635640734,
          1.2701651157118028,
          0.821796041357051,
          -1.3530062245164303,
          -0.6629088380930819,
          0.8386510462005943,
          -0.10769881867698582,
          0.18586510865496922,
          0.0027232401253373915,
          -2.1003147011287964,
          0.19799553908870476,
          0.5799814202834371,
          -1.1775863243324383,
          0.748291680102528,
          0.2145327190535425,
          0.10937980687552407,
          -0.3629526709313861
         ]
        },
        {
         "histfunc": "count",
         "histnorm": "",
         "marker": {
          "color": "rgba(50, 171, 96, 1.0)",
          "line": {
           "color": "#4D5663",
           "width": 1.3
          }
         },
         "name": "C",
         "nbinsx": 20,
         "opacity": 0.8,
         "orientation": "v",
         "type": "histogram",
         "x": [
          1.9684685598255098,
          0.8865735701165786,
          -0.9282924703857871,
          0.0864231738857163,
          -0.17851496705340106,
          0.8941201736951061,
          -1.767757746744734,
          -0.9029257916222327,
          -0.15040689632672258,
          0.3608236978003134,
          -2.3993756008061955,
          -0.483640402637199,
          2.453497287095231,
          0.2886471123783374,
          0.4789224073967982,
          1.8868787058240575,
          -0.7069821240099842,
          0.9364960925054092,
          -0.11826593254370696,
          -1.2466608150509335,
          0.5835449052351525,
          -0.7856053542283987,
          -1.402302566540273,
          1.3852800062444897,
          0.5641183370922549,
          0.8809989823072313,
          -0.2316988475498588,
          0.9588801018246939,
          -1.8023754339085756,
          1.3856050832892777,
          0.2889566018572497,
          -2.2912515772536093,
          1.2338406432349927,
          -0.37060434083404203,
          -1.115233219161336,
          0.04673985612202292,
          0.0942462710028508,
          -0.13839475415973518,
          -0.09718950720666848,
          0.24901537761553835,
          0.9108528097216493,
          -0.5528486250284738,
          0.1437258643037152,
          1.2368565085155692,
          0.11806071227737899,
          -0.6915685444367112,
          0.6893681392468275,
          -2.1930493530215243,
          -0.9934789592227896,
          -0.6189689820317923,
          -0.8698092136412182,
          0.8003318888279906,
          -0.5982506634931678,
          -0.7890609206749534,
          -0.6548147871758787,
          0.5587927372009642,
          0.27255474613842035,
          1.0925266720615479,
          1.3392761253917005,
          0.1065019292120311,
          -1.1867386077150974,
          1.78632170548558,
          -0.02624061741045453,
          -1.1556722058561715,
          0.07704352120398042,
          -0.22053430872375845,
          2.5042220859217554,
          0.2355109428038429,
          0.1805691839545755,
          1.641624590650236,
          0.9246325724024335,
          -0.0517173982740807,
          -1.6078788351856876,
          -0.673781299334335,
          -0.11875226070443112,
          -1.1803330927190678,
          -0.6051380566023823,
          1.3120299005977665,
          -1.586753953775392,
          1.0494361893220578,
          0.8185429666565787,
          0.0796582520338552,
          0.8785869617159295,
          -1.3860246585946714,
          0.4098334039689942,
          2.026756298055897,
          -2.341265735162529,
          1.0423930455611918,
          1.7745715730437097,
          -0.7451216801801956,
          0.13019025491771619,
          0.6720981517354053,
          1.2143690393829878,
          -0.6817286989667747,
          1.7765429487539386,
          -0.24465282170560929,
          1.1093476031534293,
          3.462655523208048,
          -0.4175023099069305,
          0.1293918215907214
         ]
        },
        {
         "histfunc": "count",
         "histnorm": "",
         "marker": {
          "color": "rgba(128, 0, 128, 1.0)",
          "line": {
           "color": "#4D5663",
           "width": 1.3
          }
         },
         "name": "D",
         "nbinsx": 20,
         "opacity": 0.8,
         "orientation": "v",
         "type": "histogram",
         "x": [
          1.6630337650354345,
          0.07550432297170971,
          -0.5973245468599844,
          -1.657449860204015,
          0.05280375575287506,
          -0.015347519964781276,
          -0.823066509767297,
          -1.2865818271926146,
          -0.20465223602492458,
          1.4326116078768383,
          1.715349653593688,
          1.8332783984371763,
          0.10489256944377925,
          0.1835183523000019,
          -1.5966870438332263,
          0.44522874299998944,
          0.6584567307528261,
          0.6650332813795531,
          0.2807839634292779,
          -0.29086894397778557,
          0.16752877630439322,
          1.9770173482802893,
          -2.8154582401712154,
          -0.9829856709848566,
          -0.00827771127849985,
          0.16148652501732152,
          2.319848288689466,
          1.022424591320778,
          2.446730447840035,
          -0.5276727460407082,
          -0.4206033582273582,
          -1.8277275907138832,
          0.014979298168371534,
          0.7821409129741059,
          -0.6683656546714996,
          -2.8509032306340627,
          -0.2554547617448989,
          0.6031621488581722,
          -1.8720737192452415,
          -2.2039356896415576,
          1.1354713474057998,
          -1.3147837122357673,
          0.08847860993731024,
          0.5434300304313257,
          -1.9624730325797959,
          -0.7335728844338252,
          -0.7602415933637703,
          -2.478504024403525,
          -2.043359504359485,
          0.07229925889259052,
          0.8223533915753203,
          0.7541898582279355,
          -0.8457042031941514,
          -2.0806587994267742,
          -0.33255328325872824,
          1.1100669481856251,
          0.8590167189662465,
          -0.5954983458201378,
          -0.09732296749624923,
          -0.24106644629353324,
          -0.921362500994098,
          0.7250079654355328,
          -0.7511631767920098,
          0.5235530857383306,
          0.9304102996787895,
          1.1013735671223808,
          2.144674046199205,
          0.06923107230228003,
          1.8428871518189849,
          0.4982298687939204,
          0.19661617252683,
          0.23266766393126748,
          1.4061128071516085,
          0.8462385703859491,
          0.6549491598459045,
          0.439385154094097,
          -2.501445480519395,
          0.045409052141403054,
          0.7869651058984805,
          -1.1339156708019669,
          -0.43148029590986947,
          0.6465899085984634,
          0.3408739471603276,
          -0.7613374448109137,
          -0.09817614527629241,
          -0.7309778541053539,
          -0.07818344318158707,
          -0.4731780226773017,
          0.8875564238258683,
          0.35454221858793916,
          0.6044883944756151,
          -0.8547303972785114,
          0.40388289163412455,
          1.1952818174880846,
          1.761384365862785,
          -0.3538293908999642,
          -0.6913216824668283,
          0.8986854351831924,
          0.2494784614208996,
          -0.40344347187061447
         ]
        }
       ],
       "layout": {
        "barmode": "overlay",
        "legend": {
         "bgcolor": "#F5F6F9",
         "font": {
          "color": "#4D5663"
         }
        },
        "paper_bgcolor": "#F5F6F9",
        "plot_bgcolor": "#F5F6F9",
        "template": {
         "data": {
          "bar": [
           {
            "error_x": {
             "color": "#2a3f5f"
            },
            "error_y": {
             "color": "#2a3f5f"
            },
            "marker": {
             "line": {
              "color": "#E5ECF6",
              "width": 0.5
             },
             "pattern": {
              "fillmode": "overlay",
              "size": 10,
              "solidity": 0.2
             }
            },
            "type": "bar"
           }
          ],
          "barpolar": [
           {
            "marker": {
             "line": {
              "color": "#E5ECF6",
              "width": 0.5
             },
             "pattern": {
              "fillmode": "overlay",
              "size": 10,
              "solidity": 0.2
             }
            },
            "type": "barpolar"
           }
          ],
          "carpet": [
           {
            "aaxis": {
             "endlinecolor": "#2a3f5f",
             "gridcolor": "white",
             "linecolor": "white",
             "minorgridcolor": "white",
             "startlinecolor": "#2a3f5f"
            },
            "baxis": {
             "endlinecolor": "#2a3f5f",
             "gridcolor": "white",
             "linecolor": "white",
             "minorgridcolor": "white",
             "startlinecolor": "#2a3f5f"
            },
            "type": "carpet"
           }
          ],
          "choropleth": [
           {
            "colorbar": {
             "outlinewidth": 0,
             "ticks": ""
            },
            "type": "choropleth"
           }
          ],
          "contour": [
           {
            "colorbar": {
             "outlinewidth": 0,
             "ticks": ""
            },
            "colorscale": [
             [
              0,
              "#0d0887"
             ],
             [
              0.1111111111111111,
              "#46039f"
             ],
             [
              0.2222222222222222,
              "#7201a8"
             ],
             [
              0.3333333333333333,
              "#9c179e"
             ],
             [
              0.4444444444444444,
              "#bd3786"
             ],
             [
              0.5555555555555556,
              "#d8576b"
             ],
             [
              0.6666666666666666,
              "#ed7953"
             ],
             [
              0.7777777777777778,
              "#fb9f3a"
             ],
             [
              0.8888888888888888,
              "#fdca26"
             ],
             [
              1,
              "#f0f921"
             ]
            ],
            "type": "contour"
           }
          ],
          "contourcarpet": [
           {
            "colorbar": {
             "outlinewidth": 0,
             "ticks": ""
            },
            "type": "contourcarpet"
           }
          ],
          "heatmap": [
           {
            "colorbar": {
             "outlinewidth": 0,
             "ticks": ""
            },
            "colorscale": [
             [
              0,
              "#0d0887"
             ],
             [
              0.1111111111111111,
              "#46039f"
             ],
             [
              0.2222222222222222,
              "#7201a8"
             ],
             [
              0.3333333333333333,
              "#9c179e"
             ],
             [
              0.4444444444444444,
              "#bd3786"
             ],
             [
              0.5555555555555556,
              "#d8576b"
             ],
             [
              0.6666666666666666,
              "#ed7953"
             ],
             [
              0.7777777777777778,
              "#fb9f3a"
             ],
             [
              0.8888888888888888,
              "#fdca26"
             ],
             [
              1,
              "#f0f921"
             ]
            ],
            "type": "heatmap"
           }
          ],
          "heatmapgl": [
           {
            "colorbar": {
             "outlinewidth": 0,
             "ticks": ""
            },
            "colorscale": [
             [
              0,
              "#0d0887"
             ],
             [
              0.1111111111111111,
              "#46039f"
             ],
             [
              0.2222222222222222,
              "#7201a8"
             ],
             [
              0.3333333333333333,
              "#9c179e"
             ],
             [
              0.4444444444444444,
              "#bd3786"
             ],
             [
              0.5555555555555556,
              "#d8576b"
             ],
             [
              0.6666666666666666,
              "#ed7953"
             ],
             [
              0.7777777777777778,
              "#fb9f3a"
             ],
             [
              0.8888888888888888,
              "#fdca26"
             ],
             [
              1,
              "#f0f921"
             ]
            ],
            "type": "heatmapgl"
           }
          ],
          "histogram": [
           {
            "marker": {
             "pattern": {
              "fillmode": "overlay",
              "size": 10,
              "solidity": 0.2
             }
            },
            "type": "histogram"
           }
          ],
          "histogram2d": [
           {
            "colorbar": {
             "outlinewidth": 0,
             "ticks": ""
            },
            "colorscale": [
             [
              0,
              "#0d0887"
             ],
             [
              0.1111111111111111,
              "#46039f"
             ],
             [
              0.2222222222222222,
              "#7201a8"
             ],
             [
              0.3333333333333333,
              "#9c179e"
             ],
             [
              0.4444444444444444,
              "#bd3786"
             ],
             [
              0.5555555555555556,
              "#d8576b"
             ],
             [
              0.6666666666666666,
              "#ed7953"
             ],
             [
              0.7777777777777778,
              "#fb9f3a"
             ],
             [
              0.8888888888888888,
              "#fdca26"
             ],
             [
              1,
              "#f0f921"
             ]
            ],
            "type": "histogram2d"
           }
          ],
          "histogram2dcontour": [
           {
            "colorbar": {
             "outlinewidth": 0,
             "ticks": ""
            },
            "colorscale": [
             [
              0,
              "#0d0887"
             ],
             [
              0.1111111111111111,
              "#46039f"
             ],
             [
              0.2222222222222222,
              "#7201a8"
             ],
             [
              0.3333333333333333,
              "#9c179e"
             ],
             [
              0.4444444444444444,
              "#bd3786"
             ],
             [
              0.5555555555555556,
              "#d8576b"
             ],
             [
              0.6666666666666666,
              "#ed7953"
             ],
             [
              0.7777777777777778,
              "#fb9f3a"
             ],
             [
              0.8888888888888888,
              "#fdca26"
             ],
             [
              1,
              "#f0f921"
             ]
            ],
            "type": "histogram2dcontour"
           }
          ],
          "mesh3d": [
           {
            "colorbar": {
             "outlinewidth": 0,
             "ticks": ""
            },
            "type": "mesh3d"
           }
          ],
          "parcoords": [
           {
            "line": {
             "colorbar": {
              "outlinewidth": 0,
              "ticks": ""
             }
            },
            "type": "parcoords"
           }
          ],
          "pie": [
           {
            "automargin": true,
            "type": "pie"
           }
          ],
          "scatter": [
           {
            "fillpattern": {
             "fillmode": "overlay",
             "size": 10,
             "solidity": 0.2
            },
            "type": "scatter"
           }
          ],
          "scatter3d": [
           {
            "line": {
             "colorbar": {
              "outlinewidth": 0,
              "ticks": ""
             }
            },
            "marker": {
             "colorbar": {
              "outlinewidth": 0,
              "ticks": ""
             }
            },
            "type": "scatter3d"
           }
          ],
          "scattercarpet": [
           {
            "marker": {
             "colorbar": {
              "outlinewidth": 0,
              "ticks": ""
             }
            },
            "type": "scattercarpet"
           }
          ],
          "scattergeo": [
           {
            "marker": {
             "colorbar": {
              "outlinewidth": 0,
              "ticks": ""
             }
            },
            "type": "scattergeo"
           }
          ],
          "scattergl": [
           {
            "marker": {
             "colorbar": {
              "outlinewidth": 0,
              "ticks": ""
             }
            },
            "type": "scattergl"
           }
          ],
          "scattermapbox": [
           {
            "marker": {
             "colorbar": {
              "outlinewidth": 0,
              "ticks": ""
             }
            },
            "type": "scattermapbox"
           }
          ],
          "scatterpolar": [
           {
            "marker": {
             "colorbar": {
              "outlinewidth": 0,
              "ticks": ""
             }
            },
            "type": "scatterpolar"
           }
          ],
          "scatterpolargl": [
           {
            "marker": {
             "colorbar": {
              "outlinewidth": 0,
              "ticks": ""
             }
            },
            "type": "scatterpolargl"
           }
          ],
          "scatterternary": [
           {
            "marker": {
             "colorbar": {
              "outlinewidth": 0,
              "ticks": ""
             }
            },
            "type": "scatterternary"
           }
          ],
          "surface": [
           {
            "colorbar": {
             "outlinewidth": 0,
             "ticks": ""
            },
            "colorscale": [
             [
              0,
              "#0d0887"
             ],
             [
              0.1111111111111111,
              "#46039f"
             ],
             [
              0.2222222222222222,
              "#7201a8"
             ],
             [
              0.3333333333333333,
              "#9c179e"
             ],
             [
              0.4444444444444444,
              "#bd3786"
             ],
             [
              0.5555555555555556,
              "#d8576b"
             ],
             [
              0.6666666666666666,
              "#ed7953"
             ],
             [
              0.7777777777777778,
              "#fb9f3a"
             ],
             [
              0.8888888888888888,
              "#fdca26"
             ],
             [
              1,
              "#f0f921"
             ]
            ],
            "type": "surface"
           }
          ],
          "table": [
           {
            "cells": {
             "fill": {
              "color": "#EBF0F8"
             },
             "line": {
              "color": "white"
             }
            },
            "header": {
             "fill": {
              "color": "#C8D4E3"
             },
             "line": {
              "color": "white"
             }
            },
            "type": "table"
           }
          ]
         },
         "layout": {
          "annotationdefaults": {
           "arrowcolor": "#2a3f5f",
           "arrowhead": 0,
           "arrowwidth": 1
          },
          "autotypenumbers": "strict",
          "coloraxis": {
           "colorbar": {
            "outlinewidth": 0,
            "ticks": ""
           }
          },
          "colorscale": {
           "diverging": [
            [
             0,
             "#8e0152"
            ],
            [
             0.1,
             "#c51b7d"
            ],
            [
             0.2,
             "#de77ae"
            ],
            [
             0.3,
             "#f1b6da"
            ],
            [
             0.4,
             "#fde0ef"
            ],
            [
             0.5,
             "#f7f7f7"
            ],
            [
             0.6,
             "#e6f5d0"
            ],
            [
             0.7,
             "#b8e186"
            ],
            [
             0.8,
             "#7fbc41"
            ],
            [
             0.9,
             "#4d9221"
            ],
            [
             1,
             "#276419"
            ]
           ],
           "sequential": [
            [
             0,
             "#0d0887"
            ],
            [
             0.1111111111111111,
             "#46039f"
            ],
            [
             0.2222222222222222,
             "#7201a8"
            ],
            [
             0.3333333333333333,
             "#9c179e"
            ],
            [
             0.4444444444444444,
             "#bd3786"
            ],
            [
             0.5555555555555556,
             "#d8576b"
            ],
            [
             0.6666666666666666,
             "#ed7953"
            ],
            [
             0.7777777777777778,
             "#fb9f3a"
            ],
            [
             0.8888888888888888,
             "#fdca26"
            ],
            [
             1,
             "#f0f921"
            ]
           ],
           "sequentialminus": [
            [
             0,
             "#0d0887"
            ],
            [
             0.1111111111111111,
             "#46039f"
            ],
            [
             0.2222222222222222,
             "#7201a8"
            ],
            [
             0.3333333333333333,
             "#9c179e"
            ],
            [
             0.4444444444444444,
             "#bd3786"
            ],
            [
             0.5555555555555556,
             "#d8576b"
            ],
            [
             0.6666666666666666,
             "#ed7953"
            ],
            [
             0.7777777777777778,
             "#fb9f3a"
            ],
            [
             0.8888888888888888,
             "#fdca26"
            ],
            [
             1,
             "#f0f921"
            ]
           ]
          },
          "colorway": [
           "#636efa",
           "#EF553B",
           "#00cc96",
           "#ab63fa",
           "#FFA15A",
           "#19d3f3",
           "#FF6692",
           "#B6E880",
           "#FF97FF",
           "#FECB52"
          ],
          "font": {
           "color": "#2a3f5f"
          },
          "geo": {
           "bgcolor": "white",
           "lakecolor": "white",
           "landcolor": "#E5ECF6",
           "showlakes": true,
           "showland": true,
           "subunitcolor": "white"
          },
          "hoverlabel": {
           "align": "left"
          },
          "hovermode": "closest",
          "mapbox": {
           "style": "light"
          },
          "paper_bgcolor": "white",
          "plot_bgcolor": "#E5ECF6",
          "polar": {
           "angularaxis": {
            "gridcolor": "white",
            "linecolor": "white",
            "ticks": ""
           },
           "bgcolor": "#E5ECF6",
           "radialaxis": {
            "gridcolor": "white",
            "linecolor": "white",
            "ticks": ""
           }
          },
          "scene": {
           "xaxis": {
            "backgroundcolor": "#E5ECF6",
            "gridcolor": "white",
            "gridwidth": 2,
            "linecolor": "white",
            "showbackground": true,
            "ticks": "",
            "zerolinecolor": "white"
           },
           "yaxis": {
            "backgroundcolor": "#E5ECF6",
            "gridcolor": "white",
            "gridwidth": 2,
            "linecolor": "white",
            "showbackground": true,
            "ticks": "",
            "zerolinecolor": "white"
           },
           "zaxis": {
            "backgroundcolor": "#E5ECF6",
            "gridcolor": "white",
            "gridwidth": 2,
            "linecolor": "white",
            "showbackground": true,
            "ticks": "",
            "zerolinecolor": "white"
           }
          },
          "shapedefaults": {
           "line": {
            "color": "#2a3f5f"
           }
          },
          "ternary": {
           "aaxis": {
            "gridcolor": "white",
            "linecolor": "white",
            "ticks": ""
           },
           "baxis": {
            "gridcolor": "white",
            "linecolor": "white",
            "ticks": ""
           },
           "bgcolor": "#E5ECF6",
           "caxis": {
            "gridcolor": "white",
            "linecolor": "white",
            "ticks": ""
           }
          },
          "title": {
           "x": 0.05
          },
          "xaxis": {
           "automargin": true,
           "gridcolor": "white",
           "linecolor": "white",
           "ticks": "",
           "title": {
            "standoff": 15
           },
           "zerolinecolor": "white",
           "zerolinewidth": 2
          },
          "yaxis": {
           "automargin": true,
           "gridcolor": "white",
           "linecolor": "white",
           "ticks": "",
           "title": {
            "standoff": 15
           },
           "zerolinecolor": "white",
           "zerolinewidth": 2
          }
         }
        },
        "title": {
         "font": {
          "color": "#4D5663"
         }
        },
        "xaxis": {
         "gridcolor": "#E1E5ED",
         "showgrid": true,
         "tickfont": {
          "color": "#4D5663"
         },
         "title": {
          "font": {
           "color": "#4D5663"
          },
          "text": ""
         },
         "zerolinecolor": "#E1E5ED"
        },
        "yaxis": {
         "gridcolor": "#E1E5ED",
         "showgrid": true,
         "tickfont": {
          "color": "#4D5663"
         },
         "title": {
          "font": {
           "color": "#4D5663"
          },
          "text": ""
         },
         "zerolinecolor": "#E1E5ED"
        }
       }
      },
      "text/html": [
       "<div>                            <div id=\"f29ac157-6ca6-4633-b081-b257d3eb65af\" class=\"plotly-graph-div\" style=\"height:525px; width:100%;\"></div>            <script type=\"text/javascript\">                require([\"plotly\"], function(Plotly) {                    window.PLOTLYENV=window.PLOTLYENV || {};\n",
       "                    window.PLOTLYENV.BASE_URL='https://plot.ly';                                    if (document.getElementById(\"f29ac157-6ca6-4633-b081-b257d3eb65af\")) {                    Plotly.newPlot(                        \"f29ac157-6ca6-4633-b081-b257d3eb65af\",                        [{\"histfunc\":\"count\",\"histnorm\":\"\",\"marker\":{\"color\":\"rgba(255, 153, 51, 1.0)\",\"line\":{\"color\":\"#4D5663\",\"width\":1.3}},\"name\":\"A\",\"nbinsx\":20,\"opacity\":0.8,\"orientation\":\"v\",\"x\":[0.963656208822238,1.1213805704854953,0.08117322059561863,0.9067501670920386,1.28908725845038,-0.8484788632427857,-0.8009485265222287,-0.13954698878550142,-0.4209938328140542,0.2837355152610227,-0.21272756966893616,1.7570408279670209,0.3550122841604106,1.30974406905139,0.2232155423907447,0.20225806270488592,0.4297931309428796,0.2710898356704665,1.2673150001525066,-0.28317420340831106,0.20613001876357961,0.4635201733939552,0.5460897413984124,0.12438837142487577,-0.3311450835685355,0.43842530680477404,1.0684047789837727,-0.6243736534857598,-1.1906662032404274,1.4656058483881402,0.16715588520722816,0.48360128610027264,1.0718721211795463,-0.24068377304579952,-0.8837940178049627,0.28414594957742983,0.18636052031088884,1.0554728665925521,0.24657908043205698,-0.255956079869308,0.07878204355354528,-1.1832024418880038,-0.3947053481469931,0.015051127698353848,-0.9273312434230097,-0.5904417385480116,-0.8248473181016788,-2.553642906404523,0.5853809835216754,0.07471667146690081,0.8078271481497611,2.0119568319081234,1.7051615445225863,0.3690781122530383,0.27207568986467,0.9429351698391747,0.8709196392545411,1.8881327097718632,-2.277236818278749,0.7641282663968877,-1.9210586871999982,0.6083480372818315,-1.7059804718374605,1.8390631369000259,0.47676559937164253,0.7951445119372802,0.7363841786006643,1.2801801668695012,-0.987315530991337,-0.7855382455137779,-1.5235664056893965,-0.8068782421283027,0.1899751266947658,-0.8176847491115944,-0.7588257659066171,0.7146591792126702,1.1389770375251385,-0.49140946806501906,0.3885375141880657,0.19210286916179659,-1.8674308759485234,0.2563319473019304,1.4141223099861748,1.5347206360501597,-1.094691314002368,-0.060435557199993446,0.2992179294797572,1.4510015729851962,0.38567992079704777,-1.8471002701272756,-0.2158731199529436,-0.3833111312088049,-2.0068888309777657,-0.548083205199428,0.6861555341365956,1.199667217838947,0.06831398795428081,-0.057601596970910905,0.3827056101028784,0.5691997438450976],\"type\":\"histogram\"},{\"histfunc\":\"count\",\"histnorm\":\"\",\"marker\":{\"color\":\"rgba(55, 128, 191, 1.0)\",\"line\":{\"color\":\"#4D5663\",\"width\":1.3}},\"name\":\"B\",\"nbinsx\":20,\"opacity\":0.8,\"orientation\":\"v\",\"x\":[1.0418607474294792,-1.4939672413762932,-0.02127901542430224,0.33292977024558157,1.1407436277450778,-0.3015660930492725,-0.0752865847187486,-1.009791743749023,-0.6974105177481036,-1.0778447312443185,0.21994773983594507,-1.2767378096491764,-0.4772520284876469,-0.13191693638288507,-0.8840497936830316,0.43491378665196123,1.237780885733663,-0.7372283644576442,-0.11267970353145566,-1.637025903877696,-0.8643009602442039,-1.170864879740225,0.8657447067108397,-1.3316471625112472,0.27930606940491254,0.1010548787720902,0.7014020947179823,0.8115916437019352,0.9534863463399055,-0.17974376572600015,0.15539942126823825,0.12563065884091904,-0.6983132119953138,-0.8557269377205827,-1.1114678483065996,1.6267980935814845,0.10835953580183216,-0.724885465855628,-0.13014748543449164,0.02635813457746775,-0.10731405448780107,0.9394176236033902,0.8852004040890421,0.8837667760803889,-0.6827153117408953,-0.9093724172772358,0.5777482827305919,0.1320824276129593,0.051752566935829254,2.2294346148078286,-0.3450934390030509,0.1620081871920339,0.22742137414734556,0.53465876620935,0.7992154964793429,-1.3109197447319967,-1.8881307729462076,2.130605406350455,-0.031583068295145504,0.5445342145696391,-0.3836665294064964,-0.8276744278807356,1.5347897785141216,-0.10205298921735546,-0.9931249156241323,0.6784877290695253,0.6442290539833533,0.22188261861927183,0.658824210911803,0.4725016736628034,-0.5884114772778922,-0.868227094420527,-1.3615134352744052,1.092930344226626,-0.13734327442278882,-1.3246769110560028,-0.6863100288573838,0.2900951740060484,-0.7262357878917776,-1.5393687384063548,-0.6345124844359458,1.0511810398400365,-0.32552486870352804,0.46721489635640734,1.2701651157118028,0.821796041357051,-1.3530062245164303,-0.6629088380930819,0.8386510462005943,-0.10769881867698582,0.18586510865496922,0.0027232401253373915,-2.1003147011287964,0.19799553908870476,0.5799814202834371,-1.1775863243324383,0.748291680102528,0.2145327190535425,0.10937980687552407,-0.3629526709313861],\"type\":\"histogram\"},{\"histfunc\":\"count\",\"histnorm\":\"\",\"marker\":{\"color\":\"rgba(50, 171, 96, 1.0)\",\"line\":{\"color\":\"#4D5663\",\"width\":1.3}},\"name\":\"C\",\"nbinsx\":20,\"opacity\":0.8,\"orientation\":\"v\",\"x\":[1.9684685598255098,0.8865735701165786,-0.9282924703857871,0.0864231738857163,-0.17851496705340106,0.8941201736951061,-1.767757746744734,-0.9029257916222327,-0.15040689632672258,0.3608236978003134,-2.3993756008061955,-0.483640402637199,2.453497287095231,0.2886471123783374,0.4789224073967982,1.8868787058240575,-0.7069821240099842,0.9364960925054092,-0.11826593254370696,-1.2466608150509335,0.5835449052351525,-0.7856053542283987,-1.402302566540273,1.3852800062444897,0.5641183370922549,0.8809989823072313,-0.2316988475498588,0.9588801018246939,-1.8023754339085756,1.3856050832892777,0.2889566018572497,-2.2912515772536093,1.2338406432349927,-0.37060434083404203,-1.115233219161336,0.04673985612202292,0.0942462710028508,-0.13839475415973518,-0.09718950720666848,0.24901537761553835,0.9108528097216493,-0.5528486250284738,0.1437258643037152,1.2368565085155692,0.11806071227737899,-0.6915685444367112,0.6893681392468275,-2.1930493530215243,-0.9934789592227896,-0.6189689820317923,-0.8698092136412182,0.8003318888279906,-0.5982506634931678,-0.7890609206749534,-0.6548147871758787,0.5587927372009642,0.27255474613842035,1.0925266720615479,1.3392761253917005,0.1065019292120311,-1.1867386077150974,1.78632170548558,-0.02624061741045453,-1.1556722058561715,0.07704352120398042,-0.22053430872375845,2.5042220859217554,0.2355109428038429,0.1805691839545755,1.641624590650236,0.9246325724024335,-0.0517173982740807,-1.6078788351856876,-0.673781299334335,-0.11875226070443112,-1.1803330927190678,-0.6051380566023823,1.3120299005977665,-1.586753953775392,1.0494361893220578,0.8185429666565787,0.0796582520338552,0.8785869617159295,-1.3860246585946714,0.4098334039689942,2.026756298055897,-2.341265735162529,1.0423930455611918,1.7745715730437097,-0.7451216801801956,0.13019025491771619,0.6720981517354053,1.2143690393829878,-0.6817286989667747,1.7765429487539386,-0.24465282170560929,1.1093476031534293,3.462655523208048,-0.4175023099069305,0.1293918215907214],\"type\":\"histogram\"},{\"histfunc\":\"count\",\"histnorm\":\"\",\"marker\":{\"color\":\"rgba(128, 0, 128, 1.0)\",\"line\":{\"color\":\"#4D5663\",\"width\":1.3}},\"name\":\"D\",\"nbinsx\":20,\"opacity\":0.8,\"orientation\":\"v\",\"x\":[1.6630337650354345,0.07550432297170971,-0.5973245468599844,-1.657449860204015,0.05280375575287506,-0.015347519964781276,-0.823066509767297,-1.2865818271926146,-0.20465223602492458,1.4326116078768383,1.715349653593688,1.8332783984371763,0.10489256944377925,0.1835183523000019,-1.5966870438332263,0.44522874299998944,0.6584567307528261,0.6650332813795531,0.2807839634292779,-0.29086894397778557,0.16752877630439322,1.9770173482802893,-2.8154582401712154,-0.9829856709848566,-0.00827771127849985,0.16148652501732152,2.319848288689466,1.022424591320778,2.446730447840035,-0.5276727460407082,-0.4206033582273582,-1.8277275907138832,0.014979298168371534,0.7821409129741059,-0.6683656546714996,-2.8509032306340627,-0.2554547617448989,0.6031621488581722,-1.8720737192452415,-2.2039356896415576,1.1354713474057998,-1.3147837122357673,0.08847860993731024,0.5434300304313257,-1.9624730325797959,-0.7335728844338252,-0.7602415933637703,-2.478504024403525,-2.043359504359485,0.07229925889259052,0.8223533915753203,0.7541898582279355,-0.8457042031941514,-2.0806587994267742,-0.33255328325872824,1.1100669481856251,0.8590167189662465,-0.5954983458201378,-0.09732296749624923,-0.24106644629353324,-0.921362500994098,0.7250079654355328,-0.7511631767920098,0.5235530857383306,0.9304102996787895,1.1013735671223808,2.144674046199205,0.06923107230228003,1.8428871518189849,0.4982298687939204,0.19661617252683,0.23266766393126748,1.4061128071516085,0.8462385703859491,0.6549491598459045,0.439385154094097,-2.501445480519395,0.045409052141403054,0.7869651058984805,-1.1339156708019669,-0.43148029590986947,0.6465899085984634,0.3408739471603276,-0.7613374448109137,-0.09817614527629241,-0.7309778541053539,-0.07818344318158707,-0.4731780226773017,0.8875564238258683,0.35454221858793916,0.6044883944756151,-0.8547303972785114,0.40388289163412455,1.1952818174880846,1.761384365862785,-0.3538293908999642,-0.6913216824668283,0.8986854351831924,0.2494784614208996,-0.40344347187061447],\"type\":\"histogram\"}],                        {\"barmode\":\"overlay\",\"legend\":{\"bgcolor\":\"#F5F6F9\",\"font\":{\"color\":\"#4D5663\"}},\"paper_bgcolor\":\"#F5F6F9\",\"plot_bgcolor\":\"#F5F6F9\",\"template\":{\"data\":{\"barpolar\":[{\"marker\":{\"line\":{\"color\":\"#E5ECF6\",\"width\":0.5},\"pattern\":{\"fillmode\":\"overlay\",\"size\":10,\"solidity\":0.2}},\"type\":\"barpolar\"}],\"bar\":[{\"error_x\":{\"color\":\"#2a3f5f\"},\"error_y\":{\"color\":\"#2a3f5f\"},\"marker\":{\"line\":{\"color\":\"#E5ECF6\",\"width\":0.5},\"pattern\":{\"fillmode\":\"overlay\",\"size\":10,\"solidity\":0.2}},\"type\":\"bar\"}],\"carpet\":[{\"aaxis\":{\"endlinecolor\":\"#2a3f5f\",\"gridcolor\":\"white\",\"linecolor\":\"white\",\"minorgridcolor\":\"white\",\"startlinecolor\":\"#2a3f5f\"},\"baxis\":{\"endlinecolor\":\"#2a3f5f\",\"gridcolor\":\"white\",\"linecolor\":\"white\",\"minorgridcolor\":\"white\",\"startlinecolor\":\"#2a3f5f\"},\"type\":\"carpet\"}],\"choropleth\":[{\"colorbar\":{\"outlinewidth\":0,\"ticks\":\"\"},\"type\":\"choropleth\"}],\"contourcarpet\":[{\"colorbar\":{\"outlinewidth\":0,\"ticks\":\"\"},\"type\":\"contourcarpet\"}],\"contour\":[{\"colorbar\":{\"outlinewidth\":0,\"ticks\":\"\"},\"colorscale\":[[0.0,\"#0d0887\"],[0.1111111111111111,\"#46039f\"],[0.2222222222222222,\"#7201a8\"],[0.3333333333333333,\"#9c179e\"],[0.4444444444444444,\"#bd3786\"],[0.5555555555555556,\"#d8576b\"],[0.6666666666666666,\"#ed7953\"],[0.7777777777777778,\"#fb9f3a\"],[0.8888888888888888,\"#fdca26\"],[1.0,\"#f0f921\"]],\"type\":\"contour\"}],\"heatmapgl\":[{\"colorbar\":{\"outlinewidth\":0,\"ticks\":\"\"},\"colorscale\":[[0.0,\"#0d0887\"],[0.1111111111111111,\"#46039f\"],[0.2222222222222222,\"#7201a8\"],[0.3333333333333333,\"#9c179e\"],[0.4444444444444444,\"#bd3786\"],[0.5555555555555556,\"#d8576b\"],[0.6666666666666666,\"#ed7953\"],[0.7777777777777778,\"#fb9f3a\"],[0.8888888888888888,\"#fdca26\"],[1.0,\"#f0f921\"]],\"type\":\"heatmapgl\"}],\"heatmap\":[{\"colorbar\":{\"outlinewidth\":0,\"ticks\":\"\"},\"colorscale\":[[0.0,\"#0d0887\"],[0.1111111111111111,\"#46039f\"],[0.2222222222222222,\"#7201a8\"],[0.3333333333333333,\"#9c179e\"],[0.4444444444444444,\"#bd3786\"],[0.5555555555555556,\"#d8576b\"],[0.6666666666666666,\"#ed7953\"],[0.7777777777777778,\"#fb9f3a\"],[0.8888888888888888,\"#fdca26\"],[1.0,\"#f0f921\"]],\"type\":\"heatmap\"}],\"histogram2dcontour\":[{\"colorbar\":{\"outlinewidth\":0,\"ticks\":\"\"},\"colorscale\":[[0.0,\"#0d0887\"],[0.1111111111111111,\"#46039f\"],[0.2222222222222222,\"#7201a8\"],[0.3333333333333333,\"#9c179e\"],[0.4444444444444444,\"#bd3786\"],[0.5555555555555556,\"#d8576b\"],[0.6666666666666666,\"#ed7953\"],[0.7777777777777778,\"#fb9f3a\"],[0.8888888888888888,\"#fdca26\"],[1.0,\"#f0f921\"]],\"type\":\"histogram2dcontour\"}],\"histogram2d\":[{\"colorbar\":{\"outlinewidth\":0,\"ticks\":\"\"},\"colorscale\":[[0.0,\"#0d0887\"],[0.1111111111111111,\"#46039f\"],[0.2222222222222222,\"#7201a8\"],[0.3333333333333333,\"#9c179e\"],[0.4444444444444444,\"#bd3786\"],[0.5555555555555556,\"#d8576b\"],[0.6666666666666666,\"#ed7953\"],[0.7777777777777778,\"#fb9f3a\"],[0.8888888888888888,\"#fdca26\"],[1.0,\"#f0f921\"]],\"type\":\"histogram2d\"}],\"histogram\":[{\"marker\":{\"pattern\":{\"fillmode\":\"overlay\",\"size\":10,\"solidity\":0.2}},\"type\":\"histogram\"}],\"mesh3d\":[{\"colorbar\":{\"outlinewidth\":0,\"ticks\":\"\"},\"type\":\"mesh3d\"}],\"parcoords\":[{\"line\":{\"colorbar\":{\"outlinewidth\":0,\"ticks\":\"\"}},\"type\":\"parcoords\"}],\"pie\":[{\"automargin\":true,\"type\":\"pie\"}],\"scatter3d\":[{\"line\":{\"colorbar\":{\"outlinewidth\":0,\"ticks\":\"\"}},\"marker\":{\"colorbar\":{\"outlinewidth\":0,\"ticks\":\"\"}},\"type\":\"scatter3d\"}],\"scattercarpet\":[{\"marker\":{\"colorbar\":{\"outlinewidth\":0,\"ticks\":\"\"}},\"type\":\"scattercarpet\"}],\"scattergeo\":[{\"marker\":{\"colorbar\":{\"outlinewidth\":0,\"ticks\":\"\"}},\"type\":\"scattergeo\"}],\"scattergl\":[{\"marker\":{\"colorbar\":{\"outlinewidth\":0,\"ticks\":\"\"}},\"type\":\"scattergl\"}],\"scattermapbox\":[{\"marker\":{\"colorbar\":{\"outlinewidth\":0,\"ticks\":\"\"}},\"type\":\"scattermapbox\"}],\"scatterpolargl\":[{\"marker\":{\"colorbar\":{\"outlinewidth\":0,\"ticks\":\"\"}},\"type\":\"scatterpolargl\"}],\"scatterpolar\":[{\"marker\":{\"colorbar\":{\"outlinewidth\":0,\"ticks\":\"\"}},\"type\":\"scatterpolar\"}],\"scatter\":[{\"fillpattern\":{\"fillmode\":\"overlay\",\"size\":10,\"solidity\":0.2},\"type\":\"scatter\"}],\"scatterternary\":[{\"marker\":{\"colorbar\":{\"outlinewidth\":0,\"ticks\":\"\"}},\"type\":\"scatterternary\"}],\"surface\":[{\"colorbar\":{\"outlinewidth\":0,\"ticks\":\"\"},\"colorscale\":[[0.0,\"#0d0887\"],[0.1111111111111111,\"#46039f\"],[0.2222222222222222,\"#7201a8\"],[0.3333333333333333,\"#9c179e\"],[0.4444444444444444,\"#bd3786\"],[0.5555555555555556,\"#d8576b\"],[0.6666666666666666,\"#ed7953\"],[0.7777777777777778,\"#fb9f3a\"],[0.8888888888888888,\"#fdca26\"],[1.0,\"#f0f921\"]],\"type\":\"surface\"}],\"table\":[{\"cells\":{\"fill\":{\"color\":\"#EBF0F8\"},\"line\":{\"color\":\"white\"}},\"header\":{\"fill\":{\"color\":\"#C8D4E3\"},\"line\":{\"color\":\"white\"}},\"type\":\"table\"}]},\"layout\":{\"annotationdefaults\":{\"arrowcolor\":\"#2a3f5f\",\"arrowhead\":0,\"arrowwidth\":1},\"autotypenumbers\":\"strict\",\"coloraxis\":{\"colorbar\":{\"outlinewidth\":0,\"ticks\":\"\"}},\"colorscale\":{\"diverging\":[[0,\"#8e0152\"],[0.1,\"#c51b7d\"],[0.2,\"#de77ae\"],[0.3,\"#f1b6da\"],[0.4,\"#fde0ef\"],[0.5,\"#f7f7f7\"],[0.6,\"#e6f5d0\"],[0.7,\"#b8e186\"],[0.8,\"#7fbc41\"],[0.9,\"#4d9221\"],[1,\"#276419\"]],\"sequential\":[[0.0,\"#0d0887\"],[0.1111111111111111,\"#46039f\"],[0.2222222222222222,\"#7201a8\"],[0.3333333333333333,\"#9c179e\"],[0.4444444444444444,\"#bd3786\"],[0.5555555555555556,\"#d8576b\"],[0.6666666666666666,\"#ed7953\"],[0.7777777777777778,\"#fb9f3a\"],[0.8888888888888888,\"#fdca26\"],[1.0,\"#f0f921\"]],\"sequentialminus\":[[0.0,\"#0d0887\"],[0.1111111111111111,\"#46039f\"],[0.2222222222222222,\"#7201a8\"],[0.3333333333333333,\"#9c179e\"],[0.4444444444444444,\"#bd3786\"],[0.5555555555555556,\"#d8576b\"],[0.6666666666666666,\"#ed7953\"],[0.7777777777777778,\"#fb9f3a\"],[0.8888888888888888,\"#fdca26\"],[1.0,\"#f0f921\"]]},\"colorway\":[\"#636efa\",\"#EF553B\",\"#00cc96\",\"#ab63fa\",\"#FFA15A\",\"#19d3f3\",\"#FF6692\",\"#B6E880\",\"#FF97FF\",\"#FECB52\"],\"font\":{\"color\":\"#2a3f5f\"},\"geo\":{\"bgcolor\":\"white\",\"lakecolor\":\"white\",\"landcolor\":\"#E5ECF6\",\"showlakes\":true,\"showland\":true,\"subunitcolor\":\"white\"},\"hoverlabel\":{\"align\":\"left\"},\"hovermode\":\"closest\",\"mapbox\":{\"style\":\"light\"},\"paper_bgcolor\":\"white\",\"plot_bgcolor\":\"#E5ECF6\",\"polar\":{\"angularaxis\":{\"gridcolor\":\"white\",\"linecolor\":\"white\",\"ticks\":\"\"},\"bgcolor\":\"#E5ECF6\",\"radialaxis\":{\"gridcolor\":\"white\",\"linecolor\":\"white\",\"ticks\":\"\"}},\"scene\":{\"xaxis\":{\"backgroundcolor\":\"#E5ECF6\",\"gridcolor\":\"white\",\"gridwidth\":2,\"linecolor\":\"white\",\"showbackground\":true,\"ticks\":\"\",\"zerolinecolor\":\"white\"},\"yaxis\":{\"backgroundcolor\":\"#E5ECF6\",\"gridcolor\":\"white\",\"gridwidth\":2,\"linecolor\":\"white\",\"showbackground\":true,\"ticks\":\"\",\"zerolinecolor\":\"white\"},\"zaxis\":{\"backgroundcolor\":\"#E5ECF6\",\"gridcolor\":\"white\",\"gridwidth\":2,\"linecolor\":\"white\",\"showbackground\":true,\"ticks\":\"\",\"zerolinecolor\":\"white\"}},\"shapedefaults\":{\"line\":{\"color\":\"#2a3f5f\"}},\"ternary\":{\"aaxis\":{\"gridcolor\":\"white\",\"linecolor\":\"white\",\"ticks\":\"\"},\"baxis\":{\"gridcolor\":\"white\",\"linecolor\":\"white\",\"ticks\":\"\"},\"bgcolor\":\"#E5ECF6\",\"caxis\":{\"gridcolor\":\"white\",\"linecolor\":\"white\",\"ticks\":\"\"}},\"title\":{\"x\":0.05},\"xaxis\":{\"automargin\":true,\"gridcolor\":\"white\",\"linecolor\":\"white\",\"ticks\":\"\",\"title\":{\"standoff\":15},\"zerolinecolor\":\"white\",\"zerolinewidth\":2},\"yaxis\":{\"automargin\":true,\"gridcolor\":\"white\",\"linecolor\":\"white\",\"ticks\":\"\",\"title\":{\"standoff\":15},\"zerolinecolor\":\"white\",\"zerolinewidth\":2}}},\"title\":{\"font\":{\"color\":\"#4D5663\"}},\"xaxis\":{\"gridcolor\":\"#E1E5ED\",\"showgrid\":true,\"tickfont\":{\"color\":\"#4D5663\"},\"title\":{\"font\":{\"color\":\"#4D5663\"},\"text\":\"\"},\"zerolinecolor\":\"#E1E5ED\"},\"yaxis\":{\"gridcolor\":\"#E1E5ED\",\"showgrid\":true,\"tickfont\":{\"color\":\"#4D5663\"},\"title\":{\"font\":{\"color\":\"#4D5663\"},\"text\":\"\"},\"zerolinecolor\":\"#E1E5ED\"}},                        {\"showLink\": true, \"linkText\": \"Export to plot.ly\", \"plotlyServerURL\": \"https://plot.ly\", \"responsive\": true}                    ).then(function(){\n",
       "                            \n",
       "var gd = document.getElementById('f29ac157-6ca6-4633-b081-b257d3eb65af');\n",
       "var x = new MutationObserver(function (mutations, observer) {{\n",
       "        var display = window.getComputedStyle(gd).display;\n",
       "        if (!display || display === 'none') {{\n",
       "            console.log([gd, 'removed!']);\n",
       "            Plotly.purge(gd);\n",
       "            observer.disconnect();\n",
       "        }}\n",
       "}});\n",
       "\n",
       "// Listen for the removal of the full notebook cells\n",
       "var notebookContainer = gd.closest('#notebook-container');\n",
       "if (notebookContainer) {{\n",
       "    x.observe(notebookContainer, {childList: true});\n",
       "}}\n",
       "\n",
       "// Listen for the clearing of the current output cell\n",
       "var outputEl = gd.closest('.output');\n",
       "if (outputEl) {{\n",
       "    x.observe(outputEl, {childList: true});\n",
       "}}\n",
       "\n",
       "                        })                };                });            </script>        </div>"
      ]
     },
     "metadata": {},
     "output_type": "display_data"
    }
   ],
   "source": [
    "df.iplot(kind ='hist', bins = 20)"
   ]
  },
  {
   "cell_type": "code",
   "execution_count": 54,
   "id": "e46d241b",
   "metadata": {},
   "outputs": [
    {
     "name": "stderr",
     "output_type": "stream",
     "text": [
      "C:\\Users\\ojaga\\anaconda3\\Lib\\site-packages\\cufflinks\\plotlytools.py:849: FutureWarning:\n",
      "\n",
      "The pandas.np module is deprecated and will be removed from pandas in a future version. Import numpy directly instead.\n",
      "\n",
      "C:\\Users\\ojaga\\anaconda3\\Lib\\site-packages\\cufflinks\\plotlytools.py:850: FutureWarning:\n",
      "\n",
      "The pandas.np module is deprecated and will be removed from pandas in a future version. Import numpy directly instead.\n",
      "\n"
     ]
    },
    {
     "data": {
      "application/vnd.plotly.v1+json": {
       "config": {
        "linkText": "Export to plot.ly",
        "plotlyServerURL": "https://plot.ly",
        "showLink": true
       },
       "data": [
        {
         "line": {
          "color": "rgba(255, 153, 51, 1.0)",
          "dash": "solid",
          "shape": "linear",
          "width": 1.3
         },
         "mode": "lines",
         "name": "A",
         "text": "",
         "type": "scatter",
         "x": [
          0,
          1,
          2,
          3,
          4,
          5,
          6,
          7,
          8,
          9,
          10,
          11,
          12,
          13,
          14,
          15,
          16,
          17,
          18,
          19,
          20,
          21,
          22,
          23,
          24,
          25,
          26,
          27,
          28,
          29,
          30,
          31,
          32,
          33,
          34,
          35,
          36,
          37,
          38,
          39,
          40,
          41,
          42,
          43,
          44,
          45,
          46,
          47,
          48,
          49,
          50,
          51,
          52,
          53,
          54,
          55,
          56,
          57,
          58,
          59,
          60,
          61,
          62,
          63,
          64,
          65,
          66,
          67,
          68,
          69,
          70,
          71,
          72,
          73,
          74,
          75,
          76,
          77,
          78,
          79,
          80,
          81,
          82,
          83,
          84,
          85,
          86,
          87,
          88,
          89,
          90,
          91,
          92,
          93,
          94,
          95,
          96,
          97,
          98,
          99
         ],
         "y": [
          0.963656208822238,
          1.1213805704854953,
          0.08117322059561863,
          0.9067501670920386,
          1.28908725845038,
          -0.8484788632427857,
          -0.8009485265222287,
          -0.13954698878550142,
          -0.4209938328140542,
          0.2837355152610227,
          -0.21272756966893616,
          1.7570408279670209,
          0.3550122841604106,
          1.30974406905139,
          0.2232155423907447,
          0.20225806270488592,
          0.4297931309428796,
          0.2710898356704665,
          1.2673150001525066,
          -0.28317420340831106,
          0.20613001876357961,
          0.4635201733939552,
          0.5460897413984124,
          0.12438837142487577,
          -0.3311450835685355,
          0.43842530680477404,
          1.0684047789837727,
          -0.6243736534857598,
          -1.1906662032404274,
          1.4656058483881402,
          0.16715588520722816,
          0.48360128610027264,
          1.0718721211795463,
          -0.24068377304579952,
          -0.8837940178049627,
          0.28414594957742983,
          0.18636052031088884,
          1.0554728665925521,
          0.24657908043205698,
          -0.255956079869308,
          0.07878204355354528,
          -1.1832024418880038,
          -0.3947053481469931,
          0.015051127698353848,
          -0.9273312434230097,
          -0.5904417385480116,
          -0.8248473181016788,
          -2.553642906404523,
          0.5853809835216754,
          0.07471667146690081,
          0.8078271481497611,
          2.0119568319081234,
          1.7051615445225863,
          0.3690781122530383,
          0.27207568986467,
          0.9429351698391747,
          0.8709196392545411,
          1.8881327097718632,
          -2.277236818278749,
          0.7641282663968877,
          -1.9210586871999982,
          0.6083480372818315,
          -1.7059804718374605,
          1.8390631369000259,
          0.47676559937164253,
          0.7951445119372802,
          0.7363841786006643,
          1.2801801668695012,
          -0.987315530991337,
          -0.7855382455137779,
          -1.5235664056893965,
          -0.8068782421283027,
          0.1899751266947658,
          -0.8176847491115944,
          -0.7588257659066171,
          0.7146591792126702,
          1.1389770375251385,
          -0.49140946806501906,
          0.3885375141880657,
          0.19210286916179659,
          -1.8674308759485234,
          0.2563319473019304,
          1.4141223099861748,
          1.5347206360501597,
          -1.094691314002368,
          -0.060435557199993446,
          0.2992179294797572,
          1.4510015729851962,
          0.38567992079704777,
          -1.8471002701272756,
          -0.2158731199529436,
          -0.3833111312088049,
          -2.0068888309777657,
          -0.548083205199428,
          0.6861555341365956,
          1.199667217838947,
          0.06831398795428081,
          -0.057601596970910905,
          0.3827056101028784,
          0.5691997438450976
         ]
        },
        {
         "line": {
          "color": "rgba(55, 128, 191, 1.0)",
          "dash": "solid",
          "shape": "linear",
          "width": 1.3
         },
         "mode": "lines",
         "name": "B",
         "text": "",
         "type": "scatter",
         "x": [
          0,
          1,
          2,
          3,
          4,
          5,
          6,
          7,
          8,
          9,
          10,
          11,
          12,
          13,
          14,
          15,
          16,
          17,
          18,
          19,
          20,
          21,
          22,
          23,
          24,
          25,
          26,
          27,
          28,
          29,
          30,
          31,
          32,
          33,
          34,
          35,
          36,
          37,
          38,
          39,
          40,
          41,
          42,
          43,
          44,
          45,
          46,
          47,
          48,
          49,
          50,
          51,
          52,
          53,
          54,
          55,
          56,
          57,
          58,
          59,
          60,
          61,
          62,
          63,
          64,
          65,
          66,
          67,
          68,
          69,
          70,
          71,
          72,
          73,
          74,
          75,
          76,
          77,
          78,
          79,
          80,
          81,
          82,
          83,
          84,
          85,
          86,
          87,
          88,
          89,
          90,
          91,
          92,
          93,
          94,
          95,
          96,
          97,
          98,
          99
         ],
         "y": [
          1.0418607474294792,
          -1.4939672413762932,
          -0.02127901542430224,
          0.33292977024558157,
          1.1407436277450778,
          -0.3015660930492725,
          -0.0752865847187486,
          -1.009791743749023,
          -0.6974105177481036,
          -1.0778447312443185,
          0.21994773983594507,
          -1.2767378096491764,
          -0.4772520284876469,
          -0.13191693638288507,
          -0.8840497936830316,
          0.43491378665196123,
          1.237780885733663,
          -0.7372283644576442,
          -0.11267970353145566,
          -1.637025903877696,
          -0.8643009602442039,
          -1.170864879740225,
          0.8657447067108397,
          -1.3316471625112472,
          0.27930606940491254,
          0.1010548787720902,
          0.7014020947179823,
          0.8115916437019352,
          0.9534863463399055,
          -0.17974376572600015,
          0.15539942126823825,
          0.12563065884091904,
          -0.6983132119953138,
          -0.8557269377205827,
          -1.1114678483065996,
          1.6267980935814845,
          0.10835953580183216,
          -0.724885465855628,
          -0.13014748543449164,
          0.02635813457746775,
          -0.10731405448780107,
          0.9394176236033902,
          0.8852004040890421,
          0.8837667760803889,
          -0.6827153117408953,
          -0.9093724172772358,
          0.5777482827305919,
          0.1320824276129593,
          0.051752566935829254,
          2.2294346148078286,
          -0.3450934390030509,
          0.1620081871920339,
          0.22742137414734556,
          0.53465876620935,
          0.7992154964793429,
          -1.3109197447319967,
          -1.8881307729462076,
          2.130605406350455,
          -0.031583068295145504,
          0.5445342145696391,
          -0.3836665294064964,
          -0.8276744278807356,
          1.5347897785141216,
          -0.10205298921735546,
          -0.9931249156241323,
          0.6784877290695253,
          0.6442290539833533,
          0.22188261861927183,
          0.658824210911803,
          0.4725016736628034,
          -0.5884114772778922,
          -0.868227094420527,
          -1.3615134352744052,
          1.092930344226626,
          -0.13734327442278882,
          -1.3246769110560028,
          -0.6863100288573838,
          0.2900951740060484,
          -0.7262357878917776,
          -1.5393687384063548,
          -0.6345124844359458,
          1.0511810398400365,
          -0.32552486870352804,
          0.46721489635640734,
          1.2701651157118028,
          0.821796041357051,
          -1.3530062245164303,
          -0.6629088380930819,
          0.8386510462005943,
          -0.10769881867698582,
          0.18586510865496922,
          0.0027232401253373915,
          -2.1003147011287964,
          0.19799553908870476,
          0.5799814202834371,
          -1.1775863243324383,
          0.748291680102528,
          0.2145327190535425,
          0.10937980687552407,
          -0.3629526709313861
         ]
        },
        {
         "connectgaps": false,
         "fill": "tozeroy",
         "line": {
          "color": "green",
          "dash": "solid",
          "shape": "linear",
          "width": 0.5
         },
         "mode": "lines",
         "name": "Spread",
         "showlegend": false,
         "type": "scatter",
         "x": [
          0,
          1,
          2,
          3,
          4,
          5,
          6,
          7,
          8,
          9,
          10,
          11,
          12,
          13,
          14,
          15,
          16,
          17,
          18,
          19,
          20,
          21,
          22,
          23,
          24,
          25,
          26,
          27,
          28,
          29,
          30,
          31,
          32,
          33,
          34,
          35,
          36,
          37,
          38,
          39,
          40,
          41,
          42,
          43,
          44,
          45,
          46,
          47,
          48,
          49,
          50,
          51,
          52,
          53,
          54,
          55,
          56,
          57,
          58,
          59,
          60,
          61,
          62,
          63,
          64,
          65,
          66,
          67,
          68,
          69,
          70,
          71,
          72,
          73,
          74,
          75,
          76,
          77,
          78,
          79,
          80,
          81,
          82,
          83,
          84,
          85,
          86,
          87,
          88,
          89,
          90,
          91,
          92,
          93,
          94,
          95,
          96,
          97,
          98,
          99
         ],
         "xaxis": "x2",
         "y": [
          "",
          2.6153478118617883,
          0.10245223601992087,
          0.573820396846457,
          0.14834363070530232,
          "",
          "",
          0.8702447549635215,
          0.27641668493404936,
          1.361580246505341,
          "",
          3.033778637616197,
          0.8322643126480576,
          1.4416610054342751,
          1.1072653360737763,
          "",
          "",
          1.0083182001281106,
          1.3799947036839624,
          1.3538517004693849,
          1.0704309790077835,
          1.6343850531341801,
          "",
          1.4560355339361228,
          "",
          0.33737042803268386,
          0.3670026842657904,
          "",
          "",
          1.6453496141141404,
          0.011756463938989908,
          0.3579706272593536,
          1.7701853331748603,
          0.6150431646747831,
          0.22767383050163692,
          "",
          0.07800098450905668,
          1.7803583324481802,
          0.3767265658665486,
          "",
          0.18609609804134636,
          "",
          "",
          "",
          "",
          0.3189306787292242,
          "",
          "",
          0.5336284165858461,
          "",
          1.152920587152812,
          1.8499486447160896,
          1.4777401703752406,
          "",
          "",
          2.2538549145711713,
          2.7590504122007484,
          "",
          "",
          0.21959405182724856,
          "",
          1.436022465162567,
          "",
          1.9411161261173813,
          1.4698905149957748,
          0.11665678286775494,
          0.09215512461731101,
          1.0582975482502293,
          "",
          "",
          "",
          0.06134885229222431,
          1.551488561969171,
          "",
          "",
          2.039336090268673,
          1.8252870663825222,
          "",
          1.1147733020798434,
          1.7314716075681513,
          "",
          "",
          1.7396471786897028,
          1.0675057396937524,
          "",
          "",
          1.6522241539961875,
          2.113910411078278,
          "",
          "",
          "",
          "",
          0.09342587015103065,
          "",
          0.10617411385315845,
          2.377253542171385,
          "",
          "",
          0.27332580322735434,
          0.9321524147764837
         ],
         "yaxis": "y2"
        },
        {
         "connectgaps": false,
         "fill": "tozeroy",
         "line": {
          "color": "red",
          "dash": "solid",
          "shape": "linear",
          "width": 0.5
         },
         "mode": "lines",
         "name": "Spread",
         "showlegend": false,
         "type": "scatter",
         "x": [
          0,
          1,
          2,
          3,
          4,
          5,
          6,
          7,
          8,
          9,
          10,
          11,
          12,
          13,
          14,
          15,
          16,
          17,
          18,
          19,
          20,
          21,
          22,
          23,
          24,
          25,
          26,
          27,
          28,
          29,
          30,
          31,
          32,
          33,
          34,
          35,
          36,
          37,
          38,
          39,
          40,
          41,
          42,
          43,
          44,
          45,
          46,
          47,
          48,
          49,
          50,
          51,
          52,
          53,
          54,
          55,
          56,
          57,
          58,
          59,
          60,
          61,
          62,
          63,
          64,
          65,
          66,
          67,
          68,
          69,
          70,
          71,
          72,
          73,
          74,
          75,
          76,
          77,
          78,
          79,
          80,
          81,
          82,
          83,
          84,
          85,
          86,
          87,
          88,
          89,
          90,
          91,
          92,
          93,
          94,
          95,
          96,
          97,
          98,
          99
         ],
         "xaxis": "x2",
         "y": [
          -0.07820453860724119,
          "",
          "",
          "",
          "",
          -0.5469127701935131,
          -0.7256619418034801,
          "",
          "",
          "",
          -0.4326753095048812,
          "",
          "",
          "",
          "",
          -0.23265572394707532,
          -0.8079877547907834,
          "",
          "",
          "",
          "",
          "",
          -0.3196549653124273,
          "",
          -0.610451152973448,
          "",
          "",
          -1.4359652971876948,
          -2.144152549580333,
          "",
          "",
          "",
          "",
          "",
          "",
          -1.3426521440040546,
          "",
          "",
          "",
          -0.2823142144467758,
          "",
          -2.122620065491394,
          -1.279905752236035,
          -0.8687156483820351,
          -0.24461593168211437,
          "",
          -1.4025956008322706,
          -2.6857253340174823,
          "",
          -2.154717943340928,
          "",
          "",
          "",
          -0.16558065395631172,
          -0.5271398066146729,
          "",
          "",
          -0.24247269657859194,
          -2.2456537499836036,
          "",
          -1.5373921577935017,
          "",
          -3.240770250351582,
          "",
          "",
          "",
          "",
          "",
          -1.64613974190314,
          -1.2580399191765812,
          -0.9351549284115043,
          "",
          "",
          -1.9106150933382204,
          -0.6214824914838283,
          "",
          "",
          -0.7815046420710674,
          "",
          "",
          -1.2329183915125776,
          -0.7948490925381062,
          "",
          "",
          -2.3648564297141705,
          -0.8822315985570445,
          "",
          "",
          -0.4529711254035465,
          -1.7394014514502898,
          -0.4017382286079128,
          -0.38603437133414226,
          "",
          -0.7460787442881327,
          "",
          "",
          -0.6799776921482472,
          -0.27213431602445337,
          "",
          ""
         ],
         "yaxis": "y2"
        }
       ],
       "layout": {
        "hovermode": "x",
        "legend": {
         "bgcolor": "#F5F6F9",
         "font": {
          "color": "#4D5663"
         }
        },
        "paper_bgcolor": "#F5F6F9",
        "plot_bgcolor": "#F5F6F9",
        "template": {
         "data": {
          "bar": [
           {
            "error_x": {
             "color": "#2a3f5f"
            },
            "error_y": {
             "color": "#2a3f5f"
            },
            "marker": {
             "line": {
              "color": "#E5ECF6",
              "width": 0.5
             },
             "pattern": {
              "fillmode": "overlay",
              "size": 10,
              "solidity": 0.2
             }
            },
            "type": "bar"
           }
          ],
          "barpolar": [
           {
            "marker": {
             "line": {
              "color": "#E5ECF6",
              "width": 0.5
             },
             "pattern": {
              "fillmode": "overlay",
              "size": 10,
              "solidity": 0.2
             }
            },
            "type": "barpolar"
           }
          ],
          "carpet": [
           {
            "aaxis": {
             "endlinecolor": "#2a3f5f",
             "gridcolor": "white",
             "linecolor": "white",
             "minorgridcolor": "white",
             "startlinecolor": "#2a3f5f"
            },
            "baxis": {
             "endlinecolor": "#2a3f5f",
             "gridcolor": "white",
             "linecolor": "white",
             "minorgridcolor": "white",
             "startlinecolor": "#2a3f5f"
            },
            "type": "carpet"
           }
          ],
          "choropleth": [
           {
            "colorbar": {
             "outlinewidth": 0,
             "ticks": ""
            },
            "type": "choropleth"
           }
          ],
          "contour": [
           {
            "colorbar": {
             "outlinewidth": 0,
             "ticks": ""
            },
            "colorscale": [
             [
              0,
              "#0d0887"
             ],
             [
              0.1111111111111111,
              "#46039f"
             ],
             [
              0.2222222222222222,
              "#7201a8"
             ],
             [
              0.3333333333333333,
              "#9c179e"
             ],
             [
              0.4444444444444444,
              "#bd3786"
             ],
             [
              0.5555555555555556,
              "#d8576b"
             ],
             [
              0.6666666666666666,
              "#ed7953"
             ],
             [
              0.7777777777777778,
              "#fb9f3a"
             ],
             [
              0.8888888888888888,
              "#fdca26"
             ],
             [
              1,
              "#f0f921"
             ]
            ],
            "type": "contour"
           }
          ],
          "contourcarpet": [
           {
            "colorbar": {
             "outlinewidth": 0,
             "ticks": ""
            },
            "type": "contourcarpet"
           }
          ],
          "heatmap": [
           {
            "colorbar": {
             "outlinewidth": 0,
             "ticks": ""
            },
            "colorscale": [
             [
              0,
              "#0d0887"
             ],
             [
              0.1111111111111111,
              "#46039f"
             ],
             [
              0.2222222222222222,
              "#7201a8"
             ],
             [
              0.3333333333333333,
              "#9c179e"
             ],
             [
              0.4444444444444444,
              "#bd3786"
             ],
             [
              0.5555555555555556,
              "#d8576b"
             ],
             [
              0.6666666666666666,
              "#ed7953"
             ],
             [
              0.7777777777777778,
              "#fb9f3a"
             ],
             [
              0.8888888888888888,
              "#fdca26"
             ],
             [
              1,
              "#f0f921"
             ]
            ],
            "type": "heatmap"
           }
          ],
          "heatmapgl": [
           {
            "colorbar": {
             "outlinewidth": 0,
             "ticks": ""
            },
            "colorscale": [
             [
              0,
              "#0d0887"
             ],
             [
              0.1111111111111111,
              "#46039f"
             ],
             [
              0.2222222222222222,
              "#7201a8"
             ],
             [
              0.3333333333333333,
              "#9c179e"
             ],
             [
              0.4444444444444444,
              "#bd3786"
             ],
             [
              0.5555555555555556,
              "#d8576b"
             ],
             [
              0.6666666666666666,
              "#ed7953"
             ],
             [
              0.7777777777777778,
              "#fb9f3a"
             ],
             [
              0.8888888888888888,
              "#fdca26"
             ],
             [
              1,
              "#f0f921"
             ]
            ],
            "type": "heatmapgl"
           }
          ],
          "histogram": [
           {
            "marker": {
             "pattern": {
              "fillmode": "overlay",
              "size": 10,
              "solidity": 0.2
             }
            },
            "type": "histogram"
           }
          ],
          "histogram2d": [
           {
            "colorbar": {
             "outlinewidth": 0,
             "ticks": ""
            },
            "colorscale": [
             [
              0,
              "#0d0887"
             ],
             [
              0.1111111111111111,
              "#46039f"
             ],
             [
              0.2222222222222222,
              "#7201a8"
             ],
             [
              0.3333333333333333,
              "#9c179e"
             ],
             [
              0.4444444444444444,
              "#bd3786"
             ],
             [
              0.5555555555555556,
              "#d8576b"
             ],
             [
              0.6666666666666666,
              "#ed7953"
             ],
             [
              0.7777777777777778,
              "#fb9f3a"
             ],
             [
              0.8888888888888888,
              "#fdca26"
             ],
             [
              1,
              "#f0f921"
             ]
            ],
            "type": "histogram2d"
           }
          ],
          "histogram2dcontour": [
           {
            "colorbar": {
             "outlinewidth": 0,
             "ticks": ""
            },
            "colorscale": [
             [
              0,
              "#0d0887"
             ],
             [
              0.1111111111111111,
              "#46039f"
             ],
             [
              0.2222222222222222,
              "#7201a8"
             ],
             [
              0.3333333333333333,
              "#9c179e"
             ],
             [
              0.4444444444444444,
              "#bd3786"
             ],
             [
              0.5555555555555556,
              "#d8576b"
             ],
             [
              0.6666666666666666,
              "#ed7953"
             ],
             [
              0.7777777777777778,
              "#fb9f3a"
             ],
             [
              0.8888888888888888,
              "#fdca26"
             ],
             [
              1,
              "#f0f921"
             ]
            ],
            "type": "histogram2dcontour"
           }
          ],
          "mesh3d": [
           {
            "colorbar": {
             "outlinewidth": 0,
             "ticks": ""
            },
            "type": "mesh3d"
           }
          ],
          "parcoords": [
           {
            "line": {
             "colorbar": {
              "outlinewidth": 0,
              "ticks": ""
             }
            },
            "type": "parcoords"
           }
          ],
          "pie": [
           {
            "automargin": true,
            "type": "pie"
           }
          ],
          "scatter": [
           {
            "fillpattern": {
             "fillmode": "overlay",
             "size": 10,
             "solidity": 0.2
            },
            "type": "scatter"
           }
          ],
          "scatter3d": [
           {
            "line": {
             "colorbar": {
              "outlinewidth": 0,
              "ticks": ""
             }
            },
            "marker": {
             "colorbar": {
              "outlinewidth": 0,
              "ticks": ""
             }
            },
            "type": "scatter3d"
           }
          ],
          "scattercarpet": [
           {
            "marker": {
             "colorbar": {
              "outlinewidth": 0,
              "ticks": ""
             }
            },
            "type": "scattercarpet"
           }
          ],
          "scattergeo": [
           {
            "marker": {
             "colorbar": {
              "outlinewidth": 0,
              "ticks": ""
             }
            },
            "type": "scattergeo"
           }
          ],
          "scattergl": [
           {
            "marker": {
             "colorbar": {
              "outlinewidth": 0,
              "ticks": ""
             }
            },
            "type": "scattergl"
           }
          ],
          "scattermapbox": [
           {
            "marker": {
             "colorbar": {
              "outlinewidth": 0,
              "ticks": ""
             }
            },
            "type": "scattermapbox"
           }
          ],
          "scatterpolar": [
           {
            "marker": {
             "colorbar": {
              "outlinewidth": 0,
              "ticks": ""
             }
            },
            "type": "scatterpolar"
           }
          ],
          "scatterpolargl": [
           {
            "marker": {
             "colorbar": {
              "outlinewidth": 0,
              "ticks": ""
             }
            },
            "type": "scatterpolargl"
           }
          ],
          "scatterternary": [
           {
            "marker": {
             "colorbar": {
              "outlinewidth": 0,
              "ticks": ""
             }
            },
            "type": "scatterternary"
           }
          ],
          "surface": [
           {
            "colorbar": {
             "outlinewidth": 0,
             "ticks": ""
            },
            "colorscale": [
             [
              0,
              "#0d0887"
             ],
             [
              0.1111111111111111,
              "#46039f"
             ],
             [
              0.2222222222222222,
              "#7201a8"
             ],
             [
              0.3333333333333333,
              "#9c179e"
             ],
             [
              0.4444444444444444,
              "#bd3786"
             ],
             [
              0.5555555555555556,
              "#d8576b"
             ],
             [
              0.6666666666666666,
              "#ed7953"
             ],
             [
              0.7777777777777778,
              "#fb9f3a"
             ],
             [
              0.8888888888888888,
              "#fdca26"
             ],
             [
              1,
              "#f0f921"
             ]
            ],
            "type": "surface"
           }
          ],
          "table": [
           {
            "cells": {
             "fill": {
              "color": "#EBF0F8"
             },
             "line": {
              "color": "white"
             }
            },
            "header": {
             "fill": {
              "color": "#C8D4E3"
             },
             "line": {
              "color": "white"
             }
            },
            "type": "table"
           }
          ]
         },
         "layout": {
          "annotationdefaults": {
           "arrowcolor": "#2a3f5f",
           "arrowhead": 0,
           "arrowwidth": 1
          },
          "autotypenumbers": "strict",
          "coloraxis": {
           "colorbar": {
            "outlinewidth": 0,
            "ticks": ""
           }
          },
          "colorscale": {
           "diverging": [
            [
             0,
             "#8e0152"
            ],
            [
             0.1,
             "#c51b7d"
            ],
            [
             0.2,
             "#de77ae"
            ],
            [
             0.3,
             "#f1b6da"
            ],
            [
             0.4,
             "#fde0ef"
            ],
            [
             0.5,
             "#f7f7f7"
            ],
            [
             0.6,
             "#e6f5d0"
            ],
            [
             0.7,
             "#b8e186"
            ],
            [
             0.8,
             "#7fbc41"
            ],
            [
             0.9,
             "#4d9221"
            ],
            [
             1,
             "#276419"
            ]
           ],
           "sequential": [
            [
             0,
             "#0d0887"
            ],
            [
             0.1111111111111111,
             "#46039f"
            ],
            [
             0.2222222222222222,
             "#7201a8"
            ],
            [
             0.3333333333333333,
             "#9c179e"
            ],
            [
             0.4444444444444444,
             "#bd3786"
            ],
            [
             0.5555555555555556,
             "#d8576b"
            ],
            [
             0.6666666666666666,
             "#ed7953"
            ],
            [
             0.7777777777777778,
             "#fb9f3a"
            ],
            [
             0.8888888888888888,
             "#fdca26"
            ],
            [
             1,
             "#f0f921"
            ]
           ],
           "sequentialminus": [
            [
             0,
             "#0d0887"
            ],
            [
             0.1111111111111111,
             "#46039f"
            ],
            [
             0.2222222222222222,
             "#7201a8"
            ],
            [
             0.3333333333333333,
             "#9c179e"
            ],
            [
             0.4444444444444444,
             "#bd3786"
            ],
            [
             0.5555555555555556,
             "#d8576b"
            ],
            [
             0.6666666666666666,
             "#ed7953"
            ],
            [
             0.7777777777777778,
             "#fb9f3a"
            ],
            [
             0.8888888888888888,
             "#fdca26"
            ],
            [
             1,
             "#f0f921"
            ]
           ]
          },
          "colorway": [
           "#636efa",
           "#EF553B",
           "#00cc96",
           "#ab63fa",
           "#FFA15A",
           "#19d3f3",
           "#FF6692",
           "#B6E880",
           "#FF97FF",
           "#FECB52"
          ],
          "font": {
           "color": "#2a3f5f"
          },
          "geo": {
           "bgcolor": "white",
           "lakecolor": "white",
           "landcolor": "#E5ECF6",
           "showlakes": true,
           "showland": true,
           "subunitcolor": "white"
          },
          "hoverlabel": {
           "align": "left"
          },
          "hovermode": "closest",
          "mapbox": {
           "style": "light"
          },
          "paper_bgcolor": "white",
          "plot_bgcolor": "#E5ECF6",
          "polar": {
           "angularaxis": {
            "gridcolor": "white",
            "linecolor": "white",
            "ticks": ""
           },
           "bgcolor": "#E5ECF6",
           "radialaxis": {
            "gridcolor": "white",
            "linecolor": "white",
            "ticks": ""
           }
          },
          "scene": {
           "xaxis": {
            "backgroundcolor": "#E5ECF6",
            "gridcolor": "white",
            "gridwidth": 2,
            "linecolor": "white",
            "showbackground": true,
            "ticks": "",
            "zerolinecolor": "white"
           },
           "yaxis": {
            "backgroundcolor": "#E5ECF6",
            "gridcolor": "white",
            "gridwidth": 2,
            "linecolor": "white",
            "showbackground": true,
            "ticks": "",
            "zerolinecolor": "white"
           },
           "zaxis": {
            "backgroundcolor": "#E5ECF6",
            "gridcolor": "white",
            "gridwidth": 2,
            "linecolor": "white",
            "showbackground": true,
            "ticks": "",
            "zerolinecolor": "white"
           }
          },
          "shapedefaults": {
           "line": {
            "color": "#2a3f5f"
           }
          },
          "ternary": {
           "aaxis": {
            "gridcolor": "white",
            "linecolor": "white",
            "ticks": ""
           },
           "baxis": {
            "gridcolor": "white",
            "linecolor": "white",
            "ticks": ""
           },
           "bgcolor": "#E5ECF6",
           "caxis": {
            "gridcolor": "white",
            "linecolor": "white",
            "ticks": ""
           }
          },
          "title": {
           "x": 0.05
          },
          "xaxis": {
           "automargin": true,
           "gridcolor": "white",
           "linecolor": "white",
           "ticks": "",
           "title": {
            "standoff": 15
           },
           "zerolinecolor": "white",
           "zerolinewidth": 2
          },
          "yaxis": {
           "automargin": true,
           "gridcolor": "white",
           "linecolor": "white",
           "ticks": "",
           "title": {
            "standoff": 15
           },
           "zerolinecolor": "white",
           "zerolinewidth": 2
          }
         }
        },
        "title": {
         "font": {
          "color": "#4D5663"
         }
        },
        "xaxis": {
         "gridcolor": "#E1E5ED",
         "showgrid": true,
         "tickfont": {
          "color": "#4D5663"
         },
         "title": {
          "font": {
           "color": "#4D5663"
          },
          "text": ""
         },
         "zerolinecolor": "#E1E5ED"
        },
        "xaxis2": {
         "anchor": "y2",
         "gridcolor": "#E1E5ED",
         "showgrid": true,
         "showticklabels": false,
         "tickfont": {
          "color": "#4D5663"
         },
         "title": {
          "font": {
           "color": "#4D5663"
          },
          "text": ""
         },
         "zerolinecolor": "#E1E5ED"
        },
        "yaxis": {
         "domain": [
          0.3,
          1
         ],
         "gridcolor": "#E1E5ED",
         "showgrid": true,
         "tickfont": {
          "color": "#4D5663"
         },
         "title": {
          "font": {
           "color": "#4D5663"
          },
          "text": ""
         },
         "zerolinecolor": "#E1E5ED"
        },
        "yaxis2": {
         "domain": [
          0,
          0.25
         ],
         "gridcolor": "#E1E5ED",
         "showgrid": true,
         "tickfont": {
          "color": "#4D5663"
         },
         "title": {
          "font": {
           "color": "#4D5663"
          },
          "text": "Spread"
         },
         "zerolinecolor": "#E1E5ED"
        }
       }
      },
      "text/html": [
       "<div>                            <div id=\"e97c458f-cb0d-4ce3-80c0-9c956dc43edd\" class=\"plotly-graph-div\" style=\"height:525px; width:100%;\"></div>            <script type=\"text/javascript\">                require([\"plotly\"], function(Plotly) {                    window.PLOTLYENV=window.PLOTLYENV || {};\n",
       "                    window.PLOTLYENV.BASE_URL='https://plot.ly';                                    if (document.getElementById(\"e97c458f-cb0d-4ce3-80c0-9c956dc43edd\")) {                    Plotly.newPlot(                        \"e97c458f-cb0d-4ce3-80c0-9c956dc43edd\",                        [{\"line\":{\"color\":\"rgba(255, 153, 51, 1.0)\",\"dash\":\"solid\",\"shape\":\"linear\",\"width\":1.3},\"mode\":\"lines\",\"name\":\"A\",\"text\":\"\",\"x\":[0,1,2,3,4,5,6,7,8,9,10,11,12,13,14,15,16,17,18,19,20,21,22,23,24,25,26,27,28,29,30,31,32,33,34,35,36,37,38,39,40,41,42,43,44,45,46,47,48,49,50,51,52,53,54,55,56,57,58,59,60,61,62,63,64,65,66,67,68,69,70,71,72,73,74,75,76,77,78,79,80,81,82,83,84,85,86,87,88,89,90,91,92,93,94,95,96,97,98,99],\"y\":[0.963656208822238,1.1213805704854953,0.08117322059561863,0.9067501670920386,1.28908725845038,-0.8484788632427857,-0.8009485265222287,-0.13954698878550142,-0.4209938328140542,0.2837355152610227,-0.21272756966893616,1.7570408279670209,0.3550122841604106,1.30974406905139,0.2232155423907447,0.20225806270488592,0.4297931309428796,0.2710898356704665,1.2673150001525066,-0.28317420340831106,0.20613001876357961,0.4635201733939552,0.5460897413984124,0.12438837142487577,-0.3311450835685355,0.43842530680477404,1.0684047789837727,-0.6243736534857598,-1.1906662032404274,1.4656058483881402,0.16715588520722816,0.48360128610027264,1.0718721211795463,-0.24068377304579952,-0.8837940178049627,0.28414594957742983,0.18636052031088884,1.0554728665925521,0.24657908043205698,-0.255956079869308,0.07878204355354528,-1.1832024418880038,-0.3947053481469931,0.015051127698353848,-0.9273312434230097,-0.5904417385480116,-0.8248473181016788,-2.553642906404523,0.5853809835216754,0.07471667146690081,0.8078271481497611,2.0119568319081234,1.7051615445225863,0.3690781122530383,0.27207568986467,0.9429351698391747,0.8709196392545411,1.8881327097718632,-2.277236818278749,0.7641282663968877,-1.9210586871999982,0.6083480372818315,-1.7059804718374605,1.8390631369000259,0.47676559937164253,0.7951445119372802,0.7363841786006643,1.2801801668695012,-0.987315530991337,-0.7855382455137779,-1.5235664056893965,-0.8068782421283027,0.1899751266947658,-0.8176847491115944,-0.7588257659066171,0.7146591792126702,1.1389770375251385,-0.49140946806501906,0.3885375141880657,0.19210286916179659,-1.8674308759485234,0.2563319473019304,1.4141223099861748,1.5347206360501597,-1.094691314002368,-0.060435557199993446,0.2992179294797572,1.4510015729851962,0.38567992079704777,-1.8471002701272756,-0.2158731199529436,-0.3833111312088049,-2.0068888309777657,-0.548083205199428,0.6861555341365956,1.199667217838947,0.06831398795428081,-0.057601596970910905,0.3827056101028784,0.5691997438450976],\"type\":\"scatter\"},{\"line\":{\"color\":\"rgba(55, 128, 191, 1.0)\",\"dash\":\"solid\",\"shape\":\"linear\",\"width\":1.3},\"mode\":\"lines\",\"name\":\"B\",\"text\":\"\",\"x\":[0,1,2,3,4,5,6,7,8,9,10,11,12,13,14,15,16,17,18,19,20,21,22,23,24,25,26,27,28,29,30,31,32,33,34,35,36,37,38,39,40,41,42,43,44,45,46,47,48,49,50,51,52,53,54,55,56,57,58,59,60,61,62,63,64,65,66,67,68,69,70,71,72,73,74,75,76,77,78,79,80,81,82,83,84,85,86,87,88,89,90,91,92,93,94,95,96,97,98,99],\"y\":[1.0418607474294792,-1.4939672413762932,-0.02127901542430224,0.33292977024558157,1.1407436277450778,-0.3015660930492725,-0.0752865847187486,-1.009791743749023,-0.6974105177481036,-1.0778447312443185,0.21994773983594507,-1.2767378096491764,-0.4772520284876469,-0.13191693638288507,-0.8840497936830316,0.43491378665196123,1.237780885733663,-0.7372283644576442,-0.11267970353145566,-1.637025903877696,-0.8643009602442039,-1.170864879740225,0.8657447067108397,-1.3316471625112472,0.27930606940491254,0.1010548787720902,0.7014020947179823,0.8115916437019352,0.9534863463399055,-0.17974376572600015,0.15539942126823825,0.12563065884091904,-0.6983132119953138,-0.8557269377205827,-1.1114678483065996,1.6267980935814845,0.10835953580183216,-0.724885465855628,-0.13014748543449164,0.02635813457746775,-0.10731405448780107,0.9394176236033902,0.8852004040890421,0.8837667760803889,-0.6827153117408953,-0.9093724172772358,0.5777482827305919,0.1320824276129593,0.051752566935829254,2.2294346148078286,-0.3450934390030509,0.1620081871920339,0.22742137414734556,0.53465876620935,0.7992154964793429,-1.3109197447319967,-1.8881307729462076,2.130605406350455,-0.031583068295145504,0.5445342145696391,-0.3836665294064964,-0.8276744278807356,1.5347897785141216,-0.10205298921735546,-0.9931249156241323,0.6784877290695253,0.6442290539833533,0.22188261861927183,0.658824210911803,0.4725016736628034,-0.5884114772778922,-0.868227094420527,-1.3615134352744052,1.092930344226626,-0.13734327442278882,-1.3246769110560028,-0.6863100288573838,0.2900951740060484,-0.7262357878917776,-1.5393687384063548,-0.6345124844359458,1.0511810398400365,-0.32552486870352804,0.46721489635640734,1.2701651157118028,0.821796041357051,-1.3530062245164303,-0.6629088380930819,0.8386510462005943,-0.10769881867698582,0.18586510865496922,0.0027232401253373915,-2.1003147011287964,0.19799553908870476,0.5799814202834371,-1.1775863243324383,0.748291680102528,0.2145327190535425,0.10937980687552407,-0.3629526709313861],\"type\":\"scatter\"},{\"connectgaps\":false,\"fill\":\"tozeroy\",\"line\":{\"color\":\"green\",\"dash\":\"solid\",\"shape\":\"linear\",\"width\":0.5},\"mode\":\"lines\",\"name\":\"Spread\",\"showlegend\":false,\"x\":[0,1,2,3,4,5,6,7,8,9,10,11,12,13,14,15,16,17,18,19,20,21,22,23,24,25,26,27,28,29,30,31,32,33,34,35,36,37,38,39,40,41,42,43,44,45,46,47,48,49,50,51,52,53,54,55,56,57,58,59,60,61,62,63,64,65,66,67,68,69,70,71,72,73,74,75,76,77,78,79,80,81,82,83,84,85,86,87,88,89,90,91,92,93,94,95,96,97,98,99],\"xaxis\":\"x2\",\"y\":[\"\",2.6153478118617883,0.10245223601992087,0.573820396846457,0.14834363070530232,\"\",\"\",0.8702447549635215,0.27641668493404936,1.361580246505341,\"\",3.033778637616197,0.8322643126480576,1.4416610054342751,1.1072653360737763,\"\",\"\",1.0083182001281106,1.3799947036839624,1.3538517004693849,1.0704309790077835,1.6343850531341801,\"\",1.4560355339361228,\"\",0.33737042803268386,0.3670026842657904,\"\",\"\",1.6453496141141404,0.011756463938989908,0.3579706272593536,1.7701853331748603,0.6150431646747831,0.22767383050163692,\"\",0.07800098450905668,1.7803583324481802,0.3767265658665486,\"\",0.18609609804134636,\"\",\"\",\"\",\"\",0.3189306787292242,\"\",\"\",0.5336284165858461,\"\",1.152920587152812,1.8499486447160896,1.4777401703752406,\"\",\"\",2.2538549145711713,2.7590504122007484,\"\",\"\",0.21959405182724856,\"\",1.436022465162567,\"\",1.9411161261173813,1.4698905149957748,0.11665678286775494,0.09215512461731101,1.0582975482502293,\"\",\"\",\"\",0.06134885229222431,1.551488561969171,\"\",\"\",2.039336090268673,1.8252870663825222,\"\",1.1147733020798434,1.7314716075681513,\"\",\"\",1.7396471786897028,1.0675057396937524,\"\",\"\",1.6522241539961875,2.113910411078278,\"\",\"\",\"\",\"\",0.09342587015103065,\"\",0.10617411385315845,2.377253542171385,\"\",\"\",0.27332580322735434,0.9321524147764837],\"yaxis\":\"y2\",\"type\":\"scatter\"},{\"connectgaps\":false,\"fill\":\"tozeroy\",\"line\":{\"color\":\"red\",\"dash\":\"solid\",\"shape\":\"linear\",\"width\":0.5},\"mode\":\"lines\",\"name\":\"Spread\",\"showlegend\":false,\"x\":[0,1,2,3,4,5,6,7,8,9,10,11,12,13,14,15,16,17,18,19,20,21,22,23,24,25,26,27,28,29,30,31,32,33,34,35,36,37,38,39,40,41,42,43,44,45,46,47,48,49,50,51,52,53,54,55,56,57,58,59,60,61,62,63,64,65,66,67,68,69,70,71,72,73,74,75,76,77,78,79,80,81,82,83,84,85,86,87,88,89,90,91,92,93,94,95,96,97,98,99],\"xaxis\":\"x2\",\"y\":[-0.07820453860724119,\"\",\"\",\"\",\"\",-0.5469127701935131,-0.7256619418034801,\"\",\"\",\"\",-0.4326753095048812,\"\",\"\",\"\",\"\",-0.23265572394707532,-0.8079877547907834,\"\",\"\",\"\",\"\",\"\",-0.3196549653124273,\"\",-0.610451152973448,\"\",\"\",-1.4359652971876948,-2.144152549580333,\"\",\"\",\"\",\"\",\"\",\"\",-1.3426521440040546,\"\",\"\",\"\",-0.2823142144467758,\"\",-2.122620065491394,-1.279905752236035,-0.8687156483820351,-0.24461593168211437,\"\",-1.4025956008322706,-2.6857253340174823,\"\",-2.154717943340928,\"\",\"\",\"\",-0.16558065395631172,-0.5271398066146729,\"\",\"\",-0.24247269657859194,-2.2456537499836036,\"\",-1.5373921577935017,\"\",-3.240770250351582,\"\",\"\",\"\",\"\",\"\",-1.64613974190314,-1.2580399191765812,-0.9351549284115043,\"\",\"\",-1.9106150933382204,-0.6214824914838283,\"\",\"\",-0.7815046420710674,\"\",\"\",-1.2329183915125776,-0.7948490925381062,\"\",\"\",-2.3648564297141705,-0.8822315985570445,\"\",\"\",-0.4529711254035465,-1.7394014514502898,-0.4017382286079128,-0.38603437133414226,\"\",-0.7460787442881327,\"\",\"\",-0.6799776921482472,-0.27213431602445337,\"\",\"\"],\"yaxis\":\"y2\",\"type\":\"scatter\"}],                        {\"hovermode\":\"x\",\"legend\":{\"bgcolor\":\"#F5F6F9\",\"font\":{\"color\":\"#4D5663\"}},\"paper_bgcolor\":\"#F5F6F9\",\"plot_bgcolor\":\"#F5F6F9\",\"template\":{\"data\":{\"barpolar\":[{\"marker\":{\"line\":{\"color\":\"#E5ECF6\",\"width\":0.5},\"pattern\":{\"fillmode\":\"overlay\",\"size\":10,\"solidity\":0.2}},\"type\":\"barpolar\"}],\"bar\":[{\"error_x\":{\"color\":\"#2a3f5f\"},\"error_y\":{\"color\":\"#2a3f5f\"},\"marker\":{\"line\":{\"color\":\"#E5ECF6\",\"width\":0.5},\"pattern\":{\"fillmode\":\"overlay\",\"size\":10,\"solidity\":0.2}},\"type\":\"bar\"}],\"carpet\":[{\"aaxis\":{\"endlinecolor\":\"#2a3f5f\",\"gridcolor\":\"white\",\"linecolor\":\"white\",\"minorgridcolor\":\"white\",\"startlinecolor\":\"#2a3f5f\"},\"baxis\":{\"endlinecolor\":\"#2a3f5f\",\"gridcolor\":\"white\",\"linecolor\":\"white\",\"minorgridcolor\":\"white\",\"startlinecolor\":\"#2a3f5f\"},\"type\":\"carpet\"}],\"choropleth\":[{\"colorbar\":{\"outlinewidth\":0,\"ticks\":\"\"},\"type\":\"choropleth\"}],\"contourcarpet\":[{\"colorbar\":{\"outlinewidth\":0,\"ticks\":\"\"},\"type\":\"contourcarpet\"}],\"contour\":[{\"colorbar\":{\"outlinewidth\":0,\"ticks\":\"\"},\"colorscale\":[[0.0,\"#0d0887\"],[0.1111111111111111,\"#46039f\"],[0.2222222222222222,\"#7201a8\"],[0.3333333333333333,\"#9c179e\"],[0.4444444444444444,\"#bd3786\"],[0.5555555555555556,\"#d8576b\"],[0.6666666666666666,\"#ed7953\"],[0.7777777777777778,\"#fb9f3a\"],[0.8888888888888888,\"#fdca26\"],[1.0,\"#f0f921\"]],\"type\":\"contour\"}],\"heatmapgl\":[{\"colorbar\":{\"outlinewidth\":0,\"ticks\":\"\"},\"colorscale\":[[0.0,\"#0d0887\"],[0.1111111111111111,\"#46039f\"],[0.2222222222222222,\"#7201a8\"],[0.3333333333333333,\"#9c179e\"],[0.4444444444444444,\"#bd3786\"],[0.5555555555555556,\"#d8576b\"],[0.6666666666666666,\"#ed7953\"],[0.7777777777777778,\"#fb9f3a\"],[0.8888888888888888,\"#fdca26\"],[1.0,\"#f0f921\"]],\"type\":\"heatmapgl\"}],\"heatmap\":[{\"colorbar\":{\"outlinewidth\":0,\"ticks\":\"\"},\"colorscale\":[[0.0,\"#0d0887\"],[0.1111111111111111,\"#46039f\"],[0.2222222222222222,\"#7201a8\"],[0.3333333333333333,\"#9c179e\"],[0.4444444444444444,\"#bd3786\"],[0.5555555555555556,\"#d8576b\"],[0.6666666666666666,\"#ed7953\"],[0.7777777777777778,\"#fb9f3a\"],[0.8888888888888888,\"#fdca26\"],[1.0,\"#f0f921\"]],\"type\":\"heatmap\"}],\"histogram2dcontour\":[{\"colorbar\":{\"outlinewidth\":0,\"ticks\":\"\"},\"colorscale\":[[0.0,\"#0d0887\"],[0.1111111111111111,\"#46039f\"],[0.2222222222222222,\"#7201a8\"],[0.3333333333333333,\"#9c179e\"],[0.4444444444444444,\"#bd3786\"],[0.5555555555555556,\"#d8576b\"],[0.6666666666666666,\"#ed7953\"],[0.7777777777777778,\"#fb9f3a\"],[0.8888888888888888,\"#fdca26\"],[1.0,\"#f0f921\"]],\"type\":\"histogram2dcontour\"}],\"histogram2d\":[{\"colorbar\":{\"outlinewidth\":0,\"ticks\":\"\"},\"colorscale\":[[0.0,\"#0d0887\"],[0.1111111111111111,\"#46039f\"],[0.2222222222222222,\"#7201a8\"],[0.3333333333333333,\"#9c179e\"],[0.4444444444444444,\"#bd3786\"],[0.5555555555555556,\"#d8576b\"],[0.6666666666666666,\"#ed7953\"],[0.7777777777777778,\"#fb9f3a\"],[0.8888888888888888,\"#fdca26\"],[1.0,\"#f0f921\"]],\"type\":\"histogram2d\"}],\"histogram\":[{\"marker\":{\"pattern\":{\"fillmode\":\"overlay\",\"size\":10,\"solidity\":0.2}},\"type\":\"histogram\"}],\"mesh3d\":[{\"colorbar\":{\"outlinewidth\":0,\"ticks\":\"\"},\"type\":\"mesh3d\"}],\"parcoords\":[{\"line\":{\"colorbar\":{\"outlinewidth\":0,\"ticks\":\"\"}},\"type\":\"parcoords\"}],\"pie\":[{\"automargin\":true,\"type\":\"pie\"}],\"scatter3d\":[{\"line\":{\"colorbar\":{\"outlinewidth\":0,\"ticks\":\"\"}},\"marker\":{\"colorbar\":{\"outlinewidth\":0,\"ticks\":\"\"}},\"type\":\"scatter3d\"}],\"scattercarpet\":[{\"marker\":{\"colorbar\":{\"outlinewidth\":0,\"ticks\":\"\"}},\"type\":\"scattercarpet\"}],\"scattergeo\":[{\"marker\":{\"colorbar\":{\"outlinewidth\":0,\"ticks\":\"\"}},\"type\":\"scattergeo\"}],\"scattergl\":[{\"marker\":{\"colorbar\":{\"outlinewidth\":0,\"ticks\":\"\"}},\"type\":\"scattergl\"}],\"scattermapbox\":[{\"marker\":{\"colorbar\":{\"outlinewidth\":0,\"ticks\":\"\"}},\"type\":\"scattermapbox\"}],\"scatterpolargl\":[{\"marker\":{\"colorbar\":{\"outlinewidth\":0,\"ticks\":\"\"}},\"type\":\"scatterpolargl\"}],\"scatterpolar\":[{\"marker\":{\"colorbar\":{\"outlinewidth\":0,\"ticks\":\"\"}},\"type\":\"scatterpolar\"}],\"scatter\":[{\"fillpattern\":{\"fillmode\":\"overlay\",\"size\":10,\"solidity\":0.2},\"type\":\"scatter\"}],\"scatterternary\":[{\"marker\":{\"colorbar\":{\"outlinewidth\":0,\"ticks\":\"\"}},\"type\":\"scatterternary\"}],\"surface\":[{\"colorbar\":{\"outlinewidth\":0,\"ticks\":\"\"},\"colorscale\":[[0.0,\"#0d0887\"],[0.1111111111111111,\"#46039f\"],[0.2222222222222222,\"#7201a8\"],[0.3333333333333333,\"#9c179e\"],[0.4444444444444444,\"#bd3786\"],[0.5555555555555556,\"#d8576b\"],[0.6666666666666666,\"#ed7953\"],[0.7777777777777778,\"#fb9f3a\"],[0.8888888888888888,\"#fdca26\"],[1.0,\"#f0f921\"]],\"type\":\"surface\"}],\"table\":[{\"cells\":{\"fill\":{\"color\":\"#EBF0F8\"},\"line\":{\"color\":\"white\"}},\"header\":{\"fill\":{\"color\":\"#C8D4E3\"},\"line\":{\"color\":\"white\"}},\"type\":\"table\"}]},\"layout\":{\"annotationdefaults\":{\"arrowcolor\":\"#2a3f5f\",\"arrowhead\":0,\"arrowwidth\":1},\"autotypenumbers\":\"strict\",\"coloraxis\":{\"colorbar\":{\"outlinewidth\":0,\"ticks\":\"\"}},\"colorscale\":{\"diverging\":[[0,\"#8e0152\"],[0.1,\"#c51b7d\"],[0.2,\"#de77ae\"],[0.3,\"#f1b6da\"],[0.4,\"#fde0ef\"],[0.5,\"#f7f7f7\"],[0.6,\"#e6f5d0\"],[0.7,\"#b8e186\"],[0.8,\"#7fbc41\"],[0.9,\"#4d9221\"],[1,\"#276419\"]],\"sequential\":[[0.0,\"#0d0887\"],[0.1111111111111111,\"#46039f\"],[0.2222222222222222,\"#7201a8\"],[0.3333333333333333,\"#9c179e\"],[0.4444444444444444,\"#bd3786\"],[0.5555555555555556,\"#d8576b\"],[0.6666666666666666,\"#ed7953\"],[0.7777777777777778,\"#fb9f3a\"],[0.8888888888888888,\"#fdca26\"],[1.0,\"#f0f921\"]],\"sequentialminus\":[[0.0,\"#0d0887\"],[0.1111111111111111,\"#46039f\"],[0.2222222222222222,\"#7201a8\"],[0.3333333333333333,\"#9c179e\"],[0.4444444444444444,\"#bd3786\"],[0.5555555555555556,\"#d8576b\"],[0.6666666666666666,\"#ed7953\"],[0.7777777777777778,\"#fb9f3a\"],[0.8888888888888888,\"#fdca26\"],[1.0,\"#f0f921\"]]},\"colorway\":[\"#636efa\",\"#EF553B\",\"#00cc96\",\"#ab63fa\",\"#FFA15A\",\"#19d3f3\",\"#FF6692\",\"#B6E880\",\"#FF97FF\",\"#FECB52\"],\"font\":{\"color\":\"#2a3f5f\"},\"geo\":{\"bgcolor\":\"white\",\"lakecolor\":\"white\",\"landcolor\":\"#E5ECF6\",\"showlakes\":true,\"showland\":true,\"subunitcolor\":\"white\"},\"hoverlabel\":{\"align\":\"left\"},\"hovermode\":\"closest\",\"mapbox\":{\"style\":\"light\"},\"paper_bgcolor\":\"white\",\"plot_bgcolor\":\"#E5ECF6\",\"polar\":{\"angularaxis\":{\"gridcolor\":\"white\",\"linecolor\":\"white\",\"ticks\":\"\"},\"bgcolor\":\"#E5ECF6\",\"radialaxis\":{\"gridcolor\":\"white\",\"linecolor\":\"white\",\"ticks\":\"\"}},\"scene\":{\"xaxis\":{\"backgroundcolor\":\"#E5ECF6\",\"gridcolor\":\"white\",\"gridwidth\":2,\"linecolor\":\"white\",\"showbackground\":true,\"ticks\":\"\",\"zerolinecolor\":\"white\"},\"yaxis\":{\"backgroundcolor\":\"#E5ECF6\",\"gridcolor\":\"white\",\"gridwidth\":2,\"linecolor\":\"white\",\"showbackground\":true,\"ticks\":\"\",\"zerolinecolor\":\"white\"},\"zaxis\":{\"backgroundcolor\":\"#E5ECF6\",\"gridcolor\":\"white\",\"gridwidth\":2,\"linecolor\":\"white\",\"showbackground\":true,\"ticks\":\"\",\"zerolinecolor\":\"white\"}},\"shapedefaults\":{\"line\":{\"color\":\"#2a3f5f\"}},\"ternary\":{\"aaxis\":{\"gridcolor\":\"white\",\"linecolor\":\"white\",\"ticks\":\"\"},\"baxis\":{\"gridcolor\":\"white\",\"linecolor\":\"white\",\"ticks\":\"\"},\"bgcolor\":\"#E5ECF6\",\"caxis\":{\"gridcolor\":\"white\",\"linecolor\":\"white\",\"ticks\":\"\"}},\"title\":{\"x\":0.05},\"xaxis\":{\"automargin\":true,\"gridcolor\":\"white\",\"linecolor\":\"white\",\"ticks\":\"\",\"title\":{\"standoff\":15},\"zerolinecolor\":\"white\",\"zerolinewidth\":2},\"yaxis\":{\"automargin\":true,\"gridcolor\":\"white\",\"linecolor\":\"white\",\"ticks\":\"\",\"title\":{\"standoff\":15},\"zerolinecolor\":\"white\",\"zerolinewidth\":2}}},\"title\":{\"font\":{\"color\":\"#4D5663\"}},\"xaxis\":{\"gridcolor\":\"#E1E5ED\",\"showgrid\":true,\"tickfont\":{\"color\":\"#4D5663\"},\"title\":{\"font\":{\"color\":\"#4D5663\"},\"text\":\"\"},\"zerolinecolor\":\"#E1E5ED\"},\"yaxis\":{\"domain\":[0.3,1],\"gridcolor\":\"#E1E5ED\",\"showgrid\":true,\"tickfont\":{\"color\":\"#4D5663\"},\"title\":{\"font\":{\"color\":\"#4D5663\"},\"text\":\"\"},\"zerolinecolor\":\"#E1E5ED\"},\"yaxis2\":{\"domain\":[0,0.25],\"gridcolor\":\"#E1E5ED\",\"showgrid\":true,\"tickfont\":{\"color\":\"#4D5663\"},\"title\":{\"font\":{\"color\":\"#4D5663\"},\"text\":\"Spread\"},\"zerolinecolor\":\"#E1E5ED\"},\"xaxis2\":{\"anchor\":\"y2\",\"gridcolor\":\"#E1E5ED\",\"showgrid\":true,\"showticklabels\":false,\"tickfont\":{\"color\":\"#4D5663\"},\"title\":{\"font\":{\"color\":\"#4D5663\"},\"text\":\"\"},\"zerolinecolor\":\"#E1E5ED\"}},                        {\"showLink\": true, \"linkText\": \"Export to plot.ly\", \"plotlyServerURL\": \"https://plot.ly\", \"responsive\": true}                    ).then(function(){\n",
       "                            \n",
       "var gd = document.getElementById('e97c458f-cb0d-4ce3-80c0-9c956dc43edd');\n",
       "var x = new MutationObserver(function (mutations, observer) {{\n",
       "        var display = window.getComputedStyle(gd).display;\n",
       "        if (!display || display === 'none') {{\n",
       "            console.log([gd, 'removed!']);\n",
       "            Plotly.purge(gd);\n",
       "            observer.disconnect();\n",
       "        }}\n",
       "}});\n",
       "\n",
       "// Listen for the removal of the full notebook cells\n",
       "var notebookContainer = gd.closest('#notebook-container');\n",
       "if (notebookContainer) {{\n",
       "    x.observe(notebookContainer, {childList: true});\n",
       "}}\n",
       "\n",
       "// Listen for the clearing of the current output cell\n",
       "var outputEl = gd.closest('.output');\n",
       "if (outputEl) {{\n",
       "    x.observe(outputEl, {childList: true});\n",
       "}}\n",
       "\n",
       "                        })                };                });            </script>        </div>"
      ]
     },
     "metadata": {},
     "output_type": "display_data"
    }
   ],
   "source": [
    "df[['A', 'B']].iplot(kind = 'spread')"
   ]
  },
  {
   "cell_type": "code",
   "execution_count": 55,
   "id": "b238bbf3",
   "metadata": {},
   "outputs": [
    {
     "data": {
      "application/vnd.plotly.v1+json": {
       "config": {
        "linkText": "Export to plot.ly",
        "plotlyServerURL": "https://plot.ly",
        "showLink": true
       },
       "data": [
        {
         "marker": {
          "color": [
           "rgb(255, 153, 51)",
           "rgb(55, 128, 191)",
           "rgb(50, 171, 96)",
           "rgb(128, 0, 128)",
           "rgb(219, 64, 82)",
           "rgb(0, 128, 128)",
           "rgb(255, 255, 51)",
           "rgb(128, 128, 0)",
           "rgb(251, 128, 114)",
           "rgb(128, 177, 211)"
          ],
          "line": {
           "width": 1.3
          },
          "size": [
           86,
           68,
           37,
           54,
           49,
           68,
           22,
           37,
           50,
           59,
           12,
           44,
           94,
           57,
           61,
           85,
           40,
           68,
           50,
           31,
           62,
           39,
           29,
           76,
           62,
           67,
           48,
           69,
           22,
           76,
           57,
           13,
           73,
           46,
           33,
           53,
           54,
           50,
           51,
           57,
           68,
           43,
           55,
           74,
           54,
           41,
           64,
           15,
           35,
           42,
           38,
           66,
           42,
           39,
           41,
           62,
           57,
           71,
           75,
           54,
           32,
           83,
           52,
           33,
           54,
           49,
           95,
           56,
           56,
           80,
           68,
           52,
           25,
           41,
           50,
           32,
           42,
           75,
           25,
           70,
           66,
           54,
           67,
           29,
           59,
           87,
           12,
           70,
           83,
           40,
           55,
           64,
           73,
           41,
           83,
           48,
           71,
           111,
           45,
           55
          ],
          "symbol": "circle"
         },
         "mode": "markers",
         "text": "",
         "type": "scatter",
         "x": [
          0.963656208822238,
          1.1213805704854953,
          0.08117322059561863,
          0.9067501670920386,
          1.28908725845038,
          -0.8484788632427857,
          -0.8009485265222287,
          -0.13954698878550142,
          -0.4209938328140542,
          0.2837355152610227,
          -0.21272756966893616,
          1.7570408279670209,
          0.3550122841604106,
          1.30974406905139,
          0.2232155423907447,
          0.20225806270488592,
          0.4297931309428796,
          0.2710898356704665,
          1.2673150001525066,
          -0.28317420340831106,
          0.20613001876357961,
          0.4635201733939552,
          0.5460897413984124,
          0.12438837142487577,
          -0.3311450835685355,
          0.43842530680477404,
          1.0684047789837727,
          -0.6243736534857598,
          -1.1906662032404274,
          1.4656058483881402,
          0.16715588520722816,
          0.48360128610027264,
          1.0718721211795463,
          -0.24068377304579952,
          -0.8837940178049627,
          0.28414594957742983,
          0.18636052031088884,
          1.0554728665925521,
          0.24657908043205698,
          -0.255956079869308,
          0.07878204355354528,
          -1.1832024418880038,
          -0.3947053481469931,
          0.015051127698353848,
          -0.9273312434230097,
          -0.5904417385480116,
          -0.8248473181016788,
          -2.553642906404523,
          0.5853809835216754,
          0.07471667146690081,
          0.8078271481497611,
          2.0119568319081234,
          1.7051615445225863,
          0.3690781122530383,
          0.27207568986467,
          0.9429351698391747,
          0.8709196392545411,
          1.8881327097718632,
          -2.277236818278749,
          0.7641282663968877,
          -1.9210586871999982,
          0.6083480372818315,
          -1.7059804718374605,
          1.8390631369000259,
          0.47676559937164253,
          0.7951445119372802,
          0.7363841786006643,
          1.2801801668695012,
          -0.987315530991337,
          -0.7855382455137779,
          -1.5235664056893965,
          -0.8068782421283027,
          0.1899751266947658,
          -0.8176847491115944,
          -0.7588257659066171,
          0.7146591792126702,
          1.1389770375251385,
          -0.49140946806501906,
          0.3885375141880657,
          0.19210286916179659,
          -1.8674308759485234,
          0.2563319473019304,
          1.4141223099861748,
          1.5347206360501597,
          -1.094691314002368,
          -0.060435557199993446,
          0.2992179294797572,
          1.4510015729851962,
          0.38567992079704777,
          -1.8471002701272756,
          -0.2158731199529436,
          -0.3833111312088049,
          -2.0068888309777657,
          -0.548083205199428,
          0.6861555341365956,
          1.199667217838947,
          0.06831398795428081,
          -0.057601596970910905,
          0.3827056101028784,
          0.5691997438450976
         ],
         "y": [
          1.0418607474294792,
          -1.4939672413762932,
          -0.02127901542430224,
          0.33292977024558157,
          1.1407436277450778,
          -0.3015660930492725,
          -0.0752865847187486,
          -1.009791743749023,
          -0.6974105177481036,
          -1.0778447312443185,
          0.21994773983594507,
          -1.2767378096491764,
          -0.4772520284876469,
          -0.13191693638288507,
          -0.8840497936830316,
          0.43491378665196123,
          1.237780885733663,
          -0.7372283644576442,
          -0.11267970353145566,
          -1.637025903877696,
          -0.8643009602442039,
          -1.170864879740225,
          0.8657447067108397,
          -1.3316471625112472,
          0.27930606940491254,
          0.1010548787720902,
          0.7014020947179823,
          0.8115916437019352,
          0.9534863463399055,
          -0.17974376572600015,
          0.15539942126823825,
          0.12563065884091904,
          -0.6983132119953138,
          -0.8557269377205827,
          -1.1114678483065996,
          1.6267980935814845,
          0.10835953580183216,
          -0.724885465855628,
          -0.13014748543449164,
          0.02635813457746775,
          -0.10731405448780107,
          0.9394176236033902,
          0.8852004040890421,
          0.8837667760803889,
          -0.6827153117408953,
          -0.9093724172772358,
          0.5777482827305919,
          0.1320824276129593,
          0.051752566935829254,
          2.2294346148078286,
          -0.3450934390030509,
          0.1620081871920339,
          0.22742137414734556,
          0.53465876620935,
          0.7992154964793429,
          -1.3109197447319967,
          -1.8881307729462076,
          2.130605406350455,
          -0.031583068295145504,
          0.5445342145696391,
          -0.3836665294064964,
          -0.8276744278807356,
          1.5347897785141216,
          -0.10205298921735546,
          -0.9931249156241323,
          0.6784877290695253,
          0.6442290539833533,
          0.22188261861927183,
          0.658824210911803,
          0.4725016736628034,
          -0.5884114772778922,
          -0.868227094420527,
          -1.3615134352744052,
          1.092930344226626,
          -0.13734327442278882,
          -1.3246769110560028,
          -0.6863100288573838,
          0.2900951740060484,
          -0.7262357878917776,
          -1.5393687384063548,
          -0.6345124844359458,
          1.0511810398400365,
          -0.32552486870352804,
          0.46721489635640734,
          1.2701651157118028,
          0.821796041357051,
          -1.3530062245164303,
          -0.6629088380930819,
          0.8386510462005943,
          -0.10769881867698582,
          0.18586510865496922,
          0.0027232401253373915,
          -2.1003147011287964,
          0.19799553908870476,
          0.5799814202834371,
          -1.1775863243324383,
          0.748291680102528,
          0.2145327190535425,
          0.10937980687552407,
          -0.3629526709313861
         ]
        }
       ],
       "layout": {
        "legend": {
         "bgcolor": "#F5F6F9",
         "font": {
          "color": "#4D5663"
         }
        },
        "paper_bgcolor": "#F5F6F9",
        "plot_bgcolor": "#F5F6F9",
        "template": {
         "data": {
          "bar": [
           {
            "error_x": {
             "color": "#2a3f5f"
            },
            "error_y": {
             "color": "#2a3f5f"
            },
            "marker": {
             "line": {
              "color": "#E5ECF6",
              "width": 0.5
             },
             "pattern": {
              "fillmode": "overlay",
              "size": 10,
              "solidity": 0.2
             }
            },
            "type": "bar"
           }
          ],
          "barpolar": [
           {
            "marker": {
             "line": {
              "color": "#E5ECF6",
              "width": 0.5
             },
             "pattern": {
              "fillmode": "overlay",
              "size": 10,
              "solidity": 0.2
             }
            },
            "type": "barpolar"
           }
          ],
          "carpet": [
           {
            "aaxis": {
             "endlinecolor": "#2a3f5f",
             "gridcolor": "white",
             "linecolor": "white",
             "minorgridcolor": "white",
             "startlinecolor": "#2a3f5f"
            },
            "baxis": {
             "endlinecolor": "#2a3f5f",
             "gridcolor": "white",
             "linecolor": "white",
             "minorgridcolor": "white",
             "startlinecolor": "#2a3f5f"
            },
            "type": "carpet"
           }
          ],
          "choropleth": [
           {
            "colorbar": {
             "outlinewidth": 0,
             "ticks": ""
            },
            "type": "choropleth"
           }
          ],
          "contour": [
           {
            "colorbar": {
             "outlinewidth": 0,
             "ticks": ""
            },
            "colorscale": [
             [
              0,
              "#0d0887"
             ],
             [
              0.1111111111111111,
              "#46039f"
             ],
             [
              0.2222222222222222,
              "#7201a8"
             ],
             [
              0.3333333333333333,
              "#9c179e"
             ],
             [
              0.4444444444444444,
              "#bd3786"
             ],
             [
              0.5555555555555556,
              "#d8576b"
             ],
             [
              0.6666666666666666,
              "#ed7953"
             ],
             [
              0.7777777777777778,
              "#fb9f3a"
             ],
             [
              0.8888888888888888,
              "#fdca26"
             ],
             [
              1,
              "#f0f921"
             ]
            ],
            "type": "contour"
           }
          ],
          "contourcarpet": [
           {
            "colorbar": {
             "outlinewidth": 0,
             "ticks": ""
            },
            "type": "contourcarpet"
           }
          ],
          "heatmap": [
           {
            "colorbar": {
             "outlinewidth": 0,
             "ticks": ""
            },
            "colorscale": [
             [
              0,
              "#0d0887"
             ],
             [
              0.1111111111111111,
              "#46039f"
             ],
             [
              0.2222222222222222,
              "#7201a8"
             ],
             [
              0.3333333333333333,
              "#9c179e"
             ],
             [
              0.4444444444444444,
              "#bd3786"
             ],
             [
              0.5555555555555556,
              "#d8576b"
             ],
             [
              0.6666666666666666,
              "#ed7953"
             ],
             [
              0.7777777777777778,
              "#fb9f3a"
             ],
             [
              0.8888888888888888,
              "#fdca26"
             ],
             [
              1,
              "#f0f921"
             ]
            ],
            "type": "heatmap"
           }
          ],
          "heatmapgl": [
           {
            "colorbar": {
             "outlinewidth": 0,
             "ticks": ""
            },
            "colorscale": [
             [
              0,
              "#0d0887"
             ],
             [
              0.1111111111111111,
              "#46039f"
             ],
             [
              0.2222222222222222,
              "#7201a8"
             ],
             [
              0.3333333333333333,
              "#9c179e"
             ],
             [
              0.4444444444444444,
              "#bd3786"
             ],
             [
              0.5555555555555556,
              "#d8576b"
             ],
             [
              0.6666666666666666,
              "#ed7953"
             ],
             [
              0.7777777777777778,
              "#fb9f3a"
             ],
             [
              0.8888888888888888,
              "#fdca26"
             ],
             [
              1,
              "#f0f921"
             ]
            ],
            "type": "heatmapgl"
           }
          ],
          "histogram": [
           {
            "marker": {
             "pattern": {
              "fillmode": "overlay",
              "size": 10,
              "solidity": 0.2
             }
            },
            "type": "histogram"
           }
          ],
          "histogram2d": [
           {
            "colorbar": {
             "outlinewidth": 0,
             "ticks": ""
            },
            "colorscale": [
             [
              0,
              "#0d0887"
             ],
             [
              0.1111111111111111,
              "#46039f"
             ],
             [
              0.2222222222222222,
              "#7201a8"
             ],
             [
              0.3333333333333333,
              "#9c179e"
             ],
             [
              0.4444444444444444,
              "#bd3786"
             ],
             [
              0.5555555555555556,
              "#d8576b"
             ],
             [
              0.6666666666666666,
              "#ed7953"
             ],
             [
              0.7777777777777778,
              "#fb9f3a"
             ],
             [
              0.8888888888888888,
              "#fdca26"
             ],
             [
              1,
              "#f0f921"
             ]
            ],
            "type": "histogram2d"
           }
          ],
          "histogram2dcontour": [
           {
            "colorbar": {
             "outlinewidth": 0,
             "ticks": ""
            },
            "colorscale": [
             [
              0,
              "#0d0887"
             ],
             [
              0.1111111111111111,
              "#46039f"
             ],
             [
              0.2222222222222222,
              "#7201a8"
             ],
             [
              0.3333333333333333,
              "#9c179e"
             ],
             [
              0.4444444444444444,
              "#bd3786"
             ],
             [
              0.5555555555555556,
              "#d8576b"
             ],
             [
              0.6666666666666666,
              "#ed7953"
             ],
             [
              0.7777777777777778,
              "#fb9f3a"
             ],
             [
              0.8888888888888888,
              "#fdca26"
             ],
             [
              1,
              "#f0f921"
             ]
            ],
            "type": "histogram2dcontour"
           }
          ],
          "mesh3d": [
           {
            "colorbar": {
             "outlinewidth": 0,
             "ticks": ""
            },
            "type": "mesh3d"
           }
          ],
          "parcoords": [
           {
            "line": {
             "colorbar": {
              "outlinewidth": 0,
              "ticks": ""
             }
            },
            "type": "parcoords"
           }
          ],
          "pie": [
           {
            "automargin": true,
            "type": "pie"
           }
          ],
          "scatter": [
           {
            "fillpattern": {
             "fillmode": "overlay",
             "size": 10,
             "solidity": 0.2
            },
            "type": "scatter"
           }
          ],
          "scatter3d": [
           {
            "line": {
             "colorbar": {
              "outlinewidth": 0,
              "ticks": ""
             }
            },
            "marker": {
             "colorbar": {
              "outlinewidth": 0,
              "ticks": ""
             }
            },
            "type": "scatter3d"
           }
          ],
          "scattercarpet": [
           {
            "marker": {
             "colorbar": {
              "outlinewidth": 0,
              "ticks": ""
             }
            },
            "type": "scattercarpet"
           }
          ],
          "scattergeo": [
           {
            "marker": {
             "colorbar": {
              "outlinewidth": 0,
              "ticks": ""
             }
            },
            "type": "scattergeo"
           }
          ],
          "scattergl": [
           {
            "marker": {
             "colorbar": {
              "outlinewidth": 0,
              "ticks": ""
             }
            },
            "type": "scattergl"
           }
          ],
          "scattermapbox": [
           {
            "marker": {
             "colorbar": {
              "outlinewidth": 0,
              "ticks": ""
             }
            },
            "type": "scattermapbox"
           }
          ],
          "scatterpolar": [
           {
            "marker": {
             "colorbar": {
              "outlinewidth": 0,
              "ticks": ""
             }
            },
            "type": "scatterpolar"
           }
          ],
          "scatterpolargl": [
           {
            "marker": {
             "colorbar": {
              "outlinewidth": 0,
              "ticks": ""
             }
            },
            "type": "scatterpolargl"
           }
          ],
          "scatterternary": [
           {
            "marker": {
             "colorbar": {
              "outlinewidth": 0,
              "ticks": ""
             }
            },
            "type": "scatterternary"
           }
          ],
          "surface": [
           {
            "colorbar": {
             "outlinewidth": 0,
             "ticks": ""
            },
            "colorscale": [
             [
              0,
              "#0d0887"
             ],
             [
              0.1111111111111111,
              "#46039f"
             ],
             [
              0.2222222222222222,
              "#7201a8"
             ],
             [
              0.3333333333333333,
              "#9c179e"
             ],
             [
              0.4444444444444444,
              "#bd3786"
             ],
             [
              0.5555555555555556,
              "#d8576b"
             ],
             [
              0.6666666666666666,
              "#ed7953"
             ],
             [
              0.7777777777777778,
              "#fb9f3a"
             ],
             [
              0.8888888888888888,
              "#fdca26"
             ],
             [
              1,
              "#f0f921"
             ]
            ],
            "type": "surface"
           }
          ],
          "table": [
           {
            "cells": {
             "fill": {
              "color": "#EBF0F8"
             },
             "line": {
              "color": "white"
             }
            },
            "header": {
             "fill": {
              "color": "#C8D4E3"
             },
             "line": {
              "color": "white"
             }
            },
            "type": "table"
           }
          ]
         },
         "layout": {
          "annotationdefaults": {
           "arrowcolor": "#2a3f5f",
           "arrowhead": 0,
           "arrowwidth": 1
          },
          "autotypenumbers": "strict",
          "coloraxis": {
           "colorbar": {
            "outlinewidth": 0,
            "ticks": ""
           }
          },
          "colorscale": {
           "diverging": [
            [
             0,
             "#8e0152"
            ],
            [
             0.1,
             "#c51b7d"
            ],
            [
             0.2,
             "#de77ae"
            ],
            [
             0.3,
             "#f1b6da"
            ],
            [
             0.4,
             "#fde0ef"
            ],
            [
             0.5,
             "#f7f7f7"
            ],
            [
             0.6,
             "#e6f5d0"
            ],
            [
             0.7,
             "#b8e186"
            ],
            [
             0.8,
             "#7fbc41"
            ],
            [
             0.9,
             "#4d9221"
            ],
            [
             1,
             "#276419"
            ]
           ],
           "sequential": [
            [
             0,
             "#0d0887"
            ],
            [
             0.1111111111111111,
             "#46039f"
            ],
            [
             0.2222222222222222,
             "#7201a8"
            ],
            [
             0.3333333333333333,
             "#9c179e"
            ],
            [
             0.4444444444444444,
             "#bd3786"
            ],
            [
             0.5555555555555556,
             "#d8576b"
            ],
            [
             0.6666666666666666,
             "#ed7953"
            ],
            [
             0.7777777777777778,
             "#fb9f3a"
            ],
            [
             0.8888888888888888,
             "#fdca26"
            ],
            [
             1,
             "#f0f921"
            ]
           ],
           "sequentialminus": [
            [
             0,
             "#0d0887"
            ],
            [
             0.1111111111111111,
             "#46039f"
            ],
            [
             0.2222222222222222,
             "#7201a8"
            ],
            [
             0.3333333333333333,
             "#9c179e"
            ],
            [
             0.4444444444444444,
             "#bd3786"
            ],
            [
             0.5555555555555556,
             "#d8576b"
            ],
            [
             0.6666666666666666,
             "#ed7953"
            ],
            [
             0.7777777777777778,
             "#fb9f3a"
            ],
            [
             0.8888888888888888,
             "#fdca26"
            ],
            [
             1,
             "#f0f921"
            ]
           ]
          },
          "colorway": [
           "#636efa",
           "#EF553B",
           "#00cc96",
           "#ab63fa",
           "#FFA15A",
           "#19d3f3",
           "#FF6692",
           "#B6E880",
           "#FF97FF",
           "#FECB52"
          ],
          "font": {
           "color": "#2a3f5f"
          },
          "geo": {
           "bgcolor": "white",
           "lakecolor": "white",
           "landcolor": "#E5ECF6",
           "showlakes": true,
           "showland": true,
           "subunitcolor": "white"
          },
          "hoverlabel": {
           "align": "left"
          },
          "hovermode": "closest",
          "mapbox": {
           "style": "light"
          },
          "paper_bgcolor": "white",
          "plot_bgcolor": "#E5ECF6",
          "polar": {
           "angularaxis": {
            "gridcolor": "white",
            "linecolor": "white",
            "ticks": ""
           },
           "bgcolor": "#E5ECF6",
           "radialaxis": {
            "gridcolor": "white",
            "linecolor": "white",
            "ticks": ""
           }
          },
          "scene": {
           "xaxis": {
            "backgroundcolor": "#E5ECF6",
            "gridcolor": "white",
            "gridwidth": 2,
            "linecolor": "white",
            "showbackground": true,
            "ticks": "",
            "zerolinecolor": "white"
           },
           "yaxis": {
            "backgroundcolor": "#E5ECF6",
            "gridcolor": "white",
            "gridwidth": 2,
            "linecolor": "white",
            "showbackground": true,
            "ticks": "",
            "zerolinecolor": "white"
           },
           "zaxis": {
            "backgroundcolor": "#E5ECF6",
            "gridcolor": "white",
            "gridwidth": 2,
            "linecolor": "white",
            "showbackground": true,
            "ticks": "",
            "zerolinecolor": "white"
           }
          },
          "shapedefaults": {
           "line": {
            "color": "#2a3f5f"
           }
          },
          "ternary": {
           "aaxis": {
            "gridcolor": "white",
            "linecolor": "white",
            "ticks": ""
           },
           "baxis": {
            "gridcolor": "white",
            "linecolor": "white",
            "ticks": ""
           },
           "bgcolor": "#E5ECF6",
           "caxis": {
            "gridcolor": "white",
            "linecolor": "white",
            "ticks": ""
           }
          },
          "title": {
           "x": 0.05
          },
          "xaxis": {
           "automargin": true,
           "gridcolor": "white",
           "linecolor": "white",
           "ticks": "",
           "title": {
            "standoff": 15
           },
           "zerolinecolor": "white",
           "zerolinewidth": 2
          },
          "yaxis": {
           "automargin": true,
           "gridcolor": "white",
           "linecolor": "white",
           "ticks": "",
           "title": {
            "standoff": 15
           },
           "zerolinecolor": "white",
           "zerolinewidth": 2
          }
         }
        },
        "title": {
         "font": {
          "color": "#4D5663"
         }
        },
        "xaxis": {
         "gridcolor": "#E1E5ED",
         "showgrid": true,
         "tickfont": {
          "color": "#4D5663"
         },
         "title": {
          "font": {
           "color": "#4D5663"
          },
          "text": ""
         },
         "zerolinecolor": "#E1E5ED"
        },
        "yaxis": {
         "gridcolor": "#E1E5ED",
         "showgrid": true,
         "tickfont": {
          "color": "#4D5663"
         },
         "title": {
          "font": {
           "color": "#4D5663"
          },
          "text": ""
         },
         "zerolinecolor": "#E1E5ED"
        }
       }
      },
      "text/html": [
       "<div>                            <div id=\"0e3c9a12-f21a-43c5-b9c1-33cc860be977\" class=\"plotly-graph-div\" style=\"height:525px; width:100%;\"></div>            <script type=\"text/javascript\">                require([\"plotly\"], function(Plotly) {                    window.PLOTLYENV=window.PLOTLYENV || {};\n",
       "                    window.PLOTLYENV.BASE_URL='https://plot.ly';                                    if (document.getElementById(\"0e3c9a12-f21a-43c5-b9c1-33cc860be977\")) {                    Plotly.newPlot(                        \"0e3c9a12-f21a-43c5-b9c1-33cc860be977\",                        [{\"marker\":{\"color\":[\"rgb(255, 153, 51)\",\"rgb(55, 128, 191)\",\"rgb(50, 171, 96)\",\"rgb(128, 0, 128)\",\"rgb(219, 64, 82)\",\"rgb(0, 128, 128)\",\"rgb(255, 255, 51)\",\"rgb(128, 128, 0)\",\"rgb(251, 128, 114)\",\"rgb(128, 177, 211)\"],\"line\":{\"width\":1.3},\"size\":[86,68,37,54,49,68,22,37,50,59,12,44,94,57,61,85,40,68,50,31,62,39,29,76,62,67,48,69,22,76,57,13,73,46,33,53,54,50,51,57,68,43,55,74,54,41,64,15,35,42,38,66,42,39,41,62,57,71,75,54,32,83,52,33,54,49,95,56,56,80,68,52,25,41,50,32,42,75,25,70,66,54,67,29,59,87,12,70,83,40,55,64,73,41,83,48,71,111,45,55],\"symbol\":\"circle\"},\"mode\":\"markers\",\"text\":\"\",\"x\":[0.963656208822238,1.1213805704854953,0.08117322059561863,0.9067501670920386,1.28908725845038,-0.8484788632427857,-0.8009485265222287,-0.13954698878550142,-0.4209938328140542,0.2837355152610227,-0.21272756966893616,1.7570408279670209,0.3550122841604106,1.30974406905139,0.2232155423907447,0.20225806270488592,0.4297931309428796,0.2710898356704665,1.2673150001525066,-0.28317420340831106,0.20613001876357961,0.4635201733939552,0.5460897413984124,0.12438837142487577,-0.3311450835685355,0.43842530680477404,1.0684047789837727,-0.6243736534857598,-1.1906662032404274,1.4656058483881402,0.16715588520722816,0.48360128610027264,1.0718721211795463,-0.24068377304579952,-0.8837940178049627,0.28414594957742983,0.18636052031088884,1.0554728665925521,0.24657908043205698,-0.255956079869308,0.07878204355354528,-1.1832024418880038,-0.3947053481469931,0.015051127698353848,-0.9273312434230097,-0.5904417385480116,-0.8248473181016788,-2.553642906404523,0.5853809835216754,0.07471667146690081,0.8078271481497611,2.0119568319081234,1.7051615445225863,0.3690781122530383,0.27207568986467,0.9429351698391747,0.8709196392545411,1.8881327097718632,-2.277236818278749,0.7641282663968877,-1.9210586871999982,0.6083480372818315,-1.7059804718374605,1.8390631369000259,0.47676559937164253,0.7951445119372802,0.7363841786006643,1.2801801668695012,-0.987315530991337,-0.7855382455137779,-1.5235664056893965,-0.8068782421283027,0.1899751266947658,-0.8176847491115944,-0.7588257659066171,0.7146591792126702,1.1389770375251385,-0.49140946806501906,0.3885375141880657,0.19210286916179659,-1.8674308759485234,0.2563319473019304,1.4141223099861748,1.5347206360501597,-1.094691314002368,-0.060435557199993446,0.2992179294797572,1.4510015729851962,0.38567992079704777,-1.8471002701272756,-0.2158731199529436,-0.3833111312088049,-2.0068888309777657,-0.548083205199428,0.6861555341365956,1.199667217838947,0.06831398795428081,-0.057601596970910905,0.3827056101028784,0.5691997438450976],\"y\":[1.0418607474294792,-1.4939672413762932,-0.02127901542430224,0.33292977024558157,1.1407436277450778,-0.3015660930492725,-0.0752865847187486,-1.009791743749023,-0.6974105177481036,-1.0778447312443185,0.21994773983594507,-1.2767378096491764,-0.4772520284876469,-0.13191693638288507,-0.8840497936830316,0.43491378665196123,1.237780885733663,-0.7372283644576442,-0.11267970353145566,-1.637025903877696,-0.8643009602442039,-1.170864879740225,0.8657447067108397,-1.3316471625112472,0.27930606940491254,0.1010548787720902,0.7014020947179823,0.8115916437019352,0.9534863463399055,-0.17974376572600015,0.15539942126823825,0.12563065884091904,-0.6983132119953138,-0.8557269377205827,-1.1114678483065996,1.6267980935814845,0.10835953580183216,-0.724885465855628,-0.13014748543449164,0.02635813457746775,-0.10731405448780107,0.9394176236033902,0.8852004040890421,0.8837667760803889,-0.6827153117408953,-0.9093724172772358,0.5777482827305919,0.1320824276129593,0.051752566935829254,2.2294346148078286,-0.3450934390030509,0.1620081871920339,0.22742137414734556,0.53465876620935,0.7992154964793429,-1.3109197447319967,-1.8881307729462076,2.130605406350455,-0.031583068295145504,0.5445342145696391,-0.3836665294064964,-0.8276744278807356,1.5347897785141216,-0.10205298921735546,-0.9931249156241323,0.6784877290695253,0.6442290539833533,0.22188261861927183,0.658824210911803,0.4725016736628034,-0.5884114772778922,-0.868227094420527,-1.3615134352744052,1.092930344226626,-0.13734327442278882,-1.3246769110560028,-0.6863100288573838,0.2900951740060484,-0.7262357878917776,-1.5393687384063548,-0.6345124844359458,1.0511810398400365,-0.32552486870352804,0.46721489635640734,1.2701651157118028,0.821796041357051,-1.3530062245164303,-0.6629088380930819,0.8386510462005943,-0.10769881867698582,0.18586510865496922,0.0027232401253373915,-2.1003147011287964,0.19799553908870476,0.5799814202834371,-1.1775863243324383,0.748291680102528,0.2145327190535425,0.10937980687552407,-0.3629526709313861],\"type\":\"scatter\"}],                        {\"legend\":{\"bgcolor\":\"#F5F6F9\",\"font\":{\"color\":\"#4D5663\"}},\"paper_bgcolor\":\"#F5F6F9\",\"plot_bgcolor\":\"#F5F6F9\",\"template\":{\"data\":{\"barpolar\":[{\"marker\":{\"line\":{\"color\":\"#E5ECF6\",\"width\":0.5},\"pattern\":{\"fillmode\":\"overlay\",\"size\":10,\"solidity\":0.2}},\"type\":\"barpolar\"}],\"bar\":[{\"error_x\":{\"color\":\"#2a3f5f\"},\"error_y\":{\"color\":\"#2a3f5f\"},\"marker\":{\"line\":{\"color\":\"#E5ECF6\",\"width\":0.5},\"pattern\":{\"fillmode\":\"overlay\",\"size\":10,\"solidity\":0.2}},\"type\":\"bar\"}],\"carpet\":[{\"aaxis\":{\"endlinecolor\":\"#2a3f5f\",\"gridcolor\":\"white\",\"linecolor\":\"white\",\"minorgridcolor\":\"white\",\"startlinecolor\":\"#2a3f5f\"},\"baxis\":{\"endlinecolor\":\"#2a3f5f\",\"gridcolor\":\"white\",\"linecolor\":\"white\",\"minorgridcolor\":\"white\",\"startlinecolor\":\"#2a3f5f\"},\"type\":\"carpet\"}],\"choropleth\":[{\"colorbar\":{\"outlinewidth\":0,\"ticks\":\"\"},\"type\":\"choropleth\"}],\"contourcarpet\":[{\"colorbar\":{\"outlinewidth\":0,\"ticks\":\"\"},\"type\":\"contourcarpet\"}],\"contour\":[{\"colorbar\":{\"outlinewidth\":0,\"ticks\":\"\"},\"colorscale\":[[0.0,\"#0d0887\"],[0.1111111111111111,\"#46039f\"],[0.2222222222222222,\"#7201a8\"],[0.3333333333333333,\"#9c179e\"],[0.4444444444444444,\"#bd3786\"],[0.5555555555555556,\"#d8576b\"],[0.6666666666666666,\"#ed7953\"],[0.7777777777777778,\"#fb9f3a\"],[0.8888888888888888,\"#fdca26\"],[1.0,\"#f0f921\"]],\"type\":\"contour\"}],\"heatmapgl\":[{\"colorbar\":{\"outlinewidth\":0,\"ticks\":\"\"},\"colorscale\":[[0.0,\"#0d0887\"],[0.1111111111111111,\"#46039f\"],[0.2222222222222222,\"#7201a8\"],[0.3333333333333333,\"#9c179e\"],[0.4444444444444444,\"#bd3786\"],[0.5555555555555556,\"#d8576b\"],[0.6666666666666666,\"#ed7953\"],[0.7777777777777778,\"#fb9f3a\"],[0.8888888888888888,\"#fdca26\"],[1.0,\"#f0f921\"]],\"type\":\"heatmapgl\"}],\"heatmap\":[{\"colorbar\":{\"outlinewidth\":0,\"ticks\":\"\"},\"colorscale\":[[0.0,\"#0d0887\"],[0.1111111111111111,\"#46039f\"],[0.2222222222222222,\"#7201a8\"],[0.3333333333333333,\"#9c179e\"],[0.4444444444444444,\"#bd3786\"],[0.5555555555555556,\"#d8576b\"],[0.6666666666666666,\"#ed7953\"],[0.7777777777777778,\"#fb9f3a\"],[0.8888888888888888,\"#fdca26\"],[1.0,\"#f0f921\"]],\"type\":\"heatmap\"}],\"histogram2dcontour\":[{\"colorbar\":{\"outlinewidth\":0,\"ticks\":\"\"},\"colorscale\":[[0.0,\"#0d0887\"],[0.1111111111111111,\"#46039f\"],[0.2222222222222222,\"#7201a8\"],[0.3333333333333333,\"#9c179e\"],[0.4444444444444444,\"#bd3786\"],[0.5555555555555556,\"#d8576b\"],[0.6666666666666666,\"#ed7953\"],[0.7777777777777778,\"#fb9f3a\"],[0.8888888888888888,\"#fdca26\"],[1.0,\"#f0f921\"]],\"type\":\"histogram2dcontour\"}],\"histogram2d\":[{\"colorbar\":{\"outlinewidth\":0,\"ticks\":\"\"},\"colorscale\":[[0.0,\"#0d0887\"],[0.1111111111111111,\"#46039f\"],[0.2222222222222222,\"#7201a8\"],[0.3333333333333333,\"#9c179e\"],[0.4444444444444444,\"#bd3786\"],[0.5555555555555556,\"#d8576b\"],[0.6666666666666666,\"#ed7953\"],[0.7777777777777778,\"#fb9f3a\"],[0.8888888888888888,\"#fdca26\"],[1.0,\"#f0f921\"]],\"type\":\"histogram2d\"}],\"histogram\":[{\"marker\":{\"pattern\":{\"fillmode\":\"overlay\",\"size\":10,\"solidity\":0.2}},\"type\":\"histogram\"}],\"mesh3d\":[{\"colorbar\":{\"outlinewidth\":0,\"ticks\":\"\"},\"type\":\"mesh3d\"}],\"parcoords\":[{\"line\":{\"colorbar\":{\"outlinewidth\":0,\"ticks\":\"\"}},\"type\":\"parcoords\"}],\"pie\":[{\"automargin\":true,\"type\":\"pie\"}],\"scatter3d\":[{\"line\":{\"colorbar\":{\"outlinewidth\":0,\"ticks\":\"\"}},\"marker\":{\"colorbar\":{\"outlinewidth\":0,\"ticks\":\"\"}},\"type\":\"scatter3d\"}],\"scattercarpet\":[{\"marker\":{\"colorbar\":{\"outlinewidth\":0,\"ticks\":\"\"}},\"type\":\"scattercarpet\"}],\"scattergeo\":[{\"marker\":{\"colorbar\":{\"outlinewidth\":0,\"ticks\":\"\"}},\"type\":\"scattergeo\"}],\"scattergl\":[{\"marker\":{\"colorbar\":{\"outlinewidth\":0,\"ticks\":\"\"}},\"type\":\"scattergl\"}],\"scattermapbox\":[{\"marker\":{\"colorbar\":{\"outlinewidth\":0,\"ticks\":\"\"}},\"type\":\"scattermapbox\"}],\"scatterpolargl\":[{\"marker\":{\"colorbar\":{\"outlinewidth\":0,\"ticks\":\"\"}},\"type\":\"scatterpolargl\"}],\"scatterpolar\":[{\"marker\":{\"colorbar\":{\"outlinewidth\":0,\"ticks\":\"\"}},\"type\":\"scatterpolar\"}],\"scatter\":[{\"fillpattern\":{\"fillmode\":\"overlay\",\"size\":10,\"solidity\":0.2},\"type\":\"scatter\"}],\"scatterternary\":[{\"marker\":{\"colorbar\":{\"outlinewidth\":0,\"ticks\":\"\"}},\"type\":\"scatterternary\"}],\"surface\":[{\"colorbar\":{\"outlinewidth\":0,\"ticks\":\"\"},\"colorscale\":[[0.0,\"#0d0887\"],[0.1111111111111111,\"#46039f\"],[0.2222222222222222,\"#7201a8\"],[0.3333333333333333,\"#9c179e\"],[0.4444444444444444,\"#bd3786\"],[0.5555555555555556,\"#d8576b\"],[0.6666666666666666,\"#ed7953\"],[0.7777777777777778,\"#fb9f3a\"],[0.8888888888888888,\"#fdca26\"],[1.0,\"#f0f921\"]],\"type\":\"surface\"}],\"table\":[{\"cells\":{\"fill\":{\"color\":\"#EBF0F8\"},\"line\":{\"color\":\"white\"}},\"header\":{\"fill\":{\"color\":\"#C8D4E3\"},\"line\":{\"color\":\"white\"}},\"type\":\"table\"}]},\"layout\":{\"annotationdefaults\":{\"arrowcolor\":\"#2a3f5f\",\"arrowhead\":0,\"arrowwidth\":1},\"autotypenumbers\":\"strict\",\"coloraxis\":{\"colorbar\":{\"outlinewidth\":0,\"ticks\":\"\"}},\"colorscale\":{\"diverging\":[[0,\"#8e0152\"],[0.1,\"#c51b7d\"],[0.2,\"#de77ae\"],[0.3,\"#f1b6da\"],[0.4,\"#fde0ef\"],[0.5,\"#f7f7f7\"],[0.6,\"#e6f5d0\"],[0.7,\"#b8e186\"],[0.8,\"#7fbc41\"],[0.9,\"#4d9221\"],[1,\"#276419\"]],\"sequential\":[[0.0,\"#0d0887\"],[0.1111111111111111,\"#46039f\"],[0.2222222222222222,\"#7201a8\"],[0.3333333333333333,\"#9c179e\"],[0.4444444444444444,\"#bd3786\"],[0.5555555555555556,\"#d8576b\"],[0.6666666666666666,\"#ed7953\"],[0.7777777777777778,\"#fb9f3a\"],[0.8888888888888888,\"#fdca26\"],[1.0,\"#f0f921\"]],\"sequentialminus\":[[0.0,\"#0d0887\"],[0.1111111111111111,\"#46039f\"],[0.2222222222222222,\"#7201a8\"],[0.3333333333333333,\"#9c179e\"],[0.4444444444444444,\"#bd3786\"],[0.5555555555555556,\"#d8576b\"],[0.6666666666666666,\"#ed7953\"],[0.7777777777777778,\"#fb9f3a\"],[0.8888888888888888,\"#fdca26\"],[1.0,\"#f0f921\"]]},\"colorway\":[\"#636efa\",\"#EF553B\",\"#00cc96\",\"#ab63fa\",\"#FFA15A\",\"#19d3f3\",\"#FF6692\",\"#B6E880\",\"#FF97FF\",\"#FECB52\"],\"font\":{\"color\":\"#2a3f5f\"},\"geo\":{\"bgcolor\":\"white\",\"lakecolor\":\"white\",\"landcolor\":\"#E5ECF6\",\"showlakes\":true,\"showland\":true,\"subunitcolor\":\"white\"},\"hoverlabel\":{\"align\":\"left\"},\"hovermode\":\"closest\",\"mapbox\":{\"style\":\"light\"},\"paper_bgcolor\":\"white\",\"plot_bgcolor\":\"#E5ECF6\",\"polar\":{\"angularaxis\":{\"gridcolor\":\"white\",\"linecolor\":\"white\",\"ticks\":\"\"},\"bgcolor\":\"#E5ECF6\",\"radialaxis\":{\"gridcolor\":\"white\",\"linecolor\":\"white\",\"ticks\":\"\"}},\"scene\":{\"xaxis\":{\"backgroundcolor\":\"#E5ECF6\",\"gridcolor\":\"white\",\"gridwidth\":2,\"linecolor\":\"white\",\"showbackground\":true,\"ticks\":\"\",\"zerolinecolor\":\"white\"},\"yaxis\":{\"backgroundcolor\":\"#E5ECF6\",\"gridcolor\":\"white\",\"gridwidth\":2,\"linecolor\":\"white\",\"showbackground\":true,\"ticks\":\"\",\"zerolinecolor\":\"white\"},\"zaxis\":{\"backgroundcolor\":\"#E5ECF6\",\"gridcolor\":\"white\",\"gridwidth\":2,\"linecolor\":\"white\",\"showbackground\":true,\"ticks\":\"\",\"zerolinecolor\":\"white\"}},\"shapedefaults\":{\"line\":{\"color\":\"#2a3f5f\"}},\"ternary\":{\"aaxis\":{\"gridcolor\":\"white\",\"linecolor\":\"white\",\"ticks\":\"\"},\"baxis\":{\"gridcolor\":\"white\",\"linecolor\":\"white\",\"ticks\":\"\"},\"bgcolor\":\"#E5ECF6\",\"caxis\":{\"gridcolor\":\"white\",\"linecolor\":\"white\",\"ticks\":\"\"}},\"title\":{\"x\":0.05},\"xaxis\":{\"automargin\":true,\"gridcolor\":\"white\",\"linecolor\":\"white\",\"ticks\":\"\",\"title\":{\"standoff\":15},\"zerolinecolor\":\"white\",\"zerolinewidth\":2},\"yaxis\":{\"automargin\":true,\"gridcolor\":\"white\",\"linecolor\":\"white\",\"ticks\":\"\",\"title\":{\"standoff\":15},\"zerolinecolor\":\"white\",\"zerolinewidth\":2}}},\"title\":{\"font\":{\"color\":\"#4D5663\"}},\"xaxis\":{\"gridcolor\":\"#E1E5ED\",\"showgrid\":true,\"tickfont\":{\"color\":\"#4D5663\"},\"title\":{\"font\":{\"color\":\"#4D5663\"},\"text\":\"\"},\"zerolinecolor\":\"#E1E5ED\"},\"yaxis\":{\"gridcolor\":\"#E1E5ED\",\"showgrid\":true,\"tickfont\":{\"color\":\"#4D5663\"},\"title\":{\"font\":{\"color\":\"#4D5663\"},\"text\":\"\"},\"zerolinecolor\":\"#E1E5ED\"}},                        {\"showLink\": true, \"linkText\": \"Export to plot.ly\", \"plotlyServerURL\": \"https://plot.ly\", \"responsive\": true}                    ).then(function(){\n",
       "                            \n",
       "var gd = document.getElementById('0e3c9a12-f21a-43c5-b9c1-33cc860be977');\n",
       "var x = new MutationObserver(function (mutations, observer) {{\n",
       "        var display = window.getComputedStyle(gd).display;\n",
       "        if (!display || display === 'none') {{\n",
       "            console.log([gd, 'removed!']);\n",
       "            Plotly.purge(gd);\n",
       "            observer.disconnect();\n",
       "        }}\n",
       "}});\n",
       "\n",
       "// Listen for the removal of the full notebook cells\n",
       "var notebookContainer = gd.closest('#notebook-container');\n",
       "if (notebookContainer) {{\n",
       "    x.observe(notebookContainer, {childList: true});\n",
       "}}\n",
       "\n",
       "// Listen for the clearing of the current output cell\n",
       "var outputEl = gd.closest('.output');\n",
       "if (outputEl) {{\n",
       "    x.observe(outputEl, {childList: true});\n",
       "}}\n",
       "\n",
       "                        })                };                });            </script>        </div>"
      ]
     },
     "metadata": {},
     "output_type": "display_data"
    }
   ],
   "source": [
    "df.iplot(kind='bubble', x = 'A', y = 'B', size = 'C')"
   ]
  },
  {
   "cell_type": "code",
   "execution_count": 56,
   "id": "df8d1051",
   "metadata": {},
   "outputs": [
    {
     "data": {
      "application/vnd.plotly.v1+json": {
       "config": {
        "linkText": "Export to plot.ly",
        "plotlyServerURL": "https://plot.ly",
        "showLink": true
       },
       "data": [
        {
         "histfunc": "count",
         "histnorm": "",
         "marker": {
          "color": "rgba(255, 153, 51, 1.0)",
          "line": {
           "color": "#4D5663",
           "width": 1.3
          }
         },
         "name": "A",
         "nbinsx": 10,
         "opacity": 0.8,
         "orientation": "v",
         "type": "histogram",
         "x": [
          0.963656208822238,
          1.1213805704854953,
          0.08117322059561863,
          0.9067501670920386,
          1.28908725845038,
          -0.8484788632427857,
          -0.8009485265222287,
          -0.13954698878550142,
          -0.4209938328140542,
          0.2837355152610227,
          -0.21272756966893616,
          1.7570408279670209,
          0.3550122841604106,
          1.30974406905139,
          0.2232155423907447,
          0.20225806270488592,
          0.4297931309428796,
          0.2710898356704665,
          1.2673150001525066,
          -0.28317420340831106,
          0.20613001876357961,
          0.4635201733939552,
          0.5460897413984124,
          0.12438837142487577,
          -0.3311450835685355,
          0.43842530680477404,
          1.0684047789837727,
          -0.6243736534857598,
          -1.1906662032404274,
          1.4656058483881402,
          0.16715588520722816,
          0.48360128610027264,
          1.0718721211795463,
          -0.24068377304579952,
          -0.8837940178049627,
          0.28414594957742983,
          0.18636052031088884,
          1.0554728665925521,
          0.24657908043205698,
          -0.255956079869308,
          0.07878204355354528,
          -1.1832024418880038,
          -0.3947053481469931,
          0.015051127698353848,
          -0.9273312434230097,
          -0.5904417385480116,
          -0.8248473181016788,
          -2.553642906404523,
          0.5853809835216754,
          0.07471667146690081,
          0.8078271481497611,
          2.0119568319081234,
          1.7051615445225863,
          0.3690781122530383,
          0.27207568986467,
          0.9429351698391747,
          0.8709196392545411,
          1.8881327097718632,
          -2.277236818278749,
          0.7641282663968877,
          -1.9210586871999982,
          0.6083480372818315,
          -1.7059804718374605,
          1.8390631369000259,
          0.47676559937164253,
          0.7951445119372802,
          0.7363841786006643,
          1.2801801668695012,
          -0.987315530991337,
          -0.7855382455137779,
          -1.5235664056893965,
          -0.8068782421283027,
          0.1899751266947658,
          -0.8176847491115944,
          -0.7588257659066171,
          0.7146591792126702,
          1.1389770375251385,
          -0.49140946806501906,
          0.3885375141880657,
          0.19210286916179659,
          -1.8674308759485234,
          0.2563319473019304,
          1.4141223099861748,
          1.5347206360501597,
          -1.094691314002368,
          -0.060435557199993446,
          0.2992179294797572,
          1.4510015729851962,
          0.38567992079704777,
          -1.8471002701272756,
          -0.2158731199529436,
          -0.3833111312088049,
          -2.0068888309777657,
          -0.548083205199428,
          0.6861555341365956,
          1.199667217838947,
          0.06831398795428081,
          -0.057601596970910905,
          0.3827056101028784,
          0.5691997438450976
         ],
         "xaxis": "x",
         "yaxis": "y"
        },
        {
         "line": {
          "color": "rgba(128, 128, 128, 1.0)",
          "dash": "solid",
          "shape": "linear",
          "width": 1.3
         },
         "marker": {
          "size": 2,
          "symbol": "circle"
         },
         "mode": "markers",
         "name": "A",
         "text": "",
         "type": "scatter",
         "x": [
          1.0418607474294792,
          -1.4939672413762932,
          -0.02127901542430224,
          0.33292977024558157,
          1.1407436277450778,
          -0.3015660930492725,
          -0.0752865847187486,
          -1.009791743749023,
          -0.6974105177481036,
          -1.0778447312443185,
          0.21994773983594507,
          -1.2767378096491764,
          -0.4772520284876469,
          -0.13191693638288507,
          -0.8840497936830316,
          0.43491378665196123,
          1.237780885733663,
          -0.7372283644576442,
          -0.11267970353145566,
          -1.637025903877696,
          -0.8643009602442039,
          -1.170864879740225,
          0.8657447067108397,
          -1.3316471625112472,
          0.27930606940491254,
          0.1010548787720902,
          0.7014020947179823,
          0.8115916437019352,
          0.9534863463399055,
          -0.17974376572600015,
          0.15539942126823825,
          0.12563065884091904,
          -0.6983132119953138,
          -0.8557269377205827,
          -1.1114678483065996,
          1.6267980935814845,
          0.10835953580183216,
          -0.724885465855628,
          -0.13014748543449164,
          0.02635813457746775,
          -0.10731405448780107,
          0.9394176236033902,
          0.8852004040890421,
          0.8837667760803889,
          -0.6827153117408953,
          -0.9093724172772358,
          0.5777482827305919,
          0.1320824276129593,
          0.051752566935829254,
          2.2294346148078286,
          -0.3450934390030509,
          0.1620081871920339,
          0.22742137414734556,
          0.53465876620935,
          0.7992154964793429,
          -1.3109197447319967,
          -1.8881307729462076,
          2.130605406350455,
          -0.031583068295145504,
          0.5445342145696391,
          -0.3836665294064964,
          -0.8276744278807356,
          1.5347897785141216,
          -0.10205298921735546,
          -0.9931249156241323,
          0.6784877290695253,
          0.6442290539833533,
          0.22188261861927183,
          0.658824210911803,
          0.4725016736628034,
          -0.5884114772778922,
          -0.868227094420527,
          -1.3615134352744052,
          1.092930344226626,
          -0.13734327442278882,
          -1.3246769110560028,
          -0.6863100288573838,
          0.2900951740060484,
          -0.7262357878917776,
          -1.5393687384063548,
          -0.6345124844359458,
          1.0511810398400365,
          -0.32552486870352804,
          0.46721489635640734,
          1.2701651157118028,
          0.821796041357051,
          -1.3530062245164303,
          -0.6629088380930819,
          0.8386510462005943,
          -0.10769881867698582,
          0.18586510865496922,
          0.0027232401253373915,
          -2.1003147011287964,
          0.19799553908870476,
          0.5799814202834371,
          -1.1775863243324383,
          0.748291680102528,
          0.2145327190535425,
          0.10937980687552407,
          -0.3629526709313861
         ],
         "xaxis": "x2",
         "y": [
          0.963656208822238,
          1.1213805704854953,
          0.08117322059561863,
          0.9067501670920386,
          1.28908725845038,
          -0.8484788632427857,
          -0.8009485265222287,
          -0.13954698878550142,
          -0.4209938328140542,
          0.2837355152610227,
          -0.21272756966893616,
          1.7570408279670209,
          0.3550122841604106,
          1.30974406905139,
          0.2232155423907447,
          0.20225806270488592,
          0.4297931309428796,
          0.2710898356704665,
          1.2673150001525066,
          -0.28317420340831106,
          0.20613001876357961,
          0.4635201733939552,
          0.5460897413984124,
          0.12438837142487577,
          -0.3311450835685355,
          0.43842530680477404,
          1.0684047789837727,
          -0.6243736534857598,
          -1.1906662032404274,
          1.4656058483881402,
          0.16715588520722816,
          0.48360128610027264,
          1.0718721211795463,
          -0.24068377304579952,
          -0.8837940178049627,
          0.28414594957742983,
          0.18636052031088884,
          1.0554728665925521,
          0.24657908043205698,
          -0.255956079869308,
          0.07878204355354528,
          -1.1832024418880038,
          -0.3947053481469931,
          0.015051127698353848,
          -0.9273312434230097,
          -0.5904417385480116,
          -0.8248473181016788,
          -2.553642906404523,
          0.5853809835216754,
          0.07471667146690081,
          0.8078271481497611,
          2.0119568319081234,
          1.7051615445225863,
          0.3690781122530383,
          0.27207568986467,
          0.9429351698391747,
          0.8709196392545411,
          1.8881327097718632,
          -2.277236818278749,
          0.7641282663968877,
          -1.9210586871999982,
          0.6083480372818315,
          -1.7059804718374605,
          1.8390631369000259,
          0.47676559937164253,
          0.7951445119372802,
          0.7363841786006643,
          1.2801801668695012,
          -0.987315530991337,
          -0.7855382455137779,
          -1.5235664056893965,
          -0.8068782421283027,
          0.1899751266947658,
          -0.8176847491115944,
          -0.7588257659066171,
          0.7146591792126702,
          1.1389770375251385,
          -0.49140946806501906,
          0.3885375141880657,
          0.19210286916179659,
          -1.8674308759485234,
          0.2563319473019304,
          1.4141223099861748,
          1.5347206360501597,
          -1.094691314002368,
          -0.060435557199993446,
          0.2992179294797572,
          1.4510015729851962,
          0.38567992079704777,
          -1.8471002701272756,
          -0.2158731199529436,
          -0.3833111312088049,
          -2.0068888309777657,
          -0.548083205199428,
          0.6861555341365956,
          1.199667217838947,
          0.06831398795428081,
          -0.057601596970910905,
          0.3827056101028784,
          0.5691997438450976
         ],
         "yaxis": "y2"
        },
        {
         "line": {
          "color": "rgba(128, 128, 128, 1.0)",
          "dash": "solid",
          "shape": "linear",
          "width": 1.3
         },
         "marker": {
          "size": 2,
          "symbol": "circle"
         },
         "mode": "markers",
         "name": "A",
         "text": "",
         "type": "scatter",
         "x": [
          1.9684685598255098,
          0.8865735701165786,
          -0.9282924703857871,
          0.0864231738857163,
          -0.17851496705340106,
          0.8941201736951061,
          -1.767757746744734,
          -0.9029257916222327,
          -0.15040689632672258,
          0.3608236978003134,
          -2.3993756008061955,
          -0.483640402637199,
          2.453497287095231,
          0.2886471123783374,
          0.4789224073967982,
          1.8868787058240575,
          -0.7069821240099842,
          0.9364960925054092,
          -0.11826593254370696,
          -1.2466608150509335,
          0.5835449052351525,
          -0.7856053542283987,
          -1.402302566540273,
          1.3852800062444897,
          0.5641183370922549,
          0.8809989823072313,
          -0.2316988475498588,
          0.9588801018246939,
          -1.8023754339085756,
          1.3856050832892777,
          0.2889566018572497,
          -2.2912515772536093,
          1.2338406432349927,
          -0.37060434083404203,
          -1.115233219161336,
          0.04673985612202292,
          0.0942462710028508,
          -0.13839475415973518,
          -0.09718950720666848,
          0.24901537761553835,
          0.9108528097216493,
          -0.5528486250284738,
          0.1437258643037152,
          1.2368565085155692,
          0.11806071227737899,
          -0.6915685444367112,
          0.6893681392468275,
          -2.1930493530215243,
          -0.9934789592227896,
          -0.6189689820317923,
          -0.8698092136412182,
          0.8003318888279906,
          -0.5982506634931678,
          -0.7890609206749534,
          -0.6548147871758787,
          0.5587927372009642,
          0.27255474613842035,
          1.0925266720615479,
          1.3392761253917005,
          0.1065019292120311,
          -1.1867386077150974,
          1.78632170548558,
          -0.02624061741045453,
          -1.1556722058561715,
          0.07704352120398042,
          -0.22053430872375845,
          2.5042220859217554,
          0.2355109428038429,
          0.1805691839545755,
          1.641624590650236,
          0.9246325724024335,
          -0.0517173982740807,
          -1.6078788351856876,
          -0.673781299334335,
          -0.11875226070443112,
          -1.1803330927190678,
          -0.6051380566023823,
          1.3120299005977665,
          -1.586753953775392,
          1.0494361893220578,
          0.8185429666565787,
          0.0796582520338552,
          0.8785869617159295,
          -1.3860246585946714,
          0.4098334039689942,
          2.026756298055897,
          -2.341265735162529,
          1.0423930455611918,
          1.7745715730437097,
          -0.7451216801801956,
          0.13019025491771619,
          0.6720981517354053,
          1.2143690393829878,
          -0.6817286989667747,
          1.7765429487539386,
          -0.24465282170560929,
          1.1093476031534293,
          3.462655523208048,
          -0.4175023099069305,
          0.1293918215907214
         ],
         "xaxis": "x3",
         "y": [
          0.963656208822238,
          1.1213805704854953,
          0.08117322059561863,
          0.9067501670920386,
          1.28908725845038,
          -0.8484788632427857,
          -0.8009485265222287,
          -0.13954698878550142,
          -0.4209938328140542,
          0.2837355152610227,
          -0.21272756966893616,
          1.7570408279670209,
          0.3550122841604106,
          1.30974406905139,
          0.2232155423907447,
          0.20225806270488592,
          0.4297931309428796,
          0.2710898356704665,
          1.2673150001525066,
          -0.28317420340831106,
          0.20613001876357961,
          0.4635201733939552,
          0.5460897413984124,
          0.12438837142487577,
          -0.3311450835685355,
          0.43842530680477404,
          1.0684047789837727,
          -0.6243736534857598,
          -1.1906662032404274,
          1.4656058483881402,
          0.16715588520722816,
          0.48360128610027264,
          1.0718721211795463,
          -0.24068377304579952,
          -0.8837940178049627,
          0.28414594957742983,
          0.18636052031088884,
          1.0554728665925521,
          0.24657908043205698,
          -0.255956079869308,
          0.07878204355354528,
          -1.1832024418880038,
          -0.3947053481469931,
          0.015051127698353848,
          -0.9273312434230097,
          -0.5904417385480116,
          -0.8248473181016788,
          -2.553642906404523,
          0.5853809835216754,
          0.07471667146690081,
          0.8078271481497611,
          2.0119568319081234,
          1.7051615445225863,
          0.3690781122530383,
          0.27207568986467,
          0.9429351698391747,
          0.8709196392545411,
          1.8881327097718632,
          -2.277236818278749,
          0.7641282663968877,
          -1.9210586871999982,
          0.6083480372818315,
          -1.7059804718374605,
          1.8390631369000259,
          0.47676559937164253,
          0.7951445119372802,
          0.7363841786006643,
          1.2801801668695012,
          -0.987315530991337,
          -0.7855382455137779,
          -1.5235664056893965,
          -0.8068782421283027,
          0.1899751266947658,
          -0.8176847491115944,
          -0.7588257659066171,
          0.7146591792126702,
          1.1389770375251385,
          -0.49140946806501906,
          0.3885375141880657,
          0.19210286916179659,
          -1.8674308759485234,
          0.2563319473019304,
          1.4141223099861748,
          1.5347206360501597,
          -1.094691314002368,
          -0.060435557199993446,
          0.2992179294797572,
          1.4510015729851962,
          0.38567992079704777,
          -1.8471002701272756,
          -0.2158731199529436,
          -0.3833111312088049,
          -2.0068888309777657,
          -0.548083205199428,
          0.6861555341365956,
          1.199667217838947,
          0.06831398795428081,
          -0.057601596970910905,
          0.3827056101028784,
          0.5691997438450976
         ],
         "yaxis": "y3"
        },
        {
         "line": {
          "color": "rgba(128, 128, 128, 1.0)",
          "dash": "solid",
          "shape": "linear",
          "width": 1.3
         },
         "marker": {
          "size": 2,
          "symbol": "circle"
         },
         "mode": "markers",
         "name": "A",
         "text": "",
         "type": "scatter",
         "x": [
          1.6630337650354345,
          0.07550432297170971,
          -0.5973245468599844,
          -1.657449860204015,
          0.05280375575287506,
          -0.015347519964781276,
          -0.823066509767297,
          -1.2865818271926146,
          -0.20465223602492458,
          1.4326116078768383,
          1.715349653593688,
          1.8332783984371763,
          0.10489256944377925,
          0.1835183523000019,
          -1.5966870438332263,
          0.44522874299998944,
          0.6584567307528261,
          0.6650332813795531,
          0.2807839634292779,
          -0.29086894397778557,
          0.16752877630439322,
          1.9770173482802893,
          -2.8154582401712154,
          -0.9829856709848566,
          -0.00827771127849985,
          0.16148652501732152,
          2.319848288689466,
          1.022424591320778,
          2.446730447840035,
          -0.5276727460407082,
          -0.4206033582273582,
          -1.8277275907138832,
          0.014979298168371534,
          0.7821409129741059,
          -0.6683656546714996,
          -2.8509032306340627,
          -0.2554547617448989,
          0.6031621488581722,
          -1.8720737192452415,
          -2.2039356896415576,
          1.1354713474057998,
          -1.3147837122357673,
          0.08847860993731024,
          0.5434300304313257,
          -1.9624730325797959,
          -0.7335728844338252,
          -0.7602415933637703,
          -2.478504024403525,
          -2.043359504359485,
          0.07229925889259052,
          0.8223533915753203,
          0.7541898582279355,
          -0.8457042031941514,
          -2.0806587994267742,
          -0.33255328325872824,
          1.1100669481856251,
          0.8590167189662465,
          -0.5954983458201378,
          -0.09732296749624923,
          -0.24106644629353324,
          -0.921362500994098,
          0.7250079654355328,
          -0.7511631767920098,
          0.5235530857383306,
          0.9304102996787895,
          1.1013735671223808,
          2.144674046199205,
          0.06923107230228003,
          1.8428871518189849,
          0.4982298687939204,
          0.19661617252683,
          0.23266766393126748,
          1.4061128071516085,
          0.8462385703859491,
          0.6549491598459045,
          0.439385154094097,
          -2.501445480519395,
          0.045409052141403054,
          0.7869651058984805,
          -1.1339156708019669,
          -0.43148029590986947,
          0.6465899085984634,
          0.3408739471603276,
          -0.7613374448109137,
          -0.09817614527629241,
          -0.7309778541053539,
          -0.07818344318158707,
          -0.4731780226773017,
          0.8875564238258683,
          0.35454221858793916,
          0.6044883944756151,
          -0.8547303972785114,
          0.40388289163412455,
          1.1952818174880846,
          1.761384365862785,
          -0.3538293908999642,
          -0.6913216824668283,
          0.8986854351831924,
          0.2494784614208996,
          -0.40344347187061447
         ],
         "xaxis": "x4",
         "y": [
          0.963656208822238,
          1.1213805704854953,
          0.08117322059561863,
          0.9067501670920386,
          1.28908725845038,
          -0.8484788632427857,
          -0.8009485265222287,
          -0.13954698878550142,
          -0.4209938328140542,
          0.2837355152610227,
          -0.21272756966893616,
          1.7570408279670209,
          0.3550122841604106,
          1.30974406905139,
          0.2232155423907447,
          0.20225806270488592,
          0.4297931309428796,
          0.2710898356704665,
          1.2673150001525066,
          -0.28317420340831106,
          0.20613001876357961,
          0.4635201733939552,
          0.5460897413984124,
          0.12438837142487577,
          -0.3311450835685355,
          0.43842530680477404,
          1.0684047789837727,
          -0.6243736534857598,
          -1.1906662032404274,
          1.4656058483881402,
          0.16715588520722816,
          0.48360128610027264,
          1.0718721211795463,
          -0.24068377304579952,
          -0.8837940178049627,
          0.28414594957742983,
          0.18636052031088884,
          1.0554728665925521,
          0.24657908043205698,
          -0.255956079869308,
          0.07878204355354528,
          -1.1832024418880038,
          -0.3947053481469931,
          0.015051127698353848,
          -0.9273312434230097,
          -0.5904417385480116,
          -0.8248473181016788,
          -2.553642906404523,
          0.5853809835216754,
          0.07471667146690081,
          0.8078271481497611,
          2.0119568319081234,
          1.7051615445225863,
          0.3690781122530383,
          0.27207568986467,
          0.9429351698391747,
          0.8709196392545411,
          1.8881327097718632,
          -2.277236818278749,
          0.7641282663968877,
          -1.9210586871999982,
          0.6083480372818315,
          -1.7059804718374605,
          1.8390631369000259,
          0.47676559937164253,
          0.7951445119372802,
          0.7363841786006643,
          1.2801801668695012,
          -0.987315530991337,
          -0.7855382455137779,
          -1.5235664056893965,
          -0.8068782421283027,
          0.1899751266947658,
          -0.8176847491115944,
          -0.7588257659066171,
          0.7146591792126702,
          1.1389770375251385,
          -0.49140946806501906,
          0.3885375141880657,
          0.19210286916179659,
          -1.8674308759485234,
          0.2563319473019304,
          1.4141223099861748,
          1.5347206360501597,
          -1.094691314002368,
          -0.060435557199993446,
          0.2992179294797572,
          1.4510015729851962,
          0.38567992079704777,
          -1.8471002701272756,
          -0.2158731199529436,
          -0.3833111312088049,
          -2.0068888309777657,
          -0.548083205199428,
          0.6861555341365956,
          1.199667217838947,
          0.06831398795428081,
          -0.057601596970910905,
          0.3827056101028784,
          0.5691997438450976
         ],
         "yaxis": "y4"
        },
        {
         "line": {
          "color": "rgba(128, 128, 128, 1.0)",
          "dash": "solid",
          "shape": "linear",
          "width": 1.3
         },
         "marker": {
          "size": 2,
          "symbol": "circle"
         },
         "mode": "markers",
         "name": "B",
         "text": "",
         "type": "scatter",
         "x": [
          0.963656208822238,
          1.1213805704854953,
          0.08117322059561863,
          0.9067501670920386,
          1.28908725845038,
          -0.8484788632427857,
          -0.8009485265222287,
          -0.13954698878550142,
          -0.4209938328140542,
          0.2837355152610227,
          -0.21272756966893616,
          1.7570408279670209,
          0.3550122841604106,
          1.30974406905139,
          0.2232155423907447,
          0.20225806270488592,
          0.4297931309428796,
          0.2710898356704665,
          1.2673150001525066,
          -0.28317420340831106,
          0.20613001876357961,
          0.4635201733939552,
          0.5460897413984124,
          0.12438837142487577,
          -0.3311450835685355,
          0.43842530680477404,
          1.0684047789837727,
          -0.6243736534857598,
          -1.1906662032404274,
          1.4656058483881402,
          0.16715588520722816,
          0.48360128610027264,
          1.0718721211795463,
          -0.24068377304579952,
          -0.8837940178049627,
          0.28414594957742983,
          0.18636052031088884,
          1.0554728665925521,
          0.24657908043205698,
          -0.255956079869308,
          0.07878204355354528,
          -1.1832024418880038,
          -0.3947053481469931,
          0.015051127698353848,
          -0.9273312434230097,
          -0.5904417385480116,
          -0.8248473181016788,
          -2.553642906404523,
          0.5853809835216754,
          0.07471667146690081,
          0.8078271481497611,
          2.0119568319081234,
          1.7051615445225863,
          0.3690781122530383,
          0.27207568986467,
          0.9429351698391747,
          0.8709196392545411,
          1.8881327097718632,
          -2.277236818278749,
          0.7641282663968877,
          -1.9210586871999982,
          0.6083480372818315,
          -1.7059804718374605,
          1.8390631369000259,
          0.47676559937164253,
          0.7951445119372802,
          0.7363841786006643,
          1.2801801668695012,
          -0.987315530991337,
          -0.7855382455137779,
          -1.5235664056893965,
          -0.8068782421283027,
          0.1899751266947658,
          -0.8176847491115944,
          -0.7588257659066171,
          0.7146591792126702,
          1.1389770375251385,
          -0.49140946806501906,
          0.3885375141880657,
          0.19210286916179659,
          -1.8674308759485234,
          0.2563319473019304,
          1.4141223099861748,
          1.5347206360501597,
          -1.094691314002368,
          -0.060435557199993446,
          0.2992179294797572,
          1.4510015729851962,
          0.38567992079704777,
          -1.8471002701272756,
          -0.2158731199529436,
          -0.3833111312088049,
          -2.0068888309777657,
          -0.548083205199428,
          0.6861555341365956,
          1.199667217838947,
          0.06831398795428081,
          -0.057601596970910905,
          0.3827056101028784,
          0.5691997438450976
         ],
         "xaxis": "x5",
         "y": [
          1.0418607474294792,
          -1.4939672413762932,
          -0.02127901542430224,
          0.33292977024558157,
          1.1407436277450778,
          -0.3015660930492725,
          -0.0752865847187486,
          -1.009791743749023,
          -0.6974105177481036,
          -1.0778447312443185,
          0.21994773983594507,
          -1.2767378096491764,
          -0.4772520284876469,
          -0.13191693638288507,
          -0.8840497936830316,
          0.43491378665196123,
          1.237780885733663,
          -0.7372283644576442,
          -0.11267970353145566,
          -1.637025903877696,
          -0.8643009602442039,
          -1.170864879740225,
          0.8657447067108397,
          -1.3316471625112472,
          0.27930606940491254,
          0.1010548787720902,
          0.7014020947179823,
          0.8115916437019352,
          0.9534863463399055,
          -0.17974376572600015,
          0.15539942126823825,
          0.12563065884091904,
          -0.6983132119953138,
          -0.8557269377205827,
          -1.1114678483065996,
          1.6267980935814845,
          0.10835953580183216,
          -0.724885465855628,
          -0.13014748543449164,
          0.02635813457746775,
          -0.10731405448780107,
          0.9394176236033902,
          0.8852004040890421,
          0.8837667760803889,
          -0.6827153117408953,
          -0.9093724172772358,
          0.5777482827305919,
          0.1320824276129593,
          0.051752566935829254,
          2.2294346148078286,
          -0.3450934390030509,
          0.1620081871920339,
          0.22742137414734556,
          0.53465876620935,
          0.7992154964793429,
          -1.3109197447319967,
          -1.8881307729462076,
          2.130605406350455,
          -0.031583068295145504,
          0.5445342145696391,
          -0.3836665294064964,
          -0.8276744278807356,
          1.5347897785141216,
          -0.10205298921735546,
          -0.9931249156241323,
          0.6784877290695253,
          0.6442290539833533,
          0.22188261861927183,
          0.658824210911803,
          0.4725016736628034,
          -0.5884114772778922,
          -0.868227094420527,
          -1.3615134352744052,
          1.092930344226626,
          -0.13734327442278882,
          -1.3246769110560028,
          -0.6863100288573838,
          0.2900951740060484,
          -0.7262357878917776,
          -1.5393687384063548,
          -0.6345124844359458,
          1.0511810398400365,
          -0.32552486870352804,
          0.46721489635640734,
          1.2701651157118028,
          0.821796041357051,
          -1.3530062245164303,
          -0.6629088380930819,
          0.8386510462005943,
          -0.10769881867698582,
          0.18586510865496922,
          0.0027232401253373915,
          -2.1003147011287964,
          0.19799553908870476,
          0.5799814202834371,
          -1.1775863243324383,
          0.748291680102528,
          0.2145327190535425,
          0.10937980687552407,
          -0.3629526709313861
         ],
         "yaxis": "y5"
        },
        {
         "histfunc": "count",
         "histnorm": "",
         "marker": {
          "color": "rgba(55, 128, 191, 1.0)",
          "line": {
           "color": "#4D5663",
           "width": 1.3
          }
         },
         "name": "B",
         "nbinsx": 10,
         "opacity": 0.8,
         "orientation": "v",
         "type": "histogram",
         "x": [
          1.0418607474294792,
          -1.4939672413762932,
          -0.02127901542430224,
          0.33292977024558157,
          1.1407436277450778,
          -0.3015660930492725,
          -0.0752865847187486,
          -1.009791743749023,
          -0.6974105177481036,
          -1.0778447312443185,
          0.21994773983594507,
          -1.2767378096491764,
          -0.4772520284876469,
          -0.13191693638288507,
          -0.8840497936830316,
          0.43491378665196123,
          1.237780885733663,
          -0.7372283644576442,
          -0.11267970353145566,
          -1.637025903877696,
          -0.8643009602442039,
          -1.170864879740225,
          0.8657447067108397,
          -1.3316471625112472,
          0.27930606940491254,
          0.1010548787720902,
          0.7014020947179823,
          0.8115916437019352,
          0.9534863463399055,
          -0.17974376572600015,
          0.15539942126823825,
          0.12563065884091904,
          -0.6983132119953138,
          -0.8557269377205827,
          -1.1114678483065996,
          1.6267980935814845,
          0.10835953580183216,
          -0.724885465855628,
          -0.13014748543449164,
          0.02635813457746775,
          -0.10731405448780107,
          0.9394176236033902,
          0.8852004040890421,
          0.8837667760803889,
          -0.6827153117408953,
          -0.9093724172772358,
          0.5777482827305919,
          0.1320824276129593,
          0.051752566935829254,
          2.2294346148078286,
          -0.3450934390030509,
          0.1620081871920339,
          0.22742137414734556,
          0.53465876620935,
          0.7992154964793429,
          -1.3109197447319967,
          -1.8881307729462076,
          2.130605406350455,
          -0.031583068295145504,
          0.5445342145696391,
          -0.3836665294064964,
          -0.8276744278807356,
          1.5347897785141216,
          -0.10205298921735546,
          -0.9931249156241323,
          0.6784877290695253,
          0.6442290539833533,
          0.22188261861927183,
          0.658824210911803,
          0.4725016736628034,
          -0.5884114772778922,
          -0.868227094420527,
          -1.3615134352744052,
          1.092930344226626,
          -0.13734327442278882,
          -1.3246769110560028,
          -0.6863100288573838,
          0.2900951740060484,
          -0.7262357878917776,
          -1.5393687384063548,
          -0.6345124844359458,
          1.0511810398400365,
          -0.32552486870352804,
          0.46721489635640734,
          1.2701651157118028,
          0.821796041357051,
          -1.3530062245164303,
          -0.6629088380930819,
          0.8386510462005943,
          -0.10769881867698582,
          0.18586510865496922,
          0.0027232401253373915,
          -2.1003147011287964,
          0.19799553908870476,
          0.5799814202834371,
          -1.1775863243324383,
          0.748291680102528,
          0.2145327190535425,
          0.10937980687552407,
          -0.3629526709313861
         ],
         "xaxis": "x6",
         "yaxis": "y6"
        },
        {
         "line": {
          "color": "rgba(128, 128, 128, 1.0)",
          "dash": "solid",
          "shape": "linear",
          "width": 1.3
         },
         "marker": {
          "size": 2,
          "symbol": "circle"
         },
         "mode": "markers",
         "name": "B",
         "text": "",
         "type": "scatter",
         "x": [
          1.9684685598255098,
          0.8865735701165786,
          -0.9282924703857871,
          0.0864231738857163,
          -0.17851496705340106,
          0.8941201736951061,
          -1.767757746744734,
          -0.9029257916222327,
          -0.15040689632672258,
          0.3608236978003134,
          -2.3993756008061955,
          -0.483640402637199,
          2.453497287095231,
          0.2886471123783374,
          0.4789224073967982,
          1.8868787058240575,
          -0.7069821240099842,
          0.9364960925054092,
          -0.11826593254370696,
          -1.2466608150509335,
          0.5835449052351525,
          -0.7856053542283987,
          -1.402302566540273,
          1.3852800062444897,
          0.5641183370922549,
          0.8809989823072313,
          -0.2316988475498588,
          0.9588801018246939,
          -1.8023754339085756,
          1.3856050832892777,
          0.2889566018572497,
          -2.2912515772536093,
          1.2338406432349927,
          -0.37060434083404203,
          -1.115233219161336,
          0.04673985612202292,
          0.0942462710028508,
          -0.13839475415973518,
          -0.09718950720666848,
          0.24901537761553835,
          0.9108528097216493,
          -0.5528486250284738,
          0.1437258643037152,
          1.2368565085155692,
          0.11806071227737899,
          -0.6915685444367112,
          0.6893681392468275,
          -2.1930493530215243,
          -0.9934789592227896,
          -0.6189689820317923,
          -0.8698092136412182,
          0.8003318888279906,
          -0.5982506634931678,
          -0.7890609206749534,
          -0.6548147871758787,
          0.5587927372009642,
          0.27255474613842035,
          1.0925266720615479,
          1.3392761253917005,
          0.1065019292120311,
          -1.1867386077150974,
          1.78632170548558,
          -0.02624061741045453,
          -1.1556722058561715,
          0.07704352120398042,
          -0.22053430872375845,
          2.5042220859217554,
          0.2355109428038429,
          0.1805691839545755,
          1.641624590650236,
          0.9246325724024335,
          -0.0517173982740807,
          -1.6078788351856876,
          -0.673781299334335,
          -0.11875226070443112,
          -1.1803330927190678,
          -0.6051380566023823,
          1.3120299005977665,
          -1.586753953775392,
          1.0494361893220578,
          0.8185429666565787,
          0.0796582520338552,
          0.8785869617159295,
          -1.3860246585946714,
          0.4098334039689942,
          2.026756298055897,
          -2.341265735162529,
          1.0423930455611918,
          1.7745715730437097,
          -0.7451216801801956,
          0.13019025491771619,
          0.6720981517354053,
          1.2143690393829878,
          -0.6817286989667747,
          1.7765429487539386,
          -0.24465282170560929,
          1.1093476031534293,
          3.462655523208048,
          -0.4175023099069305,
          0.1293918215907214
         ],
         "xaxis": "x7",
         "y": [
          1.0418607474294792,
          -1.4939672413762932,
          -0.02127901542430224,
          0.33292977024558157,
          1.1407436277450778,
          -0.3015660930492725,
          -0.0752865847187486,
          -1.009791743749023,
          -0.6974105177481036,
          -1.0778447312443185,
          0.21994773983594507,
          -1.2767378096491764,
          -0.4772520284876469,
          -0.13191693638288507,
          -0.8840497936830316,
          0.43491378665196123,
          1.237780885733663,
          -0.7372283644576442,
          -0.11267970353145566,
          -1.637025903877696,
          -0.8643009602442039,
          -1.170864879740225,
          0.8657447067108397,
          -1.3316471625112472,
          0.27930606940491254,
          0.1010548787720902,
          0.7014020947179823,
          0.8115916437019352,
          0.9534863463399055,
          -0.17974376572600015,
          0.15539942126823825,
          0.12563065884091904,
          -0.6983132119953138,
          -0.8557269377205827,
          -1.1114678483065996,
          1.6267980935814845,
          0.10835953580183216,
          -0.724885465855628,
          -0.13014748543449164,
          0.02635813457746775,
          -0.10731405448780107,
          0.9394176236033902,
          0.8852004040890421,
          0.8837667760803889,
          -0.6827153117408953,
          -0.9093724172772358,
          0.5777482827305919,
          0.1320824276129593,
          0.051752566935829254,
          2.2294346148078286,
          -0.3450934390030509,
          0.1620081871920339,
          0.22742137414734556,
          0.53465876620935,
          0.7992154964793429,
          -1.3109197447319967,
          -1.8881307729462076,
          2.130605406350455,
          -0.031583068295145504,
          0.5445342145696391,
          -0.3836665294064964,
          -0.8276744278807356,
          1.5347897785141216,
          -0.10205298921735546,
          -0.9931249156241323,
          0.6784877290695253,
          0.6442290539833533,
          0.22188261861927183,
          0.658824210911803,
          0.4725016736628034,
          -0.5884114772778922,
          -0.868227094420527,
          -1.3615134352744052,
          1.092930344226626,
          -0.13734327442278882,
          -1.3246769110560028,
          -0.6863100288573838,
          0.2900951740060484,
          -0.7262357878917776,
          -1.5393687384063548,
          -0.6345124844359458,
          1.0511810398400365,
          -0.32552486870352804,
          0.46721489635640734,
          1.2701651157118028,
          0.821796041357051,
          -1.3530062245164303,
          -0.6629088380930819,
          0.8386510462005943,
          -0.10769881867698582,
          0.18586510865496922,
          0.0027232401253373915,
          -2.1003147011287964,
          0.19799553908870476,
          0.5799814202834371,
          -1.1775863243324383,
          0.748291680102528,
          0.2145327190535425,
          0.10937980687552407,
          -0.3629526709313861
         ],
         "yaxis": "y7"
        },
        {
         "line": {
          "color": "rgba(128, 128, 128, 1.0)",
          "dash": "solid",
          "shape": "linear",
          "width": 1.3
         },
         "marker": {
          "size": 2,
          "symbol": "circle"
         },
         "mode": "markers",
         "name": "B",
         "text": "",
         "type": "scatter",
         "x": [
          1.6630337650354345,
          0.07550432297170971,
          -0.5973245468599844,
          -1.657449860204015,
          0.05280375575287506,
          -0.015347519964781276,
          -0.823066509767297,
          -1.2865818271926146,
          -0.20465223602492458,
          1.4326116078768383,
          1.715349653593688,
          1.8332783984371763,
          0.10489256944377925,
          0.1835183523000019,
          -1.5966870438332263,
          0.44522874299998944,
          0.6584567307528261,
          0.6650332813795531,
          0.2807839634292779,
          -0.29086894397778557,
          0.16752877630439322,
          1.9770173482802893,
          -2.8154582401712154,
          -0.9829856709848566,
          -0.00827771127849985,
          0.16148652501732152,
          2.319848288689466,
          1.022424591320778,
          2.446730447840035,
          -0.5276727460407082,
          -0.4206033582273582,
          -1.8277275907138832,
          0.014979298168371534,
          0.7821409129741059,
          -0.6683656546714996,
          -2.8509032306340627,
          -0.2554547617448989,
          0.6031621488581722,
          -1.8720737192452415,
          -2.2039356896415576,
          1.1354713474057998,
          -1.3147837122357673,
          0.08847860993731024,
          0.5434300304313257,
          -1.9624730325797959,
          -0.7335728844338252,
          -0.7602415933637703,
          -2.478504024403525,
          -2.043359504359485,
          0.07229925889259052,
          0.8223533915753203,
          0.7541898582279355,
          -0.8457042031941514,
          -2.0806587994267742,
          -0.33255328325872824,
          1.1100669481856251,
          0.8590167189662465,
          -0.5954983458201378,
          -0.09732296749624923,
          -0.24106644629353324,
          -0.921362500994098,
          0.7250079654355328,
          -0.7511631767920098,
          0.5235530857383306,
          0.9304102996787895,
          1.1013735671223808,
          2.144674046199205,
          0.06923107230228003,
          1.8428871518189849,
          0.4982298687939204,
          0.19661617252683,
          0.23266766393126748,
          1.4061128071516085,
          0.8462385703859491,
          0.6549491598459045,
          0.439385154094097,
          -2.501445480519395,
          0.045409052141403054,
          0.7869651058984805,
          -1.1339156708019669,
          -0.43148029590986947,
          0.6465899085984634,
          0.3408739471603276,
          -0.7613374448109137,
          -0.09817614527629241,
          -0.7309778541053539,
          -0.07818344318158707,
          -0.4731780226773017,
          0.8875564238258683,
          0.35454221858793916,
          0.6044883944756151,
          -0.8547303972785114,
          0.40388289163412455,
          1.1952818174880846,
          1.761384365862785,
          -0.3538293908999642,
          -0.6913216824668283,
          0.8986854351831924,
          0.2494784614208996,
          -0.40344347187061447
         ],
         "xaxis": "x8",
         "y": [
          1.0418607474294792,
          -1.4939672413762932,
          -0.02127901542430224,
          0.33292977024558157,
          1.1407436277450778,
          -0.3015660930492725,
          -0.0752865847187486,
          -1.009791743749023,
          -0.6974105177481036,
          -1.0778447312443185,
          0.21994773983594507,
          -1.2767378096491764,
          -0.4772520284876469,
          -0.13191693638288507,
          -0.8840497936830316,
          0.43491378665196123,
          1.237780885733663,
          -0.7372283644576442,
          -0.11267970353145566,
          -1.637025903877696,
          -0.8643009602442039,
          -1.170864879740225,
          0.8657447067108397,
          -1.3316471625112472,
          0.27930606940491254,
          0.1010548787720902,
          0.7014020947179823,
          0.8115916437019352,
          0.9534863463399055,
          -0.17974376572600015,
          0.15539942126823825,
          0.12563065884091904,
          -0.6983132119953138,
          -0.8557269377205827,
          -1.1114678483065996,
          1.6267980935814845,
          0.10835953580183216,
          -0.724885465855628,
          -0.13014748543449164,
          0.02635813457746775,
          -0.10731405448780107,
          0.9394176236033902,
          0.8852004040890421,
          0.8837667760803889,
          -0.6827153117408953,
          -0.9093724172772358,
          0.5777482827305919,
          0.1320824276129593,
          0.051752566935829254,
          2.2294346148078286,
          -0.3450934390030509,
          0.1620081871920339,
          0.22742137414734556,
          0.53465876620935,
          0.7992154964793429,
          -1.3109197447319967,
          -1.8881307729462076,
          2.130605406350455,
          -0.031583068295145504,
          0.5445342145696391,
          -0.3836665294064964,
          -0.8276744278807356,
          1.5347897785141216,
          -0.10205298921735546,
          -0.9931249156241323,
          0.6784877290695253,
          0.6442290539833533,
          0.22188261861927183,
          0.658824210911803,
          0.4725016736628034,
          -0.5884114772778922,
          -0.868227094420527,
          -1.3615134352744052,
          1.092930344226626,
          -0.13734327442278882,
          -1.3246769110560028,
          -0.6863100288573838,
          0.2900951740060484,
          -0.7262357878917776,
          -1.5393687384063548,
          -0.6345124844359458,
          1.0511810398400365,
          -0.32552486870352804,
          0.46721489635640734,
          1.2701651157118028,
          0.821796041357051,
          -1.3530062245164303,
          -0.6629088380930819,
          0.8386510462005943,
          -0.10769881867698582,
          0.18586510865496922,
          0.0027232401253373915,
          -2.1003147011287964,
          0.19799553908870476,
          0.5799814202834371,
          -1.1775863243324383,
          0.748291680102528,
          0.2145327190535425,
          0.10937980687552407,
          -0.3629526709313861
         ],
         "yaxis": "y8"
        },
        {
         "line": {
          "color": "rgba(128, 128, 128, 1.0)",
          "dash": "solid",
          "shape": "linear",
          "width": 1.3
         },
         "marker": {
          "size": 2,
          "symbol": "circle"
         },
         "mode": "markers",
         "name": "C",
         "text": "",
         "type": "scatter",
         "x": [
          0.963656208822238,
          1.1213805704854953,
          0.08117322059561863,
          0.9067501670920386,
          1.28908725845038,
          -0.8484788632427857,
          -0.8009485265222287,
          -0.13954698878550142,
          -0.4209938328140542,
          0.2837355152610227,
          -0.21272756966893616,
          1.7570408279670209,
          0.3550122841604106,
          1.30974406905139,
          0.2232155423907447,
          0.20225806270488592,
          0.4297931309428796,
          0.2710898356704665,
          1.2673150001525066,
          -0.28317420340831106,
          0.20613001876357961,
          0.4635201733939552,
          0.5460897413984124,
          0.12438837142487577,
          -0.3311450835685355,
          0.43842530680477404,
          1.0684047789837727,
          -0.6243736534857598,
          -1.1906662032404274,
          1.4656058483881402,
          0.16715588520722816,
          0.48360128610027264,
          1.0718721211795463,
          -0.24068377304579952,
          -0.8837940178049627,
          0.28414594957742983,
          0.18636052031088884,
          1.0554728665925521,
          0.24657908043205698,
          -0.255956079869308,
          0.07878204355354528,
          -1.1832024418880038,
          -0.3947053481469931,
          0.015051127698353848,
          -0.9273312434230097,
          -0.5904417385480116,
          -0.8248473181016788,
          -2.553642906404523,
          0.5853809835216754,
          0.07471667146690081,
          0.8078271481497611,
          2.0119568319081234,
          1.7051615445225863,
          0.3690781122530383,
          0.27207568986467,
          0.9429351698391747,
          0.8709196392545411,
          1.8881327097718632,
          -2.277236818278749,
          0.7641282663968877,
          -1.9210586871999982,
          0.6083480372818315,
          -1.7059804718374605,
          1.8390631369000259,
          0.47676559937164253,
          0.7951445119372802,
          0.7363841786006643,
          1.2801801668695012,
          -0.987315530991337,
          -0.7855382455137779,
          -1.5235664056893965,
          -0.8068782421283027,
          0.1899751266947658,
          -0.8176847491115944,
          -0.7588257659066171,
          0.7146591792126702,
          1.1389770375251385,
          -0.49140946806501906,
          0.3885375141880657,
          0.19210286916179659,
          -1.8674308759485234,
          0.2563319473019304,
          1.4141223099861748,
          1.5347206360501597,
          -1.094691314002368,
          -0.060435557199993446,
          0.2992179294797572,
          1.4510015729851962,
          0.38567992079704777,
          -1.8471002701272756,
          -0.2158731199529436,
          -0.3833111312088049,
          -2.0068888309777657,
          -0.548083205199428,
          0.6861555341365956,
          1.199667217838947,
          0.06831398795428081,
          -0.057601596970910905,
          0.3827056101028784,
          0.5691997438450976
         ],
         "xaxis": "x9",
         "y": [
          1.9684685598255098,
          0.8865735701165786,
          -0.9282924703857871,
          0.0864231738857163,
          -0.17851496705340106,
          0.8941201736951061,
          -1.767757746744734,
          -0.9029257916222327,
          -0.15040689632672258,
          0.3608236978003134,
          -2.3993756008061955,
          -0.483640402637199,
          2.453497287095231,
          0.2886471123783374,
          0.4789224073967982,
          1.8868787058240575,
          -0.7069821240099842,
          0.9364960925054092,
          -0.11826593254370696,
          -1.2466608150509335,
          0.5835449052351525,
          -0.7856053542283987,
          -1.402302566540273,
          1.3852800062444897,
          0.5641183370922549,
          0.8809989823072313,
          -0.2316988475498588,
          0.9588801018246939,
          -1.8023754339085756,
          1.3856050832892777,
          0.2889566018572497,
          -2.2912515772536093,
          1.2338406432349927,
          -0.37060434083404203,
          -1.115233219161336,
          0.04673985612202292,
          0.0942462710028508,
          -0.13839475415973518,
          -0.09718950720666848,
          0.24901537761553835,
          0.9108528097216493,
          -0.5528486250284738,
          0.1437258643037152,
          1.2368565085155692,
          0.11806071227737899,
          -0.6915685444367112,
          0.6893681392468275,
          -2.1930493530215243,
          -0.9934789592227896,
          -0.6189689820317923,
          -0.8698092136412182,
          0.8003318888279906,
          -0.5982506634931678,
          -0.7890609206749534,
          -0.6548147871758787,
          0.5587927372009642,
          0.27255474613842035,
          1.0925266720615479,
          1.3392761253917005,
          0.1065019292120311,
          -1.1867386077150974,
          1.78632170548558,
          -0.02624061741045453,
          -1.1556722058561715,
          0.07704352120398042,
          -0.22053430872375845,
          2.5042220859217554,
          0.2355109428038429,
          0.1805691839545755,
          1.641624590650236,
          0.9246325724024335,
          -0.0517173982740807,
          -1.6078788351856876,
          -0.673781299334335,
          -0.11875226070443112,
          -1.1803330927190678,
          -0.6051380566023823,
          1.3120299005977665,
          -1.586753953775392,
          1.0494361893220578,
          0.8185429666565787,
          0.0796582520338552,
          0.8785869617159295,
          -1.3860246585946714,
          0.4098334039689942,
          2.026756298055897,
          -2.341265735162529,
          1.0423930455611918,
          1.7745715730437097,
          -0.7451216801801956,
          0.13019025491771619,
          0.6720981517354053,
          1.2143690393829878,
          -0.6817286989667747,
          1.7765429487539386,
          -0.24465282170560929,
          1.1093476031534293,
          3.462655523208048,
          -0.4175023099069305,
          0.1293918215907214
         ],
         "yaxis": "y9"
        },
        {
         "line": {
          "color": "rgba(128, 128, 128, 1.0)",
          "dash": "solid",
          "shape": "linear",
          "width": 1.3
         },
         "marker": {
          "size": 2,
          "symbol": "circle"
         },
         "mode": "markers",
         "name": "C",
         "text": "",
         "type": "scatter",
         "x": [
          1.0418607474294792,
          -1.4939672413762932,
          -0.02127901542430224,
          0.33292977024558157,
          1.1407436277450778,
          -0.3015660930492725,
          -0.0752865847187486,
          -1.009791743749023,
          -0.6974105177481036,
          -1.0778447312443185,
          0.21994773983594507,
          -1.2767378096491764,
          -0.4772520284876469,
          -0.13191693638288507,
          -0.8840497936830316,
          0.43491378665196123,
          1.237780885733663,
          -0.7372283644576442,
          -0.11267970353145566,
          -1.637025903877696,
          -0.8643009602442039,
          -1.170864879740225,
          0.8657447067108397,
          -1.3316471625112472,
          0.27930606940491254,
          0.1010548787720902,
          0.7014020947179823,
          0.8115916437019352,
          0.9534863463399055,
          -0.17974376572600015,
          0.15539942126823825,
          0.12563065884091904,
          -0.6983132119953138,
          -0.8557269377205827,
          -1.1114678483065996,
          1.6267980935814845,
          0.10835953580183216,
          -0.724885465855628,
          -0.13014748543449164,
          0.02635813457746775,
          -0.10731405448780107,
          0.9394176236033902,
          0.8852004040890421,
          0.8837667760803889,
          -0.6827153117408953,
          -0.9093724172772358,
          0.5777482827305919,
          0.1320824276129593,
          0.051752566935829254,
          2.2294346148078286,
          -0.3450934390030509,
          0.1620081871920339,
          0.22742137414734556,
          0.53465876620935,
          0.7992154964793429,
          -1.3109197447319967,
          -1.8881307729462076,
          2.130605406350455,
          -0.031583068295145504,
          0.5445342145696391,
          -0.3836665294064964,
          -0.8276744278807356,
          1.5347897785141216,
          -0.10205298921735546,
          -0.9931249156241323,
          0.6784877290695253,
          0.6442290539833533,
          0.22188261861927183,
          0.658824210911803,
          0.4725016736628034,
          -0.5884114772778922,
          -0.868227094420527,
          -1.3615134352744052,
          1.092930344226626,
          -0.13734327442278882,
          -1.3246769110560028,
          -0.6863100288573838,
          0.2900951740060484,
          -0.7262357878917776,
          -1.5393687384063548,
          -0.6345124844359458,
          1.0511810398400365,
          -0.32552486870352804,
          0.46721489635640734,
          1.2701651157118028,
          0.821796041357051,
          -1.3530062245164303,
          -0.6629088380930819,
          0.8386510462005943,
          -0.10769881867698582,
          0.18586510865496922,
          0.0027232401253373915,
          -2.1003147011287964,
          0.19799553908870476,
          0.5799814202834371,
          -1.1775863243324383,
          0.748291680102528,
          0.2145327190535425,
          0.10937980687552407,
          -0.3629526709313861
         ],
         "xaxis": "x10",
         "y": [
          1.9684685598255098,
          0.8865735701165786,
          -0.9282924703857871,
          0.0864231738857163,
          -0.17851496705340106,
          0.8941201736951061,
          -1.767757746744734,
          -0.9029257916222327,
          -0.15040689632672258,
          0.3608236978003134,
          -2.3993756008061955,
          -0.483640402637199,
          2.453497287095231,
          0.2886471123783374,
          0.4789224073967982,
          1.8868787058240575,
          -0.7069821240099842,
          0.9364960925054092,
          -0.11826593254370696,
          -1.2466608150509335,
          0.5835449052351525,
          -0.7856053542283987,
          -1.402302566540273,
          1.3852800062444897,
          0.5641183370922549,
          0.8809989823072313,
          -0.2316988475498588,
          0.9588801018246939,
          -1.8023754339085756,
          1.3856050832892777,
          0.2889566018572497,
          -2.2912515772536093,
          1.2338406432349927,
          -0.37060434083404203,
          -1.115233219161336,
          0.04673985612202292,
          0.0942462710028508,
          -0.13839475415973518,
          -0.09718950720666848,
          0.24901537761553835,
          0.9108528097216493,
          -0.5528486250284738,
          0.1437258643037152,
          1.2368565085155692,
          0.11806071227737899,
          -0.6915685444367112,
          0.6893681392468275,
          -2.1930493530215243,
          -0.9934789592227896,
          -0.6189689820317923,
          -0.8698092136412182,
          0.8003318888279906,
          -0.5982506634931678,
          -0.7890609206749534,
          -0.6548147871758787,
          0.5587927372009642,
          0.27255474613842035,
          1.0925266720615479,
          1.3392761253917005,
          0.1065019292120311,
          -1.1867386077150974,
          1.78632170548558,
          -0.02624061741045453,
          -1.1556722058561715,
          0.07704352120398042,
          -0.22053430872375845,
          2.5042220859217554,
          0.2355109428038429,
          0.1805691839545755,
          1.641624590650236,
          0.9246325724024335,
          -0.0517173982740807,
          -1.6078788351856876,
          -0.673781299334335,
          -0.11875226070443112,
          -1.1803330927190678,
          -0.6051380566023823,
          1.3120299005977665,
          -1.586753953775392,
          1.0494361893220578,
          0.8185429666565787,
          0.0796582520338552,
          0.8785869617159295,
          -1.3860246585946714,
          0.4098334039689942,
          2.026756298055897,
          -2.341265735162529,
          1.0423930455611918,
          1.7745715730437097,
          -0.7451216801801956,
          0.13019025491771619,
          0.6720981517354053,
          1.2143690393829878,
          -0.6817286989667747,
          1.7765429487539386,
          -0.24465282170560929,
          1.1093476031534293,
          3.462655523208048,
          -0.4175023099069305,
          0.1293918215907214
         ],
         "yaxis": "y10"
        },
        {
         "histfunc": "count",
         "histnorm": "",
         "marker": {
          "color": "rgba(50, 171, 96, 1.0)",
          "line": {
           "color": "#4D5663",
           "width": 1.3
          }
         },
         "name": "C",
         "nbinsx": 10,
         "opacity": 0.8,
         "orientation": "v",
         "type": "histogram",
         "x": [
          1.9684685598255098,
          0.8865735701165786,
          -0.9282924703857871,
          0.0864231738857163,
          -0.17851496705340106,
          0.8941201736951061,
          -1.767757746744734,
          -0.9029257916222327,
          -0.15040689632672258,
          0.3608236978003134,
          -2.3993756008061955,
          -0.483640402637199,
          2.453497287095231,
          0.2886471123783374,
          0.4789224073967982,
          1.8868787058240575,
          -0.7069821240099842,
          0.9364960925054092,
          -0.11826593254370696,
          -1.2466608150509335,
          0.5835449052351525,
          -0.7856053542283987,
          -1.402302566540273,
          1.3852800062444897,
          0.5641183370922549,
          0.8809989823072313,
          -0.2316988475498588,
          0.9588801018246939,
          -1.8023754339085756,
          1.3856050832892777,
          0.2889566018572497,
          -2.2912515772536093,
          1.2338406432349927,
          -0.37060434083404203,
          -1.115233219161336,
          0.04673985612202292,
          0.0942462710028508,
          -0.13839475415973518,
          -0.09718950720666848,
          0.24901537761553835,
          0.9108528097216493,
          -0.5528486250284738,
          0.1437258643037152,
          1.2368565085155692,
          0.11806071227737899,
          -0.6915685444367112,
          0.6893681392468275,
          -2.1930493530215243,
          -0.9934789592227896,
          -0.6189689820317923,
          -0.8698092136412182,
          0.8003318888279906,
          -0.5982506634931678,
          -0.7890609206749534,
          -0.6548147871758787,
          0.5587927372009642,
          0.27255474613842035,
          1.0925266720615479,
          1.3392761253917005,
          0.1065019292120311,
          -1.1867386077150974,
          1.78632170548558,
          -0.02624061741045453,
          -1.1556722058561715,
          0.07704352120398042,
          -0.22053430872375845,
          2.5042220859217554,
          0.2355109428038429,
          0.1805691839545755,
          1.641624590650236,
          0.9246325724024335,
          -0.0517173982740807,
          -1.6078788351856876,
          -0.673781299334335,
          -0.11875226070443112,
          -1.1803330927190678,
          -0.6051380566023823,
          1.3120299005977665,
          -1.586753953775392,
          1.0494361893220578,
          0.8185429666565787,
          0.0796582520338552,
          0.8785869617159295,
          -1.3860246585946714,
          0.4098334039689942,
          2.026756298055897,
          -2.341265735162529,
          1.0423930455611918,
          1.7745715730437097,
          -0.7451216801801956,
          0.13019025491771619,
          0.6720981517354053,
          1.2143690393829878,
          -0.6817286989667747,
          1.7765429487539386,
          -0.24465282170560929,
          1.1093476031534293,
          3.462655523208048,
          -0.4175023099069305,
          0.1293918215907214
         ],
         "xaxis": "x11",
         "yaxis": "y11"
        },
        {
         "line": {
          "color": "rgba(128, 128, 128, 1.0)",
          "dash": "solid",
          "shape": "linear",
          "width": 1.3
         },
         "marker": {
          "size": 2,
          "symbol": "circle"
         },
         "mode": "markers",
         "name": "C",
         "text": "",
         "type": "scatter",
         "x": [
          1.6630337650354345,
          0.07550432297170971,
          -0.5973245468599844,
          -1.657449860204015,
          0.05280375575287506,
          -0.015347519964781276,
          -0.823066509767297,
          -1.2865818271926146,
          -0.20465223602492458,
          1.4326116078768383,
          1.715349653593688,
          1.8332783984371763,
          0.10489256944377925,
          0.1835183523000019,
          -1.5966870438332263,
          0.44522874299998944,
          0.6584567307528261,
          0.6650332813795531,
          0.2807839634292779,
          -0.29086894397778557,
          0.16752877630439322,
          1.9770173482802893,
          -2.8154582401712154,
          -0.9829856709848566,
          -0.00827771127849985,
          0.16148652501732152,
          2.319848288689466,
          1.022424591320778,
          2.446730447840035,
          -0.5276727460407082,
          -0.4206033582273582,
          -1.8277275907138832,
          0.014979298168371534,
          0.7821409129741059,
          -0.6683656546714996,
          -2.8509032306340627,
          -0.2554547617448989,
          0.6031621488581722,
          -1.8720737192452415,
          -2.2039356896415576,
          1.1354713474057998,
          -1.3147837122357673,
          0.08847860993731024,
          0.5434300304313257,
          -1.9624730325797959,
          -0.7335728844338252,
          -0.7602415933637703,
          -2.478504024403525,
          -2.043359504359485,
          0.07229925889259052,
          0.8223533915753203,
          0.7541898582279355,
          -0.8457042031941514,
          -2.0806587994267742,
          -0.33255328325872824,
          1.1100669481856251,
          0.8590167189662465,
          -0.5954983458201378,
          -0.09732296749624923,
          -0.24106644629353324,
          -0.921362500994098,
          0.7250079654355328,
          -0.7511631767920098,
          0.5235530857383306,
          0.9304102996787895,
          1.1013735671223808,
          2.144674046199205,
          0.06923107230228003,
          1.8428871518189849,
          0.4982298687939204,
          0.19661617252683,
          0.23266766393126748,
          1.4061128071516085,
          0.8462385703859491,
          0.6549491598459045,
          0.439385154094097,
          -2.501445480519395,
          0.045409052141403054,
          0.7869651058984805,
          -1.1339156708019669,
          -0.43148029590986947,
          0.6465899085984634,
          0.3408739471603276,
          -0.7613374448109137,
          -0.09817614527629241,
          -0.7309778541053539,
          -0.07818344318158707,
          -0.4731780226773017,
          0.8875564238258683,
          0.35454221858793916,
          0.6044883944756151,
          -0.8547303972785114,
          0.40388289163412455,
          1.1952818174880846,
          1.761384365862785,
          -0.3538293908999642,
          -0.6913216824668283,
          0.8986854351831924,
          0.2494784614208996,
          -0.40344347187061447
         ],
         "xaxis": "x12",
         "y": [
          1.9684685598255098,
          0.8865735701165786,
          -0.9282924703857871,
          0.0864231738857163,
          -0.17851496705340106,
          0.8941201736951061,
          -1.767757746744734,
          -0.9029257916222327,
          -0.15040689632672258,
          0.3608236978003134,
          -2.3993756008061955,
          -0.483640402637199,
          2.453497287095231,
          0.2886471123783374,
          0.4789224073967982,
          1.8868787058240575,
          -0.7069821240099842,
          0.9364960925054092,
          -0.11826593254370696,
          -1.2466608150509335,
          0.5835449052351525,
          -0.7856053542283987,
          -1.402302566540273,
          1.3852800062444897,
          0.5641183370922549,
          0.8809989823072313,
          -0.2316988475498588,
          0.9588801018246939,
          -1.8023754339085756,
          1.3856050832892777,
          0.2889566018572497,
          -2.2912515772536093,
          1.2338406432349927,
          -0.37060434083404203,
          -1.115233219161336,
          0.04673985612202292,
          0.0942462710028508,
          -0.13839475415973518,
          -0.09718950720666848,
          0.24901537761553835,
          0.9108528097216493,
          -0.5528486250284738,
          0.1437258643037152,
          1.2368565085155692,
          0.11806071227737899,
          -0.6915685444367112,
          0.6893681392468275,
          -2.1930493530215243,
          -0.9934789592227896,
          -0.6189689820317923,
          -0.8698092136412182,
          0.8003318888279906,
          -0.5982506634931678,
          -0.7890609206749534,
          -0.6548147871758787,
          0.5587927372009642,
          0.27255474613842035,
          1.0925266720615479,
          1.3392761253917005,
          0.1065019292120311,
          -1.1867386077150974,
          1.78632170548558,
          -0.02624061741045453,
          -1.1556722058561715,
          0.07704352120398042,
          -0.22053430872375845,
          2.5042220859217554,
          0.2355109428038429,
          0.1805691839545755,
          1.641624590650236,
          0.9246325724024335,
          -0.0517173982740807,
          -1.6078788351856876,
          -0.673781299334335,
          -0.11875226070443112,
          -1.1803330927190678,
          -0.6051380566023823,
          1.3120299005977665,
          -1.586753953775392,
          1.0494361893220578,
          0.8185429666565787,
          0.0796582520338552,
          0.8785869617159295,
          -1.3860246585946714,
          0.4098334039689942,
          2.026756298055897,
          -2.341265735162529,
          1.0423930455611918,
          1.7745715730437097,
          -0.7451216801801956,
          0.13019025491771619,
          0.6720981517354053,
          1.2143690393829878,
          -0.6817286989667747,
          1.7765429487539386,
          -0.24465282170560929,
          1.1093476031534293,
          3.462655523208048,
          -0.4175023099069305,
          0.1293918215907214
         ],
         "yaxis": "y12"
        },
        {
         "line": {
          "color": "rgba(128, 128, 128, 1.0)",
          "dash": "solid",
          "shape": "linear",
          "width": 1.3
         },
         "marker": {
          "size": 2,
          "symbol": "circle"
         },
         "mode": "markers",
         "name": "D",
         "text": "",
         "type": "scatter",
         "x": [
          0.963656208822238,
          1.1213805704854953,
          0.08117322059561863,
          0.9067501670920386,
          1.28908725845038,
          -0.8484788632427857,
          -0.8009485265222287,
          -0.13954698878550142,
          -0.4209938328140542,
          0.2837355152610227,
          -0.21272756966893616,
          1.7570408279670209,
          0.3550122841604106,
          1.30974406905139,
          0.2232155423907447,
          0.20225806270488592,
          0.4297931309428796,
          0.2710898356704665,
          1.2673150001525066,
          -0.28317420340831106,
          0.20613001876357961,
          0.4635201733939552,
          0.5460897413984124,
          0.12438837142487577,
          -0.3311450835685355,
          0.43842530680477404,
          1.0684047789837727,
          -0.6243736534857598,
          -1.1906662032404274,
          1.4656058483881402,
          0.16715588520722816,
          0.48360128610027264,
          1.0718721211795463,
          -0.24068377304579952,
          -0.8837940178049627,
          0.28414594957742983,
          0.18636052031088884,
          1.0554728665925521,
          0.24657908043205698,
          -0.255956079869308,
          0.07878204355354528,
          -1.1832024418880038,
          -0.3947053481469931,
          0.015051127698353848,
          -0.9273312434230097,
          -0.5904417385480116,
          -0.8248473181016788,
          -2.553642906404523,
          0.5853809835216754,
          0.07471667146690081,
          0.8078271481497611,
          2.0119568319081234,
          1.7051615445225863,
          0.3690781122530383,
          0.27207568986467,
          0.9429351698391747,
          0.8709196392545411,
          1.8881327097718632,
          -2.277236818278749,
          0.7641282663968877,
          -1.9210586871999982,
          0.6083480372818315,
          -1.7059804718374605,
          1.8390631369000259,
          0.47676559937164253,
          0.7951445119372802,
          0.7363841786006643,
          1.2801801668695012,
          -0.987315530991337,
          -0.7855382455137779,
          -1.5235664056893965,
          -0.8068782421283027,
          0.1899751266947658,
          -0.8176847491115944,
          -0.7588257659066171,
          0.7146591792126702,
          1.1389770375251385,
          -0.49140946806501906,
          0.3885375141880657,
          0.19210286916179659,
          -1.8674308759485234,
          0.2563319473019304,
          1.4141223099861748,
          1.5347206360501597,
          -1.094691314002368,
          -0.060435557199993446,
          0.2992179294797572,
          1.4510015729851962,
          0.38567992079704777,
          -1.8471002701272756,
          -0.2158731199529436,
          -0.3833111312088049,
          -2.0068888309777657,
          -0.548083205199428,
          0.6861555341365956,
          1.199667217838947,
          0.06831398795428081,
          -0.057601596970910905,
          0.3827056101028784,
          0.5691997438450976
         ],
         "xaxis": "x13",
         "y": [
          1.6630337650354345,
          0.07550432297170971,
          -0.5973245468599844,
          -1.657449860204015,
          0.05280375575287506,
          -0.015347519964781276,
          -0.823066509767297,
          -1.2865818271926146,
          -0.20465223602492458,
          1.4326116078768383,
          1.715349653593688,
          1.8332783984371763,
          0.10489256944377925,
          0.1835183523000019,
          -1.5966870438332263,
          0.44522874299998944,
          0.6584567307528261,
          0.6650332813795531,
          0.2807839634292779,
          -0.29086894397778557,
          0.16752877630439322,
          1.9770173482802893,
          -2.8154582401712154,
          -0.9829856709848566,
          -0.00827771127849985,
          0.16148652501732152,
          2.319848288689466,
          1.022424591320778,
          2.446730447840035,
          -0.5276727460407082,
          -0.4206033582273582,
          -1.8277275907138832,
          0.014979298168371534,
          0.7821409129741059,
          -0.6683656546714996,
          -2.8509032306340627,
          -0.2554547617448989,
          0.6031621488581722,
          -1.8720737192452415,
          -2.2039356896415576,
          1.1354713474057998,
          -1.3147837122357673,
          0.08847860993731024,
          0.5434300304313257,
          -1.9624730325797959,
          -0.7335728844338252,
          -0.7602415933637703,
          -2.478504024403525,
          -2.043359504359485,
          0.07229925889259052,
          0.8223533915753203,
          0.7541898582279355,
          -0.8457042031941514,
          -2.0806587994267742,
          -0.33255328325872824,
          1.1100669481856251,
          0.8590167189662465,
          -0.5954983458201378,
          -0.09732296749624923,
          -0.24106644629353324,
          -0.921362500994098,
          0.7250079654355328,
          -0.7511631767920098,
          0.5235530857383306,
          0.9304102996787895,
          1.1013735671223808,
          2.144674046199205,
          0.06923107230228003,
          1.8428871518189849,
          0.4982298687939204,
          0.19661617252683,
          0.23266766393126748,
          1.4061128071516085,
          0.8462385703859491,
          0.6549491598459045,
          0.439385154094097,
          -2.501445480519395,
          0.045409052141403054,
          0.7869651058984805,
          -1.1339156708019669,
          -0.43148029590986947,
          0.6465899085984634,
          0.3408739471603276,
          -0.7613374448109137,
          -0.09817614527629241,
          -0.7309778541053539,
          -0.07818344318158707,
          -0.4731780226773017,
          0.8875564238258683,
          0.35454221858793916,
          0.6044883944756151,
          -0.8547303972785114,
          0.40388289163412455,
          1.1952818174880846,
          1.761384365862785,
          -0.3538293908999642,
          -0.6913216824668283,
          0.8986854351831924,
          0.2494784614208996,
          -0.40344347187061447
         ],
         "yaxis": "y13"
        },
        {
         "line": {
          "color": "rgba(128, 128, 128, 1.0)",
          "dash": "solid",
          "shape": "linear",
          "width": 1.3
         },
         "marker": {
          "size": 2,
          "symbol": "circle"
         },
         "mode": "markers",
         "name": "D",
         "text": "",
         "type": "scatter",
         "x": [
          1.0418607474294792,
          -1.4939672413762932,
          -0.02127901542430224,
          0.33292977024558157,
          1.1407436277450778,
          -0.3015660930492725,
          -0.0752865847187486,
          -1.009791743749023,
          -0.6974105177481036,
          -1.0778447312443185,
          0.21994773983594507,
          -1.2767378096491764,
          -0.4772520284876469,
          -0.13191693638288507,
          -0.8840497936830316,
          0.43491378665196123,
          1.237780885733663,
          -0.7372283644576442,
          -0.11267970353145566,
          -1.637025903877696,
          -0.8643009602442039,
          -1.170864879740225,
          0.8657447067108397,
          -1.3316471625112472,
          0.27930606940491254,
          0.1010548787720902,
          0.7014020947179823,
          0.8115916437019352,
          0.9534863463399055,
          -0.17974376572600015,
          0.15539942126823825,
          0.12563065884091904,
          -0.6983132119953138,
          -0.8557269377205827,
          -1.1114678483065996,
          1.6267980935814845,
          0.10835953580183216,
          -0.724885465855628,
          -0.13014748543449164,
          0.02635813457746775,
          -0.10731405448780107,
          0.9394176236033902,
          0.8852004040890421,
          0.8837667760803889,
          -0.6827153117408953,
          -0.9093724172772358,
          0.5777482827305919,
          0.1320824276129593,
          0.051752566935829254,
          2.2294346148078286,
          -0.3450934390030509,
          0.1620081871920339,
          0.22742137414734556,
          0.53465876620935,
          0.7992154964793429,
          -1.3109197447319967,
          -1.8881307729462076,
          2.130605406350455,
          -0.031583068295145504,
          0.5445342145696391,
          -0.3836665294064964,
          -0.8276744278807356,
          1.5347897785141216,
          -0.10205298921735546,
          -0.9931249156241323,
          0.6784877290695253,
          0.6442290539833533,
          0.22188261861927183,
          0.658824210911803,
          0.4725016736628034,
          -0.5884114772778922,
          -0.868227094420527,
          -1.3615134352744052,
          1.092930344226626,
          -0.13734327442278882,
          -1.3246769110560028,
          -0.6863100288573838,
          0.2900951740060484,
          -0.7262357878917776,
          -1.5393687384063548,
          -0.6345124844359458,
          1.0511810398400365,
          -0.32552486870352804,
          0.46721489635640734,
          1.2701651157118028,
          0.821796041357051,
          -1.3530062245164303,
          -0.6629088380930819,
          0.8386510462005943,
          -0.10769881867698582,
          0.18586510865496922,
          0.0027232401253373915,
          -2.1003147011287964,
          0.19799553908870476,
          0.5799814202834371,
          -1.1775863243324383,
          0.748291680102528,
          0.2145327190535425,
          0.10937980687552407,
          -0.3629526709313861
         ],
         "xaxis": "x14",
         "y": [
          1.6630337650354345,
          0.07550432297170971,
          -0.5973245468599844,
          -1.657449860204015,
          0.05280375575287506,
          -0.015347519964781276,
          -0.823066509767297,
          -1.2865818271926146,
          -0.20465223602492458,
          1.4326116078768383,
          1.715349653593688,
          1.8332783984371763,
          0.10489256944377925,
          0.1835183523000019,
          -1.5966870438332263,
          0.44522874299998944,
          0.6584567307528261,
          0.6650332813795531,
          0.2807839634292779,
          -0.29086894397778557,
          0.16752877630439322,
          1.9770173482802893,
          -2.8154582401712154,
          -0.9829856709848566,
          -0.00827771127849985,
          0.16148652501732152,
          2.319848288689466,
          1.022424591320778,
          2.446730447840035,
          -0.5276727460407082,
          -0.4206033582273582,
          -1.8277275907138832,
          0.014979298168371534,
          0.7821409129741059,
          -0.6683656546714996,
          -2.8509032306340627,
          -0.2554547617448989,
          0.6031621488581722,
          -1.8720737192452415,
          -2.2039356896415576,
          1.1354713474057998,
          -1.3147837122357673,
          0.08847860993731024,
          0.5434300304313257,
          -1.9624730325797959,
          -0.7335728844338252,
          -0.7602415933637703,
          -2.478504024403525,
          -2.043359504359485,
          0.07229925889259052,
          0.8223533915753203,
          0.7541898582279355,
          -0.8457042031941514,
          -2.0806587994267742,
          -0.33255328325872824,
          1.1100669481856251,
          0.8590167189662465,
          -0.5954983458201378,
          -0.09732296749624923,
          -0.24106644629353324,
          -0.921362500994098,
          0.7250079654355328,
          -0.7511631767920098,
          0.5235530857383306,
          0.9304102996787895,
          1.1013735671223808,
          2.144674046199205,
          0.06923107230228003,
          1.8428871518189849,
          0.4982298687939204,
          0.19661617252683,
          0.23266766393126748,
          1.4061128071516085,
          0.8462385703859491,
          0.6549491598459045,
          0.439385154094097,
          -2.501445480519395,
          0.045409052141403054,
          0.7869651058984805,
          -1.1339156708019669,
          -0.43148029590986947,
          0.6465899085984634,
          0.3408739471603276,
          -0.7613374448109137,
          -0.09817614527629241,
          -0.7309778541053539,
          -0.07818344318158707,
          -0.4731780226773017,
          0.8875564238258683,
          0.35454221858793916,
          0.6044883944756151,
          -0.8547303972785114,
          0.40388289163412455,
          1.1952818174880846,
          1.761384365862785,
          -0.3538293908999642,
          -0.6913216824668283,
          0.8986854351831924,
          0.2494784614208996,
          -0.40344347187061447
         ],
         "yaxis": "y14"
        },
        {
         "line": {
          "color": "rgba(128, 128, 128, 1.0)",
          "dash": "solid",
          "shape": "linear",
          "width": 1.3
         },
         "marker": {
          "size": 2,
          "symbol": "circle"
         },
         "mode": "markers",
         "name": "D",
         "text": "",
         "type": "scatter",
         "x": [
          1.9684685598255098,
          0.8865735701165786,
          -0.9282924703857871,
          0.0864231738857163,
          -0.17851496705340106,
          0.8941201736951061,
          -1.767757746744734,
          -0.9029257916222327,
          -0.15040689632672258,
          0.3608236978003134,
          -2.3993756008061955,
          -0.483640402637199,
          2.453497287095231,
          0.2886471123783374,
          0.4789224073967982,
          1.8868787058240575,
          -0.7069821240099842,
          0.9364960925054092,
          -0.11826593254370696,
          -1.2466608150509335,
          0.5835449052351525,
          -0.7856053542283987,
          -1.402302566540273,
          1.3852800062444897,
          0.5641183370922549,
          0.8809989823072313,
          -0.2316988475498588,
          0.9588801018246939,
          -1.8023754339085756,
          1.3856050832892777,
          0.2889566018572497,
          -2.2912515772536093,
          1.2338406432349927,
          -0.37060434083404203,
          -1.115233219161336,
          0.04673985612202292,
          0.0942462710028508,
          -0.13839475415973518,
          -0.09718950720666848,
          0.24901537761553835,
          0.9108528097216493,
          -0.5528486250284738,
          0.1437258643037152,
          1.2368565085155692,
          0.11806071227737899,
          -0.6915685444367112,
          0.6893681392468275,
          -2.1930493530215243,
          -0.9934789592227896,
          -0.6189689820317923,
          -0.8698092136412182,
          0.8003318888279906,
          -0.5982506634931678,
          -0.7890609206749534,
          -0.6548147871758787,
          0.5587927372009642,
          0.27255474613842035,
          1.0925266720615479,
          1.3392761253917005,
          0.1065019292120311,
          -1.1867386077150974,
          1.78632170548558,
          -0.02624061741045453,
          -1.1556722058561715,
          0.07704352120398042,
          -0.22053430872375845,
          2.5042220859217554,
          0.2355109428038429,
          0.1805691839545755,
          1.641624590650236,
          0.9246325724024335,
          -0.0517173982740807,
          -1.6078788351856876,
          -0.673781299334335,
          -0.11875226070443112,
          -1.1803330927190678,
          -0.6051380566023823,
          1.3120299005977665,
          -1.586753953775392,
          1.0494361893220578,
          0.8185429666565787,
          0.0796582520338552,
          0.8785869617159295,
          -1.3860246585946714,
          0.4098334039689942,
          2.026756298055897,
          -2.341265735162529,
          1.0423930455611918,
          1.7745715730437097,
          -0.7451216801801956,
          0.13019025491771619,
          0.6720981517354053,
          1.2143690393829878,
          -0.6817286989667747,
          1.7765429487539386,
          -0.24465282170560929,
          1.1093476031534293,
          3.462655523208048,
          -0.4175023099069305,
          0.1293918215907214
         ],
         "xaxis": "x15",
         "y": [
          1.6630337650354345,
          0.07550432297170971,
          -0.5973245468599844,
          -1.657449860204015,
          0.05280375575287506,
          -0.015347519964781276,
          -0.823066509767297,
          -1.2865818271926146,
          -0.20465223602492458,
          1.4326116078768383,
          1.715349653593688,
          1.8332783984371763,
          0.10489256944377925,
          0.1835183523000019,
          -1.5966870438332263,
          0.44522874299998944,
          0.6584567307528261,
          0.6650332813795531,
          0.2807839634292779,
          -0.29086894397778557,
          0.16752877630439322,
          1.9770173482802893,
          -2.8154582401712154,
          -0.9829856709848566,
          -0.00827771127849985,
          0.16148652501732152,
          2.319848288689466,
          1.022424591320778,
          2.446730447840035,
          -0.5276727460407082,
          -0.4206033582273582,
          -1.8277275907138832,
          0.014979298168371534,
          0.7821409129741059,
          -0.6683656546714996,
          -2.8509032306340627,
          -0.2554547617448989,
          0.6031621488581722,
          -1.8720737192452415,
          -2.2039356896415576,
          1.1354713474057998,
          -1.3147837122357673,
          0.08847860993731024,
          0.5434300304313257,
          -1.9624730325797959,
          -0.7335728844338252,
          -0.7602415933637703,
          -2.478504024403525,
          -2.043359504359485,
          0.07229925889259052,
          0.8223533915753203,
          0.7541898582279355,
          -0.8457042031941514,
          -2.0806587994267742,
          -0.33255328325872824,
          1.1100669481856251,
          0.8590167189662465,
          -0.5954983458201378,
          -0.09732296749624923,
          -0.24106644629353324,
          -0.921362500994098,
          0.7250079654355328,
          -0.7511631767920098,
          0.5235530857383306,
          0.9304102996787895,
          1.1013735671223808,
          2.144674046199205,
          0.06923107230228003,
          1.8428871518189849,
          0.4982298687939204,
          0.19661617252683,
          0.23266766393126748,
          1.4061128071516085,
          0.8462385703859491,
          0.6549491598459045,
          0.439385154094097,
          -2.501445480519395,
          0.045409052141403054,
          0.7869651058984805,
          -1.1339156708019669,
          -0.43148029590986947,
          0.6465899085984634,
          0.3408739471603276,
          -0.7613374448109137,
          -0.09817614527629241,
          -0.7309778541053539,
          -0.07818344318158707,
          -0.4731780226773017,
          0.8875564238258683,
          0.35454221858793916,
          0.6044883944756151,
          -0.8547303972785114,
          0.40388289163412455,
          1.1952818174880846,
          1.761384365862785,
          -0.3538293908999642,
          -0.6913216824668283,
          0.8986854351831924,
          0.2494784614208996,
          -0.40344347187061447
         ],
         "yaxis": "y15"
        },
        {
         "histfunc": "count",
         "histnorm": "",
         "marker": {
          "color": "rgba(128, 0, 128, 1.0)",
          "line": {
           "color": "#4D5663",
           "width": 1.3
          }
         },
         "name": "D",
         "nbinsx": 10,
         "opacity": 0.8,
         "orientation": "v",
         "type": "histogram",
         "x": [
          1.6630337650354345,
          0.07550432297170971,
          -0.5973245468599844,
          -1.657449860204015,
          0.05280375575287506,
          -0.015347519964781276,
          -0.823066509767297,
          -1.2865818271926146,
          -0.20465223602492458,
          1.4326116078768383,
          1.715349653593688,
          1.8332783984371763,
          0.10489256944377925,
          0.1835183523000019,
          -1.5966870438332263,
          0.44522874299998944,
          0.6584567307528261,
          0.6650332813795531,
          0.2807839634292779,
          -0.29086894397778557,
          0.16752877630439322,
          1.9770173482802893,
          -2.8154582401712154,
          -0.9829856709848566,
          -0.00827771127849985,
          0.16148652501732152,
          2.319848288689466,
          1.022424591320778,
          2.446730447840035,
          -0.5276727460407082,
          -0.4206033582273582,
          -1.8277275907138832,
          0.014979298168371534,
          0.7821409129741059,
          -0.6683656546714996,
          -2.8509032306340627,
          -0.2554547617448989,
          0.6031621488581722,
          -1.8720737192452415,
          -2.2039356896415576,
          1.1354713474057998,
          -1.3147837122357673,
          0.08847860993731024,
          0.5434300304313257,
          -1.9624730325797959,
          -0.7335728844338252,
          -0.7602415933637703,
          -2.478504024403525,
          -2.043359504359485,
          0.07229925889259052,
          0.8223533915753203,
          0.7541898582279355,
          -0.8457042031941514,
          -2.0806587994267742,
          -0.33255328325872824,
          1.1100669481856251,
          0.8590167189662465,
          -0.5954983458201378,
          -0.09732296749624923,
          -0.24106644629353324,
          -0.921362500994098,
          0.7250079654355328,
          -0.7511631767920098,
          0.5235530857383306,
          0.9304102996787895,
          1.1013735671223808,
          2.144674046199205,
          0.06923107230228003,
          1.8428871518189849,
          0.4982298687939204,
          0.19661617252683,
          0.23266766393126748,
          1.4061128071516085,
          0.8462385703859491,
          0.6549491598459045,
          0.439385154094097,
          -2.501445480519395,
          0.045409052141403054,
          0.7869651058984805,
          -1.1339156708019669,
          -0.43148029590986947,
          0.6465899085984634,
          0.3408739471603276,
          -0.7613374448109137,
          -0.09817614527629241,
          -0.7309778541053539,
          -0.07818344318158707,
          -0.4731780226773017,
          0.8875564238258683,
          0.35454221858793916,
          0.6044883944756151,
          -0.8547303972785114,
          0.40388289163412455,
          1.1952818174880846,
          1.761384365862785,
          -0.3538293908999642,
          -0.6913216824668283,
          0.8986854351831924,
          0.2494784614208996,
          -0.40344347187061447
         ],
         "xaxis": "x16",
         "yaxis": "y16"
        }
       ],
       "layout": {
        "bargap": 0.02,
        "legend": {
         "bgcolor": "#F5F6F9",
         "font": {
          "color": "#4D5663"
         }
        },
        "paper_bgcolor": "#F5F6F9",
        "plot_bgcolor": "#F5F6F9",
        "showlegend": false,
        "template": {
         "data": {
          "bar": [
           {
            "error_x": {
             "color": "#2a3f5f"
            },
            "error_y": {
             "color": "#2a3f5f"
            },
            "marker": {
             "line": {
              "color": "#E5ECF6",
              "width": 0.5
             },
             "pattern": {
              "fillmode": "overlay",
              "size": 10,
              "solidity": 0.2
             }
            },
            "type": "bar"
           }
          ],
          "barpolar": [
           {
            "marker": {
             "line": {
              "color": "#E5ECF6",
              "width": 0.5
             },
             "pattern": {
              "fillmode": "overlay",
              "size": 10,
              "solidity": 0.2
             }
            },
            "type": "barpolar"
           }
          ],
          "carpet": [
           {
            "aaxis": {
             "endlinecolor": "#2a3f5f",
             "gridcolor": "white",
             "linecolor": "white",
             "minorgridcolor": "white",
             "startlinecolor": "#2a3f5f"
            },
            "baxis": {
             "endlinecolor": "#2a3f5f",
             "gridcolor": "white",
             "linecolor": "white",
             "minorgridcolor": "white",
             "startlinecolor": "#2a3f5f"
            },
            "type": "carpet"
           }
          ],
          "choropleth": [
           {
            "colorbar": {
             "outlinewidth": 0,
             "ticks": ""
            },
            "type": "choropleth"
           }
          ],
          "contour": [
           {
            "colorbar": {
             "outlinewidth": 0,
             "ticks": ""
            },
            "colorscale": [
             [
              0,
              "#0d0887"
             ],
             [
              0.1111111111111111,
              "#46039f"
             ],
             [
              0.2222222222222222,
              "#7201a8"
             ],
             [
              0.3333333333333333,
              "#9c179e"
             ],
             [
              0.4444444444444444,
              "#bd3786"
             ],
             [
              0.5555555555555556,
              "#d8576b"
             ],
             [
              0.6666666666666666,
              "#ed7953"
             ],
             [
              0.7777777777777778,
              "#fb9f3a"
             ],
             [
              0.8888888888888888,
              "#fdca26"
             ],
             [
              1,
              "#f0f921"
             ]
            ],
            "type": "contour"
           }
          ],
          "contourcarpet": [
           {
            "colorbar": {
             "outlinewidth": 0,
             "ticks": ""
            },
            "type": "contourcarpet"
           }
          ],
          "heatmap": [
           {
            "colorbar": {
             "outlinewidth": 0,
             "ticks": ""
            },
            "colorscale": [
             [
              0,
              "#0d0887"
             ],
             [
              0.1111111111111111,
              "#46039f"
             ],
             [
              0.2222222222222222,
              "#7201a8"
             ],
             [
              0.3333333333333333,
              "#9c179e"
             ],
             [
              0.4444444444444444,
              "#bd3786"
             ],
             [
              0.5555555555555556,
              "#d8576b"
             ],
             [
              0.6666666666666666,
              "#ed7953"
             ],
             [
              0.7777777777777778,
              "#fb9f3a"
             ],
             [
              0.8888888888888888,
              "#fdca26"
             ],
             [
              1,
              "#f0f921"
             ]
            ],
            "type": "heatmap"
           }
          ],
          "heatmapgl": [
           {
            "colorbar": {
             "outlinewidth": 0,
             "ticks": ""
            },
            "colorscale": [
             [
              0,
              "#0d0887"
             ],
             [
              0.1111111111111111,
              "#46039f"
             ],
             [
              0.2222222222222222,
              "#7201a8"
             ],
             [
              0.3333333333333333,
              "#9c179e"
             ],
             [
              0.4444444444444444,
              "#bd3786"
             ],
             [
              0.5555555555555556,
              "#d8576b"
             ],
             [
              0.6666666666666666,
              "#ed7953"
             ],
             [
              0.7777777777777778,
              "#fb9f3a"
             ],
             [
              0.8888888888888888,
              "#fdca26"
             ],
             [
              1,
              "#f0f921"
             ]
            ],
            "type": "heatmapgl"
           }
          ],
          "histogram": [
           {
            "marker": {
             "pattern": {
              "fillmode": "overlay",
              "size": 10,
              "solidity": 0.2
             }
            },
            "type": "histogram"
           }
          ],
          "histogram2d": [
           {
            "colorbar": {
             "outlinewidth": 0,
             "ticks": ""
            },
            "colorscale": [
             [
              0,
              "#0d0887"
             ],
             [
              0.1111111111111111,
              "#46039f"
             ],
             [
              0.2222222222222222,
              "#7201a8"
             ],
             [
              0.3333333333333333,
              "#9c179e"
             ],
             [
              0.4444444444444444,
              "#bd3786"
             ],
             [
              0.5555555555555556,
              "#d8576b"
             ],
             [
              0.6666666666666666,
              "#ed7953"
             ],
             [
              0.7777777777777778,
              "#fb9f3a"
             ],
             [
              0.8888888888888888,
              "#fdca26"
             ],
             [
              1,
              "#f0f921"
             ]
            ],
            "type": "histogram2d"
           }
          ],
          "histogram2dcontour": [
           {
            "colorbar": {
             "outlinewidth": 0,
             "ticks": ""
            },
            "colorscale": [
             [
              0,
              "#0d0887"
             ],
             [
              0.1111111111111111,
              "#46039f"
             ],
             [
              0.2222222222222222,
              "#7201a8"
             ],
             [
              0.3333333333333333,
              "#9c179e"
             ],
             [
              0.4444444444444444,
              "#bd3786"
             ],
             [
              0.5555555555555556,
              "#d8576b"
             ],
             [
              0.6666666666666666,
              "#ed7953"
             ],
             [
              0.7777777777777778,
              "#fb9f3a"
             ],
             [
              0.8888888888888888,
              "#fdca26"
             ],
             [
              1,
              "#f0f921"
             ]
            ],
            "type": "histogram2dcontour"
           }
          ],
          "mesh3d": [
           {
            "colorbar": {
             "outlinewidth": 0,
             "ticks": ""
            },
            "type": "mesh3d"
           }
          ],
          "parcoords": [
           {
            "line": {
             "colorbar": {
              "outlinewidth": 0,
              "ticks": ""
             }
            },
            "type": "parcoords"
           }
          ],
          "pie": [
           {
            "automargin": true,
            "type": "pie"
           }
          ],
          "scatter": [
           {
            "fillpattern": {
             "fillmode": "overlay",
             "size": 10,
             "solidity": 0.2
            },
            "type": "scatter"
           }
          ],
          "scatter3d": [
           {
            "line": {
             "colorbar": {
              "outlinewidth": 0,
              "ticks": ""
             }
            },
            "marker": {
             "colorbar": {
              "outlinewidth": 0,
              "ticks": ""
             }
            },
            "type": "scatter3d"
           }
          ],
          "scattercarpet": [
           {
            "marker": {
             "colorbar": {
              "outlinewidth": 0,
              "ticks": ""
             }
            },
            "type": "scattercarpet"
           }
          ],
          "scattergeo": [
           {
            "marker": {
             "colorbar": {
              "outlinewidth": 0,
              "ticks": ""
             }
            },
            "type": "scattergeo"
           }
          ],
          "scattergl": [
           {
            "marker": {
             "colorbar": {
              "outlinewidth": 0,
              "ticks": ""
             }
            },
            "type": "scattergl"
           }
          ],
          "scattermapbox": [
           {
            "marker": {
             "colorbar": {
              "outlinewidth": 0,
              "ticks": ""
             }
            },
            "type": "scattermapbox"
           }
          ],
          "scatterpolar": [
           {
            "marker": {
             "colorbar": {
              "outlinewidth": 0,
              "ticks": ""
             }
            },
            "type": "scatterpolar"
           }
          ],
          "scatterpolargl": [
           {
            "marker": {
             "colorbar": {
              "outlinewidth": 0,
              "ticks": ""
             }
            },
            "type": "scatterpolargl"
           }
          ],
          "scatterternary": [
           {
            "marker": {
             "colorbar": {
              "outlinewidth": 0,
              "ticks": ""
             }
            },
            "type": "scatterternary"
           }
          ],
          "surface": [
           {
            "colorbar": {
             "outlinewidth": 0,
             "ticks": ""
            },
            "colorscale": [
             [
              0,
              "#0d0887"
             ],
             [
              0.1111111111111111,
              "#46039f"
             ],
             [
              0.2222222222222222,
              "#7201a8"
             ],
             [
              0.3333333333333333,
              "#9c179e"
             ],
             [
              0.4444444444444444,
              "#bd3786"
             ],
             [
              0.5555555555555556,
              "#d8576b"
             ],
             [
              0.6666666666666666,
              "#ed7953"
             ],
             [
              0.7777777777777778,
              "#fb9f3a"
             ],
             [
              0.8888888888888888,
              "#fdca26"
             ],
             [
              1,
              "#f0f921"
             ]
            ],
            "type": "surface"
           }
          ],
          "table": [
           {
            "cells": {
             "fill": {
              "color": "#EBF0F8"
             },
             "line": {
              "color": "white"
             }
            },
            "header": {
             "fill": {
              "color": "#C8D4E3"
             },
             "line": {
              "color": "white"
             }
            },
            "type": "table"
           }
          ]
         },
         "layout": {
          "annotationdefaults": {
           "arrowcolor": "#2a3f5f",
           "arrowhead": 0,
           "arrowwidth": 1
          },
          "autotypenumbers": "strict",
          "coloraxis": {
           "colorbar": {
            "outlinewidth": 0,
            "ticks": ""
           }
          },
          "colorscale": {
           "diverging": [
            [
             0,
             "#8e0152"
            ],
            [
             0.1,
             "#c51b7d"
            ],
            [
             0.2,
             "#de77ae"
            ],
            [
             0.3,
             "#f1b6da"
            ],
            [
             0.4,
             "#fde0ef"
            ],
            [
             0.5,
             "#f7f7f7"
            ],
            [
             0.6,
             "#e6f5d0"
            ],
            [
             0.7,
             "#b8e186"
            ],
            [
             0.8,
             "#7fbc41"
            ],
            [
             0.9,
             "#4d9221"
            ],
            [
             1,
             "#276419"
            ]
           ],
           "sequential": [
            [
             0,
             "#0d0887"
            ],
            [
             0.1111111111111111,
             "#46039f"
            ],
            [
             0.2222222222222222,
             "#7201a8"
            ],
            [
             0.3333333333333333,
             "#9c179e"
            ],
            [
             0.4444444444444444,
             "#bd3786"
            ],
            [
             0.5555555555555556,
             "#d8576b"
            ],
            [
             0.6666666666666666,
             "#ed7953"
            ],
            [
             0.7777777777777778,
             "#fb9f3a"
            ],
            [
             0.8888888888888888,
             "#fdca26"
            ],
            [
             1,
             "#f0f921"
            ]
           ],
           "sequentialminus": [
            [
             0,
             "#0d0887"
            ],
            [
             0.1111111111111111,
             "#46039f"
            ],
            [
             0.2222222222222222,
             "#7201a8"
            ],
            [
             0.3333333333333333,
             "#9c179e"
            ],
            [
             0.4444444444444444,
             "#bd3786"
            ],
            [
             0.5555555555555556,
             "#d8576b"
            ],
            [
             0.6666666666666666,
             "#ed7953"
            ],
            [
             0.7777777777777778,
             "#fb9f3a"
            ],
            [
             0.8888888888888888,
             "#fdca26"
            ],
            [
             1,
             "#f0f921"
            ]
           ]
          },
          "colorway": [
           "#636efa",
           "#EF553B",
           "#00cc96",
           "#ab63fa",
           "#FFA15A",
           "#19d3f3",
           "#FF6692",
           "#B6E880",
           "#FF97FF",
           "#FECB52"
          ],
          "font": {
           "color": "#2a3f5f"
          },
          "geo": {
           "bgcolor": "white",
           "lakecolor": "white",
           "landcolor": "#E5ECF6",
           "showlakes": true,
           "showland": true,
           "subunitcolor": "white"
          },
          "hoverlabel": {
           "align": "left"
          },
          "hovermode": "closest",
          "mapbox": {
           "style": "light"
          },
          "paper_bgcolor": "white",
          "plot_bgcolor": "#E5ECF6",
          "polar": {
           "angularaxis": {
            "gridcolor": "white",
            "linecolor": "white",
            "ticks": ""
           },
           "bgcolor": "#E5ECF6",
           "radialaxis": {
            "gridcolor": "white",
            "linecolor": "white",
            "ticks": ""
           }
          },
          "scene": {
           "xaxis": {
            "backgroundcolor": "#E5ECF6",
            "gridcolor": "white",
            "gridwidth": 2,
            "linecolor": "white",
            "showbackground": true,
            "ticks": "",
            "zerolinecolor": "white"
           },
           "yaxis": {
            "backgroundcolor": "#E5ECF6",
            "gridcolor": "white",
            "gridwidth": 2,
            "linecolor": "white",
            "showbackground": true,
            "ticks": "",
            "zerolinecolor": "white"
           },
           "zaxis": {
            "backgroundcolor": "#E5ECF6",
            "gridcolor": "white",
            "gridwidth": 2,
            "linecolor": "white",
            "showbackground": true,
            "ticks": "",
            "zerolinecolor": "white"
           }
          },
          "shapedefaults": {
           "line": {
            "color": "#2a3f5f"
           }
          },
          "ternary": {
           "aaxis": {
            "gridcolor": "white",
            "linecolor": "white",
            "ticks": ""
           },
           "baxis": {
            "gridcolor": "white",
            "linecolor": "white",
            "ticks": ""
           },
           "bgcolor": "#E5ECF6",
           "caxis": {
            "gridcolor": "white",
            "linecolor": "white",
            "ticks": ""
           }
          },
          "title": {
           "x": 0.05
          },
          "xaxis": {
           "automargin": true,
           "gridcolor": "white",
           "linecolor": "white",
           "ticks": "",
           "title": {
            "standoff": 15
           },
           "zerolinecolor": "white",
           "zerolinewidth": 2
          },
          "yaxis": {
           "automargin": true,
           "gridcolor": "white",
           "linecolor": "white",
           "ticks": "",
           "title": {
            "standoff": 15
           },
           "zerolinecolor": "white",
           "zerolinewidth": 2
          }
         }
        },
        "title": {
         "font": {
          "color": "#4D5663"
         }
        },
        "xaxis": {
         "anchor": "y",
         "domain": [
          0,
          0.2125
         ],
         "gridcolor": "#E1E5ED",
         "showgrid": false,
         "tickfont": {
          "color": "#4D5663"
         },
         "title": {
          "font": {
           "color": "#4D5663"
          },
          "text": ""
         },
         "zerolinecolor": "#E1E5ED"
        },
        "xaxis10": {
         "anchor": "y10",
         "domain": [
          0.2625,
          0.475
         ],
         "gridcolor": "#E1E5ED",
         "showgrid": false,
         "tickfont": {
          "color": "#4D5663"
         },
         "title": {
          "font": {
           "color": "#4D5663"
          },
          "text": ""
         },
         "zerolinecolor": "#E1E5ED"
        },
        "xaxis11": {
         "anchor": "y11",
         "domain": [
          0.525,
          0.7375
         ],
         "gridcolor": "#E1E5ED",
         "showgrid": false,
         "tickfont": {
          "color": "#4D5663"
         },
         "title": {
          "font": {
           "color": "#4D5663"
          },
          "text": ""
         },
         "zerolinecolor": "#E1E5ED"
        },
        "xaxis12": {
         "anchor": "y12",
         "domain": [
          0.7875,
          1
         ],
         "gridcolor": "#E1E5ED",
         "showgrid": false,
         "tickfont": {
          "color": "#4D5663"
         },
         "title": {
          "font": {
           "color": "#4D5663"
          },
          "text": ""
         },
         "zerolinecolor": "#E1E5ED"
        },
        "xaxis13": {
         "anchor": "y13",
         "domain": [
          0,
          0.2125
         ],
         "gridcolor": "#E1E5ED",
         "showgrid": false,
         "tickfont": {
          "color": "#4D5663"
         },
         "title": {
          "font": {
           "color": "#4D5663"
          },
          "text": ""
         },
         "zerolinecolor": "#E1E5ED"
        },
        "xaxis14": {
         "anchor": "y14",
         "domain": [
          0.2625,
          0.475
         ],
         "gridcolor": "#E1E5ED",
         "showgrid": false,
         "tickfont": {
          "color": "#4D5663"
         },
         "title": {
          "font": {
           "color": "#4D5663"
          },
          "text": ""
         },
         "zerolinecolor": "#E1E5ED"
        },
        "xaxis15": {
         "anchor": "y15",
         "domain": [
          0.525,
          0.7375
         ],
         "gridcolor": "#E1E5ED",
         "showgrid": false,
         "tickfont": {
          "color": "#4D5663"
         },
         "title": {
          "font": {
           "color": "#4D5663"
          },
          "text": ""
         },
         "zerolinecolor": "#E1E5ED"
        },
        "xaxis16": {
         "anchor": "y16",
         "domain": [
          0.7875,
          1
         ],
         "gridcolor": "#E1E5ED",
         "showgrid": false,
         "tickfont": {
          "color": "#4D5663"
         },
         "title": {
          "font": {
           "color": "#4D5663"
          },
          "text": ""
         },
         "zerolinecolor": "#E1E5ED"
        },
        "xaxis2": {
         "anchor": "y2",
         "domain": [
          0.2625,
          0.475
         ],
         "gridcolor": "#E1E5ED",
         "showgrid": false,
         "tickfont": {
          "color": "#4D5663"
         },
         "title": {
          "font": {
           "color": "#4D5663"
          },
          "text": ""
         },
         "zerolinecolor": "#E1E5ED"
        },
        "xaxis3": {
         "anchor": "y3",
         "domain": [
          0.525,
          0.7375
         ],
         "gridcolor": "#E1E5ED",
         "showgrid": false,
         "tickfont": {
          "color": "#4D5663"
         },
         "title": {
          "font": {
           "color": "#4D5663"
          },
          "text": ""
         },
         "zerolinecolor": "#E1E5ED"
        },
        "xaxis4": {
         "anchor": "y4",
         "domain": [
          0.7875,
          1
         ],
         "gridcolor": "#E1E5ED",
         "showgrid": false,
         "tickfont": {
          "color": "#4D5663"
         },
         "title": {
          "font": {
           "color": "#4D5663"
          },
          "text": ""
         },
         "zerolinecolor": "#E1E5ED"
        },
        "xaxis5": {
         "anchor": "y5",
         "domain": [
          0,
          0.2125
         ],
         "gridcolor": "#E1E5ED",
         "showgrid": false,
         "tickfont": {
          "color": "#4D5663"
         },
         "title": {
          "font": {
           "color": "#4D5663"
          },
          "text": ""
         },
         "zerolinecolor": "#E1E5ED"
        },
        "xaxis6": {
         "anchor": "y6",
         "domain": [
          0.2625,
          0.475
         ],
         "gridcolor": "#E1E5ED",
         "showgrid": false,
         "tickfont": {
          "color": "#4D5663"
         },
         "title": {
          "font": {
           "color": "#4D5663"
          },
          "text": ""
         },
         "zerolinecolor": "#E1E5ED"
        },
        "xaxis7": {
         "anchor": "y7",
         "domain": [
          0.525,
          0.7375
         ],
         "gridcolor": "#E1E5ED",
         "showgrid": false,
         "tickfont": {
          "color": "#4D5663"
         },
         "title": {
          "font": {
           "color": "#4D5663"
          },
          "text": ""
         },
         "zerolinecolor": "#E1E5ED"
        },
        "xaxis8": {
         "anchor": "y8",
         "domain": [
          0.7875,
          1
         ],
         "gridcolor": "#E1E5ED",
         "showgrid": false,
         "tickfont": {
          "color": "#4D5663"
         },
         "title": {
          "font": {
           "color": "#4D5663"
          },
          "text": ""
         },
         "zerolinecolor": "#E1E5ED"
        },
        "xaxis9": {
         "anchor": "y9",
         "domain": [
          0,
          0.2125
         ],
         "gridcolor": "#E1E5ED",
         "showgrid": false,
         "tickfont": {
          "color": "#4D5663"
         },
         "title": {
          "font": {
           "color": "#4D5663"
          },
          "text": ""
         },
         "zerolinecolor": "#E1E5ED"
        },
        "yaxis": {
         "anchor": "x",
         "domain": [
          0.8025,
          1
         ],
         "gridcolor": "#E1E5ED",
         "showgrid": false,
         "tickfont": {
          "color": "#4D5663"
         },
         "title": {
          "font": {
           "color": "#4D5663"
          },
          "text": ""
         },
         "zerolinecolor": "#E1E5ED"
        },
        "yaxis10": {
         "anchor": "x10",
         "domain": [
          0.2675,
          0.465
         ],
         "gridcolor": "#E1E5ED",
         "showgrid": false,
         "tickfont": {
          "color": "#4D5663"
         },
         "title": {
          "font": {
           "color": "#4D5663"
          },
          "text": ""
         },
         "zerolinecolor": "#E1E5ED"
        },
        "yaxis11": {
         "anchor": "x11",
         "domain": [
          0.2675,
          0.465
         ],
         "gridcolor": "#E1E5ED",
         "showgrid": false,
         "tickfont": {
          "color": "#4D5663"
         },
         "title": {
          "font": {
           "color": "#4D5663"
          },
          "text": ""
         },
         "zerolinecolor": "#E1E5ED"
        },
        "yaxis12": {
         "anchor": "x12",
         "domain": [
          0.2675,
          0.465
         ],
         "gridcolor": "#E1E5ED",
         "showgrid": false,
         "tickfont": {
          "color": "#4D5663"
         },
         "title": {
          "font": {
           "color": "#4D5663"
          },
          "text": ""
         },
         "zerolinecolor": "#E1E5ED"
        },
        "yaxis13": {
         "anchor": "x13",
         "domain": [
          0,
          0.1975
         ],
         "gridcolor": "#E1E5ED",
         "showgrid": false,
         "tickfont": {
          "color": "#4D5663"
         },
         "title": {
          "font": {
           "color": "#4D5663"
          },
          "text": ""
         },
         "zerolinecolor": "#E1E5ED"
        },
        "yaxis14": {
         "anchor": "x14",
         "domain": [
          0,
          0.1975
         ],
         "gridcolor": "#E1E5ED",
         "showgrid": false,
         "tickfont": {
          "color": "#4D5663"
         },
         "title": {
          "font": {
           "color": "#4D5663"
          },
          "text": ""
         },
         "zerolinecolor": "#E1E5ED"
        },
        "yaxis15": {
         "anchor": "x15",
         "domain": [
          0,
          0.1975
         ],
         "gridcolor": "#E1E5ED",
         "showgrid": false,
         "tickfont": {
          "color": "#4D5663"
         },
         "title": {
          "font": {
           "color": "#4D5663"
          },
          "text": ""
         },
         "zerolinecolor": "#E1E5ED"
        },
        "yaxis16": {
         "anchor": "x16",
         "domain": [
          0,
          0.1975
         ],
         "gridcolor": "#E1E5ED",
         "showgrid": false,
         "tickfont": {
          "color": "#4D5663"
         },
         "title": {
          "font": {
           "color": "#4D5663"
          },
          "text": ""
         },
         "zerolinecolor": "#E1E5ED"
        },
        "yaxis2": {
         "anchor": "x2",
         "domain": [
          0.8025,
          1
         ],
         "gridcolor": "#E1E5ED",
         "showgrid": false,
         "tickfont": {
          "color": "#4D5663"
         },
         "title": {
          "font": {
           "color": "#4D5663"
          },
          "text": ""
         },
         "zerolinecolor": "#E1E5ED"
        },
        "yaxis3": {
         "anchor": "x3",
         "domain": [
          0.8025,
          1
         ],
         "gridcolor": "#E1E5ED",
         "showgrid": false,
         "tickfont": {
          "color": "#4D5663"
         },
         "title": {
          "font": {
           "color": "#4D5663"
          },
          "text": ""
         },
         "zerolinecolor": "#E1E5ED"
        },
        "yaxis4": {
         "anchor": "x4",
         "domain": [
          0.8025,
          1
         ],
         "gridcolor": "#E1E5ED",
         "showgrid": false,
         "tickfont": {
          "color": "#4D5663"
         },
         "title": {
          "font": {
           "color": "#4D5663"
          },
          "text": ""
         },
         "zerolinecolor": "#E1E5ED"
        },
        "yaxis5": {
         "anchor": "x5",
         "domain": [
          0.535,
          0.7325
         ],
         "gridcolor": "#E1E5ED",
         "showgrid": false,
         "tickfont": {
          "color": "#4D5663"
         },
         "title": {
          "font": {
           "color": "#4D5663"
          },
          "text": ""
         },
         "zerolinecolor": "#E1E5ED"
        },
        "yaxis6": {
         "anchor": "x6",
         "domain": [
          0.535,
          0.7325
         ],
         "gridcolor": "#E1E5ED",
         "showgrid": false,
         "tickfont": {
          "color": "#4D5663"
         },
         "title": {
          "font": {
           "color": "#4D5663"
          },
          "text": ""
         },
         "zerolinecolor": "#E1E5ED"
        },
        "yaxis7": {
         "anchor": "x7",
         "domain": [
          0.535,
          0.7325
         ],
         "gridcolor": "#E1E5ED",
         "showgrid": false,
         "tickfont": {
          "color": "#4D5663"
         },
         "title": {
          "font": {
           "color": "#4D5663"
          },
          "text": ""
         },
         "zerolinecolor": "#E1E5ED"
        },
        "yaxis8": {
         "anchor": "x8",
         "domain": [
          0.535,
          0.7325
         ],
         "gridcolor": "#E1E5ED",
         "showgrid": false,
         "tickfont": {
          "color": "#4D5663"
         },
         "title": {
          "font": {
           "color": "#4D5663"
          },
          "text": ""
         },
         "zerolinecolor": "#E1E5ED"
        },
        "yaxis9": {
         "anchor": "x9",
         "domain": [
          0.2675,
          0.465
         ],
         "gridcolor": "#E1E5ED",
         "showgrid": false,
         "tickfont": {
          "color": "#4D5663"
         },
         "title": {
          "font": {
           "color": "#4D5663"
          },
          "text": ""
         },
         "zerolinecolor": "#E1E5ED"
        }
       }
      },
      "text/html": [
       "<div>                            <div id=\"3f4858e8-8b1a-4f82-8cf1-fa6926cec9d8\" class=\"plotly-graph-div\" style=\"height:525px; width:100%;\"></div>            <script type=\"text/javascript\">                require([\"plotly\"], function(Plotly) {                    window.PLOTLYENV=window.PLOTLYENV || {};\n",
       "                    window.PLOTLYENV.BASE_URL='https://plot.ly';                                    if (document.getElementById(\"3f4858e8-8b1a-4f82-8cf1-fa6926cec9d8\")) {                    Plotly.newPlot(                        \"3f4858e8-8b1a-4f82-8cf1-fa6926cec9d8\",                        [{\"histfunc\":\"count\",\"histnorm\":\"\",\"marker\":{\"color\":\"rgba(255, 153, 51, 1.0)\",\"line\":{\"color\":\"#4D5663\",\"width\":1.3}},\"name\":\"A\",\"nbinsx\":10,\"opacity\":0.8,\"orientation\":\"v\",\"x\":[0.963656208822238,1.1213805704854953,0.08117322059561863,0.9067501670920386,1.28908725845038,-0.8484788632427857,-0.8009485265222287,-0.13954698878550142,-0.4209938328140542,0.2837355152610227,-0.21272756966893616,1.7570408279670209,0.3550122841604106,1.30974406905139,0.2232155423907447,0.20225806270488592,0.4297931309428796,0.2710898356704665,1.2673150001525066,-0.28317420340831106,0.20613001876357961,0.4635201733939552,0.5460897413984124,0.12438837142487577,-0.3311450835685355,0.43842530680477404,1.0684047789837727,-0.6243736534857598,-1.1906662032404274,1.4656058483881402,0.16715588520722816,0.48360128610027264,1.0718721211795463,-0.24068377304579952,-0.8837940178049627,0.28414594957742983,0.18636052031088884,1.0554728665925521,0.24657908043205698,-0.255956079869308,0.07878204355354528,-1.1832024418880038,-0.3947053481469931,0.015051127698353848,-0.9273312434230097,-0.5904417385480116,-0.8248473181016788,-2.553642906404523,0.5853809835216754,0.07471667146690081,0.8078271481497611,2.0119568319081234,1.7051615445225863,0.3690781122530383,0.27207568986467,0.9429351698391747,0.8709196392545411,1.8881327097718632,-2.277236818278749,0.7641282663968877,-1.9210586871999982,0.6083480372818315,-1.7059804718374605,1.8390631369000259,0.47676559937164253,0.7951445119372802,0.7363841786006643,1.2801801668695012,-0.987315530991337,-0.7855382455137779,-1.5235664056893965,-0.8068782421283027,0.1899751266947658,-0.8176847491115944,-0.7588257659066171,0.7146591792126702,1.1389770375251385,-0.49140946806501906,0.3885375141880657,0.19210286916179659,-1.8674308759485234,0.2563319473019304,1.4141223099861748,1.5347206360501597,-1.094691314002368,-0.060435557199993446,0.2992179294797572,1.4510015729851962,0.38567992079704777,-1.8471002701272756,-0.2158731199529436,-0.3833111312088049,-2.0068888309777657,-0.548083205199428,0.6861555341365956,1.199667217838947,0.06831398795428081,-0.057601596970910905,0.3827056101028784,0.5691997438450976],\"xaxis\":\"x\",\"yaxis\":\"y\",\"type\":\"histogram\"},{\"line\":{\"color\":\"rgba(128, 128, 128, 1.0)\",\"dash\":\"solid\",\"shape\":\"linear\",\"width\":1.3},\"marker\":{\"size\":2,\"symbol\":\"circle\"},\"mode\":\"markers\",\"name\":\"A\",\"text\":\"\",\"x\":[1.0418607474294792,-1.4939672413762932,-0.02127901542430224,0.33292977024558157,1.1407436277450778,-0.3015660930492725,-0.0752865847187486,-1.009791743749023,-0.6974105177481036,-1.0778447312443185,0.21994773983594507,-1.2767378096491764,-0.4772520284876469,-0.13191693638288507,-0.8840497936830316,0.43491378665196123,1.237780885733663,-0.7372283644576442,-0.11267970353145566,-1.637025903877696,-0.8643009602442039,-1.170864879740225,0.8657447067108397,-1.3316471625112472,0.27930606940491254,0.1010548787720902,0.7014020947179823,0.8115916437019352,0.9534863463399055,-0.17974376572600015,0.15539942126823825,0.12563065884091904,-0.6983132119953138,-0.8557269377205827,-1.1114678483065996,1.6267980935814845,0.10835953580183216,-0.724885465855628,-0.13014748543449164,0.02635813457746775,-0.10731405448780107,0.9394176236033902,0.8852004040890421,0.8837667760803889,-0.6827153117408953,-0.9093724172772358,0.5777482827305919,0.1320824276129593,0.051752566935829254,2.2294346148078286,-0.3450934390030509,0.1620081871920339,0.22742137414734556,0.53465876620935,0.7992154964793429,-1.3109197447319967,-1.8881307729462076,2.130605406350455,-0.031583068295145504,0.5445342145696391,-0.3836665294064964,-0.8276744278807356,1.5347897785141216,-0.10205298921735546,-0.9931249156241323,0.6784877290695253,0.6442290539833533,0.22188261861927183,0.658824210911803,0.4725016736628034,-0.5884114772778922,-0.868227094420527,-1.3615134352744052,1.092930344226626,-0.13734327442278882,-1.3246769110560028,-0.6863100288573838,0.2900951740060484,-0.7262357878917776,-1.5393687384063548,-0.6345124844359458,1.0511810398400365,-0.32552486870352804,0.46721489635640734,1.2701651157118028,0.821796041357051,-1.3530062245164303,-0.6629088380930819,0.8386510462005943,-0.10769881867698582,0.18586510865496922,0.0027232401253373915,-2.1003147011287964,0.19799553908870476,0.5799814202834371,-1.1775863243324383,0.748291680102528,0.2145327190535425,0.10937980687552407,-0.3629526709313861],\"xaxis\":\"x2\",\"y\":[0.963656208822238,1.1213805704854953,0.08117322059561863,0.9067501670920386,1.28908725845038,-0.8484788632427857,-0.8009485265222287,-0.13954698878550142,-0.4209938328140542,0.2837355152610227,-0.21272756966893616,1.7570408279670209,0.3550122841604106,1.30974406905139,0.2232155423907447,0.20225806270488592,0.4297931309428796,0.2710898356704665,1.2673150001525066,-0.28317420340831106,0.20613001876357961,0.4635201733939552,0.5460897413984124,0.12438837142487577,-0.3311450835685355,0.43842530680477404,1.0684047789837727,-0.6243736534857598,-1.1906662032404274,1.4656058483881402,0.16715588520722816,0.48360128610027264,1.0718721211795463,-0.24068377304579952,-0.8837940178049627,0.28414594957742983,0.18636052031088884,1.0554728665925521,0.24657908043205698,-0.255956079869308,0.07878204355354528,-1.1832024418880038,-0.3947053481469931,0.015051127698353848,-0.9273312434230097,-0.5904417385480116,-0.8248473181016788,-2.553642906404523,0.5853809835216754,0.07471667146690081,0.8078271481497611,2.0119568319081234,1.7051615445225863,0.3690781122530383,0.27207568986467,0.9429351698391747,0.8709196392545411,1.8881327097718632,-2.277236818278749,0.7641282663968877,-1.9210586871999982,0.6083480372818315,-1.7059804718374605,1.8390631369000259,0.47676559937164253,0.7951445119372802,0.7363841786006643,1.2801801668695012,-0.987315530991337,-0.7855382455137779,-1.5235664056893965,-0.8068782421283027,0.1899751266947658,-0.8176847491115944,-0.7588257659066171,0.7146591792126702,1.1389770375251385,-0.49140946806501906,0.3885375141880657,0.19210286916179659,-1.8674308759485234,0.2563319473019304,1.4141223099861748,1.5347206360501597,-1.094691314002368,-0.060435557199993446,0.2992179294797572,1.4510015729851962,0.38567992079704777,-1.8471002701272756,-0.2158731199529436,-0.3833111312088049,-2.0068888309777657,-0.548083205199428,0.6861555341365956,1.199667217838947,0.06831398795428081,-0.057601596970910905,0.3827056101028784,0.5691997438450976],\"yaxis\":\"y2\",\"type\":\"scatter\"},{\"line\":{\"color\":\"rgba(128, 128, 128, 1.0)\",\"dash\":\"solid\",\"shape\":\"linear\",\"width\":1.3},\"marker\":{\"size\":2,\"symbol\":\"circle\"},\"mode\":\"markers\",\"name\":\"A\",\"text\":\"\",\"x\":[1.9684685598255098,0.8865735701165786,-0.9282924703857871,0.0864231738857163,-0.17851496705340106,0.8941201736951061,-1.767757746744734,-0.9029257916222327,-0.15040689632672258,0.3608236978003134,-2.3993756008061955,-0.483640402637199,2.453497287095231,0.2886471123783374,0.4789224073967982,1.8868787058240575,-0.7069821240099842,0.9364960925054092,-0.11826593254370696,-1.2466608150509335,0.5835449052351525,-0.7856053542283987,-1.402302566540273,1.3852800062444897,0.5641183370922549,0.8809989823072313,-0.2316988475498588,0.9588801018246939,-1.8023754339085756,1.3856050832892777,0.2889566018572497,-2.2912515772536093,1.2338406432349927,-0.37060434083404203,-1.115233219161336,0.04673985612202292,0.0942462710028508,-0.13839475415973518,-0.09718950720666848,0.24901537761553835,0.9108528097216493,-0.5528486250284738,0.1437258643037152,1.2368565085155692,0.11806071227737899,-0.6915685444367112,0.6893681392468275,-2.1930493530215243,-0.9934789592227896,-0.6189689820317923,-0.8698092136412182,0.8003318888279906,-0.5982506634931678,-0.7890609206749534,-0.6548147871758787,0.5587927372009642,0.27255474613842035,1.0925266720615479,1.3392761253917005,0.1065019292120311,-1.1867386077150974,1.78632170548558,-0.02624061741045453,-1.1556722058561715,0.07704352120398042,-0.22053430872375845,2.5042220859217554,0.2355109428038429,0.1805691839545755,1.641624590650236,0.9246325724024335,-0.0517173982740807,-1.6078788351856876,-0.673781299334335,-0.11875226070443112,-1.1803330927190678,-0.6051380566023823,1.3120299005977665,-1.586753953775392,1.0494361893220578,0.8185429666565787,0.0796582520338552,0.8785869617159295,-1.3860246585946714,0.4098334039689942,2.026756298055897,-2.341265735162529,1.0423930455611918,1.7745715730437097,-0.7451216801801956,0.13019025491771619,0.6720981517354053,1.2143690393829878,-0.6817286989667747,1.7765429487539386,-0.24465282170560929,1.1093476031534293,3.462655523208048,-0.4175023099069305,0.1293918215907214],\"xaxis\":\"x3\",\"y\":[0.963656208822238,1.1213805704854953,0.08117322059561863,0.9067501670920386,1.28908725845038,-0.8484788632427857,-0.8009485265222287,-0.13954698878550142,-0.4209938328140542,0.2837355152610227,-0.21272756966893616,1.7570408279670209,0.3550122841604106,1.30974406905139,0.2232155423907447,0.20225806270488592,0.4297931309428796,0.2710898356704665,1.2673150001525066,-0.28317420340831106,0.20613001876357961,0.4635201733939552,0.5460897413984124,0.12438837142487577,-0.3311450835685355,0.43842530680477404,1.0684047789837727,-0.6243736534857598,-1.1906662032404274,1.4656058483881402,0.16715588520722816,0.48360128610027264,1.0718721211795463,-0.24068377304579952,-0.8837940178049627,0.28414594957742983,0.18636052031088884,1.0554728665925521,0.24657908043205698,-0.255956079869308,0.07878204355354528,-1.1832024418880038,-0.3947053481469931,0.015051127698353848,-0.9273312434230097,-0.5904417385480116,-0.8248473181016788,-2.553642906404523,0.5853809835216754,0.07471667146690081,0.8078271481497611,2.0119568319081234,1.7051615445225863,0.3690781122530383,0.27207568986467,0.9429351698391747,0.8709196392545411,1.8881327097718632,-2.277236818278749,0.7641282663968877,-1.9210586871999982,0.6083480372818315,-1.7059804718374605,1.8390631369000259,0.47676559937164253,0.7951445119372802,0.7363841786006643,1.2801801668695012,-0.987315530991337,-0.7855382455137779,-1.5235664056893965,-0.8068782421283027,0.1899751266947658,-0.8176847491115944,-0.7588257659066171,0.7146591792126702,1.1389770375251385,-0.49140946806501906,0.3885375141880657,0.19210286916179659,-1.8674308759485234,0.2563319473019304,1.4141223099861748,1.5347206360501597,-1.094691314002368,-0.060435557199993446,0.2992179294797572,1.4510015729851962,0.38567992079704777,-1.8471002701272756,-0.2158731199529436,-0.3833111312088049,-2.0068888309777657,-0.548083205199428,0.6861555341365956,1.199667217838947,0.06831398795428081,-0.057601596970910905,0.3827056101028784,0.5691997438450976],\"yaxis\":\"y3\",\"type\":\"scatter\"},{\"line\":{\"color\":\"rgba(128, 128, 128, 1.0)\",\"dash\":\"solid\",\"shape\":\"linear\",\"width\":1.3},\"marker\":{\"size\":2,\"symbol\":\"circle\"},\"mode\":\"markers\",\"name\":\"A\",\"text\":\"\",\"x\":[1.6630337650354345,0.07550432297170971,-0.5973245468599844,-1.657449860204015,0.05280375575287506,-0.015347519964781276,-0.823066509767297,-1.2865818271926146,-0.20465223602492458,1.4326116078768383,1.715349653593688,1.8332783984371763,0.10489256944377925,0.1835183523000019,-1.5966870438332263,0.44522874299998944,0.6584567307528261,0.6650332813795531,0.2807839634292779,-0.29086894397778557,0.16752877630439322,1.9770173482802893,-2.8154582401712154,-0.9829856709848566,-0.00827771127849985,0.16148652501732152,2.319848288689466,1.022424591320778,2.446730447840035,-0.5276727460407082,-0.4206033582273582,-1.8277275907138832,0.014979298168371534,0.7821409129741059,-0.6683656546714996,-2.8509032306340627,-0.2554547617448989,0.6031621488581722,-1.8720737192452415,-2.2039356896415576,1.1354713474057998,-1.3147837122357673,0.08847860993731024,0.5434300304313257,-1.9624730325797959,-0.7335728844338252,-0.7602415933637703,-2.478504024403525,-2.043359504359485,0.07229925889259052,0.8223533915753203,0.7541898582279355,-0.8457042031941514,-2.0806587994267742,-0.33255328325872824,1.1100669481856251,0.8590167189662465,-0.5954983458201378,-0.09732296749624923,-0.24106644629353324,-0.921362500994098,0.7250079654355328,-0.7511631767920098,0.5235530857383306,0.9304102996787895,1.1013735671223808,2.144674046199205,0.06923107230228003,1.8428871518189849,0.4982298687939204,0.19661617252683,0.23266766393126748,1.4061128071516085,0.8462385703859491,0.6549491598459045,0.439385154094097,-2.501445480519395,0.045409052141403054,0.7869651058984805,-1.1339156708019669,-0.43148029590986947,0.6465899085984634,0.3408739471603276,-0.7613374448109137,-0.09817614527629241,-0.7309778541053539,-0.07818344318158707,-0.4731780226773017,0.8875564238258683,0.35454221858793916,0.6044883944756151,-0.8547303972785114,0.40388289163412455,1.1952818174880846,1.761384365862785,-0.3538293908999642,-0.6913216824668283,0.8986854351831924,0.2494784614208996,-0.40344347187061447],\"xaxis\":\"x4\",\"y\":[0.963656208822238,1.1213805704854953,0.08117322059561863,0.9067501670920386,1.28908725845038,-0.8484788632427857,-0.8009485265222287,-0.13954698878550142,-0.4209938328140542,0.2837355152610227,-0.21272756966893616,1.7570408279670209,0.3550122841604106,1.30974406905139,0.2232155423907447,0.20225806270488592,0.4297931309428796,0.2710898356704665,1.2673150001525066,-0.28317420340831106,0.20613001876357961,0.4635201733939552,0.5460897413984124,0.12438837142487577,-0.3311450835685355,0.43842530680477404,1.0684047789837727,-0.6243736534857598,-1.1906662032404274,1.4656058483881402,0.16715588520722816,0.48360128610027264,1.0718721211795463,-0.24068377304579952,-0.8837940178049627,0.28414594957742983,0.18636052031088884,1.0554728665925521,0.24657908043205698,-0.255956079869308,0.07878204355354528,-1.1832024418880038,-0.3947053481469931,0.015051127698353848,-0.9273312434230097,-0.5904417385480116,-0.8248473181016788,-2.553642906404523,0.5853809835216754,0.07471667146690081,0.8078271481497611,2.0119568319081234,1.7051615445225863,0.3690781122530383,0.27207568986467,0.9429351698391747,0.8709196392545411,1.8881327097718632,-2.277236818278749,0.7641282663968877,-1.9210586871999982,0.6083480372818315,-1.7059804718374605,1.8390631369000259,0.47676559937164253,0.7951445119372802,0.7363841786006643,1.2801801668695012,-0.987315530991337,-0.7855382455137779,-1.5235664056893965,-0.8068782421283027,0.1899751266947658,-0.8176847491115944,-0.7588257659066171,0.7146591792126702,1.1389770375251385,-0.49140946806501906,0.3885375141880657,0.19210286916179659,-1.8674308759485234,0.2563319473019304,1.4141223099861748,1.5347206360501597,-1.094691314002368,-0.060435557199993446,0.2992179294797572,1.4510015729851962,0.38567992079704777,-1.8471002701272756,-0.2158731199529436,-0.3833111312088049,-2.0068888309777657,-0.548083205199428,0.6861555341365956,1.199667217838947,0.06831398795428081,-0.057601596970910905,0.3827056101028784,0.5691997438450976],\"yaxis\":\"y4\",\"type\":\"scatter\"},{\"line\":{\"color\":\"rgba(128, 128, 128, 1.0)\",\"dash\":\"solid\",\"shape\":\"linear\",\"width\":1.3},\"marker\":{\"size\":2,\"symbol\":\"circle\"},\"mode\":\"markers\",\"name\":\"B\",\"text\":\"\",\"x\":[0.963656208822238,1.1213805704854953,0.08117322059561863,0.9067501670920386,1.28908725845038,-0.8484788632427857,-0.8009485265222287,-0.13954698878550142,-0.4209938328140542,0.2837355152610227,-0.21272756966893616,1.7570408279670209,0.3550122841604106,1.30974406905139,0.2232155423907447,0.20225806270488592,0.4297931309428796,0.2710898356704665,1.2673150001525066,-0.28317420340831106,0.20613001876357961,0.4635201733939552,0.5460897413984124,0.12438837142487577,-0.3311450835685355,0.43842530680477404,1.0684047789837727,-0.6243736534857598,-1.1906662032404274,1.4656058483881402,0.16715588520722816,0.48360128610027264,1.0718721211795463,-0.24068377304579952,-0.8837940178049627,0.28414594957742983,0.18636052031088884,1.0554728665925521,0.24657908043205698,-0.255956079869308,0.07878204355354528,-1.1832024418880038,-0.3947053481469931,0.015051127698353848,-0.9273312434230097,-0.5904417385480116,-0.8248473181016788,-2.553642906404523,0.5853809835216754,0.07471667146690081,0.8078271481497611,2.0119568319081234,1.7051615445225863,0.3690781122530383,0.27207568986467,0.9429351698391747,0.8709196392545411,1.8881327097718632,-2.277236818278749,0.7641282663968877,-1.9210586871999982,0.6083480372818315,-1.7059804718374605,1.8390631369000259,0.47676559937164253,0.7951445119372802,0.7363841786006643,1.2801801668695012,-0.987315530991337,-0.7855382455137779,-1.5235664056893965,-0.8068782421283027,0.1899751266947658,-0.8176847491115944,-0.7588257659066171,0.7146591792126702,1.1389770375251385,-0.49140946806501906,0.3885375141880657,0.19210286916179659,-1.8674308759485234,0.2563319473019304,1.4141223099861748,1.5347206360501597,-1.094691314002368,-0.060435557199993446,0.2992179294797572,1.4510015729851962,0.38567992079704777,-1.8471002701272756,-0.2158731199529436,-0.3833111312088049,-2.0068888309777657,-0.548083205199428,0.6861555341365956,1.199667217838947,0.06831398795428081,-0.057601596970910905,0.3827056101028784,0.5691997438450976],\"xaxis\":\"x5\",\"y\":[1.0418607474294792,-1.4939672413762932,-0.02127901542430224,0.33292977024558157,1.1407436277450778,-0.3015660930492725,-0.0752865847187486,-1.009791743749023,-0.6974105177481036,-1.0778447312443185,0.21994773983594507,-1.2767378096491764,-0.4772520284876469,-0.13191693638288507,-0.8840497936830316,0.43491378665196123,1.237780885733663,-0.7372283644576442,-0.11267970353145566,-1.637025903877696,-0.8643009602442039,-1.170864879740225,0.8657447067108397,-1.3316471625112472,0.27930606940491254,0.1010548787720902,0.7014020947179823,0.8115916437019352,0.9534863463399055,-0.17974376572600015,0.15539942126823825,0.12563065884091904,-0.6983132119953138,-0.8557269377205827,-1.1114678483065996,1.6267980935814845,0.10835953580183216,-0.724885465855628,-0.13014748543449164,0.02635813457746775,-0.10731405448780107,0.9394176236033902,0.8852004040890421,0.8837667760803889,-0.6827153117408953,-0.9093724172772358,0.5777482827305919,0.1320824276129593,0.051752566935829254,2.2294346148078286,-0.3450934390030509,0.1620081871920339,0.22742137414734556,0.53465876620935,0.7992154964793429,-1.3109197447319967,-1.8881307729462076,2.130605406350455,-0.031583068295145504,0.5445342145696391,-0.3836665294064964,-0.8276744278807356,1.5347897785141216,-0.10205298921735546,-0.9931249156241323,0.6784877290695253,0.6442290539833533,0.22188261861927183,0.658824210911803,0.4725016736628034,-0.5884114772778922,-0.868227094420527,-1.3615134352744052,1.092930344226626,-0.13734327442278882,-1.3246769110560028,-0.6863100288573838,0.2900951740060484,-0.7262357878917776,-1.5393687384063548,-0.6345124844359458,1.0511810398400365,-0.32552486870352804,0.46721489635640734,1.2701651157118028,0.821796041357051,-1.3530062245164303,-0.6629088380930819,0.8386510462005943,-0.10769881867698582,0.18586510865496922,0.0027232401253373915,-2.1003147011287964,0.19799553908870476,0.5799814202834371,-1.1775863243324383,0.748291680102528,0.2145327190535425,0.10937980687552407,-0.3629526709313861],\"yaxis\":\"y5\",\"type\":\"scatter\"},{\"histfunc\":\"count\",\"histnorm\":\"\",\"marker\":{\"color\":\"rgba(55, 128, 191, 1.0)\",\"line\":{\"color\":\"#4D5663\",\"width\":1.3}},\"name\":\"B\",\"nbinsx\":10,\"opacity\":0.8,\"orientation\":\"v\",\"x\":[1.0418607474294792,-1.4939672413762932,-0.02127901542430224,0.33292977024558157,1.1407436277450778,-0.3015660930492725,-0.0752865847187486,-1.009791743749023,-0.6974105177481036,-1.0778447312443185,0.21994773983594507,-1.2767378096491764,-0.4772520284876469,-0.13191693638288507,-0.8840497936830316,0.43491378665196123,1.237780885733663,-0.7372283644576442,-0.11267970353145566,-1.637025903877696,-0.8643009602442039,-1.170864879740225,0.8657447067108397,-1.3316471625112472,0.27930606940491254,0.1010548787720902,0.7014020947179823,0.8115916437019352,0.9534863463399055,-0.17974376572600015,0.15539942126823825,0.12563065884091904,-0.6983132119953138,-0.8557269377205827,-1.1114678483065996,1.6267980935814845,0.10835953580183216,-0.724885465855628,-0.13014748543449164,0.02635813457746775,-0.10731405448780107,0.9394176236033902,0.8852004040890421,0.8837667760803889,-0.6827153117408953,-0.9093724172772358,0.5777482827305919,0.1320824276129593,0.051752566935829254,2.2294346148078286,-0.3450934390030509,0.1620081871920339,0.22742137414734556,0.53465876620935,0.7992154964793429,-1.3109197447319967,-1.8881307729462076,2.130605406350455,-0.031583068295145504,0.5445342145696391,-0.3836665294064964,-0.8276744278807356,1.5347897785141216,-0.10205298921735546,-0.9931249156241323,0.6784877290695253,0.6442290539833533,0.22188261861927183,0.658824210911803,0.4725016736628034,-0.5884114772778922,-0.868227094420527,-1.3615134352744052,1.092930344226626,-0.13734327442278882,-1.3246769110560028,-0.6863100288573838,0.2900951740060484,-0.7262357878917776,-1.5393687384063548,-0.6345124844359458,1.0511810398400365,-0.32552486870352804,0.46721489635640734,1.2701651157118028,0.821796041357051,-1.3530062245164303,-0.6629088380930819,0.8386510462005943,-0.10769881867698582,0.18586510865496922,0.0027232401253373915,-2.1003147011287964,0.19799553908870476,0.5799814202834371,-1.1775863243324383,0.748291680102528,0.2145327190535425,0.10937980687552407,-0.3629526709313861],\"xaxis\":\"x6\",\"yaxis\":\"y6\",\"type\":\"histogram\"},{\"line\":{\"color\":\"rgba(128, 128, 128, 1.0)\",\"dash\":\"solid\",\"shape\":\"linear\",\"width\":1.3},\"marker\":{\"size\":2,\"symbol\":\"circle\"},\"mode\":\"markers\",\"name\":\"B\",\"text\":\"\",\"x\":[1.9684685598255098,0.8865735701165786,-0.9282924703857871,0.0864231738857163,-0.17851496705340106,0.8941201736951061,-1.767757746744734,-0.9029257916222327,-0.15040689632672258,0.3608236978003134,-2.3993756008061955,-0.483640402637199,2.453497287095231,0.2886471123783374,0.4789224073967982,1.8868787058240575,-0.7069821240099842,0.9364960925054092,-0.11826593254370696,-1.2466608150509335,0.5835449052351525,-0.7856053542283987,-1.402302566540273,1.3852800062444897,0.5641183370922549,0.8809989823072313,-0.2316988475498588,0.9588801018246939,-1.8023754339085756,1.3856050832892777,0.2889566018572497,-2.2912515772536093,1.2338406432349927,-0.37060434083404203,-1.115233219161336,0.04673985612202292,0.0942462710028508,-0.13839475415973518,-0.09718950720666848,0.24901537761553835,0.9108528097216493,-0.5528486250284738,0.1437258643037152,1.2368565085155692,0.11806071227737899,-0.6915685444367112,0.6893681392468275,-2.1930493530215243,-0.9934789592227896,-0.6189689820317923,-0.8698092136412182,0.8003318888279906,-0.5982506634931678,-0.7890609206749534,-0.6548147871758787,0.5587927372009642,0.27255474613842035,1.0925266720615479,1.3392761253917005,0.1065019292120311,-1.1867386077150974,1.78632170548558,-0.02624061741045453,-1.1556722058561715,0.07704352120398042,-0.22053430872375845,2.5042220859217554,0.2355109428038429,0.1805691839545755,1.641624590650236,0.9246325724024335,-0.0517173982740807,-1.6078788351856876,-0.673781299334335,-0.11875226070443112,-1.1803330927190678,-0.6051380566023823,1.3120299005977665,-1.586753953775392,1.0494361893220578,0.8185429666565787,0.0796582520338552,0.8785869617159295,-1.3860246585946714,0.4098334039689942,2.026756298055897,-2.341265735162529,1.0423930455611918,1.7745715730437097,-0.7451216801801956,0.13019025491771619,0.6720981517354053,1.2143690393829878,-0.6817286989667747,1.7765429487539386,-0.24465282170560929,1.1093476031534293,3.462655523208048,-0.4175023099069305,0.1293918215907214],\"xaxis\":\"x7\",\"y\":[1.0418607474294792,-1.4939672413762932,-0.02127901542430224,0.33292977024558157,1.1407436277450778,-0.3015660930492725,-0.0752865847187486,-1.009791743749023,-0.6974105177481036,-1.0778447312443185,0.21994773983594507,-1.2767378096491764,-0.4772520284876469,-0.13191693638288507,-0.8840497936830316,0.43491378665196123,1.237780885733663,-0.7372283644576442,-0.11267970353145566,-1.637025903877696,-0.8643009602442039,-1.170864879740225,0.8657447067108397,-1.3316471625112472,0.27930606940491254,0.1010548787720902,0.7014020947179823,0.8115916437019352,0.9534863463399055,-0.17974376572600015,0.15539942126823825,0.12563065884091904,-0.6983132119953138,-0.8557269377205827,-1.1114678483065996,1.6267980935814845,0.10835953580183216,-0.724885465855628,-0.13014748543449164,0.02635813457746775,-0.10731405448780107,0.9394176236033902,0.8852004040890421,0.8837667760803889,-0.6827153117408953,-0.9093724172772358,0.5777482827305919,0.1320824276129593,0.051752566935829254,2.2294346148078286,-0.3450934390030509,0.1620081871920339,0.22742137414734556,0.53465876620935,0.7992154964793429,-1.3109197447319967,-1.8881307729462076,2.130605406350455,-0.031583068295145504,0.5445342145696391,-0.3836665294064964,-0.8276744278807356,1.5347897785141216,-0.10205298921735546,-0.9931249156241323,0.6784877290695253,0.6442290539833533,0.22188261861927183,0.658824210911803,0.4725016736628034,-0.5884114772778922,-0.868227094420527,-1.3615134352744052,1.092930344226626,-0.13734327442278882,-1.3246769110560028,-0.6863100288573838,0.2900951740060484,-0.7262357878917776,-1.5393687384063548,-0.6345124844359458,1.0511810398400365,-0.32552486870352804,0.46721489635640734,1.2701651157118028,0.821796041357051,-1.3530062245164303,-0.6629088380930819,0.8386510462005943,-0.10769881867698582,0.18586510865496922,0.0027232401253373915,-2.1003147011287964,0.19799553908870476,0.5799814202834371,-1.1775863243324383,0.748291680102528,0.2145327190535425,0.10937980687552407,-0.3629526709313861],\"yaxis\":\"y7\",\"type\":\"scatter\"},{\"line\":{\"color\":\"rgba(128, 128, 128, 1.0)\",\"dash\":\"solid\",\"shape\":\"linear\",\"width\":1.3},\"marker\":{\"size\":2,\"symbol\":\"circle\"},\"mode\":\"markers\",\"name\":\"B\",\"text\":\"\",\"x\":[1.6630337650354345,0.07550432297170971,-0.5973245468599844,-1.657449860204015,0.05280375575287506,-0.015347519964781276,-0.823066509767297,-1.2865818271926146,-0.20465223602492458,1.4326116078768383,1.715349653593688,1.8332783984371763,0.10489256944377925,0.1835183523000019,-1.5966870438332263,0.44522874299998944,0.6584567307528261,0.6650332813795531,0.2807839634292779,-0.29086894397778557,0.16752877630439322,1.9770173482802893,-2.8154582401712154,-0.9829856709848566,-0.00827771127849985,0.16148652501732152,2.319848288689466,1.022424591320778,2.446730447840035,-0.5276727460407082,-0.4206033582273582,-1.8277275907138832,0.014979298168371534,0.7821409129741059,-0.6683656546714996,-2.8509032306340627,-0.2554547617448989,0.6031621488581722,-1.8720737192452415,-2.2039356896415576,1.1354713474057998,-1.3147837122357673,0.08847860993731024,0.5434300304313257,-1.9624730325797959,-0.7335728844338252,-0.7602415933637703,-2.478504024403525,-2.043359504359485,0.07229925889259052,0.8223533915753203,0.7541898582279355,-0.8457042031941514,-2.0806587994267742,-0.33255328325872824,1.1100669481856251,0.8590167189662465,-0.5954983458201378,-0.09732296749624923,-0.24106644629353324,-0.921362500994098,0.7250079654355328,-0.7511631767920098,0.5235530857383306,0.9304102996787895,1.1013735671223808,2.144674046199205,0.06923107230228003,1.8428871518189849,0.4982298687939204,0.19661617252683,0.23266766393126748,1.4061128071516085,0.8462385703859491,0.6549491598459045,0.439385154094097,-2.501445480519395,0.045409052141403054,0.7869651058984805,-1.1339156708019669,-0.43148029590986947,0.6465899085984634,0.3408739471603276,-0.7613374448109137,-0.09817614527629241,-0.7309778541053539,-0.07818344318158707,-0.4731780226773017,0.8875564238258683,0.35454221858793916,0.6044883944756151,-0.8547303972785114,0.40388289163412455,1.1952818174880846,1.761384365862785,-0.3538293908999642,-0.6913216824668283,0.8986854351831924,0.2494784614208996,-0.40344347187061447],\"xaxis\":\"x8\",\"y\":[1.0418607474294792,-1.4939672413762932,-0.02127901542430224,0.33292977024558157,1.1407436277450778,-0.3015660930492725,-0.0752865847187486,-1.009791743749023,-0.6974105177481036,-1.0778447312443185,0.21994773983594507,-1.2767378096491764,-0.4772520284876469,-0.13191693638288507,-0.8840497936830316,0.43491378665196123,1.237780885733663,-0.7372283644576442,-0.11267970353145566,-1.637025903877696,-0.8643009602442039,-1.170864879740225,0.8657447067108397,-1.3316471625112472,0.27930606940491254,0.1010548787720902,0.7014020947179823,0.8115916437019352,0.9534863463399055,-0.17974376572600015,0.15539942126823825,0.12563065884091904,-0.6983132119953138,-0.8557269377205827,-1.1114678483065996,1.6267980935814845,0.10835953580183216,-0.724885465855628,-0.13014748543449164,0.02635813457746775,-0.10731405448780107,0.9394176236033902,0.8852004040890421,0.8837667760803889,-0.6827153117408953,-0.9093724172772358,0.5777482827305919,0.1320824276129593,0.051752566935829254,2.2294346148078286,-0.3450934390030509,0.1620081871920339,0.22742137414734556,0.53465876620935,0.7992154964793429,-1.3109197447319967,-1.8881307729462076,2.130605406350455,-0.031583068295145504,0.5445342145696391,-0.3836665294064964,-0.8276744278807356,1.5347897785141216,-0.10205298921735546,-0.9931249156241323,0.6784877290695253,0.6442290539833533,0.22188261861927183,0.658824210911803,0.4725016736628034,-0.5884114772778922,-0.868227094420527,-1.3615134352744052,1.092930344226626,-0.13734327442278882,-1.3246769110560028,-0.6863100288573838,0.2900951740060484,-0.7262357878917776,-1.5393687384063548,-0.6345124844359458,1.0511810398400365,-0.32552486870352804,0.46721489635640734,1.2701651157118028,0.821796041357051,-1.3530062245164303,-0.6629088380930819,0.8386510462005943,-0.10769881867698582,0.18586510865496922,0.0027232401253373915,-2.1003147011287964,0.19799553908870476,0.5799814202834371,-1.1775863243324383,0.748291680102528,0.2145327190535425,0.10937980687552407,-0.3629526709313861],\"yaxis\":\"y8\",\"type\":\"scatter\"},{\"line\":{\"color\":\"rgba(128, 128, 128, 1.0)\",\"dash\":\"solid\",\"shape\":\"linear\",\"width\":1.3},\"marker\":{\"size\":2,\"symbol\":\"circle\"},\"mode\":\"markers\",\"name\":\"C\",\"text\":\"\",\"x\":[0.963656208822238,1.1213805704854953,0.08117322059561863,0.9067501670920386,1.28908725845038,-0.8484788632427857,-0.8009485265222287,-0.13954698878550142,-0.4209938328140542,0.2837355152610227,-0.21272756966893616,1.7570408279670209,0.3550122841604106,1.30974406905139,0.2232155423907447,0.20225806270488592,0.4297931309428796,0.2710898356704665,1.2673150001525066,-0.28317420340831106,0.20613001876357961,0.4635201733939552,0.5460897413984124,0.12438837142487577,-0.3311450835685355,0.43842530680477404,1.0684047789837727,-0.6243736534857598,-1.1906662032404274,1.4656058483881402,0.16715588520722816,0.48360128610027264,1.0718721211795463,-0.24068377304579952,-0.8837940178049627,0.28414594957742983,0.18636052031088884,1.0554728665925521,0.24657908043205698,-0.255956079869308,0.07878204355354528,-1.1832024418880038,-0.3947053481469931,0.015051127698353848,-0.9273312434230097,-0.5904417385480116,-0.8248473181016788,-2.553642906404523,0.5853809835216754,0.07471667146690081,0.8078271481497611,2.0119568319081234,1.7051615445225863,0.3690781122530383,0.27207568986467,0.9429351698391747,0.8709196392545411,1.8881327097718632,-2.277236818278749,0.7641282663968877,-1.9210586871999982,0.6083480372818315,-1.7059804718374605,1.8390631369000259,0.47676559937164253,0.7951445119372802,0.7363841786006643,1.2801801668695012,-0.987315530991337,-0.7855382455137779,-1.5235664056893965,-0.8068782421283027,0.1899751266947658,-0.8176847491115944,-0.7588257659066171,0.7146591792126702,1.1389770375251385,-0.49140946806501906,0.3885375141880657,0.19210286916179659,-1.8674308759485234,0.2563319473019304,1.4141223099861748,1.5347206360501597,-1.094691314002368,-0.060435557199993446,0.2992179294797572,1.4510015729851962,0.38567992079704777,-1.8471002701272756,-0.2158731199529436,-0.3833111312088049,-2.0068888309777657,-0.548083205199428,0.6861555341365956,1.199667217838947,0.06831398795428081,-0.057601596970910905,0.3827056101028784,0.5691997438450976],\"xaxis\":\"x9\",\"y\":[1.9684685598255098,0.8865735701165786,-0.9282924703857871,0.0864231738857163,-0.17851496705340106,0.8941201736951061,-1.767757746744734,-0.9029257916222327,-0.15040689632672258,0.3608236978003134,-2.3993756008061955,-0.483640402637199,2.453497287095231,0.2886471123783374,0.4789224073967982,1.8868787058240575,-0.7069821240099842,0.9364960925054092,-0.11826593254370696,-1.2466608150509335,0.5835449052351525,-0.7856053542283987,-1.402302566540273,1.3852800062444897,0.5641183370922549,0.8809989823072313,-0.2316988475498588,0.9588801018246939,-1.8023754339085756,1.3856050832892777,0.2889566018572497,-2.2912515772536093,1.2338406432349927,-0.37060434083404203,-1.115233219161336,0.04673985612202292,0.0942462710028508,-0.13839475415973518,-0.09718950720666848,0.24901537761553835,0.9108528097216493,-0.5528486250284738,0.1437258643037152,1.2368565085155692,0.11806071227737899,-0.6915685444367112,0.6893681392468275,-2.1930493530215243,-0.9934789592227896,-0.6189689820317923,-0.8698092136412182,0.8003318888279906,-0.5982506634931678,-0.7890609206749534,-0.6548147871758787,0.5587927372009642,0.27255474613842035,1.0925266720615479,1.3392761253917005,0.1065019292120311,-1.1867386077150974,1.78632170548558,-0.02624061741045453,-1.1556722058561715,0.07704352120398042,-0.22053430872375845,2.5042220859217554,0.2355109428038429,0.1805691839545755,1.641624590650236,0.9246325724024335,-0.0517173982740807,-1.6078788351856876,-0.673781299334335,-0.11875226070443112,-1.1803330927190678,-0.6051380566023823,1.3120299005977665,-1.586753953775392,1.0494361893220578,0.8185429666565787,0.0796582520338552,0.8785869617159295,-1.3860246585946714,0.4098334039689942,2.026756298055897,-2.341265735162529,1.0423930455611918,1.7745715730437097,-0.7451216801801956,0.13019025491771619,0.6720981517354053,1.2143690393829878,-0.6817286989667747,1.7765429487539386,-0.24465282170560929,1.1093476031534293,3.462655523208048,-0.4175023099069305,0.1293918215907214],\"yaxis\":\"y9\",\"type\":\"scatter\"},{\"line\":{\"color\":\"rgba(128, 128, 128, 1.0)\",\"dash\":\"solid\",\"shape\":\"linear\",\"width\":1.3},\"marker\":{\"size\":2,\"symbol\":\"circle\"},\"mode\":\"markers\",\"name\":\"C\",\"text\":\"\",\"x\":[1.0418607474294792,-1.4939672413762932,-0.02127901542430224,0.33292977024558157,1.1407436277450778,-0.3015660930492725,-0.0752865847187486,-1.009791743749023,-0.6974105177481036,-1.0778447312443185,0.21994773983594507,-1.2767378096491764,-0.4772520284876469,-0.13191693638288507,-0.8840497936830316,0.43491378665196123,1.237780885733663,-0.7372283644576442,-0.11267970353145566,-1.637025903877696,-0.8643009602442039,-1.170864879740225,0.8657447067108397,-1.3316471625112472,0.27930606940491254,0.1010548787720902,0.7014020947179823,0.8115916437019352,0.9534863463399055,-0.17974376572600015,0.15539942126823825,0.12563065884091904,-0.6983132119953138,-0.8557269377205827,-1.1114678483065996,1.6267980935814845,0.10835953580183216,-0.724885465855628,-0.13014748543449164,0.02635813457746775,-0.10731405448780107,0.9394176236033902,0.8852004040890421,0.8837667760803889,-0.6827153117408953,-0.9093724172772358,0.5777482827305919,0.1320824276129593,0.051752566935829254,2.2294346148078286,-0.3450934390030509,0.1620081871920339,0.22742137414734556,0.53465876620935,0.7992154964793429,-1.3109197447319967,-1.8881307729462076,2.130605406350455,-0.031583068295145504,0.5445342145696391,-0.3836665294064964,-0.8276744278807356,1.5347897785141216,-0.10205298921735546,-0.9931249156241323,0.6784877290695253,0.6442290539833533,0.22188261861927183,0.658824210911803,0.4725016736628034,-0.5884114772778922,-0.868227094420527,-1.3615134352744052,1.092930344226626,-0.13734327442278882,-1.3246769110560028,-0.6863100288573838,0.2900951740060484,-0.7262357878917776,-1.5393687384063548,-0.6345124844359458,1.0511810398400365,-0.32552486870352804,0.46721489635640734,1.2701651157118028,0.821796041357051,-1.3530062245164303,-0.6629088380930819,0.8386510462005943,-0.10769881867698582,0.18586510865496922,0.0027232401253373915,-2.1003147011287964,0.19799553908870476,0.5799814202834371,-1.1775863243324383,0.748291680102528,0.2145327190535425,0.10937980687552407,-0.3629526709313861],\"xaxis\":\"x10\",\"y\":[1.9684685598255098,0.8865735701165786,-0.9282924703857871,0.0864231738857163,-0.17851496705340106,0.8941201736951061,-1.767757746744734,-0.9029257916222327,-0.15040689632672258,0.3608236978003134,-2.3993756008061955,-0.483640402637199,2.453497287095231,0.2886471123783374,0.4789224073967982,1.8868787058240575,-0.7069821240099842,0.9364960925054092,-0.11826593254370696,-1.2466608150509335,0.5835449052351525,-0.7856053542283987,-1.402302566540273,1.3852800062444897,0.5641183370922549,0.8809989823072313,-0.2316988475498588,0.9588801018246939,-1.8023754339085756,1.3856050832892777,0.2889566018572497,-2.2912515772536093,1.2338406432349927,-0.37060434083404203,-1.115233219161336,0.04673985612202292,0.0942462710028508,-0.13839475415973518,-0.09718950720666848,0.24901537761553835,0.9108528097216493,-0.5528486250284738,0.1437258643037152,1.2368565085155692,0.11806071227737899,-0.6915685444367112,0.6893681392468275,-2.1930493530215243,-0.9934789592227896,-0.6189689820317923,-0.8698092136412182,0.8003318888279906,-0.5982506634931678,-0.7890609206749534,-0.6548147871758787,0.5587927372009642,0.27255474613842035,1.0925266720615479,1.3392761253917005,0.1065019292120311,-1.1867386077150974,1.78632170548558,-0.02624061741045453,-1.1556722058561715,0.07704352120398042,-0.22053430872375845,2.5042220859217554,0.2355109428038429,0.1805691839545755,1.641624590650236,0.9246325724024335,-0.0517173982740807,-1.6078788351856876,-0.673781299334335,-0.11875226070443112,-1.1803330927190678,-0.6051380566023823,1.3120299005977665,-1.586753953775392,1.0494361893220578,0.8185429666565787,0.0796582520338552,0.8785869617159295,-1.3860246585946714,0.4098334039689942,2.026756298055897,-2.341265735162529,1.0423930455611918,1.7745715730437097,-0.7451216801801956,0.13019025491771619,0.6720981517354053,1.2143690393829878,-0.6817286989667747,1.7765429487539386,-0.24465282170560929,1.1093476031534293,3.462655523208048,-0.4175023099069305,0.1293918215907214],\"yaxis\":\"y10\",\"type\":\"scatter\"},{\"histfunc\":\"count\",\"histnorm\":\"\",\"marker\":{\"color\":\"rgba(50, 171, 96, 1.0)\",\"line\":{\"color\":\"#4D5663\",\"width\":1.3}},\"name\":\"C\",\"nbinsx\":10,\"opacity\":0.8,\"orientation\":\"v\",\"x\":[1.9684685598255098,0.8865735701165786,-0.9282924703857871,0.0864231738857163,-0.17851496705340106,0.8941201736951061,-1.767757746744734,-0.9029257916222327,-0.15040689632672258,0.3608236978003134,-2.3993756008061955,-0.483640402637199,2.453497287095231,0.2886471123783374,0.4789224073967982,1.8868787058240575,-0.7069821240099842,0.9364960925054092,-0.11826593254370696,-1.2466608150509335,0.5835449052351525,-0.7856053542283987,-1.402302566540273,1.3852800062444897,0.5641183370922549,0.8809989823072313,-0.2316988475498588,0.9588801018246939,-1.8023754339085756,1.3856050832892777,0.2889566018572497,-2.2912515772536093,1.2338406432349927,-0.37060434083404203,-1.115233219161336,0.04673985612202292,0.0942462710028508,-0.13839475415973518,-0.09718950720666848,0.24901537761553835,0.9108528097216493,-0.5528486250284738,0.1437258643037152,1.2368565085155692,0.11806071227737899,-0.6915685444367112,0.6893681392468275,-2.1930493530215243,-0.9934789592227896,-0.6189689820317923,-0.8698092136412182,0.8003318888279906,-0.5982506634931678,-0.7890609206749534,-0.6548147871758787,0.5587927372009642,0.27255474613842035,1.0925266720615479,1.3392761253917005,0.1065019292120311,-1.1867386077150974,1.78632170548558,-0.02624061741045453,-1.1556722058561715,0.07704352120398042,-0.22053430872375845,2.5042220859217554,0.2355109428038429,0.1805691839545755,1.641624590650236,0.9246325724024335,-0.0517173982740807,-1.6078788351856876,-0.673781299334335,-0.11875226070443112,-1.1803330927190678,-0.6051380566023823,1.3120299005977665,-1.586753953775392,1.0494361893220578,0.8185429666565787,0.0796582520338552,0.8785869617159295,-1.3860246585946714,0.4098334039689942,2.026756298055897,-2.341265735162529,1.0423930455611918,1.7745715730437097,-0.7451216801801956,0.13019025491771619,0.6720981517354053,1.2143690393829878,-0.6817286989667747,1.7765429487539386,-0.24465282170560929,1.1093476031534293,3.462655523208048,-0.4175023099069305,0.1293918215907214],\"xaxis\":\"x11\",\"yaxis\":\"y11\",\"type\":\"histogram\"},{\"line\":{\"color\":\"rgba(128, 128, 128, 1.0)\",\"dash\":\"solid\",\"shape\":\"linear\",\"width\":1.3},\"marker\":{\"size\":2,\"symbol\":\"circle\"},\"mode\":\"markers\",\"name\":\"C\",\"text\":\"\",\"x\":[1.6630337650354345,0.07550432297170971,-0.5973245468599844,-1.657449860204015,0.05280375575287506,-0.015347519964781276,-0.823066509767297,-1.2865818271926146,-0.20465223602492458,1.4326116078768383,1.715349653593688,1.8332783984371763,0.10489256944377925,0.1835183523000019,-1.5966870438332263,0.44522874299998944,0.6584567307528261,0.6650332813795531,0.2807839634292779,-0.29086894397778557,0.16752877630439322,1.9770173482802893,-2.8154582401712154,-0.9829856709848566,-0.00827771127849985,0.16148652501732152,2.319848288689466,1.022424591320778,2.446730447840035,-0.5276727460407082,-0.4206033582273582,-1.8277275907138832,0.014979298168371534,0.7821409129741059,-0.6683656546714996,-2.8509032306340627,-0.2554547617448989,0.6031621488581722,-1.8720737192452415,-2.2039356896415576,1.1354713474057998,-1.3147837122357673,0.08847860993731024,0.5434300304313257,-1.9624730325797959,-0.7335728844338252,-0.7602415933637703,-2.478504024403525,-2.043359504359485,0.07229925889259052,0.8223533915753203,0.7541898582279355,-0.8457042031941514,-2.0806587994267742,-0.33255328325872824,1.1100669481856251,0.8590167189662465,-0.5954983458201378,-0.09732296749624923,-0.24106644629353324,-0.921362500994098,0.7250079654355328,-0.7511631767920098,0.5235530857383306,0.9304102996787895,1.1013735671223808,2.144674046199205,0.06923107230228003,1.8428871518189849,0.4982298687939204,0.19661617252683,0.23266766393126748,1.4061128071516085,0.8462385703859491,0.6549491598459045,0.439385154094097,-2.501445480519395,0.045409052141403054,0.7869651058984805,-1.1339156708019669,-0.43148029590986947,0.6465899085984634,0.3408739471603276,-0.7613374448109137,-0.09817614527629241,-0.7309778541053539,-0.07818344318158707,-0.4731780226773017,0.8875564238258683,0.35454221858793916,0.6044883944756151,-0.8547303972785114,0.40388289163412455,1.1952818174880846,1.761384365862785,-0.3538293908999642,-0.6913216824668283,0.8986854351831924,0.2494784614208996,-0.40344347187061447],\"xaxis\":\"x12\",\"y\":[1.9684685598255098,0.8865735701165786,-0.9282924703857871,0.0864231738857163,-0.17851496705340106,0.8941201736951061,-1.767757746744734,-0.9029257916222327,-0.15040689632672258,0.3608236978003134,-2.3993756008061955,-0.483640402637199,2.453497287095231,0.2886471123783374,0.4789224073967982,1.8868787058240575,-0.7069821240099842,0.9364960925054092,-0.11826593254370696,-1.2466608150509335,0.5835449052351525,-0.7856053542283987,-1.402302566540273,1.3852800062444897,0.5641183370922549,0.8809989823072313,-0.2316988475498588,0.9588801018246939,-1.8023754339085756,1.3856050832892777,0.2889566018572497,-2.2912515772536093,1.2338406432349927,-0.37060434083404203,-1.115233219161336,0.04673985612202292,0.0942462710028508,-0.13839475415973518,-0.09718950720666848,0.24901537761553835,0.9108528097216493,-0.5528486250284738,0.1437258643037152,1.2368565085155692,0.11806071227737899,-0.6915685444367112,0.6893681392468275,-2.1930493530215243,-0.9934789592227896,-0.6189689820317923,-0.8698092136412182,0.8003318888279906,-0.5982506634931678,-0.7890609206749534,-0.6548147871758787,0.5587927372009642,0.27255474613842035,1.0925266720615479,1.3392761253917005,0.1065019292120311,-1.1867386077150974,1.78632170548558,-0.02624061741045453,-1.1556722058561715,0.07704352120398042,-0.22053430872375845,2.5042220859217554,0.2355109428038429,0.1805691839545755,1.641624590650236,0.9246325724024335,-0.0517173982740807,-1.6078788351856876,-0.673781299334335,-0.11875226070443112,-1.1803330927190678,-0.6051380566023823,1.3120299005977665,-1.586753953775392,1.0494361893220578,0.8185429666565787,0.0796582520338552,0.8785869617159295,-1.3860246585946714,0.4098334039689942,2.026756298055897,-2.341265735162529,1.0423930455611918,1.7745715730437097,-0.7451216801801956,0.13019025491771619,0.6720981517354053,1.2143690393829878,-0.6817286989667747,1.7765429487539386,-0.24465282170560929,1.1093476031534293,3.462655523208048,-0.4175023099069305,0.1293918215907214],\"yaxis\":\"y12\",\"type\":\"scatter\"},{\"line\":{\"color\":\"rgba(128, 128, 128, 1.0)\",\"dash\":\"solid\",\"shape\":\"linear\",\"width\":1.3},\"marker\":{\"size\":2,\"symbol\":\"circle\"},\"mode\":\"markers\",\"name\":\"D\",\"text\":\"\",\"x\":[0.963656208822238,1.1213805704854953,0.08117322059561863,0.9067501670920386,1.28908725845038,-0.8484788632427857,-0.8009485265222287,-0.13954698878550142,-0.4209938328140542,0.2837355152610227,-0.21272756966893616,1.7570408279670209,0.3550122841604106,1.30974406905139,0.2232155423907447,0.20225806270488592,0.4297931309428796,0.2710898356704665,1.2673150001525066,-0.28317420340831106,0.20613001876357961,0.4635201733939552,0.5460897413984124,0.12438837142487577,-0.3311450835685355,0.43842530680477404,1.0684047789837727,-0.6243736534857598,-1.1906662032404274,1.4656058483881402,0.16715588520722816,0.48360128610027264,1.0718721211795463,-0.24068377304579952,-0.8837940178049627,0.28414594957742983,0.18636052031088884,1.0554728665925521,0.24657908043205698,-0.255956079869308,0.07878204355354528,-1.1832024418880038,-0.3947053481469931,0.015051127698353848,-0.9273312434230097,-0.5904417385480116,-0.8248473181016788,-2.553642906404523,0.5853809835216754,0.07471667146690081,0.8078271481497611,2.0119568319081234,1.7051615445225863,0.3690781122530383,0.27207568986467,0.9429351698391747,0.8709196392545411,1.8881327097718632,-2.277236818278749,0.7641282663968877,-1.9210586871999982,0.6083480372818315,-1.7059804718374605,1.8390631369000259,0.47676559937164253,0.7951445119372802,0.7363841786006643,1.2801801668695012,-0.987315530991337,-0.7855382455137779,-1.5235664056893965,-0.8068782421283027,0.1899751266947658,-0.8176847491115944,-0.7588257659066171,0.7146591792126702,1.1389770375251385,-0.49140946806501906,0.3885375141880657,0.19210286916179659,-1.8674308759485234,0.2563319473019304,1.4141223099861748,1.5347206360501597,-1.094691314002368,-0.060435557199993446,0.2992179294797572,1.4510015729851962,0.38567992079704777,-1.8471002701272756,-0.2158731199529436,-0.3833111312088049,-2.0068888309777657,-0.548083205199428,0.6861555341365956,1.199667217838947,0.06831398795428081,-0.057601596970910905,0.3827056101028784,0.5691997438450976],\"xaxis\":\"x13\",\"y\":[1.6630337650354345,0.07550432297170971,-0.5973245468599844,-1.657449860204015,0.05280375575287506,-0.015347519964781276,-0.823066509767297,-1.2865818271926146,-0.20465223602492458,1.4326116078768383,1.715349653593688,1.8332783984371763,0.10489256944377925,0.1835183523000019,-1.5966870438332263,0.44522874299998944,0.6584567307528261,0.6650332813795531,0.2807839634292779,-0.29086894397778557,0.16752877630439322,1.9770173482802893,-2.8154582401712154,-0.9829856709848566,-0.00827771127849985,0.16148652501732152,2.319848288689466,1.022424591320778,2.446730447840035,-0.5276727460407082,-0.4206033582273582,-1.8277275907138832,0.014979298168371534,0.7821409129741059,-0.6683656546714996,-2.8509032306340627,-0.2554547617448989,0.6031621488581722,-1.8720737192452415,-2.2039356896415576,1.1354713474057998,-1.3147837122357673,0.08847860993731024,0.5434300304313257,-1.9624730325797959,-0.7335728844338252,-0.7602415933637703,-2.478504024403525,-2.043359504359485,0.07229925889259052,0.8223533915753203,0.7541898582279355,-0.8457042031941514,-2.0806587994267742,-0.33255328325872824,1.1100669481856251,0.8590167189662465,-0.5954983458201378,-0.09732296749624923,-0.24106644629353324,-0.921362500994098,0.7250079654355328,-0.7511631767920098,0.5235530857383306,0.9304102996787895,1.1013735671223808,2.144674046199205,0.06923107230228003,1.8428871518189849,0.4982298687939204,0.19661617252683,0.23266766393126748,1.4061128071516085,0.8462385703859491,0.6549491598459045,0.439385154094097,-2.501445480519395,0.045409052141403054,0.7869651058984805,-1.1339156708019669,-0.43148029590986947,0.6465899085984634,0.3408739471603276,-0.7613374448109137,-0.09817614527629241,-0.7309778541053539,-0.07818344318158707,-0.4731780226773017,0.8875564238258683,0.35454221858793916,0.6044883944756151,-0.8547303972785114,0.40388289163412455,1.1952818174880846,1.761384365862785,-0.3538293908999642,-0.6913216824668283,0.8986854351831924,0.2494784614208996,-0.40344347187061447],\"yaxis\":\"y13\",\"type\":\"scatter\"},{\"line\":{\"color\":\"rgba(128, 128, 128, 1.0)\",\"dash\":\"solid\",\"shape\":\"linear\",\"width\":1.3},\"marker\":{\"size\":2,\"symbol\":\"circle\"},\"mode\":\"markers\",\"name\":\"D\",\"text\":\"\",\"x\":[1.0418607474294792,-1.4939672413762932,-0.02127901542430224,0.33292977024558157,1.1407436277450778,-0.3015660930492725,-0.0752865847187486,-1.009791743749023,-0.6974105177481036,-1.0778447312443185,0.21994773983594507,-1.2767378096491764,-0.4772520284876469,-0.13191693638288507,-0.8840497936830316,0.43491378665196123,1.237780885733663,-0.7372283644576442,-0.11267970353145566,-1.637025903877696,-0.8643009602442039,-1.170864879740225,0.8657447067108397,-1.3316471625112472,0.27930606940491254,0.1010548787720902,0.7014020947179823,0.8115916437019352,0.9534863463399055,-0.17974376572600015,0.15539942126823825,0.12563065884091904,-0.6983132119953138,-0.8557269377205827,-1.1114678483065996,1.6267980935814845,0.10835953580183216,-0.724885465855628,-0.13014748543449164,0.02635813457746775,-0.10731405448780107,0.9394176236033902,0.8852004040890421,0.8837667760803889,-0.6827153117408953,-0.9093724172772358,0.5777482827305919,0.1320824276129593,0.051752566935829254,2.2294346148078286,-0.3450934390030509,0.1620081871920339,0.22742137414734556,0.53465876620935,0.7992154964793429,-1.3109197447319967,-1.8881307729462076,2.130605406350455,-0.031583068295145504,0.5445342145696391,-0.3836665294064964,-0.8276744278807356,1.5347897785141216,-0.10205298921735546,-0.9931249156241323,0.6784877290695253,0.6442290539833533,0.22188261861927183,0.658824210911803,0.4725016736628034,-0.5884114772778922,-0.868227094420527,-1.3615134352744052,1.092930344226626,-0.13734327442278882,-1.3246769110560028,-0.6863100288573838,0.2900951740060484,-0.7262357878917776,-1.5393687384063548,-0.6345124844359458,1.0511810398400365,-0.32552486870352804,0.46721489635640734,1.2701651157118028,0.821796041357051,-1.3530062245164303,-0.6629088380930819,0.8386510462005943,-0.10769881867698582,0.18586510865496922,0.0027232401253373915,-2.1003147011287964,0.19799553908870476,0.5799814202834371,-1.1775863243324383,0.748291680102528,0.2145327190535425,0.10937980687552407,-0.3629526709313861],\"xaxis\":\"x14\",\"y\":[1.6630337650354345,0.07550432297170971,-0.5973245468599844,-1.657449860204015,0.05280375575287506,-0.015347519964781276,-0.823066509767297,-1.2865818271926146,-0.20465223602492458,1.4326116078768383,1.715349653593688,1.8332783984371763,0.10489256944377925,0.1835183523000019,-1.5966870438332263,0.44522874299998944,0.6584567307528261,0.6650332813795531,0.2807839634292779,-0.29086894397778557,0.16752877630439322,1.9770173482802893,-2.8154582401712154,-0.9829856709848566,-0.00827771127849985,0.16148652501732152,2.319848288689466,1.022424591320778,2.446730447840035,-0.5276727460407082,-0.4206033582273582,-1.8277275907138832,0.014979298168371534,0.7821409129741059,-0.6683656546714996,-2.8509032306340627,-0.2554547617448989,0.6031621488581722,-1.8720737192452415,-2.2039356896415576,1.1354713474057998,-1.3147837122357673,0.08847860993731024,0.5434300304313257,-1.9624730325797959,-0.7335728844338252,-0.7602415933637703,-2.478504024403525,-2.043359504359485,0.07229925889259052,0.8223533915753203,0.7541898582279355,-0.8457042031941514,-2.0806587994267742,-0.33255328325872824,1.1100669481856251,0.8590167189662465,-0.5954983458201378,-0.09732296749624923,-0.24106644629353324,-0.921362500994098,0.7250079654355328,-0.7511631767920098,0.5235530857383306,0.9304102996787895,1.1013735671223808,2.144674046199205,0.06923107230228003,1.8428871518189849,0.4982298687939204,0.19661617252683,0.23266766393126748,1.4061128071516085,0.8462385703859491,0.6549491598459045,0.439385154094097,-2.501445480519395,0.045409052141403054,0.7869651058984805,-1.1339156708019669,-0.43148029590986947,0.6465899085984634,0.3408739471603276,-0.7613374448109137,-0.09817614527629241,-0.7309778541053539,-0.07818344318158707,-0.4731780226773017,0.8875564238258683,0.35454221858793916,0.6044883944756151,-0.8547303972785114,0.40388289163412455,1.1952818174880846,1.761384365862785,-0.3538293908999642,-0.6913216824668283,0.8986854351831924,0.2494784614208996,-0.40344347187061447],\"yaxis\":\"y14\",\"type\":\"scatter\"},{\"line\":{\"color\":\"rgba(128, 128, 128, 1.0)\",\"dash\":\"solid\",\"shape\":\"linear\",\"width\":1.3},\"marker\":{\"size\":2,\"symbol\":\"circle\"},\"mode\":\"markers\",\"name\":\"D\",\"text\":\"\",\"x\":[1.9684685598255098,0.8865735701165786,-0.9282924703857871,0.0864231738857163,-0.17851496705340106,0.8941201736951061,-1.767757746744734,-0.9029257916222327,-0.15040689632672258,0.3608236978003134,-2.3993756008061955,-0.483640402637199,2.453497287095231,0.2886471123783374,0.4789224073967982,1.8868787058240575,-0.7069821240099842,0.9364960925054092,-0.11826593254370696,-1.2466608150509335,0.5835449052351525,-0.7856053542283987,-1.402302566540273,1.3852800062444897,0.5641183370922549,0.8809989823072313,-0.2316988475498588,0.9588801018246939,-1.8023754339085756,1.3856050832892777,0.2889566018572497,-2.2912515772536093,1.2338406432349927,-0.37060434083404203,-1.115233219161336,0.04673985612202292,0.0942462710028508,-0.13839475415973518,-0.09718950720666848,0.24901537761553835,0.9108528097216493,-0.5528486250284738,0.1437258643037152,1.2368565085155692,0.11806071227737899,-0.6915685444367112,0.6893681392468275,-2.1930493530215243,-0.9934789592227896,-0.6189689820317923,-0.8698092136412182,0.8003318888279906,-0.5982506634931678,-0.7890609206749534,-0.6548147871758787,0.5587927372009642,0.27255474613842035,1.0925266720615479,1.3392761253917005,0.1065019292120311,-1.1867386077150974,1.78632170548558,-0.02624061741045453,-1.1556722058561715,0.07704352120398042,-0.22053430872375845,2.5042220859217554,0.2355109428038429,0.1805691839545755,1.641624590650236,0.9246325724024335,-0.0517173982740807,-1.6078788351856876,-0.673781299334335,-0.11875226070443112,-1.1803330927190678,-0.6051380566023823,1.3120299005977665,-1.586753953775392,1.0494361893220578,0.8185429666565787,0.0796582520338552,0.8785869617159295,-1.3860246585946714,0.4098334039689942,2.026756298055897,-2.341265735162529,1.0423930455611918,1.7745715730437097,-0.7451216801801956,0.13019025491771619,0.6720981517354053,1.2143690393829878,-0.6817286989667747,1.7765429487539386,-0.24465282170560929,1.1093476031534293,3.462655523208048,-0.4175023099069305,0.1293918215907214],\"xaxis\":\"x15\",\"y\":[1.6630337650354345,0.07550432297170971,-0.5973245468599844,-1.657449860204015,0.05280375575287506,-0.015347519964781276,-0.823066509767297,-1.2865818271926146,-0.20465223602492458,1.4326116078768383,1.715349653593688,1.8332783984371763,0.10489256944377925,0.1835183523000019,-1.5966870438332263,0.44522874299998944,0.6584567307528261,0.6650332813795531,0.2807839634292779,-0.29086894397778557,0.16752877630439322,1.9770173482802893,-2.8154582401712154,-0.9829856709848566,-0.00827771127849985,0.16148652501732152,2.319848288689466,1.022424591320778,2.446730447840035,-0.5276727460407082,-0.4206033582273582,-1.8277275907138832,0.014979298168371534,0.7821409129741059,-0.6683656546714996,-2.8509032306340627,-0.2554547617448989,0.6031621488581722,-1.8720737192452415,-2.2039356896415576,1.1354713474057998,-1.3147837122357673,0.08847860993731024,0.5434300304313257,-1.9624730325797959,-0.7335728844338252,-0.7602415933637703,-2.478504024403525,-2.043359504359485,0.07229925889259052,0.8223533915753203,0.7541898582279355,-0.8457042031941514,-2.0806587994267742,-0.33255328325872824,1.1100669481856251,0.8590167189662465,-0.5954983458201378,-0.09732296749624923,-0.24106644629353324,-0.921362500994098,0.7250079654355328,-0.7511631767920098,0.5235530857383306,0.9304102996787895,1.1013735671223808,2.144674046199205,0.06923107230228003,1.8428871518189849,0.4982298687939204,0.19661617252683,0.23266766393126748,1.4061128071516085,0.8462385703859491,0.6549491598459045,0.439385154094097,-2.501445480519395,0.045409052141403054,0.7869651058984805,-1.1339156708019669,-0.43148029590986947,0.6465899085984634,0.3408739471603276,-0.7613374448109137,-0.09817614527629241,-0.7309778541053539,-0.07818344318158707,-0.4731780226773017,0.8875564238258683,0.35454221858793916,0.6044883944756151,-0.8547303972785114,0.40388289163412455,1.1952818174880846,1.761384365862785,-0.3538293908999642,-0.6913216824668283,0.8986854351831924,0.2494784614208996,-0.40344347187061447],\"yaxis\":\"y15\",\"type\":\"scatter\"},{\"histfunc\":\"count\",\"histnorm\":\"\",\"marker\":{\"color\":\"rgba(128, 0, 128, 1.0)\",\"line\":{\"color\":\"#4D5663\",\"width\":1.3}},\"name\":\"D\",\"nbinsx\":10,\"opacity\":0.8,\"orientation\":\"v\",\"x\":[1.6630337650354345,0.07550432297170971,-0.5973245468599844,-1.657449860204015,0.05280375575287506,-0.015347519964781276,-0.823066509767297,-1.2865818271926146,-0.20465223602492458,1.4326116078768383,1.715349653593688,1.8332783984371763,0.10489256944377925,0.1835183523000019,-1.5966870438332263,0.44522874299998944,0.6584567307528261,0.6650332813795531,0.2807839634292779,-0.29086894397778557,0.16752877630439322,1.9770173482802893,-2.8154582401712154,-0.9829856709848566,-0.00827771127849985,0.16148652501732152,2.319848288689466,1.022424591320778,2.446730447840035,-0.5276727460407082,-0.4206033582273582,-1.8277275907138832,0.014979298168371534,0.7821409129741059,-0.6683656546714996,-2.8509032306340627,-0.2554547617448989,0.6031621488581722,-1.8720737192452415,-2.2039356896415576,1.1354713474057998,-1.3147837122357673,0.08847860993731024,0.5434300304313257,-1.9624730325797959,-0.7335728844338252,-0.7602415933637703,-2.478504024403525,-2.043359504359485,0.07229925889259052,0.8223533915753203,0.7541898582279355,-0.8457042031941514,-2.0806587994267742,-0.33255328325872824,1.1100669481856251,0.8590167189662465,-0.5954983458201378,-0.09732296749624923,-0.24106644629353324,-0.921362500994098,0.7250079654355328,-0.7511631767920098,0.5235530857383306,0.9304102996787895,1.1013735671223808,2.144674046199205,0.06923107230228003,1.8428871518189849,0.4982298687939204,0.19661617252683,0.23266766393126748,1.4061128071516085,0.8462385703859491,0.6549491598459045,0.439385154094097,-2.501445480519395,0.045409052141403054,0.7869651058984805,-1.1339156708019669,-0.43148029590986947,0.6465899085984634,0.3408739471603276,-0.7613374448109137,-0.09817614527629241,-0.7309778541053539,-0.07818344318158707,-0.4731780226773017,0.8875564238258683,0.35454221858793916,0.6044883944756151,-0.8547303972785114,0.40388289163412455,1.1952818174880846,1.761384365862785,-0.3538293908999642,-0.6913216824668283,0.8986854351831924,0.2494784614208996,-0.40344347187061447],\"xaxis\":\"x16\",\"yaxis\":\"y16\",\"type\":\"histogram\"}],                        {\"bargap\":0.02,\"legend\":{\"bgcolor\":\"#F5F6F9\",\"font\":{\"color\":\"#4D5663\"}},\"paper_bgcolor\":\"#F5F6F9\",\"plot_bgcolor\":\"#F5F6F9\",\"showlegend\":false,\"template\":{\"data\":{\"barpolar\":[{\"marker\":{\"line\":{\"color\":\"#E5ECF6\",\"width\":0.5},\"pattern\":{\"fillmode\":\"overlay\",\"size\":10,\"solidity\":0.2}},\"type\":\"barpolar\"}],\"bar\":[{\"error_x\":{\"color\":\"#2a3f5f\"},\"error_y\":{\"color\":\"#2a3f5f\"},\"marker\":{\"line\":{\"color\":\"#E5ECF6\",\"width\":0.5},\"pattern\":{\"fillmode\":\"overlay\",\"size\":10,\"solidity\":0.2}},\"type\":\"bar\"}],\"carpet\":[{\"aaxis\":{\"endlinecolor\":\"#2a3f5f\",\"gridcolor\":\"white\",\"linecolor\":\"white\",\"minorgridcolor\":\"white\",\"startlinecolor\":\"#2a3f5f\"},\"baxis\":{\"endlinecolor\":\"#2a3f5f\",\"gridcolor\":\"white\",\"linecolor\":\"white\",\"minorgridcolor\":\"white\",\"startlinecolor\":\"#2a3f5f\"},\"type\":\"carpet\"}],\"choropleth\":[{\"colorbar\":{\"outlinewidth\":0,\"ticks\":\"\"},\"type\":\"choropleth\"}],\"contourcarpet\":[{\"colorbar\":{\"outlinewidth\":0,\"ticks\":\"\"},\"type\":\"contourcarpet\"}],\"contour\":[{\"colorbar\":{\"outlinewidth\":0,\"ticks\":\"\"},\"colorscale\":[[0.0,\"#0d0887\"],[0.1111111111111111,\"#46039f\"],[0.2222222222222222,\"#7201a8\"],[0.3333333333333333,\"#9c179e\"],[0.4444444444444444,\"#bd3786\"],[0.5555555555555556,\"#d8576b\"],[0.6666666666666666,\"#ed7953\"],[0.7777777777777778,\"#fb9f3a\"],[0.8888888888888888,\"#fdca26\"],[1.0,\"#f0f921\"]],\"type\":\"contour\"}],\"heatmapgl\":[{\"colorbar\":{\"outlinewidth\":0,\"ticks\":\"\"},\"colorscale\":[[0.0,\"#0d0887\"],[0.1111111111111111,\"#46039f\"],[0.2222222222222222,\"#7201a8\"],[0.3333333333333333,\"#9c179e\"],[0.4444444444444444,\"#bd3786\"],[0.5555555555555556,\"#d8576b\"],[0.6666666666666666,\"#ed7953\"],[0.7777777777777778,\"#fb9f3a\"],[0.8888888888888888,\"#fdca26\"],[1.0,\"#f0f921\"]],\"type\":\"heatmapgl\"}],\"heatmap\":[{\"colorbar\":{\"outlinewidth\":0,\"ticks\":\"\"},\"colorscale\":[[0.0,\"#0d0887\"],[0.1111111111111111,\"#46039f\"],[0.2222222222222222,\"#7201a8\"],[0.3333333333333333,\"#9c179e\"],[0.4444444444444444,\"#bd3786\"],[0.5555555555555556,\"#d8576b\"],[0.6666666666666666,\"#ed7953\"],[0.7777777777777778,\"#fb9f3a\"],[0.8888888888888888,\"#fdca26\"],[1.0,\"#f0f921\"]],\"type\":\"heatmap\"}],\"histogram2dcontour\":[{\"colorbar\":{\"outlinewidth\":0,\"ticks\":\"\"},\"colorscale\":[[0.0,\"#0d0887\"],[0.1111111111111111,\"#46039f\"],[0.2222222222222222,\"#7201a8\"],[0.3333333333333333,\"#9c179e\"],[0.4444444444444444,\"#bd3786\"],[0.5555555555555556,\"#d8576b\"],[0.6666666666666666,\"#ed7953\"],[0.7777777777777778,\"#fb9f3a\"],[0.8888888888888888,\"#fdca26\"],[1.0,\"#f0f921\"]],\"type\":\"histogram2dcontour\"}],\"histogram2d\":[{\"colorbar\":{\"outlinewidth\":0,\"ticks\":\"\"},\"colorscale\":[[0.0,\"#0d0887\"],[0.1111111111111111,\"#46039f\"],[0.2222222222222222,\"#7201a8\"],[0.3333333333333333,\"#9c179e\"],[0.4444444444444444,\"#bd3786\"],[0.5555555555555556,\"#d8576b\"],[0.6666666666666666,\"#ed7953\"],[0.7777777777777778,\"#fb9f3a\"],[0.8888888888888888,\"#fdca26\"],[1.0,\"#f0f921\"]],\"type\":\"histogram2d\"}],\"histogram\":[{\"marker\":{\"pattern\":{\"fillmode\":\"overlay\",\"size\":10,\"solidity\":0.2}},\"type\":\"histogram\"}],\"mesh3d\":[{\"colorbar\":{\"outlinewidth\":0,\"ticks\":\"\"},\"type\":\"mesh3d\"}],\"parcoords\":[{\"line\":{\"colorbar\":{\"outlinewidth\":0,\"ticks\":\"\"}},\"type\":\"parcoords\"}],\"pie\":[{\"automargin\":true,\"type\":\"pie\"}],\"scatter3d\":[{\"line\":{\"colorbar\":{\"outlinewidth\":0,\"ticks\":\"\"}},\"marker\":{\"colorbar\":{\"outlinewidth\":0,\"ticks\":\"\"}},\"type\":\"scatter3d\"}],\"scattercarpet\":[{\"marker\":{\"colorbar\":{\"outlinewidth\":0,\"ticks\":\"\"}},\"type\":\"scattercarpet\"}],\"scattergeo\":[{\"marker\":{\"colorbar\":{\"outlinewidth\":0,\"ticks\":\"\"}},\"type\":\"scattergeo\"}],\"scattergl\":[{\"marker\":{\"colorbar\":{\"outlinewidth\":0,\"ticks\":\"\"}},\"type\":\"scattergl\"}],\"scattermapbox\":[{\"marker\":{\"colorbar\":{\"outlinewidth\":0,\"ticks\":\"\"}},\"type\":\"scattermapbox\"}],\"scatterpolargl\":[{\"marker\":{\"colorbar\":{\"outlinewidth\":0,\"ticks\":\"\"}},\"type\":\"scatterpolargl\"}],\"scatterpolar\":[{\"marker\":{\"colorbar\":{\"outlinewidth\":0,\"ticks\":\"\"}},\"type\":\"scatterpolar\"}],\"scatter\":[{\"fillpattern\":{\"fillmode\":\"overlay\",\"size\":10,\"solidity\":0.2},\"type\":\"scatter\"}],\"scatterternary\":[{\"marker\":{\"colorbar\":{\"outlinewidth\":0,\"ticks\":\"\"}},\"type\":\"scatterternary\"}],\"surface\":[{\"colorbar\":{\"outlinewidth\":0,\"ticks\":\"\"},\"colorscale\":[[0.0,\"#0d0887\"],[0.1111111111111111,\"#46039f\"],[0.2222222222222222,\"#7201a8\"],[0.3333333333333333,\"#9c179e\"],[0.4444444444444444,\"#bd3786\"],[0.5555555555555556,\"#d8576b\"],[0.6666666666666666,\"#ed7953\"],[0.7777777777777778,\"#fb9f3a\"],[0.8888888888888888,\"#fdca26\"],[1.0,\"#f0f921\"]],\"type\":\"surface\"}],\"table\":[{\"cells\":{\"fill\":{\"color\":\"#EBF0F8\"},\"line\":{\"color\":\"white\"}},\"header\":{\"fill\":{\"color\":\"#C8D4E3\"},\"line\":{\"color\":\"white\"}},\"type\":\"table\"}]},\"layout\":{\"annotationdefaults\":{\"arrowcolor\":\"#2a3f5f\",\"arrowhead\":0,\"arrowwidth\":1},\"autotypenumbers\":\"strict\",\"coloraxis\":{\"colorbar\":{\"outlinewidth\":0,\"ticks\":\"\"}},\"colorscale\":{\"diverging\":[[0,\"#8e0152\"],[0.1,\"#c51b7d\"],[0.2,\"#de77ae\"],[0.3,\"#f1b6da\"],[0.4,\"#fde0ef\"],[0.5,\"#f7f7f7\"],[0.6,\"#e6f5d0\"],[0.7,\"#b8e186\"],[0.8,\"#7fbc41\"],[0.9,\"#4d9221\"],[1,\"#276419\"]],\"sequential\":[[0.0,\"#0d0887\"],[0.1111111111111111,\"#46039f\"],[0.2222222222222222,\"#7201a8\"],[0.3333333333333333,\"#9c179e\"],[0.4444444444444444,\"#bd3786\"],[0.5555555555555556,\"#d8576b\"],[0.6666666666666666,\"#ed7953\"],[0.7777777777777778,\"#fb9f3a\"],[0.8888888888888888,\"#fdca26\"],[1.0,\"#f0f921\"]],\"sequentialminus\":[[0.0,\"#0d0887\"],[0.1111111111111111,\"#46039f\"],[0.2222222222222222,\"#7201a8\"],[0.3333333333333333,\"#9c179e\"],[0.4444444444444444,\"#bd3786\"],[0.5555555555555556,\"#d8576b\"],[0.6666666666666666,\"#ed7953\"],[0.7777777777777778,\"#fb9f3a\"],[0.8888888888888888,\"#fdca26\"],[1.0,\"#f0f921\"]]},\"colorway\":[\"#636efa\",\"#EF553B\",\"#00cc96\",\"#ab63fa\",\"#FFA15A\",\"#19d3f3\",\"#FF6692\",\"#B6E880\",\"#FF97FF\",\"#FECB52\"],\"font\":{\"color\":\"#2a3f5f\"},\"geo\":{\"bgcolor\":\"white\",\"lakecolor\":\"white\",\"landcolor\":\"#E5ECF6\",\"showlakes\":true,\"showland\":true,\"subunitcolor\":\"white\"},\"hoverlabel\":{\"align\":\"left\"},\"hovermode\":\"closest\",\"mapbox\":{\"style\":\"light\"},\"paper_bgcolor\":\"white\",\"plot_bgcolor\":\"#E5ECF6\",\"polar\":{\"angularaxis\":{\"gridcolor\":\"white\",\"linecolor\":\"white\",\"ticks\":\"\"},\"bgcolor\":\"#E5ECF6\",\"radialaxis\":{\"gridcolor\":\"white\",\"linecolor\":\"white\",\"ticks\":\"\"}},\"scene\":{\"xaxis\":{\"backgroundcolor\":\"#E5ECF6\",\"gridcolor\":\"white\",\"gridwidth\":2,\"linecolor\":\"white\",\"showbackground\":true,\"ticks\":\"\",\"zerolinecolor\":\"white\"},\"yaxis\":{\"backgroundcolor\":\"#E5ECF6\",\"gridcolor\":\"white\",\"gridwidth\":2,\"linecolor\":\"white\",\"showbackground\":true,\"ticks\":\"\",\"zerolinecolor\":\"white\"},\"zaxis\":{\"backgroundcolor\":\"#E5ECF6\",\"gridcolor\":\"white\",\"gridwidth\":2,\"linecolor\":\"white\",\"showbackground\":true,\"ticks\":\"\",\"zerolinecolor\":\"white\"}},\"shapedefaults\":{\"line\":{\"color\":\"#2a3f5f\"}},\"ternary\":{\"aaxis\":{\"gridcolor\":\"white\",\"linecolor\":\"white\",\"ticks\":\"\"},\"baxis\":{\"gridcolor\":\"white\",\"linecolor\":\"white\",\"ticks\":\"\"},\"bgcolor\":\"#E5ECF6\",\"caxis\":{\"gridcolor\":\"white\",\"linecolor\":\"white\",\"ticks\":\"\"}},\"title\":{\"x\":0.05},\"xaxis\":{\"automargin\":true,\"gridcolor\":\"white\",\"linecolor\":\"white\",\"ticks\":\"\",\"title\":{\"standoff\":15},\"zerolinecolor\":\"white\",\"zerolinewidth\":2},\"yaxis\":{\"automargin\":true,\"gridcolor\":\"white\",\"linecolor\":\"white\",\"ticks\":\"\",\"title\":{\"standoff\":15},\"zerolinecolor\":\"white\",\"zerolinewidth\":2}}},\"title\":{\"font\":{\"color\":\"#4D5663\"}},\"xaxis\":{\"anchor\":\"y\",\"domain\":[0.0,0.2125],\"gridcolor\":\"#E1E5ED\",\"showgrid\":false,\"tickfont\":{\"color\":\"#4D5663\"},\"title\":{\"font\":{\"color\":\"#4D5663\"},\"text\":\"\"},\"zerolinecolor\":\"#E1E5ED\"},\"yaxis\":{\"anchor\":\"x\",\"domain\":[0.8025,1.0],\"gridcolor\":\"#E1E5ED\",\"showgrid\":false,\"tickfont\":{\"color\":\"#4D5663\"},\"title\":{\"font\":{\"color\":\"#4D5663\"},\"text\":\"\"},\"zerolinecolor\":\"#E1E5ED\"},\"xaxis2\":{\"anchor\":\"y2\",\"domain\":[0.2625,0.475],\"gridcolor\":\"#E1E5ED\",\"showgrid\":false,\"tickfont\":{\"color\":\"#4D5663\"},\"title\":{\"font\":{\"color\":\"#4D5663\"},\"text\":\"\"},\"zerolinecolor\":\"#E1E5ED\"},\"yaxis2\":{\"anchor\":\"x2\",\"domain\":[0.8025,1.0],\"gridcolor\":\"#E1E5ED\",\"showgrid\":false,\"tickfont\":{\"color\":\"#4D5663\"},\"title\":{\"font\":{\"color\":\"#4D5663\"},\"text\":\"\"},\"zerolinecolor\":\"#E1E5ED\"},\"xaxis3\":{\"anchor\":\"y3\",\"domain\":[0.525,0.7375],\"gridcolor\":\"#E1E5ED\",\"showgrid\":false,\"tickfont\":{\"color\":\"#4D5663\"},\"title\":{\"font\":{\"color\":\"#4D5663\"},\"text\":\"\"},\"zerolinecolor\":\"#E1E5ED\"},\"yaxis3\":{\"anchor\":\"x3\",\"domain\":[0.8025,1.0],\"gridcolor\":\"#E1E5ED\",\"showgrid\":false,\"tickfont\":{\"color\":\"#4D5663\"},\"title\":{\"font\":{\"color\":\"#4D5663\"},\"text\":\"\"},\"zerolinecolor\":\"#E1E5ED\"},\"xaxis4\":{\"anchor\":\"y4\",\"domain\":[0.7875,1.0],\"gridcolor\":\"#E1E5ED\",\"showgrid\":false,\"tickfont\":{\"color\":\"#4D5663\"},\"title\":{\"font\":{\"color\":\"#4D5663\"},\"text\":\"\"},\"zerolinecolor\":\"#E1E5ED\"},\"yaxis4\":{\"anchor\":\"x4\",\"domain\":[0.8025,1.0],\"gridcolor\":\"#E1E5ED\",\"showgrid\":false,\"tickfont\":{\"color\":\"#4D5663\"},\"title\":{\"font\":{\"color\":\"#4D5663\"},\"text\":\"\"},\"zerolinecolor\":\"#E1E5ED\"},\"xaxis5\":{\"anchor\":\"y5\",\"domain\":[0.0,0.2125],\"gridcolor\":\"#E1E5ED\",\"showgrid\":false,\"tickfont\":{\"color\":\"#4D5663\"},\"title\":{\"font\":{\"color\":\"#4D5663\"},\"text\":\"\"},\"zerolinecolor\":\"#E1E5ED\"},\"yaxis5\":{\"anchor\":\"x5\",\"domain\":[0.535,0.7325],\"gridcolor\":\"#E1E5ED\",\"showgrid\":false,\"tickfont\":{\"color\":\"#4D5663\"},\"title\":{\"font\":{\"color\":\"#4D5663\"},\"text\":\"\"},\"zerolinecolor\":\"#E1E5ED\"},\"xaxis6\":{\"anchor\":\"y6\",\"domain\":[0.2625,0.475],\"gridcolor\":\"#E1E5ED\",\"showgrid\":false,\"tickfont\":{\"color\":\"#4D5663\"},\"title\":{\"font\":{\"color\":\"#4D5663\"},\"text\":\"\"},\"zerolinecolor\":\"#E1E5ED\"},\"yaxis6\":{\"anchor\":\"x6\",\"domain\":[0.535,0.7325],\"gridcolor\":\"#E1E5ED\",\"showgrid\":false,\"tickfont\":{\"color\":\"#4D5663\"},\"title\":{\"font\":{\"color\":\"#4D5663\"},\"text\":\"\"},\"zerolinecolor\":\"#E1E5ED\"},\"xaxis7\":{\"anchor\":\"y7\",\"domain\":[0.525,0.7375],\"gridcolor\":\"#E1E5ED\",\"showgrid\":false,\"tickfont\":{\"color\":\"#4D5663\"},\"title\":{\"font\":{\"color\":\"#4D5663\"},\"text\":\"\"},\"zerolinecolor\":\"#E1E5ED\"},\"yaxis7\":{\"anchor\":\"x7\",\"domain\":[0.535,0.7325],\"gridcolor\":\"#E1E5ED\",\"showgrid\":false,\"tickfont\":{\"color\":\"#4D5663\"},\"title\":{\"font\":{\"color\":\"#4D5663\"},\"text\":\"\"},\"zerolinecolor\":\"#E1E5ED\"},\"xaxis8\":{\"anchor\":\"y8\",\"domain\":[0.7875,1.0],\"gridcolor\":\"#E1E5ED\",\"showgrid\":false,\"tickfont\":{\"color\":\"#4D5663\"},\"title\":{\"font\":{\"color\":\"#4D5663\"},\"text\":\"\"},\"zerolinecolor\":\"#E1E5ED\"},\"yaxis8\":{\"anchor\":\"x8\",\"domain\":[0.535,0.7325],\"gridcolor\":\"#E1E5ED\",\"showgrid\":false,\"tickfont\":{\"color\":\"#4D5663\"},\"title\":{\"font\":{\"color\":\"#4D5663\"},\"text\":\"\"},\"zerolinecolor\":\"#E1E5ED\"},\"xaxis9\":{\"anchor\":\"y9\",\"domain\":[0.0,0.2125],\"gridcolor\":\"#E1E5ED\",\"showgrid\":false,\"tickfont\":{\"color\":\"#4D5663\"},\"title\":{\"font\":{\"color\":\"#4D5663\"},\"text\":\"\"},\"zerolinecolor\":\"#E1E5ED\"},\"yaxis9\":{\"anchor\":\"x9\",\"domain\":[0.2675,0.465],\"gridcolor\":\"#E1E5ED\",\"showgrid\":false,\"tickfont\":{\"color\":\"#4D5663\"},\"title\":{\"font\":{\"color\":\"#4D5663\"},\"text\":\"\"},\"zerolinecolor\":\"#E1E5ED\"},\"xaxis10\":{\"anchor\":\"y10\",\"domain\":[0.2625,0.475],\"gridcolor\":\"#E1E5ED\",\"showgrid\":false,\"tickfont\":{\"color\":\"#4D5663\"},\"title\":{\"font\":{\"color\":\"#4D5663\"},\"text\":\"\"},\"zerolinecolor\":\"#E1E5ED\"},\"yaxis10\":{\"anchor\":\"x10\",\"domain\":[0.2675,0.465],\"gridcolor\":\"#E1E5ED\",\"showgrid\":false,\"tickfont\":{\"color\":\"#4D5663\"},\"title\":{\"font\":{\"color\":\"#4D5663\"},\"text\":\"\"},\"zerolinecolor\":\"#E1E5ED\"},\"xaxis11\":{\"anchor\":\"y11\",\"domain\":[0.525,0.7375],\"gridcolor\":\"#E1E5ED\",\"showgrid\":false,\"tickfont\":{\"color\":\"#4D5663\"},\"title\":{\"font\":{\"color\":\"#4D5663\"},\"text\":\"\"},\"zerolinecolor\":\"#E1E5ED\"},\"yaxis11\":{\"anchor\":\"x11\",\"domain\":[0.2675,0.465],\"gridcolor\":\"#E1E5ED\",\"showgrid\":false,\"tickfont\":{\"color\":\"#4D5663\"},\"title\":{\"font\":{\"color\":\"#4D5663\"},\"text\":\"\"},\"zerolinecolor\":\"#E1E5ED\"},\"xaxis12\":{\"anchor\":\"y12\",\"domain\":[0.7875,1.0],\"gridcolor\":\"#E1E5ED\",\"showgrid\":false,\"tickfont\":{\"color\":\"#4D5663\"},\"title\":{\"font\":{\"color\":\"#4D5663\"},\"text\":\"\"},\"zerolinecolor\":\"#E1E5ED\"},\"yaxis12\":{\"anchor\":\"x12\",\"domain\":[0.2675,0.465],\"gridcolor\":\"#E1E5ED\",\"showgrid\":false,\"tickfont\":{\"color\":\"#4D5663\"},\"title\":{\"font\":{\"color\":\"#4D5663\"},\"text\":\"\"},\"zerolinecolor\":\"#E1E5ED\"},\"xaxis13\":{\"anchor\":\"y13\",\"domain\":[0.0,0.2125],\"gridcolor\":\"#E1E5ED\",\"showgrid\":false,\"tickfont\":{\"color\":\"#4D5663\"},\"title\":{\"font\":{\"color\":\"#4D5663\"},\"text\":\"\"},\"zerolinecolor\":\"#E1E5ED\"},\"yaxis13\":{\"anchor\":\"x13\",\"domain\":[0.0,0.1975],\"gridcolor\":\"#E1E5ED\",\"showgrid\":false,\"tickfont\":{\"color\":\"#4D5663\"},\"title\":{\"font\":{\"color\":\"#4D5663\"},\"text\":\"\"},\"zerolinecolor\":\"#E1E5ED\"},\"xaxis14\":{\"anchor\":\"y14\",\"domain\":[0.2625,0.475],\"gridcolor\":\"#E1E5ED\",\"showgrid\":false,\"tickfont\":{\"color\":\"#4D5663\"},\"title\":{\"font\":{\"color\":\"#4D5663\"},\"text\":\"\"},\"zerolinecolor\":\"#E1E5ED\"},\"yaxis14\":{\"anchor\":\"x14\",\"domain\":[0.0,0.1975],\"gridcolor\":\"#E1E5ED\",\"showgrid\":false,\"tickfont\":{\"color\":\"#4D5663\"},\"title\":{\"font\":{\"color\":\"#4D5663\"},\"text\":\"\"},\"zerolinecolor\":\"#E1E5ED\"},\"xaxis15\":{\"anchor\":\"y15\",\"domain\":[0.525,0.7375],\"gridcolor\":\"#E1E5ED\",\"showgrid\":false,\"tickfont\":{\"color\":\"#4D5663\"},\"title\":{\"font\":{\"color\":\"#4D5663\"},\"text\":\"\"},\"zerolinecolor\":\"#E1E5ED\"},\"yaxis15\":{\"anchor\":\"x15\",\"domain\":[0.0,0.1975],\"gridcolor\":\"#E1E5ED\",\"showgrid\":false,\"tickfont\":{\"color\":\"#4D5663\"},\"title\":{\"font\":{\"color\":\"#4D5663\"},\"text\":\"\"},\"zerolinecolor\":\"#E1E5ED\"},\"xaxis16\":{\"anchor\":\"y16\",\"domain\":[0.7875,1.0],\"gridcolor\":\"#E1E5ED\",\"showgrid\":false,\"tickfont\":{\"color\":\"#4D5663\"},\"title\":{\"font\":{\"color\":\"#4D5663\"},\"text\":\"\"},\"zerolinecolor\":\"#E1E5ED\"},\"yaxis16\":{\"anchor\":\"x16\",\"domain\":[0.0,0.1975],\"gridcolor\":\"#E1E5ED\",\"showgrid\":false,\"tickfont\":{\"color\":\"#4D5663\"},\"title\":{\"font\":{\"color\":\"#4D5663\"},\"text\":\"\"},\"zerolinecolor\":\"#E1E5ED\"}},                        {\"showLink\": true, \"linkText\": \"Export to plot.ly\", \"plotlyServerURL\": \"https://plot.ly\", \"responsive\": true}                    ).then(function(){\n",
       "                            \n",
       "var gd = document.getElementById('3f4858e8-8b1a-4f82-8cf1-fa6926cec9d8');\n",
       "var x = new MutationObserver(function (mutations, observer) {{\n",
       "        var display = window.getComputedStyle(gd).display;\n",
       "        if (!display || display === 'none') {{\n",
       "            console.log([gd, 'removed!']);\n",
       "            Plotly.purge(gd);\n",
       "            observer.disconnect();\n",
       "        }}\n",
       "}});\n",
       "\n",
       "// Listen for the removal of the full notebook cells\n",
       "var notebookContainer = gd.closest('#notebook-container');\n",
       "if (notebookContainer) {{\n",
       "    x.observe(notebookContainer, {childList: true});\n",
       "}}\n",
       "\n",
       "// Listen for the clearing of the current output cell\n",
       "var outputEl = gd.closest('.output');\n",
       "if (outputEl) {{\n",
       "    x.observe(outputEl, {childList: true});\n",
       "}}\n",
       "\n",
       "                        })                };                });            </script>        </div>"
      ]
     },
     "metadata": {},
     "output_type": "display_data"
    }
   ],
   "source": [
    "df.scatter_matrix()"
   ]
  },
  {
   "cell_type": "code",
   "execution_count": null,
   "id": "db312199",
   "metadata": {},
   "outputs": [],
   "source": []
  }
 ],
 "metadata": {
  "kernelspec": {
   "display_name": "Python 3 (ipykernel)",
   "language": "python",
   "name": "python3"
  },
  "language_info": {
   "codemirror_mode": {
    "name": "ipython",
    "version": 3
   },
   "file_extension": ".py",
   "mimetype": "text/x-python",
   "name": "python",
   "nbconvert_exporter": "python",
   "pygments_lexer": "ipython3",
   "version": "3.11.3"
  }
 },
 "nbformat": 4,
 "nbformat_minor": 5
}
